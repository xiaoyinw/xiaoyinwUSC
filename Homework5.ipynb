{
  "nbformat": 4,
  "nbformat_minor": 0,
  "metadata": {
    "colab": {
      "name": "Homework5.ipynb",
      "provenance": [],
      "collapsed_sections": [],
      "authorship_tag": "ABX9TyMaWcRTvmflSZGY9JFIjSIw",
      "include_colab_link": true
    },
    "kernelspec": {
      "name": "python3",
      "display_name": "Python 3"
    },
    "language_info": {
      "name": "python"
    },
    "accelerator": "GPU"
  },
  "cells": [
    {
      "cell_type": "markdown",
      "metadata": {
        "id": "view-in-github",
        "colab_type": "text"
      },
      "source": [
        "<a href=\"https://colab.research.google.com/github/xiaoyinw/xiaoyinwUSC/blob/main/Homework5.ipynb\" target=\"_parent\"><img src=\"https://colab.research.google.com/assets/colab-badge.svg\" alt=\"Open In Colab\"/></a>"
      ]
    },
    {
      "cell_type": "code",
      "metadata": {
        "id": "lU2agB8XsM2H"
      },
      "source": [
        "import pandas as pd\n",
        "import numpy as np\n",
        "import matplotlib.pyplot as plt\n",
        "import seaborn as sns"
      ],
      "execution_count": 6,
      "outputs": []
    },
    {
      "cell_type": "code",
      "metadata": {
        "colab": {
          "base_uri": "https://localhost:8080/"
        },
        "id": "_HKknVQdsXpW",
        "outputId": "f7a0bd49-7bf0-4907-c6de-2d3ed7ca44bf"
      },
      "source": [
        "#from google.colab import drive\n",
        "#!mkdir drive\n",
        "#drive.mount('./drive')\n",
        "#!cd /content/drive/MyDrive/DSCI552/Homework5/notebook"
      ],
      "execution_count": 7,
      "outputs": [
        {
          "output_type": "stream",
          "name": "stdout",
          "text": [
            "Mounted at ./drive\n"
          ]
        }
      ]
    },
    {
      "cell_type": "code",
      "metadata": {
        "colab": {
          "base_uri": "https://localhost:8080/"
        },
        "id": "CSIL7R9EthKF",
        "outputId": "570d442d-aa66-468f-8597-b47563607106"
      },
      "source": [
        "#cd /content/drive/MyDrive/DSCI552/Homework5/notebook"
      ],
      "execution_count": 8,
      "outputs": [
        {
          "output_type": "stream",
          "name": "stdout",
          "text": [
            "/content/drive/MyDrive/DSCI552/Homework5/notebook\n"
          ]
        }
      ]
    },
    {
      "cell_type": "markdown",
      "metadata": {
        "id": "x-bDf_04V-yD"
      },
      "source": [
        "# Part 1"
      ]
    },
    {
      "cell_type": "markdown",
      "metadata": {
        "id": "gFOnw8Wr2WOD"
      },
      "source": [
        "###**Problem a**"
      ]
    },
    {
      "cell_type": "markdown",
      "metadata": {
        "id": "MX-AGEBoW2DW"
      },
      "source": [
        "import the original data"
      ]
    },
    {
      "cell_type": "code",
      "metadata": {
        "id": "T6t8-Nl3tiDX"
      },
      "source": [
        "data = pd.read_csv('../data/Frogs_MFCCs.csv')"
      ],
      "execution_count": 9,
      "outputs": []
    },
    {
      "cell_type": "code",
      "metadata": {
        "colab": {
          "base_uri": "https://localhost:8080/",
          "height": 452
        },
        "id": "rAzZjHdntmnb",
        "outputId": "719da1e2-2538-41b8-ea5d-da67db343df4"
      },
      "source": [
        "data"
      ],
      "execution_count": 10,
      "outputs": [
        {
          "output_type": "execute_result",
          "data": {
            "text/html": [
              "<div>\n",
              "<style scoped>\n",
              "    .dataframe tbody tr th:only-of-type {\n",
              "        vertical-align: middle;\n",
              "    }\n",
              "\n",
              "    .dataframe tbody tr th {\n",
              "        vertical-align: top;\n",
              "    }\n",
              "\n",
              "    .dataframe thead th {\n",
              "        text-align: right;\n",
              "    }\n",
              "</style>\n",
              "<table border=\"1\" class=\"dataframe\">\n",
              "  <thead>\n",
              "    <tr style=\"text-align: right;\">\n",
              "      <th></th>\n",
              "      <th>MFCCs_ 1</th>\n",
              "      <th>MFCCs_ 2</th>\n",
              "      <th>MFCCs_ 3</th>\n",
              "      <th>MFCCs_ 4</th>\n",
              "      <th>MFCCs_ 5</th>\n",
              "      <th>MFCCs_ 6</th>\n",
              "      <th>MFCCs_ 7</th>\n",
              "      <th>MFCCs_ 8</th>\n",
              "      <th>MFCCs_ 9</th>\n",
              "      <th>MFCCs_10</th>\n",
              "      <th>MFCCs_11</th>\n",
              "      <th>MFCCs_12</th>\n",
              "      <th>MFCCs_13</th>\n",
              "      <th>MFCCs_14</th>\n",
              "      <th>MFCCs_15</th>\n",
              "      <th>MFCCs_16</th>\n",
              "      <th>MFCCs_17</th>\n",
              "      <th>MFCCs_18</th>\n",
              "      <th>MFCCs_19</th>\n",
              "      <th>MFCCs_20</th>\n",
              "      <th>MFCCs_21</th>\n",
              "      <th>MFCCs_22</th>\n",
              "      <th>Family</th>\n",
              "      <th>Genus</th>\n",
              "      <th>Species</th>\n",
              "      <th>RecordID</th>\n",
              "    </tr>\n",
              "  </thead>\n",
              "  <tbody>\n",
              "    <tr>\n",
              "      <th>0</th>\n",
              "      <td>1.0</td>\n",
              "      <td>0.152936</td>\n",
              "      <td>-0.105586</td>\n",
              "      <td>0.200722</td>\n",
              "      <td>0.317201</td>\n",
              "      <td>0.260764</td>\n",
              "      <td>0.100945</td>\n",
              "      <td>-0.150063</td>\n",
              "      <td>-0.171128</td>\n",
              "      <td>0.124676</td>\n",
              "      <td>0.188654</td>\n",
              "      <td>-0.075622</td>\n",
              "      <td>-0.156436</td>\n",
              "      <td>0.082245</td>\n",
              "      <td>0.135752</td>\n",
              "      <td>-0.024017</td>\n",
              "      <td>-0.108351</td>\n",
              "      <td>-0.077623</td>\n",
              "      <td>-0.009568</td>\n",
              "      <td>0.057684</td>\n",
              "      <td>0.118680</td>\n",
              "      <td>0.014038</td>\n",
              "      <td>Leptodactylidae</td>\n",
              "      <td>Adenomera</td>\n",
              "      <td>AdenomeraAndre</td>\n",
              "      <td>1</td>\n",
              "    </tr>\n",
              "    <tr>\n",
              "      <th>1</th>\n",
              "      <td>1.0</td>\n",
              "      <td>0.171534</td>\n",
              "      <td>-0.098975</td>\n",
              "      <td>0.268425</td>\n",
              "      <td>0.338672</td>\n",
              "      <td>0.268353</td>\n",
              "      <td>0.060835</td>\n",
              "      <td>-0.222475</td>\n",
              "      <td>-0.207693</td>\n",
              "      <td>0.170883</td>\n",
              "      <td>0.270958</td>\n",
              "      <td>-0.095004</td>\n",
              "      <td>-0.254341</td>\n",
              "      <td>0.022786</td>\n",
              "      <td>0.163320</td>\n",
              "      <td>0.012022</td>\n",
              "      <td>-0.090974</td>\n",
              "      <td>-0.056510</td>\n",
              "      <td>-0.035303</td>\n",
              "      <td>0.020140</td>\n",
              "      <td>0.082263</td>\n",
              "      <td>0.029056</td>\n",
              "      <td>Leptodactylidae</td>\n",
              "      <td>Adenomera</td>\n",
              "      <td>AdenomeraAndre</td>\n",
              "      <td>1</td>\n",
              "    </tr>\n",
              "    <tr>\n",
              "      <th>2</th>\n",
              "      <td>1.0</td>\n",
              "      <td>0.152317</td>\n",
              "      <td>-0.082973</td>\n",
              "      <td>0.287128</td>\n",
              "      <td>0.276014</td>\n",
              "      <td>0.189867</td>\n",
              "      <td>0.008714</td>\n",
              "      <td>-0.242234</td>\n",
              "      <td>-0.219153</td>\n",
              "      <td>0.232538</td>\n",
              "      <td>0.266064</td>\n",
              "      <td>-0.072827</td>\n",
              "      <td>-0.237384</td>\n",
              "      <td>0.050791</td>\n",
              "      <td>0.207338</td>\n",
              "      <td>0.083536</td>\n",
              "      <td>-0.050691</td>\n",
              "      <td>-0.023590</td>\n",
              "      <td>-0.066722</td>\n",
              "      <td>-0.025083</td>\n",
              "      <td>0.099108</td>\n",
              "      <td>0.077162</td>\n",
              "      <td>Leptodactylidae</td>\n",
              "      <td>Adenomera</td>\n",
              "      <td>AdenomeraAndre</td>\n",
              "      <td>1</td>\n",
              "    </tr>\n",
              "    <tr>\n",
              "      <th>3</th>\n",
              "      <td>1.0</td>\n",
              "      <td>0.224392</td>\n",
              "      <td>0.118985</td>\n",
              "      <td>0.329432</td>\n",
              "      <td>0.372088</td>\n",
              "      <td>0.361005</td>\n",
              "      <td>0.015501</td>\n",
              "      <td>-0.194347</td>\n",
              "      <td>-0.098181</td>\n",
              "      <td>0.270375</td>\n",
              "      <td>0.267279</td>\n",
              "      <td>-0.162258</td>\n",
              "      <td>-0.317084</td>\n",
              "      <td>-0.011567</td>\n",
              "      <td>0.100413</td>\n",
              "      <td>-0.050224</td>\n",
              "      <td>-0.136009</td>\n",
              "      <td>-0.177037</td>\n",
              "      <td>-0.130498</td>\n",
              "      <td>-0.054766</td>\n",
              "      <td>-0.018691</td>\n",
              "      <td>0.023954</td>\n",
              "      <td>Leptodactylidae</td>\n",
              "      <td>Adenomera</td>\n",
              "      <td>AdenomeraAndre</td>\n",
              "      <td>1</td>\n",
              "    </tr>\n",
              "    <tr>\n",
              "      <th>4</th>\n",
              "      <td>1.0</td>\n",
              "      <td>0.087817</td>\n",
              "      <td>-0.068345</td>\n",
              "      <td>0.306967</td>\n",
              "      <td>0.330923</td>\n",
              "      <td>0.249144</td>\n",
              "      <td>0.006884</td>\n",
              "      <td>-0.265423</td>\n",
              "      <td>-0.172700</td>\n",
              "      <td>0.266434</td>\n",
              "      <td>0.332695</td>\n",
              "      <td>-0.100749</td>\n",
              "      <td>-0.298524</td>\n",
              "      <td>0.037439</td>\n",
              "      <td>0.219153</td>\n",
              "      <td>0.062837</td>\n",
              "      <td>-0.048885</td>\n",
              "      <td>-0.053074</td>\n",
              "      <td>-0.088550</td>\n",
              "      <td>-0.031346</td>\n",
              "      <td>0.108610</td>\n",
              "      <td>0.079244</td>\n",
              "      <td>Leptodactylidae</td>\n",
              "      <td>Adenomera</td>\n",
              "      <td>AdenomeraAndre</td>\n",
              "      <td>1</td>\n",
              "    </tr>\n",
              "    <tr>\n",
              "      <th>...</th>\n",
              "      <td>...</td>\n",
              "      <td>...</td>\n",
              "      <td>...</td>\n",
              "      <td>...</td>\n",
              "      <td>...</td>\n",
              "      <td>...</td>\n",
              "      <td>...</td>\n",
              "      <td>...</td>\n",
              "      <td>...</td>\n",
              "      <td>...</td>\n",
              "      <td>...</td>\n",
              "      <td>...</td>\n",
              "      <td>...</td>\n",
              "      <td>...</td>\n",
              "      <td>...</td>\n",
              "      <td>...</td>\n",
              "      <td>...</td>\n",
              "      <td>...</td>\n",
              "      <td>...</td>\n",
              "      <td>...</td>\n",
              "      <td>...</td>\n",
              "      <td>...</td>\n",
              "      <td>...</td>\n",
              "      <td>...</td>\n",
              "      <td>...</td>\n",
              "      <td>...</td>\n",
              "    </tr>\n",
              "    <tr>\n",
              "      <th>7190</th>\n",
              "      <td>1.0</td>\n",
              "      <td>-0.554504</td>\n",
              "      <td>-0.337717</td>\n",
              "      <td>0.035533</td>\n",
              "      <td>0.034511</td>\n",
              "      <td>0.443451</td>\n",
              "      <td>0.093889</td>\n",
              "      <td>-0.100753</td>\n",
              "      <td>0.037087</td>\n",
              "      <td>0.081075</td>\n",
              "      <td>0.065905</td>\n",
              "      <td>-0.000717</td>\n",
              "      <td>-0.145668</td>\n",
              "      <td>-0.059364</td>\n",
              "      <td>0.024206</td>\n",
              "      <td>-0.000861</td>\n",
              "      <td>0.069430</td>\n",
              "      <td>0.071001</td>\n",
              "      <td>0.021591</td>\n",
              "      <td>0.052449</td>\n",
              "      <td>-0.021860</td>\n",
              "      <td>-0.079860</td>\n",
              "      <td>Hylidae</td>\n",
              "      <td>Scinax</td>\n",
              "      <td>ScinaxRuber</td>\n",
              "      <td>60</td>\n",
              "    </tr>\n",
              "    <tr>\n",
              "      <th>7191</th>\n",
              "      <td>1.0</td>\n",
              "      <td>-0.517273</td>\n",
              "      <td>-0.370574</td>\n",
              "      <td>0.030673</td>\n",
              "      <td>0.068097</td>\n",
              "      <td>0.402890</td>\n",
              "      <td>0.096628</td>\n",
              "      <td>-0.116460</td>\n",
              "      <td>0.063727</td>\n",
              "      <td>0.089034</td>\n",
              "      <td>0.038545</td>\n",
              "      <td>0.000856</td>\n",
              "      <td>-0.164675</td>\n",
              "      <td>-0.105600</td>\n",
              "      <td>0.030767</td>\n",
              "      <td>0.006457</td>\n",
              "      <td>0.061127</td>\n",
              "      <td>0.068978</td>\n",
              "      <td>0.017745</td>\n",
              "      <td>0.046461</td>\n",
              "      <td>-0.015418</td>\n",
              "      <td>-0.101892</td>\n",
              "      <td>Hylidae</td>\n",
              "      <td>Scinax</td>\n",
              "      <td>ScinaxRuber</td>\n",
              "      <td>60</td>\n",
              "    </tr>\n",
              "    <tr>\n",
              "      <th>7192</th>\n",
              "      <td>1.0</td>\n",
              "      <td>-0.582557</td>\n",
              "      <td>-0.343237</td>\n",
              "      <td>0.029468</td>\n",
              "      <td>0.064179</td>\n",
              "      <td>0.385596</td>\n",
              "      <td>0.114905</td>\n",
              "      <td>-0.103317</td>\n",
              "      <td>0.070370</td>\n",
              "      <td>0.081317</td>\n",
              "      <td>0.062748</td>\n",
              "      <td>0.011868</td>\n",
              "      <td>-0.150025</td>\n",
              "      <td>-0.078615</td>\n",
              "      <td>0.024861</td>\n",
              "      <td>0.008696</td>\n",
              "      <td>0.082474</td>\n",
              "      <td>0.077771</td>\n",
              "      <td>-0.009688</td>\n",
              "      <td>0.027834</td>\n",
              "      <td>-0.000531</td>\n",
              "      <td>-0.080425</td>\n",
              "      <td>Hylidae</td>\n",
              "      <td>Scinax</td>\n",
              "      <td>ScinaxRuber</td>\n",
              "      <td>60</td>\n",
              "    </tr>\n",
              "    <tr>\n",
              "      <th>7193</th>\n",
              "      <td>1.0</td>\n",
              "      <td>-0.519497</td>\n",
              "      <td>-0.307553</td>\n",
              "      <td>-0.004922</td>\n",
              "      <td>0.072865</td>\n",
              "      <td>0.377131</td>\n",
              "      <td>0.086866</td>\n",
              "      <td>-0.115799</td>\n",
              "      <td>0.056979</td>\n",
              "      <td>0.089316</td>\n",
              "      <td>0.049792</td>\n",
              "      <td>-0.003997</td>\n",
              "      <td>-0.153120</td>\n",
              "      <td>-0.075320</td>\n",
              "      <td>0.022903</td>\n",
              "      <td>0.001924</td>\n",
              "      <td>0.051796</td>\n",
              "      <td>0.069073</td>\n",
              "      <td>0.017963</td>\n",
              "      <td>0.041803</td>\n",
              "      <td>-0.027911</td>\n",
              "      <td>-0.096895</td>\n",
              "      <td>Hylidae</td>\n",
              "      <td>Scinax</td>\n",
              "      <td>ScinaxRuber</td>\n",
              "      <td>60</td>\n",
              "    </tr>\n",
              "    <tr>\n",
              "      <th>7194</th>\n",
              "      <td>1.0</td>\n",
              "      <td>-0.508833</td>\n",
              "      <td>-0.324106</td>\n",
              "      <td>0.062068</td>\n",
              "      <td>0.078211</td>\n",
              "      <td>0.397188</td>\n",
              "      <td>0.094596</td>\n",
              "      <td>-0.117672</td>\n",
              "      <td>0.058874</td>\n",
              "      <td>0.076180</td>\n",
              "      <td>0.072347</td>\n",
              "      <td>0.002760</td>\n",
              "      <td>-0.150554</td>\n",
              "      <td>-0.073415</td>\n",
              "      <td>0.042517</td>\n",
              "      <td>0.004158</td>\n",
              "      <td>0.061455</td>\n",
              "      <td>0.072983</td>\n",
              "      <td>-0.003980</td>\n",
              "      <td>0.031560</td>\n",
              "      <td>-0.029355</td>\n",
              "      <td>-0.087910</td>\n",
              "      <td>Hylidae</td>\n",
              "      <td>Scinax</td>\n",
              "      <td>ScinaxRuber</td>\n",
              "      <td>60</td>\n",
              "    </tr>\n",
              "  </tbody>\n",
              "</table>\n",
              "<p>7195 rows × 26 columns</p>\n",
              "</div>"
            ],
            "text/plain": [
              "      MFCCs_ 1  MFCCs_ 2  MFCCs_ 3  ...      Genus         Species  RecordID\n",
              "0          1.0  0.152936 -0.105586  ...  Adenomera  AdenomeraAndre         1\n",
              "1          1.0  0.171534 -0.098975  ...  Adenomera  AdenomeraAndre         1\n",
              "2          1.0  0.152317 -0.082973  ...  Adenomera  AdenomeraAndre         1\n",
              "3          1.0  0.224392  0.118985  ...  Adenomera  AdenomeraAndre         1\n",
              "4          1.0  0.087817 -0.068345  ...  Adenomera  AdenomeraAndre         1\n",
              "...        ...       ...       ...  ...        ...             ...       ...\n",
              "7190       1.0 -0.554504 -0.337717  ...     Scinax     ScinaxRuber        60\n",
              "7191       1.0 -0.517273 -0.370574  ...     Scinax     ScinaxRuber        60\n",
              "7192       1.0 -0.582557 -0.343237  ...     Scinax     ScinaxRuber        60\n",
              "7193       1.0 -0.519497 -0.307553  ...     Scinax     ScinaxRuber        60\n",
              "7194       1.0 -0.508833 -0.324106  ...     Scinax     ScinaxRuber        60\n",
              "\n",
              "[7195 rows x 26 columns]"
            ]
          },
          "metadata": {},
          "execution_count": 10
        }
      ]
    },
    {
      "cell_type": "markdown",
      "metadata": {
        "id": "4jbcPJTXW4ce"
      },
      "source": [
        "factorize the corresponding label from string to integer"
      ]
    },
    {
      "cell_type": "code",
      "metadata": {
        "id": "ACArnstq1hlG"
      },
      "source": [
        "data['Family'] = pd.factorize(data['Family'])[0]"
      ],
      "execution_count": 11,
      "outputs": []
    },
    {
      "cell_type": "code",
      "metadata": {
        "id": "-wGF-YcX2Ash"
      },
      "source": [
        "data['Genus'] = pd.factorize(data['Genus'])[0]"
      ],
      "execution_count": 12,
      "outputs": []
    },
    {
      "cell_type": "code",
      "metadata": {
        "id": "HlIkv3Dc2GOl"
      },
      "source": [
        "data['Species'] = pd.factorize(data['Species'])[0]"
      ],
      "execution_count": 13,
      "outputs": []
    },
    {
      "cell_type": "code",
      "metadata": {
        "id": "WEkvaUKst5dD"
      },
      "source": [
        "from sklearn.model_selection import train_test_split"
      ],
      "execution_count": 14,
      "outputs": []
    },
    {
      "cell_type": "markdown",
      "metadata": {
        "id": "eYwF46WFW_A8"
      },
      "source": [
        "split the original data into train and test dataset randomly, which are 70% and 30% of total data"
      ]
    },
    {
      "cell_type": "code",
      "metadata": {
        "id": "PZn4lFLvuEhn"
      },
      "source": [
        "train, test = train_test_split(data, test_size=0.3, shuffle=True)"
      ],
      "execution_count": 15,
      "outputs": []
    },
    {
      "cell_type": "markdown",
      "metadata": {
        "id": "mnQX6oFf2bo4"
      },
      "source": [
        "### **Problem b**"
      ]
    },
    {
      "cell_type": "markdown",
      "metadata": {
        "id": "Gx2Fc_vM2dXu"
      },
      "source": [
        "##### Problem bi"
      ]
    },
    {
      "cell_type": "markdown",
      "metadata": {
        "id": "gc4uktsc9-gE"
      },
      "source": [
        "Difference between multi-class classification & multi-label classification is that in multi-class problems he classes are mutually exclusive, whereas for multi-label problems each label represents a different classification task, but the tasks are somehow related."
      ]
    },
    {
      "cell_type": "markdown",
      "metadata": {
        "id": "AXsSjpnNEZFw"
      },
      "source": [
        "Hamming-Loss\n",
        "In simplest of terms, Hamming-Loss is the fraction of labels that are incorrectly predicted that is the fraction of the wrong labels to the total number of labels"
      ]
    },
    {
      "cell_type": "markdown",
      "metadata": {
        "id": "G8jyQg6TEqdb"
      },
      "source": [
        "Exact Match Ratio is the most strict metric, indicating the percentage of samples that have all their labels classified correctly."
      ]
    },
    {
      "cell_type": "markdown",
      "metadata": {
        "id": "cD8B9JM4LJsi"
      },
      "source": [
        "Problem bii"
      ]
    },
    {
      "cell_type": "code",
      "metadata": {
        "id": "ulf41ikKu5j4"
      },
      "source": [
        "train = train.reset_index(drop=True)\n",
        "test = test.reset_index(drop=True)"
      ],
      "execution_count": 16,
      "outputs": []
    },
    {
      "cell_type": "code",
      "metadata": {
        "id": "6HxEqtVvu6PD"
      },
      "source": [
        "train_x = train.iloc[:,:-4]\n",
        "train_y = train.iloc[:,-4:]\n",
        "test_x = test.iloc[:,:-4]\n",
        "test_y = test.iloc[:,:-4]"
      ],
      "execution_count": 17,
      "outputs": []
    },
    {
      "cell_type": "code",
      "metadata": {
        "id": "lewuKhxVHZBT"
      },
      "source": [
        "from sklearn.model_selection import GridSearchCV\n",
        "from sklearn.svm import SVC\n",
        "from sklearn.svm import LinearSVC"
      ],
      "execution_count": 18,
      "outputs": []
    },
    {
      "cell_type": "code",
      "metadata": {
        "id": "WQ77j3dea-UN"
      },
      "source": [
        "result = {}"
      ],
      "execution_count": 19,
      "outputs": []
    },
    {
      "cell_type": "markdown",
      "metadata": {
        "id": "NXH_EYR1XJp1"
      },
      "source": [
        "based on the former experiment, I have limited the parameters about the weight of the SVM penalty and the width of the Gaussian Kernel in to a certain range based on the accuracy more than 70%.\n",
        "below I used ten-fold cross validation to determine the parameters that are best suitable using the train dataset and validation dataset"
      ]
    },
    {
      "cell_type": "code",
      "metadata": {
        "id": "9OQonOUGkD9A"
      },
      "source": [
        "def parametersSearch(train_y):\n",
        "    svc = SVC(kernel='rbf', max_iter=500)\n",
        "    c_parameters = np.logspace(0, 5, num=6, base=10)\n",
        "    gamma_parameters = np.linspace(1,5,5)\n",
        "    parameters = {'C': c_parameters, 'gamma':gamma_parameters}\n",
        "    clf = GridSearchCV(svc, parameters, cv=10)\n",
        "    clf.fit(train_x,train_y)\n",
        "    print(clf.cv_results_)\n",
        "    print('the best parameter pair is '+ str(clf.best_params_))\n",
        "    test_pred = clf.predict(test_x)\n",
        "    return test_pred"
      ],
      "execution_count": 20,
      "outputs": []
    },
    {
      "cell_type": "markdown",
      "metadata": {
        "id": "eZ5JgYTiX-wb"
      },
      "source": [
        "build the function to calculate the hamming loss for prediction and groudtruth"
      ]
    },
    {
      "cell_type": "code",
      "metadata": {
        "id": "BgK7KgK07MEZ"
      },
      "source": [
        "def hamming_loss_calc(pred, truth):\n",
        "  classification_error = 0\n",
        "  for i in range(0,3):\n",
        "    for p, t in zip(pred[i], truth[i]):\n",
        "      if p != t:\n",
        "        classification_error += 1\n",
        "  hamming_loss = np.round(classification_error / (pred.shape[0] * pred.shape[1]),4)\n",
        "  print('The hamming_loss is '+ str(hamming_loss))\n",
        "  return hamming_loss"
      ],
      "execution_count": 21,
      "outputs": []
    },
    {
      "cell_type": "markdown",
      "metadata": {
        "id": "APzh-F-WYGJt"
      },
      "source": [
        "build the function to calculate the exact match ratio for prediction and groundtruth"
      ]
    },
    {
      "cell_type": "code",
      "metadata": {
        "id": "ee4gyfOf8DFX"
      },
      "source": [
        "def exact_match_ratio_calc(pred, truth):\n",
        "  classification_error = 0\n",
        "  for i in range(pred.shape[1]):\n",
        "    family_pred = pred[0][i]\n",
        "    genus_pred = pred[1][i]\n",
        "    species_pred = pred[2][i]\n",
        "    \n",
        "    family_truth = truth[0][i]\n",
        "    genus_truth = truth[1][i]\n",
        "    species_truth = truth[2][i]\n",
        "    if(family_pred == family_truth and genus_pred == genus_truth and species_pred == species_truth):\n",
        "      continue\n",
        "    classification_error += 1\n",
        "    exact_match_ratio = np.round(1 - classification_error / pred.shape[1] , 4)\n",
        "  print('exact match ratio is ' + str(exact_match_ratio))\n",
        "  return exact_match_ratio"
      ],
      "execution_count": 22,
      "outputs": []
    },
    {
      "cell_type": "code",
      "metadata": {
        "colab": {
          "base_uri": "https://localhost:8080/"
        },
        "id": "Ax861SQMIAkn",
        "outputId": "72c4d1f0-38a3-4bfc-c4be-df21aa4076be"
      },
      "source": [
        "family_pred = parametersSearch(train_y['Family'])"
      ],
      "execution_count": 23,
      "outputs": [
        {
          "output_type": "stream",
          "name": "stderr",
          "text": [
            "/usr/local/lib/python3.7/dist-packages/sklearn/svm/_base.py:231: ConvergenceWarning: Solver terminated early (max_iter=500).  Consider pre-processing your data with StandardScaler or MinMaxScaler.\n",
            "  % self.max_iter, ConvergenceWarning)\n",
            "/usr/local/lib/python3.7/dist-packages/sklearn/svm/_base.py:231: ConvergenceWarning: Solver terminated early (max_iter=500).  Consider pre-processing your data with StandardScaler or MinMaxScaler.\n",
            "  % self.max_iter, ConvergenceWarning)\n",
            "/usr/local/lib/python3.7/dist-packages/sklearn/svm/_base.py:231: ConvergenceWarning: Solver terminated early (max_iter=500).  Consider pre-processing your data with StandardScaler or MinMaxScaler.\n",
            "  % self.max_iter, ConvergenceWarning)\n",
            "/usr/local/lib/python3.7/dist-packages/sklearn/svm/_base.py:231: ConvergenceWarning: Solver terminated early (max_iter=500).  Consider pre-processing your data with StandardScaler or MinMaxScaler.\n",
            "  % self.max_iter, ConvergenceWarning)\n",
            "/usr/local/lib/python3.7/dist-packages/sklearn/svm/_base.py:231: ConvergenceWarning: Solver terminated early (max_iter=500).  Consider pre-processing your data with StandardScaler or MinMaxScaler.\n",
            "  % self.max_iter, ConvergenceWarning)\n",
            "/usr/local/lib/python3.7/dist-packages/sklearn/svm/_base.py:231: ConvergenceWarning: Solver terminated early (max_iter=500).  Consider pre-processing your data with StandardScaler or MinMaxScaler.\n",
            "  % self.max_iter, ConvergenceWarning)\n",
            "/usr/local/lib/python3.7/dist-packages/sklearn/svm/_base.py:231: ConvergenceWarning: Solver terminated early (max_iter=500).  Consider pre-processing your data with StandardScaler or MinMaxScaler.\n",
            "  % self.max_iter, ConvergenceWarning)\n",
            "/usr/local/lib/python3.7/dist-packages/sklearn/svm/_base.py:231: ConvergenceWarning: Solver terminated early (max_iter=500).  Consider pre-processing your data with StandardScaler or MinMaxScaler.\n",
            "  % self.max_iter, ConvergenceWarning)\n",
            "/usr/local/lib/python3.7/dist-packages/sklearn/svm/_base.py:231: ConvergenceWarning: Solver terminated early (max_iter=500).  Consider pre-processing your data with StandardScaler or MinMaxScaler.\n",
            "  % self.max_iter, ConvergenceWarning)\n",
            "/usr/local/lib/python3.7/dist-packages/sklearn/svm/_base.py:231: ConvergenceWarning: Solver terminated early (max_iter=500).  Consider pre-processing your data with StandardScaler or MinMaxScaler.\n",
            "  % self.max_iter, ConvergenceWarning)\n",
            "/usr/local/lib/python3.7/dist-packages/sklearn/svm/_base.py:231: ConvergenceWarning: Solver terminated early (max_iter=500).  Consider pre-processing your data with StandardScaler or MinMaxScaler.\n",
            "  % self.max_iter, ConvergenceWarning)\n",
            "/usr/local/lib/python3.7/dist-packages/sklearn/svm/_base.py:231: ConvergenceWarning: Solver terminated early (max_iter=500).  Consider pre-processing your data with StandardScaler or MinMaxScaler.\n",
            "  % self.max_iter, ConvergenceWarning)\n",
            "/usr/local/lib/python3.7/dist-packages/sklearn/svm/_base.py:231: ConvergenceWarning: Solver terminated early (max_iter=500).  Consider pre-processing your data with StandardScaler or MinMaxScaler.\n",
            "  % self.max_iter, ConvergenceWarning)\n",
            "/usr/local/lib/python3.7/dist-packages/sklearn/svm/_base.py:231: ConvergenceWarning: Solver terminated early (max_iter=500).  Consider pre-processing your data with StandardScaler or MinMaxScaler.\n",
            "  % self.max_iter, ConvergenceWarning)\n",
            "/usr/local/lib/python3.7/dist-packages/sklearn/svm/_base.py:231: ConvergenceWarning: Solver terminated early (max_iter=500).  Consider pre-processing your data with StandardScaler or MinMaxScaler.\n",
            "  % self.max_iter, ConvergenceWarning)\n",
            "/usr/local/lib/python3.7/dist-packages/sklearn/svm/_base.py:231: ConvergenceWarning: Solver terminated early (max_iter=500).  Consider pre-processing your data with StandardScaler or MinMaxScaler.\n",
            "  % self.max_iter, ConvergenceWarning)\n",
            "/usr/local/lib/python3.7/dist-packages/sklearn/svm/_base.py:231: ConvergenceWarning: Solver terminated early (max_iter=500).  Consider pre-processing your data with StandardScaler or MinMaxScaler.\n",
            "  % self.max_iter, ConvergenceWarning)\n",
            "/usr/local/lib/python3.7/dist-packages/sklearn/svm/_base.py:231: ConvergenceWarning: Solver terminated early (max_iter=500).  Consider pre-processing your data with StandardScaler or MinMaxScaler.\n",
            "  % self.max_iter, ConvergenceWarning)\n",
            "/usr/local/lib/python3.7/dist-packages/sklearn/svm/_base.py:231: ConvergenceWarning: Solver terminated early (max_iter=500).  Consider pre-processing your data with StandardScaler or MinMaxScaler.\n",
            "  % self.max_iter, ConvergenceWarning)\n",
            "/usr/local/lib/python3.7/dist-packages/sklearn/svm/_base.py:231: ConvergenceWarning: Solver terminated early (max_iter=500).  Consider pre-processing your data with StandardScaler or MinMaxScaler.\n",
            "  % self.max_iter, ConvergenceWarning)\n",
            "/usr/local/lib/python3.7/dist-packages/sklearn/svm/_base.py:231: ConvergenceWarning: Solver terminated early (max_iter=500).  Consider pre-processing your data with StandardScaler or MinMaxScaler.\n",
            "  % self.max_iter, ConvergenceWarning)\n",
            "/usr/local/lib/python3.7/dist-packages/sklearn/svm/_base.py:231: ConvergenceWarning: Solver terminated early (max_iter=500).  Consider pre-processing your data with StandardScaler or MinMaxScaler.\n",
            "  % self.max_iter, ConvergenceWarning)\n",
            "/usr/local/lib/python3.7/dist-packages/sklearn/svm/_base.py:231: ConvergenceWarning: Solver terminated early (max_iter=500).  Consider pre-processing your data with StandardScaler or MinMaxScaler.\n",
            "  % self.max_iter, ConvergenceWarning)\n",
            "/usr/local/lib/python3.7/dist-packages/sklearn/svm/_base.py:231: ConvergenceWarning: Solver terminated early (max_iter=500).  Consider pre-processing your data with StandardScaler or MinMaxScaler.\n",
            "  % self.max_iter, ConvergenceWarning)\n",
            "/usr/local/lib/python3.7/dist-packages/sklearn/svm/_base.py:231: ConvergenceWarning: Solver terminated early (max_iter=500).  Consider pre-processing your data with StandardScaler or MinMaxScaler.\n",
            "  % self.max_iter, ConvergenceWarning)\n",
            "/usr/local/lib/python3.7/dist-packages/sklearn/svm/_base.py:231: ConvergenceWarning: Solver terminated early (max_iter=500).  Consider pre-processing your data with StandardScaler or MinMaxScaler.\n",
            "  % self.max_iter, ConvergenceWarning)\n",
            "/usr/local/lib/python3.7/dist-packages/sklearn/svm/_base.py:231: ConvergenceWarning: Solver terminated early (max_iter=500).  Consider pre-processing your data with StandardScaler or MinMaxScaler.\n",
            "  % self.max_iter, ConvergenceWarning)\n",
            "/usr/local/lib/python3.7/dist-packages/sklearn/svm/_base.py:231: ConvergenceWarning: Solver terminated early (max_iter=500).  Consider pre-processing your data with StandardScaler or MinMaxScaler.\n",
            "  % self.max_iter, ConvergenceWarning)\n",
            "/usr/local/lib/python3.7/dist-packages/sklearn/svm/_base.py:231: ConvergenceWarning: Solver terminated early (max_iter=500).  Consider pre-processing your data with StandardScaler or MinMaxScaler.\n",
            "  % self.max_iter, ConvergenceWarning)\n",
            "/usr/local/lib/python3.7/dist-packages/sklearn/svm/_base.py:231: ConvergenceWarning: Solver terminated early (max_iter=500).  Consider pre-processing your data with StandardScaler or MinMaxScaler.\n",
            "  % self.max_iter, ConvergenceWarning)\n",
            "/usr/local/lib/python3.7/dist-packages/sklearn/svm/_base.py:231: ConvergenceWarning: Solver terminated early (max_iter=500).  Consider pre-processing your data with StandardScaler or MinMaxScaler.\n",
            "  % self.max_iter, ConvergenceWarning)\n",
            "/usr/local/lib/python3.7/dist-packages/sklearn/svm/_base.py:231: ConvergenceWarning: Solver terminated early (max_iter=500).  Consider pre-processing your data with StandardScaler or MinMaxScaler.\n",
            "  % self.max_iter, ConvergenceWarning)\n",
            "/usr/local/lib/python3.7/dist-packages/sklearn/svm/_base.py:231: ConvergenceWarning: Solver terminated early (max_iter=500).  Consider pre-processing your data with StandardScaler or MinMaxScaler.\n",
            "  % self.max_iter, ConvergenceWarning)\n",
            "/usr/local/lib/python3.7/dist-packages/sklearn/svm/_base.py:231: ConvergenceWarning: Solver terminated early (max_iter=500).  Consider pre-processing your data with StandardScaler or MinMaxScaler.\n",
            "  % self.max_iter, ConvergenceWarning)\n",
            "/usr/local/lib/python3.7/dist-packages/sklearn/svm/_base.py:231: ConvergenceWarning: Solver terminated early (max_iter=500).  Consider pre-processing your data with StandardScaler or MinMaxScaler.\n",
            "  % self.max_iter, ConvergenceWarning)\n",
            "/usr/local/lib/python3.7/dist-packages/sklearn/svm/_base.py:231: ConvergenceWarning: Solver terminated early (max_iter=500).  Consider pre-processing your data with StandardScaler or MinMaxScaler.\n",
            "  % self.max_iter, ConvergenceWarning)\n",
            "/usr/local/lib/python3.7/dist-packages/sklearn/svm/_base.py:231: ConvergenceWarning: Solver terminated early (max_iter=500).  Consider pre-processing your data with StandardScaler or MinMaxScaler.\n",
            "  % self.max_iter, ConvergenceWarning)\n",
            "/usr/local/lib/python3.7/dist-packages/sklearn/svm/_base.py:231: ConvergenceWarning: Solver terminated early (max_iter=500).  Consider pre-processing your data with StandardScaler or MinMaxScaler.\n",
            "  % self.max_iter, ConvergenceWarning)\n",
            "/usr/local/lib/python3.7/dist-packages/sklearn/svm/_base.py:231: ConvergenceWarning: Solver terminated early (max_iter=500).  Consider pre-processing your data with StandardScaler or MinMaxScaler.\n",
            "  % self.max_iter, ConvergenceWarning)\n",
            "/usr/local/lib/python3.7/dist-packages/sklearn/svm/_base.py:231: ConvergenceWarning: Solver terminated early (max_iter=500).  Consider pre-processing your data with StandardScaler or MinMaxScaler.\n",
            "  % self.max_iter, ConvergenceWarning)\n",
            "/usr/local/lib/python3.7/dist-packages/sklearn/svm/_base.py:231: ConvergenceWarning: Solver terminated early (max_iter=500).  Consider pre-processing your data with StandardScaler or MinMaxScaler.\n",
            "  % self.max_iter, ConvergenceWarning)\n",
            "/usr/local/lib/python3.7/dist-packages/sklearn/svm/_base.py:231: ConvergenceWarning: Solver terminated early (max_iter=500).  Consider pre-processing your data with StandardScaler or MinMaxScaler.\n",
            "  % self.max_iter, ConvergenceWarning)\n",
            "/usr/local/lib/python3.7/dist-packages/sklearn/svm/_base.py:231: ConvergenceWarning: Solver terminated early (max_iter=500).  Consider pre-processing your data with StandardScaler or MinMaxScaler.\n",
            "  % self.max_iter, ConvergenceWarning)\n",
            "/usr/local/lib/python3.7/dist-packages/sklearn/svm/_base.py:231: ConvergenceWarning: Solver terminated early (max_iter=500).  Consider pre-processing your data with StandardScaler or MinMaxScaler.\n",
            "  % self.max_iter, ConvergenceWarning)\n",
            "/usr/local/lib/python3.7/dist-packages/sklearn/svm/_base.py:231: ConvergenceWarning: Solver terminated early (max_iter=500).  Consider pre-processing your data with StandardScaler or MinMaxScaler.\n",
            "  % self.max_iter, ConvergenceWarning)\n",
            "/usr/local/lib/python3.7/dist-packages/sklearn/svm/_base.py:231: ConvergenceWarning: Solver terminated early (max_iter=500).  Consider pre-processing your data with StandardScaler or MinMaxScaler.\n",
            "  % self.max_iter, ConvergenceWarning)\n",
            "/usr/local/lib/python3.7/dist-packages/sklearn/svm/_base.py:231: ConvergenceWarning: Solver terminated early (max_iter=500).  Consider pre-processing your data with StandardScaler or MinMaxScaler.\n",
            "  % self.max_iter, ConvergenceWarning)\n",
            "/usr/local/lib/python3.7/dist-packages/sklearn/svm/_base.py:231: ConvergenceWarning: Solver terminated early (max_iter=500).  Consider pre-processing your data with StandardScaler or MinMaxScaler.\n",
            "  % self.max_iter, ConvergenceWarning)\n",
            "/usr/local/lib/python3.7/dist-packages/sklearn/svm/_base.py:231: ConvergenceWarning: Solver terminated early (max_iter=500).  Consider pre-processing your data with StandardScaler or MinMaxScaler.\n",
            "  % self.max_iter, ConvergenceWarning)\n",
            "/usr/local/lib/python3.7/dist-packages/sklearn/svm/_base.py:231: ConvergenceWarning: Solver terminated early (max_iter=500).  Consider pre-processing your data with StandardScaler or MinMaxScaler.\n",
            "  % self.max_iter, ConvergenceWarning)\n",
            "/usr/local/lib/python3.7/dist-packages/sklearn/svm/_base.py:231: ConvergenceWarning: Solver terminated early (max_iter=500).  Consider pre-processing your data with StandardScaler or MinMaxScaler.\n",
            "  % self.max_iter, ConvergenceWarning)\n",
            "/usr/local/lib/python3.7/dist-packages/sklearn/svm/_base.py:231: ConvergenceWarning: Solver terminated early (max_iter=500).  Consider pre-processing your data with StandardScaler or MinMaxScaler.\n",
            "  % self.max_iter, ConvergenceWarning)\n",
            "/usr/local/lib/python3.7/dist-packages/sklearn/svm/_base.py:231: ConvergenceWarning: Solver terminated early (max_iter=500).  Consider pre-processing your data with StandardScaler or MinMaxScaler.\n",
            "  % self.max_iter, ConvergenceWarning)\n",
            "/usr/local/lib/python3.7/dist-packages/sklearn/svm/_base.py:231: ConvergenceWarning: Solver terminated early (max_iter=500).  Consider pre-processing your data with StandardScaler or MinMaxScaler.\n",
            "  % self.max_iter, ConvergenceWarning)\n",
            "/usr/local/lib/python3.7/dist-packages/sklearn/svm/_base.py:231: ConvergenceWarning: Solver terminated early (max_iter=500).  Consider pre-processing your data with StandardScaler or MinMaxScaler.\n",
            "  % self.max_iter, ConvergenceWarning)\n",
            "/usr/local/lib/python3.7/dist-packages/sklearn/svm/_base.py:231: ConvergenceWarning: Solver terminated early (max_iter=500).  Consider pre-processing your data with StandardScaler or MinMaxScaler.\n",
            "  % self.max_iter, ConvergenceWarning)\n",
            "/usr/local/lib/python3.7/dist-packages/sklearn/svm/_base.py:231: ConvergenceWarning: Solver terminated early (max_iter=500).  Consider pre-processing your data with StandardScaler or MinMaxScaler.\n",
            "  % self.max_iter, ConvergenceWarning)\n",
            "/usr/local/lib/python3.7/dist-packages/sklearn/svm/_base.py:231: ConvergenceWarning: Solver terminated early (max_iter=500).  Consider pre-processing your data with StandardScaler or MinMaxScaler.\n",
            "  % self.max_iter, ConvergenceWarning)\n",
            "/usr/local/lib/python3.7/dist-packages/sklearn/svm/_base.py:231: ConvergenceWarning: Solver terminated early (max_iter=500).  Consider pre-processing your data with StandardScaler or MinMaxScaler.\n",
            "  % self.max_iter, ConvergenceWarning)\n",
            "/usr/local/lib/python3.7/dist-packages/sklearn/svm/_base.py:231: ConvergenceWarning: Solver terminated early (max_iter=500).  Consider pre-processing your data with StandardScaler or MinMaxScaler.\n",
            "  % self.max_iter, ConvergenceWarning)\n",
            "/usr/local/lib/python3.7/dist-packages/sklearn/svm/_base.py:231: ConvergenceWarning: Solver terminated early (max_iter=500).  Consider pre-processing your data with StandardScaler or MinMaxScaler.\n",
            "  % self.max_iter, ConvergenceWarning)\n",
            "/usr/local/lib/python3.7/dist-packages/sklearn/svm/_base.py:231: ConvergenceWarning: Solver terminated early (max_iter=500).  Consider pre-processing your data with StandardScaler or MinMaxScaler.\n",
            "  % self.max_iter, ConvergenceWarning)\n",
            "/usr/local/lib/python3.7/dist-packages/sklearn/svm/_base.py:231: ConvergenceWarning: Solver terminated early (max_iter=500).  Consider pre-processing your data with StandardScaler or MinMaxScaler.\n",
            "  % self.max_iter, ConvergenceWarning)\n",
            "/usr/local/lib/python3.7/dist-packages/sklearn/svm/_base.py:231: ConvergenceWarning: Solver terminated early (max_iter=500).  Consider pre-processing your data with StandardScaler or MinMaxScaler.\n",
            "  % self.max_iter, ConvergenceWarning)\n",
            "/usr/local/lib/python3.7/dist-packages/sklearn/svm/_base.py:231: ConvergenceWarning: Solver terminated early (max_iter=500).  Consider pre-processing your data with StandardScaler or MinMaxScaler.\n",
            "  % self.max_iter, ConvergenceWarning)\n",
            "/usr/local/lib/python3.7/dist-packages/sklearn/svm/_base.py:231: ConvergenceWarning: Solver terminated early (max_iter=500).  Consider pre-processing your data with StandardScaler or MinMaxScaler.\n",
            "  % self.max_iter, ConvergenceWarning)\n",
            "/usr/local/lib/python3.7/dist-packages/sklearn/svm/_base.py:231: ConvergenceWarning: Solver terminated early (max_iter=500).  Consider pre-processing your data with StandardScaler or MinMaxScaler.\n",
            "  % self.max_iter, ConvergenceWarning)\n",
            "/usr/local/lib/python3.7/dist-packages/sklearn/svm/_base.py:231: ConvergenceWarning: Solver terminated early (max_iter=500).  Consider pre-processing your data with StandardScaler or MinMaxScaler.\n",
            "  % self.max_iter, ConvergenceWarning)\n",
            "/usr/local/lib/python3.7/dist-packages/sklearn/svm/_base.py:231: ConvergenceWarning: Solver terminated early (max_iter=500).  Consider pre-processing your data with StandardScaler or MinMaxScaler.\n",
            "  % self.max_iter, ConvergenceWarning)\n",
            "/usr/local/lib/python3.7/dist-packages/sklearn/svm/_base.py:231: ConvergenceWarning: Solver terminated early (max_iter=500).  Consider pre-processing your data with StandardScaler or MinMaxScaler.\n",
            "  % self.max_iter, ConvergenceWarning)\n",
            "/usr/local/lib/python3.7/dist-packages/sklearn/svm/_base.py:231: ConvergenceWarning: Solver terminated early (max_iter=500).  Consider pre-processing your data with StandardScaler or MinMaxScaler.\n",
            "  % self.max_iter, ConvergenceWarning)\n",
            "/usr/local/lib/python3.7/dist-packages/sklearn/svm/_base.py:231: ConvergenceWarning: Solver terminated early (max_iter=500).  Consider pre-processing your data with StandardScaler or MinMaxScaler.\n",
            "  % self.max_iter, ConvergenceWarning)\n",
            "/usr/local/lib/python3.7/dist-packages/sklearn/svm/_base.py:231: ConvergenceWarning: Solver terminated early (max_iter=500).  Consider pre-processing your data with StandardScaler or MinMaxScaler.\n",
            "  % self.max_iter, ConvergenceWarning)\n",
            "/usr/local/lib/python3.7/dist-packages/sklearn/svm/_base.py:231: ConvergenceWarning: Solver terminated early (max_iter=500).  Consider pre-processing your data with StandardScaler or MinMaxScaler.\n",
            "  % self.max_iter, ConvergenceWarning)\n",
            "/usr/local/lib/python3.7/dist-packages/sklearn/svm/_base.py:231: ConvergenceWarning: Solver terminated early (max_iter=500).  Consider pre-processing your data with StandardScaler or MinMaxScaler.\n",
            "  % self.max_iter, ConvergenceWarning)\n",
            "/usr/local/lib/python3.7/dist-packages/sklearn/svm/_base.py:231: ConvergenceWarning: Solver terminated early (max_iter=500).  Consider pre-processing your data with StandardScaler or MinMaxScaler.\n",
            "  % self.max_iter, ConvergenceWarning)\n",
            "/usr/local/lib/python3.7/dist-packages/sklearn/svm/_base.py:231: ConvergenceWarning: Solver terminated early (max_iter=500).  Consider pre-processing your data with StandardScaler or MinMaxScaler.\n",
            "  % self.max_iter, ConvergenceWarning)\n",
            "/usr/local/lib/python3.7/dist-packages/sklearn/svm/_base.py:231: ConvergenceWarning: Solver terminated early (max_iter=500).  Consider pre-processing your data with StandardScaler or MinMaxScaler.\n",
            "  % self.max_iter, ConvergenceWarning)\n",
            "/usr/local/lib/python3.7/dist-packages/sklearn/svm/_base.py:231: ConvergenceWarning: Solver terminated early (max_iter=500).  Consider pre-processing your data with StandardScaler or MinMaxScaler.\n",
            "  % self.max_iter, ConvergenceWarning)\n",
            "/usr/local/lib/python3.7/dist-packages/sklearn/svm/_base.py:231: ConvergenceWarning: Solver terminated early (max_iter=500).  Consider pre-processing your data with StandardScaler or MinMaxScaler.\n",
            "  % self.max_iter, ConvergenceWarning)\n",
            "/usr/local/lib/python3.7/dist-packages/sklearn/svm/_base.py:231: ConvergenceWarning: Solver terminated early (max_iter=500).  Consider pre-processing your data with StandardScaler or MinMaxScaler.\n",
            "  % self.max_iter, ConvergenceWarning)\n",
            "/usr/local/lib/python3.7/dist-packages/sklearn/svm/_base.py:231: ConvergenceWarning: Solver terminated early (max_iter=500).  Consider pre-processing your data with StandardScaler or MinMaxScaler.\n",
            "  % self.max_iter, ConvergenceWarning)\n",
            "/usr/local/lib/python3.7/dist-packages/sklearn/svm/_base.py:231: ConvergenceWarning: Solver terminated early (max_iter=500).  Consider pre-processing your data with StandardScaler or MinMaxScaler.\n",
            "  % self.max_iter, ConvergenceWarning)\n",
            "/usr/local/lib/python3.7/dist-packages/sklearn/svm/_base.py:231: ConvergenceWarning: Solver terminated early (max_iter=500).  Consider pre-processing your data with StandardScaler or MinMaxScaler.\n",
            "  % self.max_iter, ConvergenceWarning)\n",
            "/usr/local/lib/python3.7/dist-packages/sklearn/svm/_base.py:231: ConvergenceWarning: Solver terminated early (max_iter=500).  Consider pre-processing your data with StandardScaler or MinMaxScaler.\n",
            "  % self.max_iter, ConvergenceWarning)\n",
            "/usr/local/lib/python3.7/dist-packages/sklearn/svm/_base.py:231: ConvergenceWarning: Solver terminated early (max_iter=500).  Consider pre-processing your data with StandardScaler or MinMaxScaler.\n",
            "  % self.max_iter, ConvergenceWarning)\n",
            "/usr/local/lib/python3.7/dist-packages/sklearn/svm/_base.py:231: ConvergenceWarning: Solver terminated early (max_iter=500).  Consider pre-processing your data with StandardScaler or MinMaxScaler.\n",
            "  % self.max_iter, ConvergenceWarning)\n",
            "/usr/local/lib/python3.7/dist-packages/sklearn/svm/_base.py:231: ConvergenceWarning: Solver terminated early (max_iter=500).  Consider pre-processing your data with StandardScaler or MinMaxScaler.\n",
            "  % self.max_iter, ConvergenceWarning)\n",
            "/usr/local/lib/python3.7/dist-packages/sklearn/svm/_base.py:231: ConvergenceWarning: Solver terminated early (max_iter=500).  Consider pre-processing your data with StandardScaler or MinMaxScaler.\n",
            "  % self.max_iter, ConvergenceWarning)\n",
            "/usr/local/lib/python3.7/dist-packages/sklearn/svm/_base.py:231: ConvergenceWarning: Solver terminated early (max_iter=500).  Consider pre-processing your data with StandardScaler or MinMaxScaler.\n",
            "  % self.max_iter, ConvergenceWarning)\n",
            "/usr/local/lib/python3.7/dist-packages/sklearn/svm/_base.py:231: ConvergenceWarning: Solver terminated early (max_iter=500).  Consider pre-processing your data with StandardScaler or MinMaxScaler.\n",
            "  % self.max_iter, ConvergenceWarning)\n",
            "/usr/local/lib/python3.7/dist-packages/sklearn/svm/_base.py:231: ConvergenceWarning: Solver terminated early (max_iter=500).  Consider pre-processing your data with StandardScaler or MinMaxScaler.\n",
            "  % self.max_iter, ConvergenceWarning)\n",
            "/usr/local/lib/python3.7/dist-packages/sklearn/svm/_base.py:231: ConvergenceWarning: Solver terminated early (max_iter=500).  Consider pre-processing your data with StandardScaler or MinMaxScaler.\n",
            "  % self.max_iter, ConvergenceWarning)\n",
            "/usr/local/lib/python3.7/dist-packages/sklearn/svm/_base.py:231: ConvergenceWarning: Solver terminated early (max_iter=500).  Consider pre-processing your data with StandardScaler or MinMaxScaler.\n",
            "  % self.max_iter, ConvergenceWarning)\n",
            "/usr/local/lib/python3.7/dist-packages/sklearn/svm/_base.py:231: ConvergenceWarning: Solver terminated early (max_iter=500).  Consider pre-processing your data with StandardScaler or MinMaxScaler.\n",
            "  % self.max_iter, ConvergenceWarning)\n",
            "/usr/local/lib/python3.7/dist-packages/sklearn/svm/_base.py:231: ConvergenceWarning: Solver terminated early (max_iter=500).  Consider pre-processing your data with StandardScaler or MinMaxScaler.\n",
            "  % self.max_iter, ConvergenceWarning)\n",
            "/usr/local/lib/python3.7/dist-packages/sklearn/svm/_base.py:231: ConvergenceWarning: Solver terminated early (max_iter=500).  Consider pre-processing your data with StandardScaler or MinMaxScaler.\n",
            "  % self.max_iter, ConvergenceWarning)\n",
            "/usr/local/lib/python3.7/dist-packages/sklearn/svm/_base.py:231: ConvergenceWarning: Solver terminated early (max_iter=500).  Consider pre-processing your data with StandardScaler or MinMaxScaler.\n",
            "  % self.max_iter, ConvergenceWarning)\n",
            "/usr/local/lib/python3.7/dist-packages/sklearn/svm/_base.py:231: ConvergenceWarning: Solver terminated early (max_iter=500).  Consider pre-processing your data with StandardScaler or MinMaxScaler.\n",
            "  % self.max_iter, ConvergenceWarning)\n",
            "/usr/local/lib/python3.7/dist-packages/sklearn/svm/_base.py:231: ConvergenceWarning: Solver terminated early (max_iter=500).  Consider pre-processing your data with StandardScaler or MinMaxScaler.\n",
            "  % self.max_iter, ConvergenceWarning)\n",
            "/usr/local/lib/python3.7/dist-packages/sklearn/svm/_base.py:231: ConvergenceWarning: Solver terminated early (max_iter=500).  Consider pre-processing your data with StandardScaler or MinMaxScaler.\n",
            "  % self.max_iter, ConvergenceWarning)\n",
            "/usr/local/lib/python3.7/dist-packages/sklearn/svm/_base.py:231: ConvergenceWarning: Solver terminated early (max_iter=500).  Consider pre-processing your data with StandardScaler or MinMaxScaler.\n",
            "  % self.max_iter, ConvergenceWarning)\n",
            "/usr/local/lib/python3.7/dist-packages/sklearn/svm/_base.py:231: ConvergenceWarning: Solver terminated early (max_iter=500).  Consider pre-processing your data with StandardScaler or MinMaxScaler.\n",
            "  % self.max_iter, ConvergenceWarning)\n",
            "/usr/local/lib/python3.7/dist-packages/sklearn/svm/_base.py:231: ConvergenceWarning: Solver terminated early (max_iter=500).  Consider pre-processing your data with StandardScaler or MinMaxScaler.\n",
            "  % self.max_iter, ConvergenceWarning)\n",
            "/usr/local/lib/python3.7/dist-packages/sklearn/svm/_base.py:231: ConvergenceWarning: Solver terminated early (max_iter=500).  Consider pre-processing your data with StandardScaler or MinMaxScaler.\n",
            "  % self.max_iter, ConvergenceWarning)\n",
            "/usr/local/lib/python3.7/dist-packages/sklearn/svm/_base.py:231: ConvergenceWarning: Solver terminated early (max_iter=500).  Consider pre-processing your data with StandardScaler or MinMaxScaler.\n",
            "  % self.max_iter, ConvergenceWarning)\n",
            "/usr/local/lib/python3.7/dist-packages/sklearn/svm/_base.py:231: ConvergenceWarning: Solver terminated early (max_iter=500).  Consider pre-processing your data with StandardScaler or MinMaxScaler.\n",
            "  % self.max_iter, ConvergenceWarning)\n",
            "/usr/local/lib/python3.7/dist-packages/sklearn/svm/_base.py:231: ConvergenceWarning: Solver terminated early (max_iter=500).  Consider pre-processing your data with StandardScaler or MinMaxScaler.\n",
            "  % self.max_iter, ConvergenceWarning)\n",
            "/usr/local/lib/python3.7/dist-packages/sklearn/svm/_base.py:231: ConvergenceWarning: Solver terminated early (max_iter=500).  Consider pre-processing your data with StandardScaler or MinMaxScaler.\n",
            "  % self.max_iter, ConvergenceWarning)\n",
            "/usr/local/lib/python3.7/dist-packages/sklearn/svm/_base.py:231: ConvergenceWarning: Solver terminated early (max_iter=500).  Consider pre-processing your data with StandardScaler or MinMaxScaler.\n",
            "  % self.max_iter, ConvergenceWarning)\n",
            "/usr/local/lib/python3.7/dist-packages/sklearn/svm/_base.py:231: ConvergenceWarning: Solver terminated early (max_iter=500).  Consider pre-processing your data with StandardScaler or MinMaxScaler.\n",
            "  % self.max_iter, ConvergenceWarning)\n",
            "/usr/local/lib/python3.7/dist-packages/sklearn/svm/_base.py:231: ConvergenceWarning: Solver terminated early (max_iter=500).  Consider pre-processing your data with StandardScaler or MinMaxScaler.\n",
            "  % self.max_iter, ConvergenceWarning)\n",
            "/usr/local/lib/python3.7/dist-packages/sklearn/svm/_base.py:231: ConvergenceWarning: Solver terminated early (max_iter=500).  Consider pre-processing your data with StandardScaler or MinMaxScaler.\n",
            "  % self.max_iter, ConvergenceWarning)\n",
            "/usr/local/lib/python3.7/dist-packages/sklearn/svm/_base.py:231: ConvergenceWarning: Solver terminated early (max_iter=500).  Consider pre-processing your data with StandardScaler or MinMaxScaler.\n",
            "  % self.max_iter, ConvergenceWarning)\n",
            "/usr/local/lib/python3.7/dist-packages/sklearn/svm/_base.py:231: ConvergenceWarning: Solver terminated early (max_iter=500).  Consider pre-processing your data with StandardScaler or MinMaxScaler.\n",
            "  % self.max_iter, ConvergenceWarning)\n",
            "/usr/local/lib/python3.7/dist-packages/sklearn/svm/_base.py:231: ConvergenceWarning: Solver terminated early (max_iter=500).  Consider pre-processing your data with StandardScaler or MinMaxScaler.\n",
            "  % self.max_iter, ConvergenceWarning)\n",
            "/usr/local/lib/python3.7/dist-packages/sklearn/svm/_base.py:231: ConvergenceWarning: Solver terminated early (max_iter=500).  Consider pre-processing your data with StandardScaler or MinMaxScaler.\n",
            "  % self.max_iter, ConvergenceWarning)\n",
            "/usr/local/lib/python3.7/dist-packages/sklearn/svm/_base.py:231: ConvergenceWarning: Solver terminated early (max_iter=500).  Consider pre-processing your data with StandardScaler or MinMaxScaler.\n",
            "  % self.max_iter, ConvergenceWarning)\n",
            "/usr/local/lib/python3.7/dist-packages/sklearn/svm/_base.py:231: ConvergenceWarning: Solver terminated early (max_iter=500).  Consider pre-processing your data with StandardScaler or MinMaxScaler.\n",
            "  % self.max_iter, ConvergenceWarning)\n",
            "/usr/local/lib/python3.7/dist-packages/sklearn/svm/_base.py:231: ConvergenceWarning: Solver terminated early (max_iter=500).  Consider pre-processing your data with StandardScaler or MinMaxScaler.\n",
            "  % self.max_iter, ConvergenceWarning)\n",
            "/usr/local/lib/python3.7/dist-packages/sklearn/svm/_base.py:231: ConvergenceWarning: Solver terminated early (max_iter=500).  Consider pre-processing your data with StandardScaler or MinMaxScaler.\n",
            "  % self.max_iter, ConvergenceWarning)\n",
            "/usr/local/lib/python3.7/dist-packages/sklearn/svm/_base.py:231: ConvergenceWarning: Solver terminated early (max_iter=500).  Consider pre-processing your data with StandardScaler or MinMaxScaler.\n",
            "  % self.max_iter, ConvergenceWarning)\n",
            "/usr/local/lib/python3.7/dist-packages/sklearn/svm/_base.py:231: ConvergenceWarning: Solver terminated early (max_iter=500).  Consider pre-processing your data with StandardScaler or MinMaxScaler.\n",
            "  % self.max_iter, ConvergenceWarning)\n",
            "/usr/local/lib/python3.7/dist-packages/sklearn/svm/_base.py:231: ConvergenceWarning: Solver terminated early (max_iter=500).  Consider pre-processing your data with StandardScaler or MinMaxScaler.\n",
            "  % self.max_iter, ConvergenceWarning)\n",
            "/usr/local/lib/python3.7/dist-packages/sklearn/svm/_base.py:231: ConvergenceWarning: Solver terminated early (max_iter=500).  Consider pre-processing your data with StandardScaler or MinMaxScaler.\n",
            "  % self.max_iter, ConvergenceWarning)\n",
            "/usr/local/lib/python3.7/dist-packages/sklearn/svm/_base.py:231: ConvergenceWarning: Solver terminated early (max_iter=500).  Consider pre-processing your data with StandardScaler or MinMaxScaler.\n",
            "  % self.max_iter, ConvergenceWarning)\n",
            "/usr/local/lib/python3.7/dist-packages/sklearn/svm/_base.py:231: ConvergenceWarning: Solver terminated early (max_iter=500).  Consider pre-processing your data with StandardScaler or MinMaxScaler.\n",
            "  % self.max_iter, ConvergenceWarning)\n",
            "/usr/local/lib/python3.7/dist-packages/sklearn/svm/_base.py:231: ConvergenceWarning: Solver terminated early (max_iter=500).  Consider pre-processing your data with StandardScaler or MinMaxScaler.\n",
            "  % self.max_iter, ConvergenceWarning)\n",
            "/usr/local/lib/python3.7/dist-packages/sklearn/svm/_base.py:231: ConvergenceWarning: Solver terminated early (max_iter=500).  Consider pre-processing your data with StandardScaler or MinMaxScaler.\n",
            "  % self.max_iter, ConvergenceWarning)\n",
            "/usr/local/lib/python3.7/dist-packages/sklearn/svm/_base.py:231: ConvergenceWarning: Solver terminated early (max_iter=500).  Consider pre-processing your data with StandardScaler or MinMaxScaler.\n",
            "  % self.max_iter, ConvergenceWarning)\n",
            "/usr/local/lib/python3.7/dist-packages/sklearn/svm/_base.py:231: ConvergenceWarning: Solver terminated early (max_iter=500).  Consider pre-processing your data with StandardScaler or MinMaxScaler.\n",
            "  % self.max_iter, ConvergenceWarning)\n",
            "/usr/local/lib/python3.7/dist-packages/sklearn/svm/_base.py:231: ConvergenceWarning: Solver terminated early (max_iter=500).  Consider pre-processing your data with StandardScaler or MinMaxScaler.\n",
            "  % self.max_iter, ConvergenceWarning)\n",
            "/usr/local/lib/python3.7/dist-packages/sklearn/svm/_base.py:231: ConvergenceWarning: Solver terminated early (max_iter=500).  Consider pre-processing your data with StandardScaler or MinMaxScaler.\n",
            "  % self.max_iter, ConvergenceWarning)\n",
            "/usr/local/lib/python3.7/dist-packages/sklearn/svm/_base.py:231: ConvergenceWarning: Solver terminated early (max_iter=500).  Consider pre-processing your data with StandardScaler or MinMaxScaler.\n",
            "  % self.max_iter, ConvergenceWarning)\n",
            "/usr/local/lib/python3.7/dist-packages/sklearn/svm/_base.py:231: ConvergenceWarning: Solver terminated early (max_iter=500).  Consider pre-processing your data with StandardScaler or MinMaxScaler.\n",
            "  % self.max_iter, ConvergenceWarning)\n",
            "/usr/local/lib/python3.7/dist-packages/sklearn/svm/_base.py:231: ConvergenceWarning: Solver terminated early (max_iter=500).  Consider pre-processing your data with StandardScaler or MinMaxScaler.\n",
            "  % self.max_iter, ConvergenceWarning)\n",
            "/usr/local/lib/python3.7/dist-packages/sklearn/svm/_base.py:231: ConvergenceWarning: Solver terminated early (max_iter=500).  Consider pre-processing your data with StandardScaler or MinMaxScaler.\n",
            "  % self.max_iter, ConvergenceWarning)\n",
            "/usr/local/lib/python3.7/dist-packages/sklearn/svm/_base.py:231: ConvergenceWarning: Solver terminated early (max_iter=500).  Consider pre-processing your data with StandardScaler or MinMaxScaler.\n",
            "  % self.max_iter, ConvergenceWarning)\n",
            "/usr/local/lib/python3.7/dist-packages/sklearn/svm/_base.py:231: ConvergenceWarning: Solver terminated early (max_iter=500).  Consider pre-processing your data with StandardScaler or MinMaxScaler.\n",
            "  % self.max_iter, ConvergenceWarning)\n",
            "/usr/local/lib/python3.7/dist-packages/sklearn/svm/_base.py:231: ConvergenceWarning: Solver terminated early (max_iter=500).  Consider pre-processing your data with StandardScaler or MinMaxScaler.\n",
            "  % self.max_iter, ConvergenceWarning)\n",
            "/usr/local/lib/python3.7/dist-packages/sklearn/svm/_base.py:231: ConvergenceWarning: Solver terminated early (max_iter=500).  Consider pre-processing your data with StandardScaler or MinMaxScaler.\n",
            "  % self.max_iter, ConvergenceWarning)\n",
            "/usr/local/lib/python3.7/dist-packages/sklearn/svm/_base.py:231: ConvergenceWarning: Solver terminated early (max_iter=500).  Consider pre-processing your data with StandardScaler or MinMaxScaler.\n",
            "  % self.max_iter, ConvergenceWarning)\n",
            "/usr/local/lib/python3.7/dist-packages/sklearn/svm/_base.py:231: ConvergenceWarning: Solver terminated early (max_iter=500).  Consider pre-processing your data with StandardScaler or MinMaxScaler.\n",
            "  % self.max_iter, ConvergenceWarning)\n",
            "/usr/local/lib/python3.7/dist-packages/sklearn/svm/_base.py:231: ConvergenceWarning: Solver terminated early (max_iter=500).  Consider pre-processing your data with StandardScaler or MinMaxScaler.\n",
            "  % self.max_iter, ConvergenceWarning)\n",
            "/usr/local/lib/python3.7/dist-packages/sklearn/svm/_base.py:231: ConvergenceWarning: Solver terminated early (max_iter=500).  Consider pre-processing your data with StandardScaler or MinMaxScaler.\n",
            "  % self.max_iter, ConvergenceWarning)\n",
            "/usr/local/lib/python3.7/dist-packages/sklearn/svm/_base.py:231: ConvergenceWarning: Solver terminated early (max_iter=500).  Consider pre-processing your data with StandardScaler or MinMaxScaler.\n",
            "  % self.max_iter, ConvergenceWarning)\n",
            "/usr/local/lib/python3.7/dist-packages/sklearn/svm/_base.py:231: ConvergenceWarning: Solver terminated early (max_iter=500).  Consider pre-processing your data with StandardScaler or MinMaxScaler.\n",
            "  % self.max_iter, ConvergenceWarning)\n",
            "/usr/local/lib/python3.7/dist-packages/sklearn/svm/_base.py:231: ConvergenceWarning: Solver terminated early (max_iter=500).  Consider pre-processing your data with StandardScaler or MinMaxScaler.\n",
            "  % self.max_iter, ConvergenceWarning)\n",
            "/usr/local/lib/python3.7/dist-packages/sklearn/svm/_base.py:231: ConvergenceWarning: Solver terminated early (max_iter=500).  Consider pre-processing your data with StandardScaler or MinMaxScaler.\n",
            "  % self.max_iter, ConvergenceWarning)\n",
            "/usr/local/lib/python3.7/dist-packages/sklearn/svm/_base.py:231: ConvergenceWarning: Solver terminated early (max_iter=500).  Consider pre-processing your data with StandardScaler or MinMaxScaler.\n",
            "  % self.max_iter, ConvergenceWarning)\n",
            "/usr/local/lib/python3.7/dist-packages/sklearn/svm/_base.py:231: ConvergenceWarning: Solver terminated early (max_iter=500).  Consider pre-processing your data with StandardScaler or MinMaxScaler.\n",
            "  % self.max_iter, ConvergenceWarning)\n",
            "/usr/local/lib/python3.7/dist-packages/sklearn/svm/_base.py:231: ConvergenceWarning: Solver terminated early (max_iter=500).  Consider pre-processing your data with StandardScaler or MinMaxScaler.\n",
            "  % self.max_iter, ConvergenceWarning)\n",
            "/usr/local/lib/python3.7/dist-packages/sklearn/svm/_base.py:231: ConvergenceWarning: Solver terminated early (max_iter=500).  Consider pre-processing your data with StandardScaler or MinMaxScaler.\n",
            "  % self.max_iter, ConvergenceWarning)\n",
            "/usr/local/lib/python3.7/dist-packages/sklearn/svm/_base.py:231: ConvergenceWarning: Solver terminated early (max_iter=500).  Consider pre-processing your data with StandardScaler or MinMaxScaler.\n",
            "  % self.max_iter, ConvergenceWarning)\n",
            "/usr/local/lib/python3.7/dist-packages/sklearn/svm/_base.py:231: ConvergenceWarning: Solver terminated early (max_iter=500).  Consider pre-processing your data with StandardScaler or MinMaxScaler.\n",
            "  % self.max_iter, ConvergenceWarning)\n",
            "/usr/local/lib/python3.7/dist-packages/sklearn/svm/_base.py:231: ConvergenceWarning: Solver terminated early (max_iter=500).  Consider pre-processing your data with StandardScaler or MinMaxScaler.\n",
            "  % self.max_iter, ConvergenceWarning)\n",
            "/usr/local/lib/python3.7/dist-packages/sklearn/svm/_base.py:231: ConvergenceWarning: Solver terminated early (max_iter=500).  Consider pre-processing your data with StandardScaler or MinMaxScaler.\n",
            "  % self.max_iter, ConvergenceWarning)\n",
            "/usr/local/lib/python3.7/dist-packages/sklearn/svm/_base.py:231: ConvergenceWarning: Solver terminated early (max_iter=500).  Consider pre-processing your data with StandardScaler or MinMaxScaler.\n",
            "  % self.max_iter, ConvergenceWarning)\n",
            "/usr/local/lib/python3.7/dist-packages/sklearn/svm/_base.py:231: ConvergenceWarning: Solver terminated early (max_iter=500).  Consider pre-processing your data with StandardScaler or MinMaxScaler.\n",
            "  % self.max_iter, ConvergenceWarning)\n",
            "/usr/local/lib/python3.7/dist-packages/sklearn/svm/_base.py:231: ConvergenceWarning: Solver terminated early (max_iter=500).  Consider pre-processing your data with StandardScaler or MinMaxScaler.\n",
            "  % self.max_iter, ConvergenceWarning)\n",
            "/usr/local/lib/python3.7/dist-packages/sklearn/svm/_base.py:231: ConvergenceWarning: Solver terminated early (max_iter=500).  Consider pre-processing your data with StandardScaler or MinMaxScaler.\n",
            "  % self.max_iter, ConvergenceWarning)\n",
            "/usr/local/lib/python3.7/dist-packages/sklearn/svm/_base.py:231: ConvergenceWarning: Solver terminated early (max_iter=500).  Consider pre-processing your data with StandardScaler or MinMaxScaler.\n",
            "  % self.max_iter, ConvergenceWarning)\n",
            "/usr/local/lib/python3.7/dist-packages/sklearn/svm/_base.py:231: ConvergenceWarning: Solver terminated early (max_iter=500).  Consider pre-processing your data with StandardScaler or MinMaxScaler.\n",
            "  % self.max_iter, ConvergenceWarning)\n",
            "/usr/local/lib/python3.7/dist-packages/sklearn/svm/_base.py:231: ConvergenceWarning: Solver terminated early (max_iter=500).  Consider pre-processing your data with StandardScaler or MinMaxScaler.\n",
            "  % self.max_iter, ConvergenceWarning)\n",
            "/usr/local/lib/python3.7/dist-packages/sklearn/svm/_base.py:231: ConvergenceWarning: Solver terminated early (max_iter=500).  Consider pre-processing your data with StandardScaler or MinMaxScaler.\n",
            "  % self.max_iter, ConvergenceWarning)\n",
            "/usr/local/lib/python3.7/dist-packages/sklearn/svm/_base.py:231: ConvergenceWarning: Solver terminated early (max_iter=500).  Consider pre-processing your data with StandardScaler or MinMaxScaler.\n",
            "  % self.max_iter, ConvergenceWarning)\n",
            "/usr/local/lib/python3.7/dist-packages/sklearn/svm/_base.py:231: ConvergenceWarning: Solver terminated early (max_iter=500).  Consider pre-processing your data with StandardScaler or MinMaxScaler.\n",
            "  % self.max_iter, ConvergenceWarning)\n",
            "/usr/local/lib/python3.7/dist-packages/sklearn/svm/_base.py:231: ConvergenceWarning: Solver terminated early (max_iter=500).  Consider pre-processing your data with StandardScaler or MinMaxScaler.\n",
            "  % self.max_iter, ConvergenceWarning)\n",
            "/usr/local/lib/python3.7/dist-packages/sklearn/svm/_base.py:231: ConvergenceWarning: Solver terminated early (max_iter=500).  Consider pre-processing your data with StandardScaler or MinMaxScaler.\n",
            "  % self.max_iter, ConvergenceWarning)\n",
            "/usr/local/lib/python3.7/dist-packages/sklearn/svm/_base.py:231: ConvergenceWarning: Solver terminated early (max_iter=500).  Consider pre-processing your data with StandardScaler or MinMaxScaler.\n",
            "  % self.max_iter, ConvergenceWarning)\n",
            "/usr/local/lib/python3.7/dist-packages/sklearn/svm/_base.py:231: ConvergenceWarning: Solver terminated early (max_iter=500).  Consider pre-processing your data with StandardScaler or MinMaxScaler.\n",
            "  % self.max_iter, ConvergenceWarning)\n",
            "/usr/local/lib/python3.7/dist-packages/sklearn/svm/_base.py:231: ConvergenceWarning: Solver terminated early (max_iter=500).  Consider pre-processing your data with StandardScaler or MinMaxScaler.\n",
            "  % self.max_iter, ConvergenceWarning)\n",
            "/usr/local/lib/python3.7/dist-packages/sklearn/svm/_base.py:231: ConvergenceWarning: Solver terminated early (max_iter=500).  Consider pre-processing your data with StandardScaler or MinMaxScaler.\n",
            "  % self.max_iter, ConvergenceWarning)\n",
            "/usr/local/lib/python3.7/dist-packages/sklearn/svm/_base.py:231: ConvergenceWarning: Solver terminated early (max_iter=500).  Consider pre-processing your data with StandardScaler or MinMaxScaler.\n",
            "  % self.max_iter, ConvergenceWarning)\n",
            "/usr/local/lib/python3.7/dist-packages/sklearn/svm/_base.py:231: ConvergenceWarning: Solver terminated early (max_iter=500).  Consider pre-processing your data with StandardScaler or MinMaxScaler.\n",
            "  % self.max_iter, ConvergenceWarning)\n",
            "/usr/local/lib/python3.7/dist-packages/sklearn/svm/_base.py:231: ConvergenceWarning: Solver terminated early (max_iter=500).  Consider pre-processing your data with StandardScaler or MinMaxScaler.\n",
            "  % self.max_iter, ConvergenceWarning)\n",
            "/usr/local/lib/python3.7/dist-packages/sklearn/svm/_base.py:231: ConvergenceWarning: Solver terminated early (max_iter=500).  Consider pre-processing your data with StandardScaler or MinMaxScaler.\n",
            "  % self.max_iter, ConvergenceWarning)\n",
            "/usr/local/lib/python3.7/dist-packages/sklearn/svm/_base.py:231: ConvergenceWarning: Solver terminated early (max_iter=500).  Consider pre-processing your data with StandardScaler or MinMaxScaler.\n",
            "  % self.max_iter, ConvergenceWarning)\n",
            "/usr/local/lib/python3.7/dist-packages/sklearn/svm/_base.py:231: ConvergenceWarning: Solver terminated early (max_iter=500).  Consider pre-processing your data with StandardScaler or MinMaxScaler.\n",
            "  % self.max_iter, ConvergenceWarning)\n",
            "/usr/local/lib/python3.7/dist-packages/sklearn/svm/_base.py:231: ConvergenceWarning: Solver terminated early (max_iter=500).  Consider pre-processing your data with StandardScaler or MinMaxScaler.\n",
            "  % self.max_iter, ConvergenceWarning)\n",
            "/usr/local/lib/python3.7/dist-packages/sklearn/svm/_base.py:231: ConvergenceWarning: Solver terminated early (max_iter=500).  Consider pre-processing your data with StandardScaler or MinMaxScaler.\n",
            "  % self.max_iter, ConvergenceWarning)\n",
            "/usr/local/lib/python3.7/dist-packages/sklearn/svm/_base.py:231: ConvergenceWarning: Solver terminated early (max_iter=500).  Consider pre-processing your data with StandardScaler or MinMaxScaler.\n",
            "  % self.max_iter, ConvergenceWarning)\n",
            "/usr/local/lib/python3.7/dist-packages/sklearn/svm/_base.py:231: ConvergenceWarning: Solver terminated early (max_iter=500).  Consider pre-processing your data with StandardScaler or MinMaxScaler.\n",
            "  % self.max_iter, ConvergenceWarning)\n",
            "/usr/local/lib/python3.7/dist-packages/sklearn/svm/_base.py:231: ConvergenceWarning: Solver terminated early (max_iter=500).  Consider pre-processing your data with StandardScaler or MinMaxScaler.\n",
            "  % self.max_iter, ConvergenceWarning)\n",
            "/usr/local/lib/python3.7/dist-packages/sklearn/svm/_base.py:231: ConvergenceWarning: Solver terminated early (max_iter=500).  Consider pre-processing your data with StandardScaler or MinMaxScaler.\n",
            "  % self.max_iter, ConvergenceWarning)\n",
            "/usr/local/lib/python3.7/dist-packages/sklearn/svm/_base.py:231: ConvergenceWarning: Solver terminated early (max_iter=500).  Consider pre-processing your data with StandardScaler or MinMaxScaler.\n",
            "  % self.max_iter, ConvergenceWarning)\n",
            "/usr/local/lib/python3.7/dist-packages/sklearn/svm/_base.py:231: ConvergenceWarning: Solver terminated early (max_iter=500).  Consider pre-processing your data with StandardScaler or MinMaxScaler.\n",
            "  % self.max_iter, ConvergenceWarning)\n",
            "/usr/local/lib/python3.7/dist-packages/sklearn/svm/_base.py:231: ConvergenceWarning: Solver terminated early (max_iter=500).  Consider pre-processing your data with StandardScaler or MinMaxScaler.\n",
            "  % self.max_iter, ConvergenceWarning)\n",
            "/usr/local/lib/python3.7/dist-packages/sklearn/svm/_base.py:231: ConvergenceWarning: Solver terminated early (max_iter=500).  Consider pre-processing your data with StandardScaler or MinMaxScaler.\n",
            "  % self.max_iter, ConvergenceWarning)\n",
            "/usr/local/lib/python3.7/dist-packages/sklearn/svm/_base.py:231: ConvergenceWarning: Solver terminated early (max_iter=500).  Consider pre-processing your data with StandardScaler or MinMaxScaler.\n",
            "  % self.max_iter, ConvergenceWarning)\n",
            "/usr/local/lib/python3.7/dist-packages/sklearn/svm/_base.py:231: ConvergenceWarning: Solver terminated early (max_iter=500).  Consider pre-processing your data with StandardScaler or MinMaxScaler.\n",
            "  % self.max_iter, ConvergenceWarning)\n",
            "/usr/local/lib/python3.7/dist-packages/sklearn/svm/_base.py:231: ConvergenceWarning: Solver terminated early (max_iter=500).  Consider pre-processing your data with StandardScaler or MinMaxScaler.\n",
            "  % self.max_iter, ConvergenceWarning)\n",
            "/usr/local/lib/python3.7/dist-packages/sklearn/svm/_base.py:231: ConvergenceWarning: Solver terminated early (max_iter=500).  Consider pre-processing your data with StandardScaler or MinMaxScaler.\n",
            "  % self.max_iter, ConvergenceWarning)\n",
            "/usr/local/lib/python3.7/dist-packages/sklearn/svm/_base.py:231: ConvergenceWarning: Solver terminated early (max_iter=500).  Consider pre-processing your data with StandardScaler or MinMaxScaler.\n",
            "  % self.max_iter, ConvergenceWarning)\n",
            "/usr/local/lib/python3.7/dist-packages/sklearn/svm/_base.py:231: ConvergenceWarning: Solver terminated early (max_iter=500).  Consider pre-processing your data with StandardScaler or MinMaxScaler.\n",
            "  % self.max_iter, ConvergenceWarning)\n",
            "/usr/local/lib/python3.7/dist-packages/sklearn/svm/_base.py:231: ConvergenceWarning: Solver terminated early (max_iter=500).  Consider pre-processing your data with StandardScaler or MinMaxScaler.\n",
            "  % self.max_iter, ConvergenceWarning)\n",
            "/usr/local/lib/python3.7/dist-packages/sklearn/svm/_base.py:231: ConvergenceWarning: Solver terminated early (max_iter=500).  Consider pre-processing your data with StandardScaler or MinMaxScaler.\n",
            "  % self.max_iter, ConvergenceWarning)\n",
            "/usr/local/lib/python3.7/dist-packages/sklearn/svm/_base.py:231: ConvergenceWarning: Solver terminated early (max_iter=500).  Consider pre-processing your data with StandardScaler or MinMaxScaler.\n",
            "  % self.max_iter, ConvergenceWarning)\n",
            "/usr/local/lib/python3.7/dist-packages/sklearn/svm/_base.py:231: ConvergenceWarning: Solver terminated early (max_iter=500).  Consider pre-processing your data with StandardScaler or MinMaxScaler.\n",
            "  % self.max_iter, ConvergenceWarning)\n",
            "/usr/local/lib/python3.7/dist-packages/sklearn/svm/_base.py:231: ConvergenceWarning: Solver terminated early (max_iter=500).  Consider pre-processing your data with StandardScaler or MinMaxScaler.\n",
            "  % self.max_iter, ConvergenceWarning)\n",
            "/usr/local/lib/python3.7/dist-packages/sklearn/svm/_base.py:231: ConvergenceWarning: Solver terminated early (max_iter=500).  Consider pre-processing your data with StandardScaler or MinMaxScaler.\n",
            "  % self.max_iter, ConvergenceWarning)\n",
            "/usr/local/lib/python3.7/dist-packages/sklearn/svm/_base.py:231: ConvergenceWarning: Solver terminated early (max_iter=500).  Consider pre-processing your data with StandardScaler or MinMaxScaler.\n",
            "  % self.max_iter, ConvergenceWarning)\n",
            "/usr/local/lib/python3.7/dist-packages/sklearn/svm/_base.py:231: ConvergenceWarning: Solver terminated early (max_iter=500).  Consider pre-processing your data with StandardScaler or MinMaxScaler.\n",
            "  % self.max_iter, ConvergenceWarning)\n",
            "/usr/local/lib/python3.7/dist-packages/sklearn/svm/_base.py:231: ConvergenceWarning: Solver terminated early (max_iter=500).  Consider pre-processing your data with StandardScaler or MinMaxScaler.\n",
            "  % self.max_iter, ConvergenceWarning)\n",
            "/usr/local/lib/python3.7/dist-packages/sklearn/svm/_base.py:231: ConvergenceWarning: Solver terminated early (max_iter=500).  Consider pre-processing your data with StandardScaler or MinMaxScaler.\n",
            "  % self.max_iter, ConvergenceWarning)\n",
            "/usr/local/lib/python3.7/dist-packages/sklearn/svm/_base.py:231: ConvergenceWarning: Solver terminated early (max_iter=500).  Consider pre-processing your data with StandardScaler or MinMaxScaler.\n",
            "  % self.max_iter, ConvergenceWarning)\n",
            "/usr/local/lib/python3.7/dist-packages/sklearn/svm/_base.py:231: ConvergenceWarning: Solver terminated early (max_iter=500).  Consider pre-processing your data with StandardScaler or MinMaxScaler.\n",
            "  % self.max_iter, ConvergenceWarning)\n",
            "/usr/local/lib/python3.7/dist-packages/sklearn/svm/_base.py:231: ConvergenceWarning: Solver terminated early (max_iter=500).  Consider pre-processing your data with StandardScaler or MinMaxScaler.\n",
            "  % self.max_iter, ConvergenceWarning)\n",
            "/usr/local/lib/python3.7/dist-packages/sklearn/svm/_base.py:231: ConvergenceWarning: Solver terminated early (max_iter=500).  Consider pre-processing your data with StandardScaler or MinMaxScaler.\n",
            "  % self.max_iter, ConvergenceWarning)\n",
            "/usr/local/lib/python3.7/dist-packages/sklearn/svm/_base.py:231: ConvergenceWarning: Solver terminated early (max_iter=500).  Consider pre-processing your data with StandardScaler or MinMaxScaler.\n",
            "  % self.max_iter, ConvergenceWarning)\n",
            "/usr/local/lib/python3.7/dist-packages/sklearn/svm/_base.py:231: ConvergenceWarning: Solver terminated early (max_iter=500).  Consider pre-processing your data with StandardScaler or MinMaxScaler.\n",
            "  % self.max_iter, ConvergenceWarning)\n",
            "/usr/local/lib/python3.7/dist-packages/sklearn/svm/_base.py:231: ConvergenceWarning: Solver terminated early (max_iter=500).  Consider pre-processing your data with StandardScaler or MinMaxScaler.\n",
            "  % self.max_iter, ConvergenceWarning)\n",
            "/usr/local/lib/python3.7/dist-packages/sklearn/svm/_base.py:231: ConvergenceWarning: Solver terminated early (max_iter=500).  Consider pre-processing your data with StandardScaler or MinMaxScaler.\n",
            "  % self.max_iter, ConvergenceWarning)\n",
            "/usr/local/lib/python3.7/dist-packages/sklearn/svm/_base.py:231: ConvergenceWarning: Solver terminated early (max_iter=500).  Consider pre-processing your data with StandardScaler or MinMaxScaler.\n",
            "  % self.max_iter, ConvergenceWarning)\n",
            "/usr/local/lib/python3.7/dist-packages/sklearn/svm/_base.py:231: ConvergenceWarning: Solver terminated early (max_iter=500).  Consider pre-processing your data with StandardScaler or MinMaxScaler.\n",
            "  % self.max_iter, ConvergenceWarning)\n",
            "/usr/local/lib/python3.7/dist-packages/sklearn/svm/_base.py:231: ConvergenceWarning: Solver terminated early (max_iter=500).  Consider pre-processing your data with StandardScaler or MinMaxScaler.\n",
            "  % self.max_iter, ConvergenceWarning)\n",
            "/usr/local/lib/python3.7/dist-packages/sklearn/svm/_base.py:231: ConvergenceWarning: Solver terminated early (max_iter=500).  Consider pre-processing your data with StandardScaler or MinMaxScaler.\n",
            "  % self.max_iter, ConvergenceWarning)\n",
            "/usr/local/lib/python3.7/dist-packages/sklearn/svm/_base.py:231: ConvergenceWarning: Solver terminated early (max_iter=500).  Consider pre-processing your data with StandardScaler or MinMaxScaler.\n",
            "  % self.max_iter, ConvergenceWarning)\n",
            "/usr/local/lib/python3.7/dist-packages/sklearn/svm/_base.py:231: ConvergenceWarning: Solver terminated early (max_iter=500).  Consider pre-processing your data with StandardScaler or MinMaxScaler.\n",
            "  % self.max_iter, ConvergenceWarning)\n",
            "/usr/local/lib/python3.7/dist-packages/sklearn/svm/_base.py:231: ConvergenceWarning: Solver terminated early (max_iter=500).  Consider pre-processing your data with StandardScaler or MinMaxScaler.\n",
            "  % self.max_iter, ConvergenceWarning)\n",
            "/usr/local/lib/python3.7/dist-packages/sklearn/svm/_base.py:231: ConvergenceWarning: Solver terminated early (max_iter=500).  Consider pre-processing your data with StandardScaler or MinMaxScaler.\n",
            "  % self.max_iter, ConvergenceWarning)\n",
            "/usr/local/lib/python3.7/dist-packages/sklearn/svm/_base.py:231: ConvergenceWarning: Solver terminated early (max_iter=500).  Consider pre-processing your data with StandardScaler or MinMaxScaler.\n",
            "  % self.max_iter, ConvergenceWarning)\n",
            "/usr/local/lib/python3.7/dist-packages/sklearn/svm/_base.py:231: ConvergenceWarning: Solver terminated early (max_iter=500).  Consider pre-processing your data with StandardScaler or MinMaxScaler.\n",
            "  % self.max_iter, ConvergenceWarning)\n",
            "/usr/local/lib/python3.7/dist-packages/sklearn/svm/_base.py:231: ConvergenceWarning: Solver terminated early (max_iter=500).  Consider pre-processing your data with StandardScaler or MinMaxScaler.\n",
            "  % self.max_iter, ConvergenceWarning)\n",
            "/usr/local/lib/python3.7/dist-packages/sklearn/svm/_base.py:231: ConvergenceWarning: Solver terminated early (max_iter=500).  Consider pre-processing your data with StandardScaler or MinMaxScaler.\n",
            "  % self.max_iter, ConvergenceWarning)\n",
            "/usr/local/lib/python3.7/dist-packages/sklearn/svm/_base.py:231: ConvergenceWarning: Solver terminated early (max_iter=500).  Consider pre-processing your data with StandardScaler or MinMaxScaler.\n",
            "  % self.max_iter, ConvergenceWarning)\n",
            "/usr/local/lib/python3.7/dist-packages/sklearn/svm/_base.py:231: ConvergenceWarning: Solver terminated early (max_iter=500).  Consider pre-processing your data with StandardScaler or MinMaxScaler.\n",
            "  % self.max_iter, ConvergenceWarning)\n",
            "/usr/local/lib/python3.7/dist-packages/sklearn/svm/_base.py:231: ConvergenceWarning: Solver terminated early (max_iter=500).  Consider pre-processing your data with StandardScaler or MinMaxScaler.\n",
            "  % self.max_iter, ConvergenceWarning)\n",
            "/usr/local/lib/python3.7/dist-packages/sklearn/svm/_base.py:231: ConvergenceWarning: Solver terminated early (max_iter=500).  Consider pre-processing your data with StandardScaler or MinMaxScaler.\n",
            "  % self.max_iter, ConvergenceWarning)\n",
            "/usr/local/lib/python3.7/dist-packages/sklearn/svm/_base.py:231: ConvergenceWarning: Solver terminated early (max_iter=500).  Consider pre-processing your data with StandardScaler or MinMaxScaler.\n",
            "  % self.max_iter, ConvergenceWarning)\n",
            "/usr/local/lib/python3.7/dist-packages/sklearn/svm/_base.py:231: ConvergenceWarning: Solver terminated early (max_iter=500).  Consider pre-processing your data with StandardScaler or MinMaxScaler.\n",
            "  % self.max_iter, ConvergenceWarning)\n",
            "/usr/local/lib/python3.7/dist-packages/sklearn/svm/_base.py:231: ConvergenceWarning: Solver terminated early (max_iter=500).  Consider pre-processing your data with StandardScaler or MinMaxScaler.\n",
            "  % self.max_iter, ConvergenceWarning)\n",
            "/usr/local/lib/python3.7/dist-packages/sklearn/svm/_base.py:231: ConvergenceWarning: Solver terminated early (max_iter=500).  Consider pre-processing your data with StandardScaler or MinMaxScaler.\n",
            "  % self.max_iter, ConvergenceWarning)\n",
            "/usr/local/lib/python3.7/dist-packages/sklearn/svm/_base.py:231: ConvergenceWarning: Solver terminated early (max_iter=500).  Consider pre-processing your data with StandardScaler or MinMaxScaler.\n",
            "  % self.max_iter, ConvergenceWarning)\n",
            "/usr/local/lib/python3.7/dist-packages/sklearn/svm/_base.py:231: ConvergenceWarning: Solver terminated early (max_iter=500).  Consider pre-processing your data with StandardScaler or MinMaxScaler.\n",
            "  % self.max_iter, ConvergenceWarning)\n",
            "/usr/local/lib/python3.7/dist-packages/sklearn/svm/_base.py:231: ConvergenceWarning: Solver terminated early (max_iter=500).  Consider pre-processing your data with StandardScaler or MinMaxScaler.\n",
            "  % self.max_iter, ConvergenceWarning)\n",
            "/usr/local/lib/python3.7/dist-packages/sklearn/svm/_base.py:231: ConvergenceWarning: Solver terminated early (max_iter=500).  Consider pre-processing your data with StandardScaler or MinMaxScaler.\n",
            "  % self.max_iter, ConvergenceWarning)\n",
            "/usr/local/lib/python3.7/dist-packages/sklearn/svm/_base.py:231: ConvergenceWarning: Solver terminated early (max_iter=500).  Consider pre-processing your data with StandardScaler or MinMaxScaler.\n",
            "  % self.max_iter, ConvergenceWarning)\n",
            "/usr/local/lib/python3.7/dist-packages/sklearn/svm/_base.py:231: ConvergenceWarning: Solver terminated early (max_iter=500).  Consider pre-processing your data with StandardScaler or MinMaxScaler.\n",
            "  % self.max_iter, ConvergenceWarning)\n",
            "/usr/local/lib/python3.7/dist-packages/sklearn/svm/_base.py:231: ConvergenceWarning: Solver terminated early (max_iter=500).  Consider pre-processing your data with StandardScaler or MinMaxScaler.\n",
            "  % self.max_iter, ConvergenceWarning)\n",
            "/usr/local/lib/python3.7/dist-packages/sklearn/svm/_base.py:231: ConvergenceWarning: Solver terminated early (max_iter=500).  Consider pre-processing your data with StandardScaler or MinMaxScaler.\n",
            "  % self.max_iter, ConvergenceWarning)\n",
            "/usr/local/lib/python3.7/dist-packages/sklearn/svm/_base.py:231: ConvergenceWarning: Solver terminated early (max_iter=500).  Consider pre-processing your data with StandardScaler or MinMaxScaler.\n",
            "  % self.max_iter, ConvergenceWarning)\n",
            "/usr/local/lib/python3.7/dist-packages/sklearn/svm/_base.py:231: ConvergenceWarning: Solver terminated early (max_iter=500).  Consider pre-processing your data with StandardScaler or MinMaxScaler.\n",
            "  % self.max_iter, ConvergenceWarning)\n",
            "/usr/local/lib/python3.7/dist-packages/sklearn/svm/_base.py:231: ConvergenceWarning: Solver terminated early (max_iter=500).  Consider pre-processing your data with StandardScaler or MinMaxScaler.\n",
            "  % self.max_iter, ConvergenceWarning)\n",
            "/usr/local/lib/python3.7/dist-packages/sklearn/svm/_base.py:231: ConvergenceWarning: Solver terminated early (max_iter=500).  Consider pre-processing your data with StandardScaler or MinMaxScaler.\n",
            "  % self.max_iter, ConvergenceWarning)\n",
            "/usr/local/lib/python3.7/dist-packages/sklearn/svm/_base.py:231: ConvergenceWarning: Solver terminated early (max_iter=500).  Consider pre-processing your data with StandardScaler or MinMaxScaler.\n",
            "  % self.max_iter, ConvergenceWarning)\n",
            "/usr/local/lib/python3.7/dist-packages/sklearn/svm/_base.py:231: ConvergenceWarning: Solver terminated early (max_iter=500).  Consider pre-processing your data with StandardScaler or MinMaxScaler.\n",
            "  % self.max_iter, ConvergenceWarning)\n",
            "/usr/local/lib/python3.7/dist-packages/sklearn/svm/_base.py:231: ConvergenceWarning: Solver terminated early (max_iter=500).  Consider pre-processing your data with StandardScaler or MinMaxScaler.\n",
            "  % self.max_iter, ConvergenceWarning)\n",
            "/usr/local/lib/python3.7/dist-packages/sklearn/svm/_base.py:231: ConvergenceWarning: Solver terminated early (max_iter=500).  Consider pre-processing your data with StandardScaler or MinMaxScaler.\n",
            "  % self.max_iter, ConvergenceWarning)\n",
            "/usr/local/lib/python3.7/dist-packages/sklearn/svm/_base.py:231: ConvergenceWarning: Solver terminated early (max_iter=500).  Consider pre-processing your data with StandardScaler or MinMaxScaler.\n",
            "  % self.max_iter, ConvergenceWarning)\n",
            "/usr/local/lib/python3.7/dist-packages/sklearn/svm/_base.py:231: ConvergenceWarning: Solver terminated early (max_iter=500).  Consider pre-processing your data with StandardScaler or MinMaxScaler.\n",
            "  % self.max_iter, ConvergenceWarning)\n",
            "/usr/local/lib/python3.7/dist-packages/sklearn/svm/_base.py:231: ConvergenceWarning: Solver terminated early (max_iter=500).  Consider pre-processing your data with StandardScaler or MinMaxScaler.\n",
            "  % self.max_iter, ConvergenceWarning)\n",
            "/usr/local/lib/python3.7/dist-packages/sklearn/svm/_base.py:231: ConvergenceWarning: Solver terminated early (max_iter=500).  Consider pre-processing your data with StandardScaler or MinMaxScaler.\n",
            "  % self.max_iter, ConvergenceWarning)\n",
            "/usr/local/lib/python3.7/dist-packages/sklearn/svm/_base.py:231: ConvergenceWarning: Solver terminated early (max_iter=500).  Consider pre-processing your data with StandardScaler or MinMaxScaler.\n",
            "  % self.max_iter, ConvergenceWarning)\n",
            "/usr/local/lib/python3.7/dist-packages/sklearn/svm/_base.py:231: ConvergenceWarning: Solver terminated early (max_iter=500).  Consider pre-processing your data with StandardScaler or MinMaxScaler.\n",
            "  % self.max_iter, ConvergenceWarning)\n",
            "/usr/local/lib/python3.7/dist-packages/sklearn/svm/_base.py:231: ConvergenceWarning: Solver terminated early (max_iter=500).  Consider pre-processing your data with StandardScaler or MinMaxScaler.\n",
            "  % self.max_iter, ConvergenceWarning)\n",
            "/usr/local/lib/python3.7/dist-packages/sklearn/svm/_base.py:231: ConvergenceWarning: Solver terminated early (max_iter=500).  Consider pre-processing your data with StandardScaler or MinMaxScaler.\n",
            "  % self.max_iter, ConvergenceWarning)\n",
            "/usr/local/lib/python3.7/dist-packages/sklearn/svm/_base.py:231: ConvergenceWarning: Solver terminated early (max_iter=500).  Consider pre-processing your data with StandardScaler or MinMaxScaler.\n",
            "  % self.max_iter, ConvergenceWarning)\n",
            "/usr/local/lib/python3.7/dist-packages/sklearn/svm/_base.py:231: ConvergenceWarning: Solver terminated early (max_iter=500).  Consider pre-processing your data with StandardScaler or MinMaxScaler.\n",
            "  % self.max_iter, ConvergenceWarning)\n",
            "/usr/local/lib/python3.7/dist-packages/sklearn/svm/_base.py:231: ConvergenceWarning: Solver terminated early (max_iter=500).  Consider pre-processing your data with StandardScaler or MinMaxScaler.\n",
            "  % self.max_iter, ConvergenceWarning)\n",
            "/usr/local/lib/python3.7/dist-packages/sklearn/svm/_base.py:231: ConvergenceWarning: Solver terminated early (max_iter=500).  Consider pre-processing your data with StandardScaler or MinMaxScaler.\n",
            "  % self.max_iter, ConvergenceWarning)\n",
            "/usr/local/lib/python3.7/dist-packages/sklearn/svm/_base.py:231: ConvergenceWarning: Solver terminated early (max_iter=500).  Consider pre-processing your data with StandardScaler or MinMaxScaler.\n",
            "  % self.max_iter, ConvergenceWarning)\n",
            "/usr/local/lib/python3.7/dist-packages/sklearn/svm/_base.py:231: ConvergenceWarning: Solver terminated early (max_iter=500).  Consider pre-processing your data with StandardScaler or MinMaxScaler.\n",
            "  % self.max_iter, ConvergenceWarning)\n",
            "/usr/local/lib/python3.7/dist-packages/sklearn/svm/_base.py:231: ConvergenceWarning: Solver terminated early (max_iter=500).  Consider pre-processing your data with StandardScaler or MinMaxScaler.\n",
            "  % self.max_iter, ConvergenceWarning)\n",
            "/usr/local/lib/python3.7/dist-packages/sklearn/svm/_base.py:231: ConvergenceWarning: Solver terminated early (max_iter=500).  Consider pre-processing your data with StandardScaler or MinMaxScaler.\n",
            "  % self.max_iter, ConvergenceWarning)\n",
            "/usr/local/lib/python3.7/dist-packages/sklearn/svm/_base.py:231: ConvergenceWarning: Solver terminated early (max_iter=500).  Consider pre-processing your data with StandardScaler or MinMaxScaler.\n",
            "  % self.max_iter, ConvergenceWarning)\n",
            "/usr/local/lib/python3.7/dist-packages/sklearn/svm/_base.py:231: ConvergenceWarning: Solver terminated early (max_iter=500).  Consider pre-processing your data with StandardScaler or MinMaxScaler.\n",
            "  % self.max_iter, ConvergenceWarning)\n",
            "/usr/local/lib/python3.7/dist-packages/sklearn/svm/_base.py:231: ConvergenceWarning: Solver terminated early (max_iter=500).  Consider pre-processing your data with StandardScaler or MinMaxScaler.\n",
            "  % self.max_iter, ConvergenceWarning)\n",
            "/usr/local/lib/python3.7/dist-packages/sklearn/svm/_base.py:231: ConvergenceWarning: Solver terminated early (max_iter=500).  Consider pre-processing your data with StandardScaler or MinMaxScaler.\n",
            "  % self.max_iter, ConvergenceWarning)\n",
            "/usr/local/lib/python3.7/dist-packages/sklearn/svm/_base.py:231: ConvergenceWarning: Solver terminated early (max_iter=500).  Consider pre-processing your data with StandardScaler or MinMaxScaler.\n",
            "  % self.max_iter, ConvergenceWarning)\n",
            "/usr/local/lib/python3.7/dist-packages/sklearn/svm/_base.py:231: ConvergenceWarning: Solver terminated early (max_iter=500).  Consider pre-processing your data with StandardScaler or MinMaxScaler.\n",
            "  % self.max_iter, ConvergenceWarning)\n",
            "/usr/local/lib/python3.7/dist-packages/sklearn/svm/_base.py:231: ConvergenceWarning: Solver terminated early (max_iter=500).  Consider pre-processing your data with StandardScaler or MinMaxScaler.\n",
            "  % self.max_iter, ConvergenceWarning)\n",
            "/usr/local/lib/python3.7/dist-packages/sklearn/svm/_base.py:231: ConvergenceWarning: Solver terminated early (max_iter=500).  Consider pre-processing your data with StandardScaler or MinMaxScaler.\n",
            "  % self.max_iter, ConvergenceWarning)\n",
            "/usr/local/lib/python3.7/dist-packages/sklearn/svm/_base.py:231: ConvergenceWarning: Solver terminated early (max_iter=500).  Consider pre-processing your data with StandardScaler or MinMaxScaler.\n",
            "  % self.max_iter, ConvergenceWarning)\n",
            "/usr/local/lib/python3.7/dist-packages/sklearn/svm/_base.py:231: ConvergenceWarning: Solver terminated early (max_iter=500).  Consider pre-processing your data with StandardScaler or MinMaxScaler.\n",
            "  % self.max_iter, ConvergenceWarning)\n",
            "/usr/local/lib/python3.7/dist-packages/sklearn/svm/_base.py:231: ConvergenceWarning: Solver terminated early (max_iter=500).  Consider pre-processing your data with StandardScaler or MinMaxScaler.\n",
            "  % self.max_iter, ConvergenceWarning)\n",
            "/usr/local/lib/python3.7/dist-packages/sklearn/svm/_base.py:231: ConvergenceWarning: Solver terminated early (max_iter=500).  Consider pre-processing your data with StandardScaler or MinMaxScaler.\n",
            "  % self.max_iter, ConvergenceWarning)\n",
            "/usr/local/lib/python3.7/dist-packages/sklearn/svm/_base.py:231: ConvergenceWarning: Solver terminated early (max_iter=500).  Consider pre-processing your data with StandardScaler or MinMaxScaler.\n",
            "  % self.max_iter, ConvergenceWarning)\n",
            "/usr/local/lib/python3.7/dist-packages/sklearn/svm/_base.py:231: ConvergenceWarning: Solver terminated early (max_iter=500).  Consider pre-processing your data with StandardScaler or MinMaxScaler.\n",
            "  % self.max_iter, ConvergenceWarning)\n",
            "/usr/local/lib/python3.7/dist-packages/sklearn/svm/_base.py:231: ConvergenceWarning: Solver terminated early (max_iter=500).  Consider pre-processing your data with StandardScaler or MinMaxScaler.\n",
            "  % self.max_iter, ConvergenceWarning)\n",
            "/usr/local/lib/python3.7/dist-packages/sklearn/svm/_base.py:231: ConvergenceWarning: Solver terminated early (max_iter=500).  Consider pre-processing your data with StandardScaler or MinMaxScaler.\n",
            "  % self.max_iter, ConvergenceWarning)\n",
            "/usr/local/lib/python3.7/dist-packages/sklearn/svm/_base.py:231: ConvergenceWarning: Solver terminated early (max_iter=500).  Consider pre-processing your data with StandardScaler or MinMaxScaler.\n",
            "  % self.max_iter, ConvergenceWarning)\n",
            "/usr/local/lib/python3.7/dist-packages/sklearn/svm/_base.py:231: ConvergenceWarning: Solver terminated early (max_iter=500).  Consider pre-processing your data with StandardScaler or MinMaxScaler.\n",
            "  % self.max_iter, ConvergenceWarning)\n",
            "/usr/local/lib/python3.7/dist-packages/sklearn/svm/_base.py:231: ConvergenceWarning: Solver terminated early (max_iter=500).  Consider pre-processing your data with StandardScaler or MinMaxScaler.\n",
            "  % self.max_iter, ConvergenceWarning)\n",
            "/usr/local/lib/python3.7/dist-packages/sklearn/svm/_base.py:231: ConvergenceWarning: Solver terminated early (max_iter=500).  Consider pre-processing your data with StandardScaler or MinMaxScaler.\n",
            "  % self.max_iter, ConvergenceWarning)\n",
            "/usr/local/lib/python3.7/dist-packages/sklearn/svm/_base.py:231: ConvergenceWarning: Solver terminated early (max_iter=500).  Consider pre-processing your data with StandardScaler or MinMaxScaler.\n",
            "  % self.max_iter, ConvergenceWarning)\n",
            "/usr/local/lib/python3.7/dist-packages/sklearn/svm/_base.py:231: ConvergenceWarning: Solver terminated early (max_iter=500).  Consider pre-processing your data with StandardScaler or MinMaxScaler.\n",
            "  % self.max_iter, ConvergenceWarning)\n",
            "/usr/local/lib/python3.7/dist-packages/sklearn/svm/_base.py:231: ConvergenceWarning: Solver terminated early (max_iter=500).  Consider pre-processing your data with StandardScaler or MinMaxScaler.\n",
            "  % self.max_iter, ConvergenceWarning)\n",
            "/usr/local/lib/python3.7/dist-packages/sklearn/svm/_base.py:231: ConvergenceWarning: Solver terminated early (max_iter=500).  Consider pre-processing your data with StandardScaler or MinMaxScaler.\n",
            "  % self.max_iter, ConvergenceWarning)\n",
            "/usr/local/lib/python3.7/dist-packages/sklearn/svm/_base.py:231: ConvergenceWarning: Solver terminated early (max_iter=500).  Consider pre-processing your data with StandardScaler or MinMaxScaler.\n",
            "  % self.max_iter, ConvergenceWarning)\n",
            "/usr/local/lib/python3.7/dist-packages/sklearn/svm/_base.py:231: ConvergenceWarning: Solver terminated early (max_iter=500).  Consider pre-processing your data with StandardScaler or MinMaxScaler.\n",
            "  % self.max_iter, ConvergenceWarning)\n",
            "/usr/local/lib/python3.7/dist-packages/sklearn/svm/_base.py:231: ConvergenceWarning: Solver terminated early (max_iter=500).  Consider pre-processing your data with StandardScaler or MinMaxScaler.\n",
            "  % self.max_iter, ConvergenceWarning)\n",
            "/usr/local/lib/python3.7/dist-packages/sklearn/svm/_base.py:231: ConvergenceWarning: Solver terminated early (max_iter=500).  Consider pre-processing your data with StandardScaler or MinMaxScaler.\n",
            "  % self.max_iter, ConvergenceWarning)\n",
            "/usr/local/lib/python3.7/dist-packages/sklearn/svm/_base.py:231: ConvergenceWarning: Solver terminated early (max_iter=500).  Consider pre-processing your data with StandardScaler or MinMaxScaler.\n",
            "  % self.max_iter, ConvergenceWarning)\n",
            "/usr/local/lib/python3.7/dist-packages/sklearn/svm/_base.py:231: ConvergenceWarning: Solver terminated early (max_iter=500).  Consider pre-processing your data with StandardScaler or MinMaxScaler.\n",
            "  % self.max_iter, ConvergenceWarning)\n",
            "/usr/local/lib/python3.7/dist-packages/sklearn/svm/_base.py:231: ConvergenceWarning: Solver terminated early (max_iter=500).  Consider pre-processing your data with StandardScaler or MinMaxScaler.\n",
            "  % self.max_iter, ConvergenceWarning)\n",
            "/usr/local/lib/python3.7/dist-packages/sklearn/svm/_base.py:231: ConvergenceWarning: Solver terminated early (max_iter=500).  Consider pre-processing your data with StandardScaler or MinMaxScaler.\n",
            "  % self.max_iter, ConvergenceWarning)\n",
            "/usr/local/lib/python3.7/dist-packages/sklearn/svm/_base.py:231: ConvergenceWarning: Solver terminated early (max_iter=500).  Consider pre-processing your data with StandardScaler or MinMaxScaler.\n",
            "  % self.max_iter, ConvergenceWarning)\n",
            "/usr/local/lib/python3.7/dist-packages/sklearn/svm/_base.py:231: ConvergenceWarning: Solver terminated early (max_iter=500).  Consider pre-processing your data with StandardScaler or MinMaxScaler.\n",
            "  % self.max_iter, ConvergenceWarning)\n",
            "/usr/local/lib/python3.7/dist-packages/sklearn/svm/_base.py:231: ConvergenceWarning: Solver terminated early (max_iter=500).  Consider pre-processing your data with StandardScaler or MinMaxScaler.\n",
            "  % self.max_iter, ConvergenceWarning)\n",
            "/usr/local/lib/python3.7/dist-packages/sklearn/svm/_base.py:231: ConvergenceWarning: Solver terminated early (max_iter=500).  Consider pre-processing your data with StandardScaler or MinMaxScaler.\n",
            "  % self.max_iter, ConvergenceWarning)\n"
          ]
        },
        {
          "output_type": "stream",
          "name": "stdout",
          "text": [
            "{'mean_fit_time': array([0.18091731, 0.1629313 , 0.17726374, 0.20807681, 0.24559872,\n",
            "       0.11620839, 0.12501626, 0.15842271, 0.19717116, 0.23639963,\n",
            "       0.11052527, 0.12144098, 0.15897527, 0.19838009, 0.23557234,\n",
            "       0.10893655, 0.12226269, 0.16178312, 0.20068314, 0.22757778,\n",
            "       0.10387561, 0.11314197, 0.14989715, 0.18327157, 0.22533264,\n",
            "       0.10629129, 0.11756804, 0.15493283, 0.18814988, 0.22877202]), 'std_fit_time': array([0.0043832 , 0.00636652, 0.00716335, 0.00552468, 0.00605386,\n",
            "       0.00424289, 0.0040503 , 0.00738293, 0.00650082, 0.00367467,\n",
            "       0.00538303, 0.00595586, 0.00354141, 0.00565873, 0.00542515,\n",
            "       0.00393048, 0.00248871, 0.00925211, 0.00588889, 0.00687759,\n",
            "       0.00420932, 0.0024795 , 0.00511393, 0.00437048, 0.00512978,\n",
            "       0.00259778, 0.00225388, 0.00418704, 0.0077098 , 0.00364319]), 'mean_score_time': array([0.02100265, 0.01659009, 0.01605532, 0.01647601, 0.01878414,\n",
            "       0.01065049, 0.01194174, 0.01337535, 0.01774964, 0.01922808,\n",
            "       0.0095031 , 0.01171989, 0.01354487, 0.0164068 , 0.01756642,\n",
            "       0.01005416, 0.01143899, 0.01350234, 0.01631911, 0.01674929,\n",
            "       0.00885282, 0.01068485, 0.01302249, 0.01656456, 0.01688678,\n",
            "       0.00915122, 0.01095297, 0.01364324, 0.01752388, 0.01710765]), 'std_score_time': array([0.00413375, 0.00228369, 0.00151725, 0.00043755, 0.00093829,\n",
            "       0.00048437, 0.00076922, 0.00039282, 0.00271845, 0.00219399,\n",
            "       0.00064912, 0.0014079 , 0.00056354, 0.00109597, 0.00090243,\n",
            "       0.00150902, 0.0003    , 0.00035803, 0.0009787 , 0.00093898,\n",
            "       0.00050921, 0.00047821, 0.00082588, 0.00166983, 0.00076068,\n",
            "       0.00045341, 0.00046623, 0.00114136, 0.00219754, 0.00082229]), 'param_C': masked_array(data=[1.0, 1.0, 1.0, 1.0, 1.0, 10.0, 10.0, 10.0, 10.0, 10.0,\n",
            "                   100.0, 100.0, 100.0, 100.0, 100.0, 1000.0, 1000.0,\n",
            "                   1000.0, 1000.0, 1000.0, 10000.0, 10000.0, 10000.0,\n",
            "                   10000.0, 10000.0, 100000.0, 100000.0, 100000.0,\n",
            "                   100000.0, 100000.0],\n",
            "             mask=[False, False, False, False, False, False, False, False,\n",
            "                   False, False, False, False, False, False, False, False,\n",
            "                   False, False, False, False, False, False, False, False,\n",
            "                   False, False, False, False, False, False],\n",
            "       fill_value='?',\n",
            "            dtype=object), 'param_gamma': masked_array(data=[1.0, 2.0, 3.0, 4.0, 5.0, 1.0, 2.0, 3.0, 4.0, 5.0, 1.0,\n",
            "                   2.0, 3.0, 4.0, 5.0, 1.0, 2.0, 3.0, 4.0, 5.0, 1.0, 2.0,\n",
            "                   3.0, 4.0, 5.0, 1.0, 2.0, 3.0, 4.0, 5.0],\n",
            "             mask=[False, False, False, False, False, False, False, False,\n",
            "                   False, False, False, False, False, False, False, False,\n",
            "                   False, False, False, False, False, False, False, False,\n",
            "                   False, False, False, False, False, False],\n",
            "       fill_value='?',\n",
            "            dtype=object), 'params': [{'C': 1.0, 'gamma': 1.0}, {'C': 1.0, 'gamma': 2.0}, {'C': 1.0, 'gamma': 3.0}, {'C': 1.0, 'gamma': 4.0}, {'C': 1.0, 'gamma': 5.0}, {'C': 10.0, 'gamma': 1.0}, {'C': 10.0, 'gamma': 2.0}, {'C': 10.0, 'gamma': 3.0}, {'C': 10.0, 'gamma': 4.0}, {'C': 10.0, 'gamma': 5.0}, {'C': 100.0, 'gamma': 1.0}, {'C': 100.0, 'gamma': 2.0}, {'C': 100.0, 'gamma': 3.0}, {'C': 100.0, 'gamma': 4.0}, {'C': 100.0, 'gamma': 5.0}, {'C': 1000.0, 'gamma': 1.0}, {'C': 1000.0, 'gamma': 2.0}, {'C': 1000.0, 'gamma': 3.0}, {'C': 1000.0, 'gamma': 4.0}, {'C': 1000.0, 'gamma': 5.0}, {'C': 10000.0, 'gamma': 1.0}, {'C': 10000.0, 'gamma': 2.0}, {'C': 10000.0, 'gamma': 3.0}, {'C': 10000.0, 'gamma': 4.0}, {'C': 10000.0, 'gamma': 5.0}, {'C': 100000.0, 'gamma': 1.0}, {'C': 100000.0, 'gamma': 2.0}, {'C': 100000.0, 'gamma': 3.0}, {'C': 100000.0, 'gamma': 4.0}, {'C': 100000.0, 'gamma': 5.0}], 'split0_test_score': array([0.9781746 , 0.98809524, 0.98809524, 0.99007937, 0.98809524,\n",
            "       0.98611111, 0.99603175, 0.99801587, 0.99801587, 0.99603175,\n",
            "       0.99206349, 0.99603175, 0.99801587, 0.99801587, 0.99603175,\n",
            "       0.99206349, 0.99603175, 0.99801587, 0.99801587, 0.99603175,\n",
            "       0.99206349, 0.99603175, 0.99801587, 0.99801587, 0.99603175,\n",
            "       0.99206349, 0.99603175, 0.99801587, 0.99801587, 0.99603175]), 'split1_test_score': array([0.99007937, 0.99404762, 0.99404762, 0.99404762, 0.99603175,\n",
            "       0.99206349, 0.99404762, 0.99404762, 0.99404762, 0.99404762,\n",
            "       0.99007937, 0.99206349, 0.99404762, 0.99404762, 0.99404762,\n",
            "       0.99007937, 0.99206349, 0.99404762, 0.99404762, 0.99404762,\n",
            "       0.99007937, 0.99206349, 0.99404762, 0.99404762, 0.99404762,\n",
            "       0.99007937, 0.99206349, 0.99404762, 0.99404762, 0.99404762]), 'split2_test_score': array([0.99007937, 0.99007937, 0.99206349, 0.99206349, 0.99404762,\n",
            "       0.98214286, 0.98412698, 0.98611111, 0.98611111, 0.99206349,\n",
            "       0.98015873, 0.98412698, 0.98611111, 0.98611111, 0.99206349,\n",
            "       0.98015873, 0.98412698, 0.98611111, 0.98611111, 0.99206349,\n",
            "       0.98015873, 0.98412698, 0.98611111, 0.98611111, 0.99206349,\n",
            "       0.98015873, 0.98412698, 0.98611111, 0.98611111, 0.99206349]), 'split3_test_score': array([0.98412698, 0.98809524, 0.99206349, 0.99206349, 0.99007937,\n",
            "       0.99206349, 0.99801587, 0.99603175, 0.99603175, 0.99206349,\n",
            "       0.99404762, 0.99801587, 0.99603175, 0.99603175, 0.99206349,\n",
            "       0.99404762, 0.99801587, 0.99603175, 0.99603175, 0.99206349,\n",
            "       0.99404762, 0.99801587, 0.99603175, 0.99603175, 0.99206349,\n",
            "       0.99404762, 0.99801587, 0.99603175, 0.99603175, 0.99206349]), 'split4_test_score': array([0.98015873, 0.98611111, 0.98412698, 0.98412698, 0.98015873,\n",
            "       0.98809524, 0.99404762, 0.98809524, 0.98611111, 0.98214286,\n",
            "       0.98611111, 0.99404762, 0.98809524, 0.98611111, 0.98412698,\n",
            "       0.98412698, 0.99404762, 0.98809524, 0.98611111, 0.98412698,\n",
            "       0.98412698, 0.99404762, 0.98809524, 0.98611111, 0.98412698,\n",
            "       0.98412698, 0.99404762, 0.98809524, 0.98611111, 0.98412698]), 'split5_test_score': array([0.9781746 , 0.98412698, 0.98214286, 0.98214286, 0.98412698,\n",
            "       0.98412698, 0.98611111, 0.98412698, 0.98611111, 0.98611111,\n",
            "       0.98412698, 0.98412698, 0.98412698, 0.98611111, 0.98611111,\n",
            "       0.98412698, 0.98412698, 0.98412698, 0.98611111, 0.98611111,\n",
            "       0.98412698, 0.98412698, 0.98412698, 0.98611111, 0.98611111,\n",
            "       0.98412698, 0.98412698, 0.98412698, 0.98611111, 0.98611111]), 'split6_test_score': array([0.98210736, 0.9860835 , 0.9860835 , 0.9860835 , 0.98210736,\n",
            "       0.99403579, 0.99204771, 0.99801193, 0.99801193, 0.99005964,\n",
            "       0.99602386, 0.99801193, 0.99801193, 0.99801193, 0.99005964,\n",
            "       0.99602386, 0.99801193, 0.99801193, 0.99801193, 0.99005964,\n",
            "       0.99602386, 0.99801193, 0.99801193, 0.99801193, 0.99005964,\n",
            "       0.99602386, 0.99801193, 0.99801193, 0.99801193, 0.99005964]), 'split7_test_score': array([0.99005964, 0.99403579, 0.99204771, 0.99005964, 0.9860835 ,\n",
            "       0.99204771, 0.99005964, 0.99005964, 0.98807157, 0.98409543,\n",
            "       0.99204771, 0.99204771, 0.99005964, 0.98807157, 0.98409543,\n",
            "       0.99204771, 0.99204771, 0.99005964, 0.98807157, 0.98409543,\n",
            "       0.99204771, 0.99204771, 0.99005964, 0.98807157, 0.98409543,\n",
            "       0.99204771, 0.99204771, 0.99005964, 0.98807157, 0.98409543]), 'split8_test_score': array([0.99204771, 0.99403579, 0.99403579, 0.99204771, 0.99403579,\n",
            "       0.99602386, 0.99602386, 0.99602386, 0.99602386, 0.99403579,\n",
            "       0.99602386, 0.99602386, 0.99602386, 0.99602386, 0.99403579,\n",
            "       0.99801193, 0.99602386, 0.99602386, 0.99602386, 0.99403579,\n",
            "       0.99801193, 0.99602386, 0.99602386, 0.99602386, 0.99403579,\n",
            "       0.99801193, 0.99602386, 0.99602386, 0.99602386, 0.99403579]), 'split9_test_score': array([0.98807157, 0.99204771, 0.99403579, 0.99403579, 0.99005964,\n",
            "       0.99403579, 0.99602386, 0.99204771, 0.99204771, 0.99005964,\n",
            "       0.99204771, 0.99403579, 0.99204771, 0.99204771, 0.99005964,\n",
            "       0.99204771, 0.99403579, 0.99204771, 0.99204771, 0.99005964,\n",
            "       0.99204771, 0.99403579, 0.99204771, 0.99204771, 0.99005964,\n",
            "       0.99204771, 0.99403579, 0.99204771, 0.99204771, 0.99005964]), 'mean_test_score': array([0.98530799, 0.98967583, 0.98987425, 0.98967504, 0.9884826 ,\n",
            "       0.99007463, 0.9926536 , 0.99225717, 0.99205836, 0.99007108,\n",
            "       0.99027304, 0.9928532 , 0.99225717, 0.99205836, 0.99026949,\n",
            "       0.99027344, 0.9928532 , 0.99225717, 0.99205836, 0.99026949,\n",
            "       0.99027344, 0.9928532 , 0.99225717, 0.99205836, 0.99026949,\n",
            "       0.99027344, 0.9928532 , 0.99225717, 0.99205836, 0.99026949]), 'std_test_score': array([0.00510975, 0.00352587, 0.00420361, 0.00394841, 0.00508568,\n",
            "       0.00443276, 0.0043517 , 0.00473275, 0.00477924, 0.00435026,\n",
            "       0.00497321, 0.00479388, 0.00473275, 0.00477924, 0.00401658,\n",
            "       0.0054277 , 0.00479388, 0.00473275, 0.00477924, 0.00401658,\n",
            "       0.0054277 , 0.00479388, 0.00473275, 0.00477924, 0.00401658,\n",
            "       0.0054277 , 0.00479388, 0.00473275, 0.00477924, 0.00401658]), 'rank_test_score': array([30, 27, 26, 28, 29, 24,  5,  6, 11, 25, 19,  1,  6, 11, 20, 16,  1,\n",
            "        6, 11, 20, 16,  1,  6, 11, 20, 16,  1,  6, 11, 20], dtype=int32)}\n",
            "the best parameter pair is {'C': 100.0, 'gamma': 2.0}\n"
          ]
        }
      ]
    },
    {
      "cell_type": "code",
      "metadata": {
        "colab": {
          "base_uri": "https://localhost:8080/"
        },
        "id": "VemLtYxsxbMh",
        "outputId": "7509d6b7-8405-4db3-a543-0ba21717d44c"
      },
      "source": [
        "family_pred.shape"
      ],
      "execution_count": 24,
      "outputs": [
        {
          "output_type": "execute_result",
          "data": {
            "text/plain": [
              "(2159,)"
            ]
          },
          "metadata": {},
          "execution_count": 24
        }
      ]
    },
    {
      "cell_type": "code",
      "metadata": {
        "colab": {
          "base_uri": "https://localhost:8080/"
        },
        "id": "dlYcEJnll_SD",
        "outputId": "747a196d-9323-4639-e252-0ccf97bb8567"
      },
      "source": [
        "genus_pred = parametersSearch(train_y['Genus'])"
      ],
      "execution_count": 25,
      "outputs": [
        {
          "output_type": "stream",
          "name": "stderr",
          "text": [
            "/usr/local/lib/python3.7/dist-packages/sklearn/svm/_base.py:231: ConvergenceWarning: Solver terminated early (max_iter=500).  Consider pre-processing your data with StandardScaler or MinMaxScaler.\n",
            "  % self.max_iter, ConvergenceWarning)\n",
            "/usr/local/lib/python3.7/dist-packages/sklearn/svm/_base.py:231: ConvergenceWarning: Solver terminated early (max_iter=500).  Consider pre-processing your data with StandardScaler or MinMaxScaler.\n",
            "  % self.max_iter, ConvergenceWarning)\n",
            "/usr/local/lib/python3.7/dist-packages/sklearn/svm/_base.py:231: ConvergenceWarning: Solver terminated early (max_iter=500).  Consider pre-processing your data with StandardScaler or MinMaxScaler.\n",
            "  % self.max_iter, ConvergenceWarning)\n",
            "/usr/local/lib/python3.7/dist-packages/sklearn/svm/_base.py:231: ConvergenceWarning: Solver terminated early (max_iter=500).  Consider pre-processing your data with StandardScaler or MinMaxScaler.\n",
            "  % self.max_iter, ConvergenceWarning)\n",
            "/usr/local/lib/python3.7/dist-packages/sklearn/svm/_base.py:231: ConvergenceWarning: Solver terminated early (max_iter=500).  Consider pre-processing your data with StandardScaler or MinMaxScaler.\n",
            "  % self.max_iter, ConvergenceWarning)\n",
            "/usr/local/lib/python3.7/dist-packages/sklearn/svm/_base.py:231: ConvergenceWarning: Solver terminated early (max_iter=500).  Consider pre-processing your data with StandardScaler or MinMaxScaler.\n",
            "  % self.max_iter, ConvergenceWarning)\n",
            "/usr/local/lib/python3.7/dist-packages/sklearn/svm/_base.py:231: ConvergenceWarning: Solver terminated early (max_iter=500).  Consider pre-processing your data with StandardScaler or MinMaxScaler.\n",
            "  % self.max_iter, ConvergenceWarning)\n",
            "/usr/local/lib/python3.7/dist-packages/sklearn/svm/_base.py:231: ConvergenceWarning: Solver terminated early (max_iter=500).  Consider pre-processing your data with StandardScaler or MinMaxScaler.\n",
            "  % self.max_iter, ConvergenceWarning)\n",
            "/usr/local/lib/python3.7/dist-packages/sklearn/svm/_base.py:231: ConvergenceWarning: Solver terminated early (max_iter=500).  Consider pre-processing your data with StandardScaler or MinMaxScaler.\n",
            "  % self.max_iter, ConvergenceWarning)\n",
            "/usr/local/lib/python3.7/dist-packages/sklearn/svm/_base.py:231: ConvergenceWarning: Solver terminated early (max_iter=500).  Consider pre-processing your data with StandardScaler or MinMaxScaler.\n",
            "  % self.max_iter, ConvergenceWarning)\n",
            "/usr/local/lib/python3.7/dist-packages/sklearn/svm/_base.py:231: ConvergenceWarning: Solver terminated early (max_iter=500).  Consider pre-processing your data with StandardScaler or MinMaxScaler.\n",
            "  % self.max_iter, ConvergenceWarning)\n",
            "/usr/local/lib/python3.7/dist-packages/sklearn/svm/_base.py:231: ConvergenceWarning: Solver terminated early (max_iter=500).  Consider pre-processing your data with StandardScaler or MinMaxScaler.\n",
            "  % self.max_iter, ConvergenceWarning)\n",
            "/usr/local/lib/python3.7/dist-packages/sklearn/svm/_base.py:231: ConvergenceWarning: Solver terminated early (max_iter=500).  Consider pre-processing your data with StandardScaler or MinMaxScaler.\n",
            "  % self.max_iter, ConvergenceWarning)\n",
            "/usr/local/lib/python3.7/dist-packages/sklearn/svm/_base.py:231: ConvergenceWarning: Solver terminated early (max_iter=500).  Consider pre-processing your data with StandardScaler or MinMaxScaler.\n",
            "  % self.max_iter, ConvergenceWarning)\n",
            "/usr/local/lib/python3.7/dist-packages/sklearn/svm/_base.py:231: ConvergenceWarning: Solver terminated early (max_iter=500).  Consider pre-processing your data with StandardScaler or MinMaxScaler.\n",
            "  % self.max_iter, ConvergenceWarning)\n",
            "/usr/local/lib/python3.7/dist-packages/sklearn/svm/_base.py:231: ConvergenceWarning: Solver terminated early (max_iter=500).  Consider pre-processing your data with StandardScaler or MinMaxScaler.\n",
            "  % self.max_iter, ConvergenceWarning)\n",
            "/usr/local/lib/python3.7/dist-packages/sklearn/svm/_base.py:231: ConvergenceWarning: Solver terminated early (max_iter=500).  Consider pre-processing your data with StandardScaler or MinMaxScaler.\n",
            "  % self.max_iter, ConvergenceWarning)\n",
            "/usr/local/lib/python3.7/dist-packages/sklearn/svm/_base.py:231: ConvergenceWarning: Solver terminated early (max_iter=500).  Consider pre-processing your data with StandardScaler or MinMaxScaler.\n",
            "  % self.max_iter, ConvergenceWarning)\n",
            "/usr/local/lib/python3.7/dist-packages/sklearn/svm/_base.py:231: ConvergenceWarning: Solver terminated early (max_iter=500).  Consider pre-processing your data with StandardScaler or MinMaxScaler.\n",
            "  % self.max_iter, ConvergenceWarning)\n",
            "/usr/local/lib/python3.7/dist-packages/sklearn/svm/_base.py:231: ConvergenceWarning: Solver terminated early (max_iter=500).  Consider pre-processing your data with StandardScaler or MinMaxScaler.\n",
            "  % self.max_iter, ConvergenceWarning)\n",
            "/usr/local/lib/python3.7/dist-packages/sklearn/svm/_base.py:231: ConvergenceWarning: Solver terminated early (max_iter=500).  Consider pre-processing your data with StandardScaler or MinMaxScaler.\n",
            "  % self.max_iter, ConvergenceWarning)\n",
            "/usr/local/lib/python3.7/dist-packages/sklearn/svm/_base.py:231: ConvergenceWarning: Solver terminated early (max_iter=500).  Consider pre-processing your data with StandardScaler or MinMaxScaler.\n",
            "  % self.max_iter, ConvergenceWarning)\n",
            "/usr/local/lib/python3.7/dist-packages/sklearn/svm/_base.py:231: ConvergenceWarning: Solver terminated early (max_iter=500).  Consider pre-processing your data with StandardScaler or MinMaxScaler.\n",
            "  % self.max_iter, ConvergenceWarning)\n",
            "/usr/local/lib/python3.7/dist-packages/sklearn/svm/_base.py:231: ConvergenceWarning: Solver terminated early (max_iter=500).  Consider pre-processing your data with StandardScaler or MinMaxScaler.\n",
            "  % self.max_iter, ConvergenceWarning)\n",
            "/usr/local/lib/python3.7/dist-packages/sklearn/svm/_base.py:231: ConvergenceWarning: Solver terminated early (max_iter=500).  Consider pre-processing your data with StandardScaler or MinMaxScaler.\n",
            "  % self.max_iter, ConvergenceWarning)\n",
            "/usr/local/lib/python3.7/dist-packages/sklearn/svm/_base.py:231: ConvergenceWarning: Solver terminated early (max_iter=500).  Consider pre-processing your data with StandardScaler or MinMaxScaler.\n",
            "  % self.max_iter, ConvergenceWarning)\n",
            "/usr/local/lib/python3.7/dist-packages/sklearn/svm/_base.py:231: ConvergenceWarning: Solver terminated early (max_iter=500).  Consider pre-processing your data with StandardScaler or MinMaxScaler.\n",
            "  % self.max_iter, ConvergenceWarning)\n",
            "/usr/local/lib/python3.7/dist-packages/sklearn/svm/_base.py:231: ConvergenceWarning: Solver terminated early (max_iter=500).  Consider pre-processing your data with StandardScaler or MinMaxScaler.\n",
            "  % self.max_iter, ConvergenceWarning)\n",
            "/usr/local/lib/python3.7/dist-packages/sklearn/svm/_base.py:231: ConvergenceWarning: Solver terminated early (max_iter=500).  Consider pre-processing your data with StandardScaler or MinMaxScaler.\n",
            "  % self.max_iter, ConvergenceWarning)\n",
            "/usr/local/lib/python3.7/dist-packages/sklearn/svm/_base.py:231: ConvergenceWarning: Solver terminated early (max_iter=500).  Consider pre-processing your data with StandardScaler or MinMaxScaler.\n",
            "  % self.max_iter, ConvergenceWarning)\n",
            "/usr/local/lib/python3.7/dist-packages/sklearn/svm/_base.py:231: ConvergenceWarning: Solver terminated early (max_iter=500).  Consider pre-processing your data with StandardScaler or MinMaxScaler.\n",
            "  % self.max_iter, ConvergenceWarning)\n",
            "/usr/local/lib/python3.7/dist-packages/sklearn/svm/_base.py:231: ConvergenceWarning: Solver terminated early (max_iter=500).  Consider pre-processing your data with StandardScaler or MinMaxScaler.\n",
            "  % self.max_iter, ConvergenceWarning)\n",
            "/usr/local/lib/python3.7/dist-packages/sklearn/svm/_base.py:231: ConvergenceWarning: Solver terminated early (max_iter=500).  Consider pre-processing your data with StandardScaler or MinMaxScaler.\n",
            "  % self.max_iter, ConvergenceWarning)\n",
            "/usr/local/lib/python3.7/dist-packages/sklearn/svm/_base.py:231: ConvergenceWarning: Solver terminated early (max_iter=500).  Consider pre-processing your data with StandardScaler or MinMaxScaler.\n",
            "  % self.max_iter, ConvergenceWarning)\n",
            "/usr/local/lib/python3.7/dist-packages/sklearn/svm/_base.py:231: ConvergenceWarning: Solver terminated early (max_iter=500).  Consider pre-processing your data with StandardScaler or MinMaxScaler.\n",
            "  % self.max_iter, ConvergenceWarning)\n",
            "/usr/local/lib/python3.7/dist-packages/sklearn/svm/_base.py:231: ConvergenceWarning: Solver terminated early (max_iter=500).  Consider pre-processing your data with StandardScaler or MinMaxScaler.\n",
            "  % self.max_iter, ConvergenceWarning)\n",
            "/usr/local/lib/python3.7/dist-packages/sklearn/svm/_base.py:231: ConvergenceWarning: Solver terminated early (max_iter=500).  Consider pre-processing your data with StandardScaler or MinMaxScaler.\n",
            "  % self.max_iter, ConvergenceWarning)\n",
            "/usr/local/lib/python3.7/dist-packages/sklearn/svm/_base.py:231: ConvergenceWarning: Solver terminated early (max_iter=500).  Consider pre-processing your data with StandardScaler or MinMaxScaler.\n",
            "  % self.max_iter, ConvergenceWarning)\n",
            "/usr/local/lib/python3.7/dist-packages/sklearn/svm/_base.py:231: ConvergenceWarning: Solver terminated early (max_iter=500).  Consider pre-processing your data with StandardScaler or MinMaxScaler.\n",
            "  % self.max_iter, ConvergenceWarning)\n",
            "/usr/local/lib/python3.7/dist-packages/sklearn/svm/_base.py:231: ConvergenceWarning: Solver terminated early (max_iter=500).  Consider pre-processing your data with StandardScaler or MinMaxScaler.\n",
            "  % self.max_iter, ConvergenceWarning)\n",
            "/usr/local/lib/python3.7/dist-packages/sklearn/svm/_base.py:231: ConvergenceWarning: Solver terminated early (max_iter=500).  Consider pre-processing your data with StandardScaler or MinMaxScaler.\n",
            "  % self.max_iter, ConvergenceWarning)\n",
            "/usr/local/lib/python3.7/dist-packages/sklearn/svm/_base.py:231: ConvergenceWarning: Solver terminated early (max_iter=500).  Consider pre-processing your data with StandardScaler or MinMaxScaler.\n",
            "  % self.max_iter, ConvergenceWarning)\n",
            "/usr/local/lib/python3.7/dist-packages/sklearn/svm/_base.py:231: ConvergenceWarning: Solver terminated early (max_iter=500).  Consider pre-processing your data with StandardScaler or MinMaxScaler.\n",
            "  % self.max_iter, ConvergenceWarning)\n",
            "/usr/local/lib/python3.7/dist-packages/sklearn/svm/_base.py:231: ConvergenceWarning: Solver terminated early (max_iter=500).  Consider pre-processing your data with StandardScaler or MinMaxScaler.\n",
            "  % self.max_iter, ConvergenceWarning)\n",
            "/usr/local/lib/python3.7/dist-packages/sklearn/svm/_base.py:231: ConvergenceWarning: Solver terminated early (max_iter=500).  Consider pre-processing your data with StandardScaler or MinMaxScaler.\n",
            "  % self.max_iter, ConvergenceWarning)\n",
            "/usr/local/lib/python3.7/dist-packages/sklearn/svm/_base.py:231: ConvergenceWarning: Solver terminated early (max_iter=500).  Consider pre-processing your data with StandardScaler or MinMaxScaler.\n",
            "  % self.max_iter, ConvergenceWarning)\n",
            "/usr/local/lib/python3.7/dist-packages/sklearn/svm/_base.py:231: ConvergenceWarning: Solver terminated early (max_iter=500).  Consider pre-processing your data with StandardScaler or MinMaxScaler.\n",
            "  % self.max_iter, ConvergenceWarning)\n",
            "/usr/local/lib/python3.7/dist-packages/sklearn/svm/_base.py:231: ConvergenceWarning: Solver terminated early (max_iter=500).  Consider pre-processing your data with StandardScaler or MinMaxScaler.\n",
            "  % self.max_iter, ConvergenceWarning)\n",
            "/usr/local/lib/python3.7/dist-packages/sklearn/svm/_base.py:231: ConvergenceWarning: Solver terminated early (max_iter=500).  Consider pre-processing your data with StandardScaler or MinMaxScaler.\n",
            "  % self.max_iter, ConvergenceWarning)\n",
            "/usr/local/lib/python3.7/dist-packages/sklearn/svm/_base.py:231: ConvergenceWarning: Solver terminated early (max_iter=500).  Consider pre-processing your data with StandardScaler or MinMaxScaler.\n",
            "  % self.max_iter, ConvergenceWarning)\n",
            "/usr/local/lib/python3.7/dist-packages/sklearn/svm/_base.py:231: ConvergenceWarning: Solver terminated early (max_iter=500).  Consider pre-processing your data with StandardScaler or MinMaxScaler.\n",
            "  % self.max_iter, ConvergenceWarning)\n",
            "/usr/local/lib/python3.7/dist-packages/sklearn/svm/_base.py:231: ConvergenceWarning: Solver terminated early (max_iter=500).  Consider pre-processing your data with StandardScaler or MinMaxScaler.\n",
            "  % self.max_iter, ConvergenceWarning)\n",
            "/usr/local/lib/python3.7/dist-packages/sklearn/svm/_base.py:231: ConvergenceWarning: Solver terminated early (max_iter=500).  Consider pre-processing your data with StandardScaler or MinMaxScaler.\n",
            "  % self.max_iter, ConvergenceWarning)\n",
            "/usr/local/lib/python3.7/dist-packages/sklearn/svm/_base.py:231: ConvergenceWarning: Solver terminated early (max_iter=500).  Consider pre-processing your data with StandardScaler or MinMaxScaler.\n",
            "  % self.max_iter, ConvergenceWarning)\n",
            "/usr/local/lib/python3.7/dist-packages/sklearn/svm/_base.py:231: ConvergenceWarning: Solver terminated early (max_iter=500).  Consider pre-processing your data with StandardScaler or MinMaxScaler.\n",
            "  % self.max_iter, ConvergenceWarning)\n",
            "/usr/local/lib/python3.7/dist-packages/sklearn/svm/_base.py:231: ConvergenceWarning: Solver terminated early (max_iter=500).  Consider pre-processing your data with StandardScaler or MinMaxScaler.\n",
            "  % self.max_iter, ConvergenceWarning)\n",
            "/usr/local/lib/python3.7/dist-packages/sklearn/svm/_base.py:231: ConvergenceWarning: Solver terminated early (max_iter=500).  Consider pre-processing your data with StandardScaler or MinMaxScaler.\n",
            "  % self.max_iter, ConvergenceWarning)\n",
            "/usr/local/lib/python3.7/dist-packages/sklearn/svm/_base.py:231: ConvergenceWarning: Solver terminated early (max_iter=500).  Consider pre-processing your data with StandardScaler or MinMaxScaler.\n",
            "  % self.max_iter, ConvergenceWarning)\n",
            "/usr/local/lib/python3.7/dist-packages/sklearn/svm/_base.py:231: ConvergenceWarning: Solver terminated early (max_iter=500).  Consider pre-processing your data with StandardScaler or MinMaxScaler.\n",
            "  % self.max_iter, ConvergenceWarning)\n",
            "/usr/local/lib/python3.7/dist-packages/sklearn/svm/_base.py:231: ConvergenceWarning: Solver terminated early (max_iter=500).  Consider pre-processing your data with StandardScaler or MinMaxScaler.\n",
            "  % self.max_iter, ConvergenceWarning)\n",
            "/usr/local/lib/python3.7/dist-packages/sklearn/svm/_base.py:231: ConvergenceWarning: Solver terminated early (max_iter=500).  Consider pre-processing your data with StandardScaler or MinMaxScaler.\n",
            "  % self.max_iter, ConvergenceWarning)\n",
            "/usr/local/lib/python3.7/dist-packages/sklearn/svm/_base.py:231: ConvergenceWarning: Solver terminated early (max_iter=500).  Consider pre-processing your data with StandardScaler or MinMaxScaler.\n",
            "  % self.max_iter, ConvergenceWarning)\n",
            "/usr/local/lib/python3.7/dist-packages/sklearn/svm/_base.py:231: ConvergenceWarning: Solver terminated early (max_iter=500).  Consider pre-processing your data with StandardScaler or MinMaxScaler.\n",
            "  % self.max_iter, ConvergenceWarning)\n",
            "/usr/local/lib/python3.7/dist-packages/sklearn/svm/_base.py:231: ConvergenceWarning: Solver terminated early (max_iter=500).  Consider pre-processing your data with StandardScaler or MinMaxScaler.\n",
            "  % self.max_iter, ConvergenceWarning)\n",
            "/usr/local/lib/python3.7/dist-packages/sklearn/svm/_base.py:231: ConvergenceWarning: Solver terminated early (max_iter=500).  Consider pre-processing your data with StandardScaler or MinMaxScaler.\n",
            "  % self.max_iter, ConvergenceWarning)\n",
            "/usr/local/lib/python3.7/dist-packages/sklearn/svm/_base.py:231: ConvergenceWarning: Solver terminated early (max_iter=500).  Consider pre-processing your data with StandardScaler or MinMaxScaler.\n",
            "  % self.max_iter, ConvergenceWarning)\n",
            "/usr/local/lib/python3.7/dist-packages/sklearn/svm/_base.py:231: ConvergenceWarning: Solver terminated early (max_iter=500).  Consider pre-processing your data with StandardScaler or MinMaxScaler.\n",
            "  % self.max_iter, ConvergenceWarning)\n",
            "/usr/local/lib/python3.7/dist-packages/sklearn/svm/_base.py:231: ConvergenceWarning: Solver terminated early (max_iter=500).  Consider pre-processing your data with StandardScaler or MinMaxScaler.\n",
            "  % self.max_iter, ConvergenceWarning)\n",
            "/usr/local/lib/python3.7/dist-packages/sklearn/svm/_base.py:231: ConvergenceWarning: Solver terminated early (max_iter=500).  Consider pre-processing your data with StandardScaler or MinMaxScaler.\n",
            "  % self.max_iter, ConvergenceWarning)\n",
            "/usr/local/lib/python3.7/dist-packages/sklearn/svm/_base.py:231: ConvergenceWarning: Solver terminated early (max_iter=500).  Consider pre-processing your data with StandardScaler or MinMaxScaler.\n",
            "  % self.max_iter, ConvergenceWarning)\n",
            "/usr/local/lib/python3.7/dist-packages/sklearn/svm/_base.py:231: ConvergenceWarning: Solver terminated early (max_iter=500).  Consider pre-processing your data with StandardScaler or MinMaxScaler.\n",
            "  % self.max_iter, ConvergenceWarning)\n",
            "/usr/local/lib/python3.7/dist-packages/sklearn/svm/_base.py:231: ConvergenceWarning: Solver terminated early (max_iter=500).  Consider pre-processing your data with StandardScaler or MinMaxScaler.\n",
            "  % self.max_iter, ConvergenceWarning)\n",
            "/usr/local/lib/python3.7/dist-packages/sklearn/svm/_base.py:231: ConvergenceWarning: Solver terminated early (max_iter=500).  Consider pre-processing your data with StandardScaler or MinMaxScaler.\n",
            "  % self.max_iter, ConvergenceWarning)\n",
            "/usr/local/lib/python3.7/dist-packages/sklearn/svm/_base.py:231: ConvergenceWarning: Solver terminated early (max_iter=500).  Consider pre-processing your data with StandardScaler or MinMaxScaler.\n",
            "  % self.max_iter, ConvergenceWarning)\n",
            "/usr/local/lib/python3.7/dist-packages/sklearn/svm/_base.py:231: ConvergenceWarning: Solver terminated early (max_iter=500).  Consider pre-processing your data with StandardScaler or MinMaxScaler.\n",
            "  % self.max_iter, ConvergenceWarning)\n",
            "/usr/local/lib/python3.7/dist-packages/sklearn/svm/_base.py:231: ConvergenceWarning: Solver terminated early (max_iter=500).  Consider pre-processing your data with StandardScaler or MinMaxScaler.\n",
            "  % self.max_iter, ConvergenceWarning)\n",
            "/usr/local/lib/python3.7/dist-packages/sklearn/svm/_base.py:231: ConvergenceWarning: Solver terminated early (max_iter=500).  Consider pre-processing your data with StandardScaler or MinMaxScaler.\n",
            "  % self.max_iter, ConvergenceWarning)\n",
            "/usr/local/lib/python3.7/dist-packages/sklearn/svm/_base.py:231: ConvergenceWarning: Solver terminated early (max_iter=500).  Consider pre-processing your data with StandardScaler or MinMaxScaler.\n",
            "  % self.max_iter, ConvergenceWarning)\n",
            "/usr/local/lib/python3.7/dist-packages/sklearn/svm/_base.py:231: ConvergenceWarning: Solver terminated early (max_iter=500).  Consider pre-processing your data with StandardScaler or MinMaxScaler.\n",
            "  % self.max_iter, ConvergenceWarning)\n",
            "/usr/local/lib/python3.7/dist-packages/sklearn/svm/_base.py:231: ConvergenceWarning: Solver terminated early (max_iter=500).  Consider pre-processing your data with StandardScaler or MinMaxScaler.\n",
            "  % self.max_iter, ConvergenceWarning)\n",
            "/usr/local/lib/python3.7/dist-packages/sklearn/svm/_base.py:231: ConvergenceWarning: Solver terminated early (max_iter=500).  Consider pre-processing your data with StandardScaler or MinMaxScaler.\n",
            "  % self.max_iter, ConvergenceWarning)\n",
            "/usr/local/lib/python3.7/dist-packages/sklearn/svm/_base.py:231: ConvergenceWarning: Solver terminated early (max_iter=500).  Consider pre-processing your data with StandardScaler or MinMaxScaler.\n",
            "  % self.max_iter, ConvergenceWarning)\n",
            "/usr/local/lib/python3.7/dist-packages/sklearn/svm/_base.py:231: ConvergenceWarning: Solver terminated early (max_iter=500).  Consider pre-processing your data with StandardScaler or MinMaxScaler.\n",
            "  % self.max_iter, ConvergenceWarning)\n",
            "/usr/local/lib/python3.7/dist-packages/sklearn/svm/_base.py:231: ConvergenceWarning: Solver terminated early (max_iter=500).  Consider pre-processing your data with StandardScaler or MinMaxScaler.\n",
            "  % self.max_iter, ConvergenceWarning)\n",
            "/usr/local/lib/python3.7/dist-packages/sklearn/svm/_base.py:231: ConvergenceWarning: Solver terminated early (max_iter=500).  Consider pre-processing your data with StandardScaler or MinMaxScaler.\n",
            "  % self.max_iter, ConvergenceWarning)\n",
            "/usr/local/lib/python3.7/dist-packages/sklearn/svm/_base.py:231: ConvergenceWarning: Solver terminated early (max_iter=500).  Consider pre-processing your data with StandardScaler or MinMaxScaler.\n",
            "  % self.max_iter, ConvergenceWarning)\n",
            "/usr/local/lib/python3.7/dist-packages/sklearn/svm/_base.py:231: ConvergenceWarning: Solver terminated early (max_iter=500).  Consider pre-processing your data with StandardScaler or MinMaxScaler.\n",
            "  % self.max_iter, ConvergenceWarning)\n",
            "/usr/local/lib/python3.7/dist-packages/sklearn/svm/_base.py:231: ConvergenceWarning: Solver terminated early (max_iter=500).  Consider pre-processing your data with StandardScaler or MinMaxScaler.\n",
            "  % self.max_iter, ConvergenceWarning)\n",
            "/usr/local/lib/python3.7/dist-packages/sklearn/svm/_base.py:231: ConvergenceWarning: Solver terminated early (max_iter=500).  Consider pre-processing your data with StandardScaler or MinMaxScaler.\n",
            "  % self.max_iter, ConvergenceWarning)\n",
            "/usr/local/lib/python3.7/dist-packages/sklearn/svm/_base.py:231: ConvergenceWarning: Solver terminated early (max_iter=500).  Consider pre-processing your data with StandardScaler or MinMaxScaler.\n",
            "  % self.max_iter, ConvergenceWarning)\n",
            "/usr/local/lib/python3.7/dist-packages/sklearn/svm/_base.py:231: ConvergenceWarning: Solver terminated early (max_iter=500).  Consider pre-processing your data with StandardScaler or MinMaxScaler.\n",
            "  % self.max_iter, ConvergenceWarning)\n",
            "/usr/local/lib/python3.7/dist-packages/sklearn/svm/_base.py:231: ConvergenceWarning: Solver terminated early (max_iter=500).  Consider pre-processing your data with StandardScaler or MinMaxScaler.\n",
            "  % self.max_iter, ConvergenceWarning)\n",
            "/usr/local/lib/python3.7/dist-packages/sklearn/svm/_base.py:231: ConvergenceWarning: Solver terminated early (max_iter=500).  Consider pre-processing your data with StandardScaler or MinMaxScaler.\n",
            "  % self.max_iter, ConvergenceWarning)\n",
            "/usr/local/lib/python3.7/dist-packages/sklearn/svm/_base.py:231: ConvergenceWarning: Solver terminated early (max_iter=500).  Consider pre-processing your data with StandardScaler or MinMaxScaler.\n",
            "  % self.max_iter, ConvergenceWarning)\n",
            "/usr/local/lib/python3.7/dist-packages/sklearn/svm/_base.py:231: ConvergenceWarning: Solver terminated early (max_iter=500).  Consider pre-processing your data with StandardScaler or MinMaxScaler.\n",
            "  % self.max_iter, ConvergenceWarning)\n",
            "/usr/local/lib/python3.7/dist-packages/sklearn/svm/_base.py:231: ConvergenceWarning: Solver terminated early (max_iter=500).  Consider pre-processing your data with StandardScaler or MinMaxScaler.\n",
            "  % self.max_iter, ConvergenceWarning)\n",
            "/usr/local/lib/python3.7/dist-packages/sklearn/svm/_base.py:231: ConvergenceWarning: Solver terminated early (max_iter=500).  Consider pre-processing your data with StandardScaler or MinMaxScaler.\n",
            "  % self.max_iter, ConvergenceWarning)\n",
            "/usr/local/lib/python3.7/dist-packages/sklearn/svm/_base.py:231: ConvergenceWarning: Solver terminated early (max_iter=500).  Consider pre-processing your data with StandardScaler or MinMaxScaler.\n",
            "  % self.max_iter, ConvergenceWarning)\n",
            "/usr/local/lib/python3.7/dist-packages/sklearn/svm/_base.py:231: ConvergenceWarning: Solver terminated early (max_iter=500).  Consider pre-processing your data with StandardScaler or MinMaxScaler.\n",
            "  % self.max_iter, ConvergenceWarning)\n",
            "/usr/local/lib/python3.7/dist-packages/sklearn/svm/_base.py:231: ConvergenceWarning: Solver terminated early (max_iter=500).  Consider pre-processing your data with StandardScaler or MinMaxScaler.\n",
            "  % self.max_iter, ConvergenceWarning)\n",
            "/usr/local/lib/python3.7/dist-packages/sklearn/svm/_base.py:231: ConvergenceWarning: Solver terminated early (max_iter=500).  Consider pre-processing your data with StandardScaler or MinMaxScaler.\n",
            "  % self.max_iter, ConvergenceWarning)\n",
            "/usr/local/lib/python3.7/dist-packages/sklearn/svm/_base.py:231: ConvergenceWarning: Solver terminated early (max_iter=500).  Consider pre-processing your data with StandardScaler or MinMaxScaler.\n",
            "  % self.max_iter, ConvergenceWarning)\n",
            "/usr/local/lib/python3.7/dist-packages/sklearn/svm/_base.py:231: ConvergenceWarning: Solver terminated early (max_iter=500).  Consider pre-processing your data with StandardScaler or MinMaxScaler.\n",
            "  % self.max_iter, ConvergenceWarning)\n",
            "/usr/local/lib/python3.7/dist-packages/sklearn/svm/_base.py:231: ConvergenceWarning: Solver terminated early (max_iter=500).  Consider pre-processing your data with StandardScaler or MinMaxScaler.\n",
            "  % self.max_iter, ConvergenceWarning)\n",
            "/usr/local/lib/python3.7/dist-packages/sklearn/svm/_base.py:231: ConvergenceWarning: Solver terminated early (max_iter=500).  Consider pre-processing your data with StandardScaler or MinMaxScaler.\n",
            "  % self.max_iter, ConvergenceWarning)\n",
            "/usr/local/lib/python3.7/dist-packages/sklearn/svm/_base.py:231: ConvergenceWarning: Solver terminated early (max_iter=500).  Consider pre-processing your data with StandardScaler or MinMaxScaler.\n",
            "  % self.max_iter, ConvergenceWarning)\n",
            "/usr/local/lib/python3.7/dist-packages/sklearn/svm/_base.py:231: ConvergenceWarning: Solver terminated early (max_iter=500).  Consider pre-processing your data with StandardScaler or MinMaxScaler.\n",
            "  % self.max_iter, ConvergenceWarning)\n",
            "/usr/local/lib/python3.7/dist-packages/sklearn/svm/_base.py:231: ConvergenceWarning: Solver terminated early (max_iter=500).  Consider pre-processing your data with StandardScaler or MinMaxScaler.\n",
            "  % self.max_iter, ConvergenceWarning)\n",
            "/usr/local/lib/python3.7/dist-packages/sklearn/svm/_base.py:231: ConvergenceWarning: Solver terminated early (max_iter=500).  Consider pre-processing your data with StandardScaler or MinMaxScaler.\n",
            "  % self.max_iter, ConvergenceWarning)\n",
            "/usr/local/lib/python3.7/dist-packages/sklearn/svm/_base.py:231: ConvergenceWarning: Solver terminated early (max_iter=500).  Consider pre-processing your data with StandardScaler or MinMaxScaler.\n",
            "  % self.max_iter, ConvergenceWarning)\n",
            "/usr/local/lib/python3.7/dist-packages/sklearn/svm/_base.py:231: ConvergenceWarning: Solver terminated early (max_iter=500).  Consider pre-processing your data with StandardScaler or MinMaxScaler.\n",
            "  % self.max_iter, ConvergenceWarning)\n",
            "/usr/local/lib/python3.7/dist-packages/sklearn/svm/_base.py:231: ConvergenceWarning: Solver terminated early (max_iter=500).  Consider pre-processing your data with StandardScaler or MinMaxScaler.\n",
            "  % self.max_iter, ConvergenceWarning)\n",
            "/usr/local/lib/python3.7/dist-packages/sklearn/svm/_base.py:231: ConvergenceWarning: Solver terminated early (max_iter=500).  Consider pre-processing your data with StandardScaler or MinMaxScaler.\n",
            "  % self.max_iter, ConvergenceWarning)\n",
            "/usr/local/lib/python3.7/dist-packages/sklearn/svm/_base.py:231: ConvergenceWarning: Solver terminated early (max_iter=500).  Consider pre-processing your data with StandardScaler or MinMaxScaler.\n",
            "  % self.max_iter, ConvergenceWarning)\n",
            "/usr/local/lib/python3.7/dist-packages/sklearn/svm/_base.py:231: ConvergenceWarning: Solver terminated early (max_iter=500).  Consider pre-processing your data with StandardScaler or MinMaxScaler.\n",
            "  % self.max_iter, ConvergenceWarning)\n",
            "/usr/local/lib/python3.7/dist-packages/sklearn/svm/_base.py:231: ConvergenceWarning: Solver terminated early (max_iter=500).  Consider pre-processing your data with StandardScaler or MinMaxScaler.\n",
            "  % self.max_iter, ConvergenceWarning)\n",
            "/usr/local/lib/python3.7/dist-packages/sklearn/svm/_base.py:231: ConvergenceWarning: Solver terminated early (max_iter=500).  Consider pre-processing your data with StandardScaler or MinMaxScaler.\n",
            "  % self.max_iter, ConvergenceWarning)\n",
            "/usr/local/lib/python3.7/dist-packages/sklearn/svm/_base.py:231: ConvergenceWarning: Solver terminated early (max_iter=500).  Consider pre-processing your data with StandardScaler or MinMaxScaler.\n",
            "  % self.max_iter, ConvergenceWarning)\n",
            "/usr/local/lib/python3.7/dist-packages/sklearn/svm/_base.py:231: ConvergenceWarning: Solver terminated early (max_iter=500).  Consider pre-processing your data with StandardScaler or MinMaxScaler.\n",
            "  % self.max_iter, ConvergenceWarning)\n",
            "/usr/local/lib/python3.7/dist-packages/sklearn/svm/_base.py:231: ConvergenceWarning: Solver terminated early (max_iter=500).  Consider pre-processing your data with StandardScaler or MinMaxScaler.\n",
            "  % self.max_iter, ConvergenceWarning)\n",
            "/usr/local/lib/python3.7/dist-packages/sklearn/svm/_base.py:231: ConvergenceWarning: Solver terminated early (max_iter=500).  Consider pre-processing your data with StandardScaler or MinMaxScaler.\n",
            "  % self.max_iter, ConvergenceWarning)\n",
            "/usr/local/lib/python3.7/dist-packages/sklearn/svm/_base.py:231: ConvergenceWarning: Solver terminated early (max_iter=500).  Consider pre-processing your data with StandardScaler or MinMaxScaler.\n",
            "  % self.max_iter, ConvergenceWarning)\n",
            "/usr/local/lib/python3.7/dist-packages/sklearn/svm/_base.py:231: ConvergenceWarning: Solver terminated early (max_iter=500).  Consider pre-processing your data with StandardScaler or MinMaxScaler.\n",
            "  % self.max_iter, ConvergenceWarning)\n",
            "/usr/local/lib/python3.7/dist-packages/sklearn/svm/_base.py:231: ConvergenceWarning: Solver terminated early (max_iter=500).  Consider pre-processing your data with StandardScaler or MinMaxScaler.\n",
            "  % self.max_iter, ConvergenceWarning)\n",
            "/usr/local/lib/python3.7/dist-packages/sklearn/svm/_base.py:231: ConvergenceWarning: Solver terminated early (max_iter=500).  Consider pre-processing your data with StandardScaler or MinMaxScaler.\n",
            "  % self.max_iter, ConvergenceWarning)\n",
            "/usr/local/lib/python3.7/dist-packages/sklearn/svm/_base.py:231: ConvergenceWarning: Solver terminated early (max_iter=500).  Consider pre-processing your data with StandardScaler or MinMaxScaler.\n",
            "  % self.max_iter, ConvergenceWarning)\n",
            "/usr/local/lib/python3.7/dist-packages/sklearn/svm/_base.py:231: ConvergenceWarning: Solver terminated early (max_iter=500).  Consider pre-processing your data with StandardScaler or MinMaxScaler.\n",
            "  % self.max_iter, ConvergenceWarning)\n",
            "/usr/local/lib/python3.7/dist-packages/sklearn/svm/_base.py:231: ConvergenceWarning: Solver terminated early (max_iter=500).  Consider pre-processing your data with StandardScaler or MinMaxScaler.\n",
            "  % self.max_iter, ConvergenceWarning)\n",
            "/usr/local/lib/python3.7/dist-packages/sklearn/svm/_base.py:231: ConvergenceWarning: Solver terminated early (max_iter=500).  Consider pre-processing your data with StandardScaler or MinMaxScaler.\n",
            "  % self.max_iter, ConvergenceWarning)\n",
            "/usr/local/lib/python3.7/dist-packages/sklearn/svm/_base.py:231: ConvergenceWarning: Solver terminated early (max_iter=500).  Consider pre-processing your data with StandardScaler or MinMaxScaler.\n",
            "  % self.max_iter, ConvergenceWarning)\n",
            "/usr/local/lib/python3.7/dist-packages/sklearn/svm/_base.py:231: ConvergenceWarning: Solver terminated early (max_iter=500).  Consider pre-processing your data with StandardScaler or MinMaxScaler.\n",
            "  % self.max_iter, ConvergenceWarning)\n",
            "/usr/local/lib/python3.7/dist-packages/sklearn/svm/_base.py:231: ConvergenceWarning: Solver terminated early (max_iter=500).  Consider pre-processing your data with StandardScaler or MinMaxScaler.\n",
            "  % self.max_iter, ConvergenceWarning)\n",
            "/usr/local/lib/python3.7/dist-packages/sklearn/svm/_base.py:231: ConvergenceWarning: Solver terminated early (max_iter=500).  Consider pre-processing your data with StandardScaler or MinMaxScaler.\n",
            "  % self.max_iter, ConvergenceWarning)\n",
            "/usr/local/lib/python3.7/dist-packages/sklearn/svm/_base.py:231: ConvergenceWarning: Solver terminated early (max_iter=500).  Consider pre-processing your data with StandardScaler or MinMaxScaler.\n",
            "  % self.max_iter, ConvergenceWarning)\n",
            "/usr/local/lib/python3.7/dist-packages/sklearn/svm/_base.py:231: ConvergenceWarning: Solver terminated early (max_iter=500).  Consider pre-processing your data with StandardScaler or MinMaxScaler.\n",
            "  % self.max_iter, ConvergenceWarning)\n",
            "/usr/local/lib/python3.7/dist-packages/sklearn/svm/_base.py:231: ConvergenceWarning: Solver terminated early (max_iter=500).  Consider pre-processing your data with StandardScaler or MinMaxScaler.\n",
            "  % self.max_iter, ConvergenceWarning)\n",
            "/usr/local/lib/python3.7/dist-packages/sklearn/svm/_base.py:231: ConvergenceWarning: Solver terminated early (max_iter=500).  Consider pre-processing your data with StandardScaler or MinMaxScaler.\n",
            "  % self.max_iter, ConvergenceWarning)\n",
            "/usr/local/lib/python3.7/dist-packages/sklearn/svm/_base.py:231: ConvergenceWarning: Solver terminated early (max_iter=500).  Consider pre-processing your data with StandardScaler or MinMaxScaler.\n",
            "  % self.max_iter, ConvergenceWarning)\n",
            "/usr/local/lib/python3.7/dist-packages/sklearn/svm/_base.py:231: ConvergenceWarning: Solver terminated early (max_iter=500).  Consider pre-processing your data with StandardScaler or MinMaxScaler.\n",
            "  % self.max_iter, ConvergenceWarning)\n",
            "/usr/local/lib/python3.7/dist-packages/sklearn/svm/_base.py:231: ConvergenceWarning: Solver terminated early (max_iter=500).  Consider pre-processing your data with StandardScaler or MinMaxScaler.\n",
            "  % self.max_iter, ConvergenceWarning)\n",
            "/usr/local/lib/python3.7/dist-packages/sklearn/svm/_base.py:231: ConvergenceWarning: Solver terminated early (max_iter=500).  Consider pre-processing your data with StandardScaler or MinMaxScaler.\n",
            "  % self.max_iter, ConvergenceWarning)\n",
            "/usr/local/lib/python3.7/dist-packages/sklearn/svm/_base.py:231: ConvergenceWarning: Solver terminated early (max_iter=500).  Consider pre-processing your data with StandardScaler or MinMaxScaler.\n",
            "  % self.max_iter, ConvergenceWarning)\n",
            "/usr/local/lib/python3.7/dist-packages/sklearn/svm/_base.py:231: ConvergenceWarning: Solver terminated early (max_iter=500).  Consider pre-processing your data with StandardScaler or MinMaxScaler.\n",
            "  % self.max_iter, ConvergenceWarning)\n",
            "/usr/local/lib/python3.7/dist-packages/sklearn/svm/_base.py:231: ConvergenceWarning: Solver terminated early (max_iter=500).  Consider pre-processing your data with StandardScaler or MinMaxScaler.\n",
            "  % self.max_iter, ConvergenceWarning)\n",
            "/usr/local/lib/python3.7/dist-packages/sklearn/svm/_base.py:231: ConvergenceWarning: Solver terminated early (max_iter=500).  Consider pre-processing your data with StandardScaler or MinMaxScaler.\n",
            "  % self.max_iter, ConvergenceWarning)\n",
            "/usr/local/lib/python3.7/dist-packages/sklearn/svm/_base.py:231: ConvergenceWarning: Solver terminated early (max_iter=500).  Consider pre-processing your data with StandardScaler or MinMaxScaler.\n",
            "  % self.max_iter, ConvergenceWarning)\n",
            "/usr/local/lib/python3.7/dist-packages/sklearn/svm/_base.py:231: ConvergenceWarning: Solver terminated early (max_iter=500).  Consider pre-processing your data with StandardScaler or MinMaxScaler.\n",
            "  % self.max_iter, ConvergenceWarning)\n",
            "/usr/local/lib/python3.7/dist-packages/sklearn/svm/_base.py:231: ConvergenceWarning: Solver terminated early (max_iter=500).  Consider pre-processing your data with StandardScaler or MinMaxScaler.\n",
            "  % self.max_iter, ConvergenceWarning)\n",
            "/usr/local/lib/python3.7/dist-packages/sklearn/svm/_base.py:231: ConvergenceWarning: Solver terminated early (max_iter=500).  Consider pre-processing your data with StandardScaler or MinMaxScaler.\n",
            "  % self.max_iter, ConvergenceWarning)\n",
            "/usr/local/lib/python3.7/dist-packages/sklearn/svm/_base.py:231: ConvergenceWarning: Solver terminated early (max_iter=500).  Consider pre-processing your data with StandardScaler or MinMaxScaler.\n",
            "  % self.max_iter, ConvergenceWarning)\n",
            "/usr/local/lib/python3.7/dist-packages/sklearn/svm/_base.py:231: ConvergenceWarning: Solver terminated early (max_iter=500).  Consider pre-processing your data with StandardScaler or MinMaxScaler.\n",
            "  % self.max_iter, ConvergenceWarning)\n",
            "/usr/local/lib/python3.7/dist-packages/sklearn/svm/_base.py:231: ConvergenceWarning: Solver terminated early (max_iter=500).  Consider pre-processing your data with StandardScaler or MinMaxScaler.\n",
            "  % self.max_iter, ConvergenceWarning)\n",
            "/usr/local/lib/python3.7/dist-packages/sklearn/svm/_base.py:231: ConvergenceWarning: Solver terminated early (max_iter=500).  Consider pre-processing your data with StandardScaler or MinMaxScaler.\n",
            "  % self.max_iter, ConvergenceWarning)\n",
            "/usr/local/lib/python3.7/dist-packages/sklearn/svm/_base.py:231: ConvergenceWarning: Solver terminated early (max_iter=500).  Consider pre-processing your data with StandardScaler or MinMaxScaler.\n",
            "  % self.max_iter, ConvergenceWarning)\n",
            "/usr/local/lib/python3.7/dist-packages/sklearn/svm/_base.py:231: ConvergenceWarning: Solver terminated early (max_iter=500).  Consider pre-processing your data with StandardScaler or MinMaxScaler.\n",
            "  % self.max_iter, ConvergenceWarning)\n",
            "/usr/local/lib/python3.7/dist-packages/sklearn/svm/_base.py:231: ConvergenceWarning: Solver terminated early (max_iter=500).  Consider pre-processing your data with StandardScaler or MinMaxScaler.\n",
            "  % self.max_iter, ConvergenceWarning)\n",
            "/usr/local/lib/python3.7/dist-packages/sklearn/svm/_base.py:231: ConvergenceWarning: Solver terminated early (max_iter=500).  Consider pre-processing your data with StandardScaler or MinMaxScaler.\n",
            "  % self.max_iter, ConvergenceWarning)\n",
            "/usr/local/lib/python3.7/dist-packages/sklearn/svm/_base.py:231: ConvergenceWarning: Solver terminated early (max_iter=500).  Consider pre-processing your data with StandardScaler or MinMaxScaler.\n",
            "  % self.max_iter, ConvergenceWarning)\n",
            "/usr/local/lib/python3.7/dist-packages/sklearn/svm/_base.py:231: ConvergenceWarning: Solver terminated early (max_iter=500).  Consider pre-processing your data with StandardScaler or MinMaxScaler.\n",
            "  % self.max_iter, ConvergenceWarning)\n",
            "/usr/local/lib/python3.7/dist-packages/sklearn/svm/_base.py:231: ConvergenceWarning: Solver terminated early (max_iter=500).  Consider pre-processing your data with StandardScaler or MinMaxScaler.\n",
            "  % self.max_iter, ConvergenceWarning)\n",
            "/usr/local/lib/python3.7/dist-packages/sklearn/svm/_base.py:231: ConvergenceWarning: Solver terminated early (max_iter=500).  Consider pre-processing your data with StandardScaler or MinMaxScaler.\n",
            "  % self.max_iter, ConvergenceWarning)\n",
            "/usr/local/lib/python3.7/dist-packages/sklearn/svm/_base.py:231: ConvergenceWarning: Solver terminated early (max_iter=500).  Consider pre-processing your data with StandardScaler or MinMaxScaler.\n",
            "  % self.max_iter, ConvergenceWarning)\n",
            "/usr/local/lib/python3.7/dist-packages/sklearn/svm/_base.py:231: ConvergenceWarning: Solver terminated early (max_iter=500).  Consider pre-processing your data with StandardScaler or MinMaxScaler.\n",
            "  % self.max_iter, ConvergenceWarning)\n",
            "/usr/local/lib/python3.7/dist-packages/sklearn/svm/_base.py:231: ConvergenceWarning: Solver terminated early (max_iter=500).  Consider pre-processing your data with StandardScaler or MinMaxScaler.\n",
            "  % self.max_iter, ConvergenceWarning)\n",
            "/usr/local/lib/python3.7/dist-packages/sklearn/svm/_base.py:231: ConvergenceWarning: Solver terminated early (max_iter=500).  Consider pre-processing your data with StandardScaler or MinMaxScaler.\n",
            "  % self.max_iter, ConvergenceWarning)\n",
            "/usr/local/lib/python3.7/dist-packages/sklearn/svm/_base.py:231: ConvergenceWarning: Solver terminated early (max_iter=500).  Consider pre-processing your data with StandardScaler or MinMaxScaler.\n",
            "  % self.max_iter, ConvergenceWarning)\n",
            "/usr/local/lib/python3.7/dist-packages/sklearn/svm/_base.py:231: ConvergenceWarning: Solver terminated early (max_iter=500).  Consider pre-processing your data with StandardScaler or MinMaxScaler.\n",
            "  % self.max_iter, ConvergenceWarning)\n",
            "/usr/local/lib/python3.7/dist-packages/sklearn/svm/_base.py:231: ConvergenceWarning: Solver terminated early (max_iter=500).  Consider pre-processing your data with StandardScaler or MinMaxScaler.\n",
            "  % self.max_iter, ConvergenceWarning)\n",
            "/usr/local/lib/python3.7/dist-packages/sklearn/svm/_base.py:231: ConvergenceWarning: Solver terminated early (max_iter=500).  Consider pre-processing your data with StandardScaler or MinMaxScaler.\n",
            "  % self.max_iter, ConvergenceWarning)\n",
            "/usr/local/lib/python3.7/dist-packages/sklearn/svm/_base.py:231: ConvergenceWarning: Solver terminated early (max_iter=500).  Consider pre-processing your data with StandardScaler or MinMaxScaler.\n",
            "  % self.max_iter, ConvergenceWarning)\n",
            "/usr/local/lib/python3.7/dist-packages/sklearn/svm/_base.py:231: ConvergenceWarning: Solver terminated early (max_iter=500).  Consider pre-processing your data with StandardScaler or MinMaxScaler.\n",
            "  % self.max_iter, ConvergenceWarning)\n",
            "/usr/local/lib/python3.7/dist-packages/sklearn/svm/_base.py:231: ConvergenceWarning: Solver terminated early (max_iter=500).  Consider pre-processing your data with StandardScaler or MinMaxScaler.\n",
            "  % self.max_iter, ConvergenceWarning)\n",
            "/usr/local/lib/python3.7/dist-packages/sklearn/svm/_base.py:231: ConvergenceWarning: Solver terminated early (max_iter=500).  Consider pre-processing your data with StandardScaler or MinMaxScaler.\n",
            "  % self.max_iter, ConvergenceWarning)\n",
            "/usr/local/lib/python3.7/dist-packages/sklearn/svm/_base.py:231: ConvergenceWarning: Solver terminated early (max_iter=500).  Consider pre-processing your data with StandardScaler or MinMaxScaler.\n",
            "  % self.max_iter, ConvergenceWarning)\n",
            "/usr/local/lib/python3.7/dist-packages/sklearn/svm/_base.py:231: ConvergenceWarning: Solver terminated early (max_iter=500).  Consider pre-processing your data with StandardScaler or MinMaxScaler.\n",
            "  % self.max_iter, ConvergenceWarning)\n",
            "/usr/local/lib/python3.7/dist-packages/sklearn/svm/_base.py:231: ConvergenceWarning: Solver terminated early (max_iter=500).  Consider pre-processing your data with StandardScaler or MinMaxScaler.\n",
            "  % self.max_iter, ConvergenceWarning)\n",
            "/usr/local/lib/python3.7/dist-packages/sklearn/svm/_base.py:231: ConvergenceWarning: Solver terminated early (max_iter=500).  Consider pre-processing your data with StandardScaler or MinMaxScaler.\n",
            "  % self.max_iter, ConvergenceWarning)\n",
            "/usr/local/lib/python3.7/dist-packages/sklearn/svm/_base.py:231: ConvergenceWarning: Solver terminated early (max_iter=500).  Consider pre-processing your data with StandardScaler or MinMaxScaler.\n",
            "  % self.max_iter, ConvergenceWarning)\n",
            "/usr/local/lib/python3.7/dist-packages/sklearn/svm/_base.py:231: ConvergenceWarning: Solver terminated early (max_iter=500).  Consider pre-processing your data with StandardScaler or MinMaxScaler.\n",
            "  % self.max_iter, ConvergenceWarning)\n",
            "/usr/local/lib/python3.7/dist-packages/sklearn/svm/_base.py:231: ConvergenceWarning: Solver terminated early (max_iter=500).  Consider pre-processing your data with StandardScaler or MinMaxScaler.\n",
            "  % self.max_iter, ConvergenceWarning)\n",
            "/usr/local/lib/python3.7/dist-packages/sklearn/svm/_base.py:231: ConvergenceWarning: Solver terminated early (max_iter=500).  Consider pre-processing your data with StandardScaler or MinMaxScaler.\n",
            "  % self.max_iter, ConvergenceWarning)\n",
            "/usr/local/lib/python3.7/dist-packages/sklearn/svm/_base.py:231: ConvergenceWarning: Solver terminated early (max_iter=500).  Consider pre-processing your data with StandardScaler or MinMaxScaler.\n",
            "  % self.max_iter, ConvergenceWarning)\n",
            "/usr/local/lib/python3.7/dist-packages/sklearn/svm/_base.py:231: ConvergenceWarning: Solver terminated early (max_iter=500).  Consider pre-processing your data with StandardScaler or MinMaxScaler.\n",
            "  % self.max_iter, ConvergenceWarning)\n",
            "/usr/local/lib/python3.7/dist-packages/sklearn/svm/_base.py:231: ConvergenceWarning: Solver terminated early (max_iter=500).  Consider pre-processing your data with StandardScaler or MinMaxScaler.\n",
            "  % self.max_iter, ConvergenceWarning)\n",
            "/usr/local/lib/python3.7/dist-packages/sklearn/svm/_base.py:231: ConvergenceWarning: Solver terminated early (max_iter=500).  Consider pre-processing your data with StandardScaler or MinMaxScaler.\n",
            "  % self.max_iter, ConvergenceWarning)\n",
            "/usr/local/lib/python3.7/dist-packages/sklearn/svm/_base.py:231: ConvergenceWarning: Solver terminated early (max_iter=500).  Consider pre-processing your data with StandardScaler or MinMaxScaler.\n",
            "  % self.max_iter, ConvergenceWarning)\n",
            "/usr/local/lib/python3.7/dist-packages/sklearn/svm/_base.py:231: ConvergenceWarning: Solver terminated early (max_iter=500).  Consider pre-processing your data with StandardScaler or MinMaxScaler.\n",
            "  % self.max_iter, ConvergenceWarning)\n",
            "/usr/local/lib/python3.7/dist-packages/sklearn/svm/_base.py:231: ConvergenceWarning: Solver terminated early (max_iter=500).  Consider pre-processing your data with StandardScaler or MinMaxScaler.\n",
            "  % self.max_iter, ConvergenceWarning)\n",
            "/usr/local/lib/python3.7/dist-packages/sklearn/svm/_base.py:231: ConvergenceWarning: Solver terminated early (max_iter=500).  Consider pre-processing your data with StandardScaler or MinMaxScaler.\n",
            "  % self.max_iter, ConvergenceWarning)\n",
            "/usr/local/lib/python3.7/dist-packages/sklearn/svm/_base.py:231: ConvergenceWarning: Solver terminated early (max_iter=500).  Consider pre-processing your data with StandardScaler or MinMaxScaler.\n",
            "  % self.max_iter, ConvergenceWarning)\n",
            "/usr/local/lib/python3.7/dist-packages/sklearn/svm/_base.py:231: ConvergenceWarning: Solver terminated early (max_iter=500).  Consider pre-processing your data with StandardScaler or MinMaxScaler.\n",
            "  % self.max_iter, ConvergenceWarning)\n",
            "/usr/local/lib/python3.7/dist-packages/sklearn/svm/_base.py:231: ConvergenceWarning: Solver terminated early (max_iter=500).  Consider pre-processing your data with StandardScaler or MinMaxScaler.\n",
            "  % self.max_iter, ConvergenceWarning)\n",
            "/usr/local/lib/python3.7/dist-packages/sklearn/svm/_base.py:231: ConvergenceWarning: Solver terminated early (max_iter=500).  Consider pre-processing your data with StandardScaler or MinMaxScaler.\n",
            "  % self.max_iter, ConvergenceWarning)\n",
            "/usr/local/lib/python3.7/dist-packages/sklearn/svm/_base.py:231: ConvergenceWarning: Solver terminated early (max_iter=500).  Consider pre-processing your data with StandardScaler or MinMaxScaler.\n",
            "  % self.max_iter, ConvergenceWarning)\n",
            "/usr/local/lib/python3.7/dist-packages/sklearn/svm/_base.py:231: ConvergenceWarning: Solver terminated early (max_iter=500).  Consider pre-processing your data with StandardScaler or MinMaxScaler.\n",
            "  % self.max_iter, ConvergenceWarning)\n",
            "/usr/local/lib/python3.7/dist-packages/sklearn/svm/_base.py:231: ConvergenceWarning: Solver terminated early (max_iter=500).  Consider pre-processing your data with StandardScaler or MinMaxScaler.\n",
            "  % self.max_iter, ConvergenceWarning)\n",
            "/usr/local/lib/python3.7/dist-packages/sklearn/svm/_base.py:231: ConvergenceWarning: Solver terminated early (max_iter=500).  Consider pre-processing your data with StandardScaler or MinMaxScaler.\n",
            "  % self.max_iter, ConvergenceWarning)\n",
            "/usr/local/lib/python3.7/dist-packages/sklearn/svm/_base.py:231: ConvergenceWarning: Solver terminated early (max_iter=500).  Consider pre-processing your data with StandardScaler or MinMaxScaler.\n",
            "  % self.max_iter, ConvergenceWarning)\n",
            "/usr/local/lib/python3.7/dist-packages/sklearn/svm/_base.py:231: ConvergenceWarning: Solver terminated early (max_iter=500).  Consider pre-processing your data with StandardScaler or MinMaxScaler.\n",
            "  % self.max_iter, ConvergenceWarning)\n",
            "/usr/local/lib/python3.7/dist-packages/sklearn/svm/_base.py:231: ConvergenceWarning: Solver terminated early (max_iter=500).  Consider pre-processing your data with StandardScaler or MinMaxScaler.\n",
            "  % self.max_iter, ConvergenceWarning)\n",
            "/usr/local/lib/python3.7/dist-packages/sklearn/svm/_base.py:231: ConvergenceWarning: Solver terminated early (max_iter=500).  Consider pre-processing your data with StandardScaler or MinMaxScaler.\n",
            "  % self.max_iter, ConvergenceWarning)\n",
            "/usr/local/lib/python3.7/dist-packages/sklearn/svm/_base.py:231: ConvergenceWarning: Solver terminated early (max_iter=500).  Consider pre-processing your data with StandardScaler or MinMaxScaler.\n",
            "  % self.max_iter, ConvergenceWarning)\n",
            "/usr/local/lib/python3.7/dist-packages/sklearn/svm/_base.py:231: ConvergenceWarning: Solver terminated early (max_iter=500).  Consider pre-processing your data with StandardScaler or MinMaxScaler.\n",
            "  % self.max_iter, ConvergenceWarning)\n",
            "/usr/local/lib/python3.7/dist-packages/sklearn/svm/_base.py:231: ConvergenceWarning: Solver terminated early (max_iter=500).  Consider pre-processing your data with StandardScaler or MinMaxScaler.\n",
            "  % self.max_iter, ConvergenceWarning)\n",
            "/usr/local/lib/python3.7/dist-packages/sklearn/svm/_base.py:231: ConvergenceWarning: Solver terminated early (max_iter=500).  Consider pre-processing your data with StandardScaler or MinMaxScaler.\n",
            "  % self.max_iter, ConvergenceWarning)\n",
            "/usr/local/lib/python3.7/dist-packages/sklearn/svm/_base.py:231: ConvergenceWarning: Solver terminated early (max_iter=500).  Consider pre-processing your data with StandardScaler or MinMaxScaler.\n",
            "  % self.max_iter, ConvergenceWarning)\n",
            "/usr/local/lib/python3.7/dist-packages/sklearn/svm/_base.py:231: ConvergenceWarning: Solver terminated early (max_iter=500).  Consider pre-processing your data with StandardScaler or MinMaxScaler.\n",
            "  % self.max_iter, ConvergenceWarning)\n",
            "/usr/local/lib/python3.7/dist-packages/sklearn/svm/_base.py:231: ConvergenceWarning: Solver terminated early (max_iter=500).  Consider pre-processing your data with StandardScaler or MinMaxScaler.\n",
            "  % self.max_iter, ConvergenceWarning)\n",
            "/usr/local/lib/python3.7/dist-packages/sklearn/svm/_base.py:231: ConvergenceWarning: Solver terminated early (max_iter=500).  Consider pre-processing your data with StandardScaler or MinMaxScaler.\n",
            "  % self.max_iter, ConvergenceWarning)\n",
            "/usr/local/lib/python3.7/dist-packages/sklearn/svm/_base.py:231: ConvergenceWarning: Solver terminated early (max_iter=500).  Consider pre-processing your data with StandardScaler or MinMaxScaler.\n",
            "  % self.max_iter, ConvergenceWarning)\n",
            "/usr/local/lib/python3.7/dist-packages/sklearn/svm/_base.py:231: ConvergenceWarning: Solver terminated early (max_iter=500).  Consider pre-processing your data with StandardScaler or MinMaxScaler.\n",
            "  % self.max_iter, ConvergenceWarning)\n",
            "/usr/local/lib/python3.7/dist-packages/sklearn/svm/_base.py:231: ConvergenceWarning: Solver terminated early (max_iter=500).  Consider pre-processing your data with StandardScaler or MinMaxScaler.\n",
            "  % self.max_iter, ConvergenceWarning)\n",
            "/usr/local/lib/python3.7/dist-packages/sklearn/svm/_base.py:231: ConvergenceWarning: Solver terminated early (max_iter=500).  Consider pre-processing your data with StandardScaler or MinMaxScaler.\n",
            "  % self.max_iter, ConvergenceWarning)\n",
            "/usr/local/lib/python3.7/dist-packages/sklearn/svm/_base.py:231: ConvergenceWarning: Solver terminated early (max_iter=500).  Consider pre-processing your data with StandardScaler or MinMaxScaler.\n",
            "  % self.max_iter, ConvergenceWarning)\n",
            "/usr/local/lib/python3.7/dist-packages/sklearn/svm/_base.py:231: ConvergenceWarning: Solver terminated early (max_iter=500).  Consider pre-processing your data with StandardScaler or MinMaxScaler.\n",
            "  % self.max_iter, ConvergenceWarning)\n",
            "/usr/local/lib/python3.7/dist-packages/sklearn/svm/_base.py:231: ConvergenceWarning: Solver terminated early (max_iter=500).  Consider pre-processing your data with StandardScaler or MinMaxScaler.\n",
            "  % self.max_iter, ConvergenceWarning)\n",
            "/usr/local/lib/python3.7/dist-packages/sklearn/svm/_base.py:231: ConvergenceWarning: Solver terminated early (max_iter=500).  Consider pre-processing your data with StandardScaler or MinMaxScaler.\n",
            "  % self.max_iter, ConvergenceWarning)\n",
            "/usr/local/lib/python3.7/dist-packages/sklearn/svm/_base.py:231: ConvergenceWarning: Solver terminated early (max_iter=500).  Consider pre-processing your data with StandardScaler or MinMaxScaler.\n",
            "  % self.max_iter, ConvergenceWarning)\n",
            "/usr/local/lib/python3.7/dist-packages/sklearn/svm/_base.py:231: ConvergenceWarning: Solver terminated early (max_iter=500).  Consider pre-processing your data with StandardScaler or MinMaxScaler.\n",
            "  % self.max_iter, ConvergenceWarning)\n",
            "/usr/local/lib/python3.7/dist-packages/sklearn/svm/_base.py:231: ConvergenceWarning: Solver terminated early (max_iter=500).  Consider pre-processing your data with StandardScaler or MinMaxScaler.\n",
            "  % self.max_iter, ConvergenceWarning)\n",
            "/usr/local/lib/python3.7/dist-packages/sklearn/svm/_base.py:231: ConvergenceWarning: Solver terminated early (max_iter=500).  Consider pre-processing your data with StandardScaler or MinMaxScaler.\n",
            "  % self.max_iter, ConvergenceWarning)\n",
            "/usr/local/lib/python3.7/dist-packages/sklearn/svm/_base.py:231: ConvergenceWarning: Solver terminated early (max_iter=500).  Consider pre-processing your data with StandardScaler or MinMaxScaler.\n",
            "  % self.max_iter, ConvergenceWarning)\n",
            "/usr/local/lib/python3.7/dist-packages/sklearn/svm/_base.py:231: ConvergenceWarning: Solver terminated early (max_iter=500).  Consider pre-processing your data with StandardScaler or MinMaxScaler.\n",
            "  % self.max_iter, ConvergenceWarning)\n",
            "/usr/local/lib/python3.7/dist-packages/sklearn/svm/_base.py:231: ConvergenceWarning: Solver terminated early (max_iter=500).  Consider pre-processing your data with StandardScaler or MinMaxScaler.\n",
            "  % self.max_iter, ConvergenceWarning)\n",
            "/usr/local/lib/python3.7/dist-packages/sklearn/svm/_base.py:231: ConvergenceWarning: Solver terminated early (max_iter=500).  Consider pre-processing your data with StandardScaler or MinMaxScaler.\n",
            "  % self.max_iter, ConvergenceWarning)\n",
            "/usr/local/lib/python3.7/dist-packages/sklearn/svm/_base.py:231: ConvergenceWarning: Solver terminated early (max_iter=500).  Consider pre-processing your data with StandardScaler or MinMaxScaler.\n",
            "  % self.max_iter, ConvergenceWarning)\n",
            "/usr/local/lib/python3.7/dist-packages/sklearn/svm/_base.py:231: ConvergenceWarning: Solver terminated early (max_iter=500).  Consider pre-processing your data with StandardScaler or MinMaxScaler.\n",
            "  % self.max_iter, ConvergenceWarning)\n",
            "/usr/local/lib/python3.7/dist-packages/sklearn/svm/_base.py:231: ConvergenceWarning: Solver terminated early (max_iter=500).  Consider pre-processing your data with StandardScaler or MinMaxScaler.\n",
            "  % self.max_iter, ConvergenceWarning)\n",
            "/usr/local/lib/python3.7/dist-packages/sklearn/svm/_base.py:231: ConvergenceWarning: Solver terminated early (max_iter=500).  Consider pre-processing your data with StandardScaler or MinMaxScaler.\n",
            "  % self.max_iter, ConvergenceWarning)\n",
            "/usr/local/lib/python3.7/dist-packages/sklearn/svm/_base.py:231: ConvergenceWarning: Solver terminated early (max_iter=500).  Consider pre-processing your data with StandardScaler or MinMaxScaler.\n",
            "  % self.max_iter, ConvergenceWarning)\n",
            "/usr/local/lib/python3.7/dist-packages/sklearn/svm/_base.py:231: ConvergenceWarning: Solver terminated early (max_iter=500).  Consider pre-processing your data with StandardScaler or MinMaxScaler.\n",
            "  % self.max_iter, ConvergenceWarning)\n",
            "/usr/local/lib/python3.7/dist-packages/sklearn/svm/_base.py:231: ConvergenceWarning: Solver terminated early (max_iter=500).  Consider pre-processing your data with StandardScaler or MinMaxScaler.\n",
            "  % self.max_iter, ConvergenceWarning)\n",
            "/usr/local/lib/python3.7/dist-packages/sklearn/svm/_base.py:231: ConvergenceWarning: Solver terminated early (max_iter=500).  Consider pre-processing your data with StandardScaler or MinMaxScaler.\n",
            "  % self.max_iter, ConvergenceWarning)\n",
            "/usr/local/lib/python3.7/dist-packages/sklearn/svm/_base.py:231: ConvergenceWarning: Solver terminated early (max_iter=500).  Consider pre-processing your data with StandardScaler or MinMaxScaler.\n",
            "  % self.max_iter, ConvergenceWarning)\n",
            "/usr/local/lib/python3.7/dist-packages/sklearn/svm/_base.py:231: ConvergenceWarning: Solver terminated early (max_iter=500).  Consider pre-processing your data with StandardScaler or MinMaxScaler.\n",
            "  % self.max_iter, ConvergenceWarning)\n",
            "/usr/local/lib/python3.7/dist-packages/sklearn/svm/_base.py:231: ConvergenceWarning: Solver terminated early (max_iter=500).  Consider pre-processing your data with StandardScaler or MinMaxScaler.\n",
            "  % self.max_iter, ConvergenceWarning)\n",
            "/usr/local/lib/python3.7/dist-packages/sklearn/svm/_base.py:231: ConvergenceWarning: Solver terminated early (max_iter=500).  Consider pre-processing your data with StandardScaler or MinMaxScaler.\n",
            "  % self.max_iter, ConvergenceWarning)\n",
            "/usr/local/lib/python3.7/dist-packages/sklearn/svm/_base.py:231: ConvergenceWarning: Solver terminated early (max_iter=500).  Consider pre-processing your data with StandardScaler or MinMaxScaler.\n",
            "  % self.max_iter, ConvergenceWarning)\n",
            "/usr/local/lib/python3.7/dist-packages/sklearn/svm/_base.py:231: ConvergenceWarning: Solver terminated early (max_iter=500).  Consider pre-processing your data with StandardScaler or MinMaxScaler.\n",
            "  % self.max_iter, ConvergenceWarning)\n",
            "/usr/local/lib/python3.7/dist-packages/sklearn/svm/_base.py:231: ConvergenceWarning: Solver terminated early (max_iter=500).  Consider pre-processing your data with StandardScaler or MinMaxScaler.\n",
            "  % self.max_iter, ConvergenceWarning)\n",
            "/usr/local/lib/python3.7/dist-packages/sklearn/svm/_base.py:231: ConvergenceWarning: Solver terminated early (max_iter=500).  Consider pre-processing your data with StandardScaler or MinMaxScaler.\n",
            "  % self.max_iter, ConvergenceWarning)\n",
            "/usr/local/lib/python3.7/dist-packages/sklearn/svm/_base.py:231: ConvergenceWarning: Solver terminated early (max_iter=500).  Consider pre-processing your data with StandardScaler or MinMaxScaler.\n",
            "  % self.max_iter, ConvergenceWarning)\n",
            "/usr/local/lib/python3.7/dist-packages/sklearn/svm/_base.py:231: ConvergenceWarning: Solver terminated early (max_iter=500).  Consider pre-processing your data with StandardScaler or MinMaxScaler.\n",
            "  % self.max_iter, ConvergenceWarning)\n",
            "/usr/local/lib/python3.7/dist-packages/sklearn/svm/_base.py:231: ConvergenceWarning: Solver terminated early (max_iter=500).  Consider pre-processing your data with StandardScaler or MinMaxScaler.\n",
            "  % self.max_iter, ConvergenceWarning)\n",
            "/usr/local/lib/python3.7/dist-packages/sklearn/svm/_base.py:231: ConvergenceWarning: Solver terminated early (max_iter=500).  Consider pre-processing your data with StandardScaler or MinMaxScaler.\n",
            "  % self.max_iter, ConvergenceWarning)\n",
            "/usr/local/lib/python3.7/dist-packages/sklearn/svm/_base.py:231: ConvergenceWarning: Solver terminated early (max_iter=500).  Consider pre-processing your data with StandardScaler or MinMaxScaler.\n",
            "  % self.max_iter, ConvergenceWarning)\n",
            "/usr/local/lib/python3.7/dist-packages/sklearn/svm/_base.py:231: ConvergenceWarning: Solver terminated early (max_iter=500).  Consider pre-processing your data with StandardScaler or MinMaxScaler.\n",
            "  % self.max_iter, ConvergenceWarning)\n",
            "/usr/local/lib/python3.7/dist-packages/sklearn/svm/_base.py:231: ConvergenceWarning: Solver terminated early (max_iter=500).  Consider pre-processing your data with StandardScaler or MinMaxScaler.\n",
            "  % self.max_iter, ConvergenceWarning)\n",
            "/usr/local/lib/python3.7/dist-packages/sklearn/svm/_base.py:231: ConvergenceWarning: Solver terminated early (max_iter=500).  Consider pre-processing your data with StandardScaler or MinMaxScaler.\n",
            "  % self.max_iter, ConvergenceWarning)\n",
            "/usr/local/lib/python3.7/dist-packages/sklearn/svm/_base.py:231: ConvergenceWarning: Solver terminated early (max_iter=500).  Consider pre-processing your data with StandardScaler or MinMaxScaler.\n",
            "  % self.max_iter, ConvergenceWarning)\n",
            "/usr/local/lib/python3.7/dist-packages/sklearn/svm/_base.py:231: ConvergenceWarning: Solver terminated early (max_iter=500).  Consider pre-processing your data with StandardScaler or MinMaxScaler.\n",
            "  % self.max_iter, ConvergenceWarning)\n",
            "/usr/local/lib/python3.7/dist-packages/sklearn/svm/_base.py:231: ConvergenceWarning: Solver terminated early (max_iter=500).  Consider pre-processing your data with StandardScaler or MinMaxScaler.\n",
            "  % self.max_iter, ConvergenceWarning)\n",
            "/usr/local/lib/python3.7/dist-packages/sklearn/svm/_base.py:231: ConvergenceWarning: Solver terminated early (max_iter=500).  Consider pre-processing your data with StandardScaler or MinMaxScaler.\n",
            "  % self.max_iter, ConvergenceWarning)\n",
            "/usr/local/lib/python3.7/dist-packages/sklearn/svm/_base.py:231: ConvergenceWarning: Solver terminated early (max_iter=500).  Consider pre-processing your data with StandardScaler or MinMaxScaler.\n",
            "  % self.max_iter, ConvergenceWarning)\n",
            "/usr/local/lib/python3.7/dist-packages/sklearn/svm/_base.py:231: ConvergenceWarning: Solver terminated early (max_iter=500).  Consider pre-processing your data with StandardScaler or MinMaxScaler.\n",
            "  % self.max_iter, ConvergenceWarning)\n",
            "/usr/local/lib/python3.7/dist-packages/sklearn/svm/_base.py:231: ConvergenceWarning: Solver terminated early (max_iter=500).  Consider pre-processing your data with StandardScaler or MinMaxScaler.\n",
            "  % self.max_iter, ConvergenceWarning)\n",
            "/usr/local/lib/python3.7/dist-packages/sklearn/svm/_base.py:231: ConvergenceWarning: Solver terminated early (max_iter=500).  Consider pre-processing your data with StandardScaler or MinMaxScaler.\n",
            "  % self.max_iter, ConvergenceWarning)\n",
            "/usr/local/lib/python3.7/dist-packages/sklearn/svm/_base.py:231: ConvergenceWarning: Solver terminated early (max_iter=500).  Consider pre-processing your data with StandardScaler or MinMaxScaler.\n",
            "  % self.max_iter, ConvergenceWarning)\n",
            "/usr/local/lib/python3.7/dist-packages/sklearn/svm/_base.py:231: ConvergenceWarning: Solver terminated early (max_iter=500).  Consider pre-processing your data with StandardScaler or MinMaxScaler.\n",
            "  % self.max_iter, ConvergenceWarning)\n",
            "/usr/local/lib/python3.7/dist-packages/sklearn/svm/_base.py:231: ConvergenceWarning: Solver terminated early (max_iter=500).  Consider pre-processing your data with StandardScaler or MinMaxScaler.\n",
            "  % self.max_iter, ConvergenceWarning)\n"
          ]
        },
        {
          "output_type": "stream",
          "name": "stdout",
          "text": [
            "{'mean_fit_time': array([0.19203906, 0.20629313, 0.24797933, 0.30200956, 0.3657239 ,\n",
            "       0.14212568, 0.1867902 , 0.23922353, 0.29589729, 0.3633286 ,\n",
            "       0.13673124, 0.18378837, 0.24255981, 0.29995637, 0.3589438 ,\n",
            "       0.13407166, 0.18118243, 0.23927722, 0.29323161, 0.36038823,\n",
            "       0.13639917, 0.18583207, 0.23879552, 0.30750666, 0.35790684,\n",
            "       0.13742757, 0.18107877, 0.23876143, 0.30238013, 0.35646932]), 'std_fit_time': array([0.00397356, 0.00510529, 0.00954835, 0.00797769, 0.00771826,\n",
            "       0.00636707, 0.00636745, 0.00511892, 0.0052937 , 0.01096032,\n",
            "       0.00453489, 0.00873651, 0.00574487, 0.00553592, 0.00859641,\n",
            "       0.00558243, 0.00543315, 0.00534541, 0.00629655, 0.00845462,\n",
            "       0.00474724, 0.0108415 , 0.00576306, 0.00776354, 0.00873608,\n",
            "       0.00630085, 0.0069644 , 0.0075014 , 0.00683134, 0.00482596]), 'mean_score_time': array([0.0235502 , 0.02094452, 0.02122767, 0.02166138, 0.02465169,\n",
            "       0.01571202, 0.01868865, 0.0191236 , 0.02126446, 0.02310042,\n",
            "       0.01459556, 0.01886368, 0.0196744 , 0.02117164, 0.02355874,\n",
            "       0.01494539, 0.01882184, 0.01906555, 0.02143986, 0.02308133,\n",
            "       0.01407757, 0.01909113, 0.01968586, 0.02277138, 0.02390375,\n",
            "       0.0146049 , 0.0183744 , 0.01926579, 0.02248335, 0.02259822]), 'std_score_time': array([0.00109193, 0.00101963, 0.00192581, 0.00046134, 0.00226674,\n",
            "       0.00064907, 0.00158873, 0.00099929, 0.00121884, 0.00053525,\n",
            "       0.00144491, 0.0006747 , 0.00102388, 0.00060309, 0.00129514,\n",
            "       0.00208103, 0.00257298, 0.00068738, 0.00108231, 0.00083105,\n",
            "       0.00052063, 0.0023307 , 0.00135779, 0.00199018, 0.00282831,\n",
            "       0.00094192, 0.00165132, 0.00109467, 0.00288845, 0.00105846]), 'param_C': masked_array(data=[1.0, 1.0, 1.0, 1.0, 1.0, 10.0, 10.0, 10.0, 10.0, 10.0,\n",
            "                   100.0, 100.0, 100.0, 100.0, 100.0, 1000.0, 1000.0,\n",
            "                   1000.0, 1000.0, 1000.0, 10000.0, 10000.0, 10000.0,\n",
            "                   10000.0, 10000.0, 100000.0, 100000.0, 100000.0,\n",
            "                   100000.0, 100000.0],\n",
            "             mask=[False, False, False, False, False, False, False, False,\n",
            "                   False, False, False, False, False, False, False, False,\n",
            "                   False, False, False, False, False, False, False, False,\n",
            "                   False, False, False, False, False, False],\n",
            "       fill_value='?',\n",
            "            dtype=object), 'param_gamma': masked_array(data=[1.0, 2.0, 3.0, 4.0, 5.0, 1.0, 2.0, 3.0, 4.0, 5.0, 1.0,\n",
            "                   2.0, 3.0, 4.0, 5.0, 1.0, 2.0, 3.0, 4.0, 5.0, 1.0, 2.0,\n",
            "                   3.0, 4.0, 5.0, 1.0, 2.0, 3.0, 4.0, 5.0],\n",
            "             mask=[False, False, False, False, False, False, False, False,\n",
            "                   False, False, False, False, False, False, False, False,\n",
            "                   False, False, False, False, False, False, False, False,\n",
            "                   False, False, False, False, False, False],\n",
            "       fill_value='?',\n",
            "            dtype=object), 'params': [{'C': 1.0, 'gamma': 1.0}, {'C': 1.0, 'gamma': 2.0}, {'C': 1.0, 'gamma': 3.0}, {'C': 1.0, 'gamma': 4.0}, {'C': 1.0, 'gamma': 5.0}, {'C': 10.0, 'gamma': 1.0}, {'C': 10.0, 'gamma': 2.0}, {'C': 10.0, 'gamma': 3.0}, {'C': 10.0, 'gamma': 4.0}, {'C': 10.0, 'gamma': 5.0}, {'C': 100.0, 'gamma': 1.0}, {'C': 100.0, 'gamma': 2.0}, {'C': 100.0, 'gamma': 3.0}, {'C': 100.0, 'gamma': 4.0}, {'C': 100.0, 'gamma': 5.0}, {'C': 1000.0, 'gamma': 1.0}, {'C': 1000.0, 'gamma': 2.0}, {'C': 1000.0, 'gamma': 3.0}, {'C': 1000.0, 'gamma': 4.0}, {'C': 1000.0, 'gamma': 5.0}, {'C': 10000.0, 'gamma': 1.0}, {'C': 10000.0, 'gamma': 2.0}, {'C': 10000.0, 'gamma': 3.0}, {'C': 10000.0, 'gamma': 4.0}, {'C': 10000.0, 'gamma': 5.0}, {'C': 100000.0, 'gamma': 1.0}, {'C': 100000.0, 'gamma': 2.0}, {'C': 100000.0, 'gamma': 3.0}, {'C': 100000.0, 'gamma': 4.0}, {'C': 100000.0, 'gamma': 5.0}], 'split0_test_score': array([0.9781746 , 0.98611111, 0.98412698, 0.98412698, 0.98214286,\n",
            "       0.99206349, 0.99206349, 0.99404762, 0.99206349, 0.99206349,\n",
            "       0.98809524, 0.99404762, 0.99404762, 0.99206349, 0.99206349,\n",
            "       0.98809524, 0.99404762, 0.99404762, 0.99206349, 0.99206349,\n",
            "       0.98809524, 0.99404762, 0.99404762, 0.99206349, 0.99206349,\n",
            "       0.98809524, 0.99404762, 0.99404762, 0.99206349, 0.99206349]), 'split1_test_score': array([0.98214286, 0.98611111, 0.98611111, 0.98809524, 0.98809524,\n",
            "       0.98611111, 0.98611111, 0.98412698, 0.98412698, 0.98611111,\n",
            "       0.98214286, 0.98412698, 0.98412698, 0.98412698, 0.98611111,\n",
            "       0.98214286, 0.98412698, 0.98412698, 0.98412698, 0.98611111,\n",
            "       0.98214286, 0.98412698, 0.98412698, 0.98412698, 0.98611111,\n",
            "       0.98214286, 0.98412698, 0.98412698, 0.98412698, 0.98611111]), 'split2_test_score': array([0.98611111, 0.98611111, 0.98809524, 0.99007937, 0.98809524,\n",
            "       0.98809524, 0.98809524, 0.99007937, 0.99007937, 0.99007937,\n",
            "       0.99007937, 0.99007937, 0.99007937, 0.99007937, 0.99007937,\n",
            "       0.99007937, 0.99007937, 0.99007937, 0.99007937, 0.99007937,\n",
            "       0.99007937, 0.99007937, 0.99007937, 0.99007937, 0.99007937,\n",
            "       0.99007937, 0.99007937, 0.99007937, 0.99007937, 0.99007937]), 'split3_test_score': array([0.98412698, 0.98809524, 0.99007937, 0.99007937, 0.99206349,\n",
            "       0.99206349, 0.99404762, 0.99206349, 0.99206349, 0.99206349,\n",
            "       0.99007937, 0.99404762, 0.99206349, 0.99206349, 0.99206349,\n",
            "       0.99007937, 0.99404762, 0.99206349, 0.99206349, 0.99206349,\n",
            "       0.99007937, 0.99404762, 0.99206349, 0.99206349, 0.99206349,\n",
            "       0.99007937, 0.99404762, 0.99206349, 0.99206349, 0.99206349]), 'split4_test_score': array([0.97420635, 0.98214286, 0.98214286, 0.98015873, 0.98214286,\n",
            "       0.98412698, 0.98412698, 0.98412698, 0.98015873, 0.98214286,\n",
            "       0.98412698, 0.98412698, 0.98412698, 0.98015873, 0.98214286,\n",
            "       0.98412698, 0.98412698, 0.98412698, 0.98015873, 0.98214286,\n",
            "       0.98412698, 0.98412698, 0.98412698, 0.98015873, 0.98214286,\n",
            "       0.98412698, 0.98412698, 0.98412698, 0.98015873, 0.98214286]), 'split5_test_score': array([0.9781746 , 0.98611111, 0.98214286, 0.98015873, 0.98015873,\n",
            "       0.98412698, 0.98611111, 0.98809524, 0.98214286, 0.98015873,\n",
            "       0.97619048, 0.98412698, 0.98809524, 0.98214286, 0.98015873,\n",
            "       0.97619048, 0.98412698, 0.98809524, 0.98214286, 0.98015873,\n",
            "       0.97619048, 0.98412698, 0.98809524, 0.98214286, 0.98015873,\n",
            "       0.97619048, 0.98412698, 0.98809524, 0.98214286, 0.98015873]), 'split6_test_score': array([0.97614314, 0.98409543, 0.98409543, 0.98011928, 0.98210736,\n",
            "       0.99204771, 0.99602386, 0.99602386, 0.99403579, 0.99204771,\n",
            "       0.99801193, 0.99801193, 0.99801193, 0.99403579, 0.99204771,\n",
            "       0.99801193, 0.99801193, 0.99801193, 0.99403579, 0.99204771,\n",
            "       0.99801193, 0.99801193, 0.99801193, 0.99403579, 0.99204771,\n",
            "       0.99801193, 0.99801193, 0.99801193, 0.99403579, 0.99204771]), 'split7_test_score': array([0.9860835 , 0.9860835 , 0.98807157, 0.98409543, 0.98409543,\n",
            "       0.98807157, 0.98409543, 0.98210736, 0.97813121, 0.98011928,\n",
            "       0.99005964, 0.98409543, 0.98011928, 0.97813121, 0.98011928,\n",
            "       0.99005964, 0.98409543, 0.98011928, 0.97813121, 0.98011928,\n",
            "       0.99005964, 0.98409543, 0.98011928, 0.97813121, 0.98011928,\n",
            "       0.99005964, 0.98409543, 0.98011928, 0.97813121, 0.98011928]), 'split8_test_score': array([0.99005964, 0.99403579, 0.99602386, 0.99403579, 0.99403579,\n",
            "       0.99602386, 0.99801193, 0.99801193, 0.99602386, 0.99403579,\n",
            "       0.99602386, 0.99801193, 0.99801193, 0.99602386, 0.99403579,\n",
            "       0.99602386, 0.99801193, 0.99801193, 0.99602386, 0.99403579,\n",
            "       0.99602386, 0.99801193, 0.99801193, 0.99602386, 0.99403579,\n",
            "       0.99602386, 0.99801193, 0.99801193, 0.99602386, 0.99403579]), 'split9_test_score': array([0.98210736, 0.98210736, 0.98409543, 0.98409543, 0.98409543,\n",
            "       0.98807157, 0.9860835 , 0.9860835 , 0.9860835 , 0.9860835 ,\n",
            "       0.98409543, 0.9860835 , 0.9860835 , 0.9860835 , 0.9860835 ,\n",
            "       0.98409543, 0.9860835 , 0.9860835 , 0.9860835 , 0.9860835 ,\n",
            "       0.98409543, 0.9860835 , 0.9860835 , 0.9860835 , 0.9860835 ,\n",
            "       0.98409543, 0.9860835 , 0.9860835 , 0.9860835 , 0.9860835 ]), 'mean_test_score': array([0.98173301, 0.98610046, 0.98649847, 0.98550443, 0.98570324,\n",
            "       0.9890802 , 0.98947703, 0.98947663, 0.98749093, 0.98749053,\n",
            "       0.98789051, 0.98967583, 0.98947663, 0.98749093, 0.98749053,\n",
            "       0.98789051, 0.98967583, 0.98947663, 0.98749093, 0.98749053,\n",
            "       0.98789051, 0.98967583, 0.98947663, 0.98749093, 0.98749053,\n",
            "       0.98789051, 0.98967583, 0.98947663, 0.98749093, 0.98749053]), 'std_test_score': array([0.00476118, 0.00320276, 0.00404779, 0.00461928, 0.00442179,\n",
            "       0.00368388, 0.0048678 , 0.00518297, 0.00589429, 0.00502698,\n",
            "       0.00617589, 0.00560164, 0.00576082, 0.00589429, 0.00502698,\n",
            "       0.00617589, 0.00560164, 0.00576082, 0.00589429, 0.00502698,\n",
            "       0.00617589, 0.00560164, 0.00576082, 0.00589429, 0.00502698,\n",
            "       0.00617589, 0.00560164, 0.00576082, 0.00589429, 0.00502698]), 'rank_test_score': array([30, 27, 26, 29, 28, 11,  5,  6, 16, 21, 12,  1,  6, 16, 21, 12,  1,\n",
            "        6, 16, 21, 12,  1,  6, 16, 21, 12,  1,  6, 16, 21], dtype=int32)}\n",
            "the best parameter pair is {'C': 100.0, 'gamma': 2.0}\n"
          ]
        },
        {
          "output_type": "stream",
          "name": "stderr",
          "text": [
            "/usr/local/lib/python3.7/dist-packages/sklearn/svm/_base.py:231: ConvergenceWarning: Solver terminated early (max_iter=500).  Consider pre-processing your data with StandardScaler or MinMaxScaler.\n",
            "  % self.max_iter, ConvergenceWarning)\n"
          ]
        }
      ]
    },
    {
      "cell_type": "code",
      "metadata": {
        "colab": {
          "base_uri": "https://localhost:8080/"
        },
        "id": "imePu_Vt0aRs",
        "outputId": "c87c7459-7af8-4c66-e1e6-6e426c1abdb0"
      },
      "source": [
        "genus_pred.shape"
      ],
      "execution_count": 26,
      "outputs": [
        {
          "output_type": "execute_result",
          "data": {
            "text/plain": [
              "(2159,)"
            ]
          },
          "metadata": {},
          "execution_count": 26
        }
      ]
    },
    {
      "cell_type": "code",
      "metadata": {
        "colab": {
          "base_uri": "https://localhost:8080/"
        },
        "id": "tg22fuNGmASi",
        "outputId": "e4313759-2d1f-4203-d3f2-f9987f718b8a"
      },
      "source": [
        "species_pred = parametersSearch(train_y['Species'])"
      ],
      "execution_count": 27,
      "outputs": [
        {
          "output_type": "stream",
          "name": "stderr",
          "text": [
            "/usr/local/lib/python3.7/dist-packages/sklearn/svm/_base.py:231: ConvergenceWarning: Solver terminated early (max_iter=500).  Consider pre-processing your data with StandardScaler or MinMaxScaler.\n",
            "  % self.max_iter, ConvergenceWarning)\n",
            "/usr/local/lib/python3.7/dist-packages/sklearn/svm/_base.py:231: ConvergenceWarning: Solver terminated early (max_iter=500).  Consider pre-processing your data with StandardScaler or MinMaxScaler.\n",
            "  % self.max_iter, ConvergenceWarning)\n",
            "/usr/local/lib/python3.7/dist-packages/sklearn/svm/_base.py:231: ConvergenceWarning: Solver terminated early (max_iter=500).  Consider pre-processing your data with StandardScaler or MinMaxScaler.\n",
            "  % self.max_iter, ConvergenceWarning)\n",
            "/usr/local/lib/python3.7/dist-packages/sklearn/svm/_base.py:231: ConvergenceWarning: Solver terminated early (max_iter=500).  Consider pre-processing your data with StandardScaler or MinMaxScaler.\n",
            "  % self.max_iter, ConvergenceWarning)\n",
            "/usr/local/lib/python3.7/dist-packages/sklearn/svm/_base.py:231: ConvergenceWarning: Solver terminated early (max_iter=500).  Consider pre-processing your data with StandardScaler or MinMaxScaler.\n",
            "  % self.max_iter, ConvergenceWarning)\n",
            "/usr/local/lib/python3.7/dist-packages/sklearn/svm/_base.py:231: ConvergenceWarning: Solver terminated early (max_iter=500).  Consider pre-processing your data with StandardScaler or MinMaxScaler.\n",
            "  % self.max_iter, ConvergenceWarning)\n",
            "/usr/local/lib/python3.7/dist-packages/sklearn/svm/_base.py:231: ConvergenceWarning: Solver terminated early (max_iter=500).  Consider pre-processing your data with StandardScaler or MinMaxScaler.\n",
            "  % self.max_iter, ConvergenceWarning)\n",
            "/usr/local/lib/python3.7/dist-packages/sklearn/svm/_base.py:231: ConvergenceWarning: Solver terminated early (max_iter=500).  Consider pre-processing your data with StandardScaler or MinMaxScaler.\n",
            "  % self.max_iter, ConvergenceWarning)\n",
            "/usr/local/lib/python3.7/dist-packages/sklearn/svm/_base.py:231: ConvergenceWarning: Solver terminated early (max_iter=500).  Consider pre-processing your data with StandardScaler or MinMaxScaler.\n",
            "  % self.max_iter, ConvergenceWarning)\n",
            "/usr/local/lib/python3.7/dist-packages/sklearn/svm/_base.py:231: ConvergenceWarning: Solver terminated early (max_iter=500).  Consider pre-processing your data with StandardScaler or MinMaxScaler.\n",
            "  % self.max_iter, ConvergenceWarning)\n",
            "/usr/local/lib/python3.7/dist-packages/sklearn/svm/_base.py:231: ConvergenceWarning: Solver terminated early (max_iter=500).  Consider pre-processing your data with StandardScaler or MinMaxScaler.\n",
            "  % self.max_iter, ConvergenceWarning)\n",
            "/usr/local/lib/python3.7/dist-packages/sklearn/svm/_base.py:231: ConvergenceWarning: Solver terminated early (max_iter=500).  Consider pre-processing your data with StandardScaler or MinMaxScaler.\n",
            "  % self.max_iter, ConvergenceWarning)\n",
            "/usr/local/lib/python3.7/dist-packages/sklearn/svm/_base.py:231: ConvergenceWarning: Solver terminated early (max_iter=500).  Consider pre-processing your data with StandardScaler or MinMaxScaler.\n",
            "  % self.max_iter, ConvergenceWarning)\n",
            "/usr/local/lib/python3.7/dist-packages/sklearn/svm/_base.py:231: ConvergenceWarning: Solver terminated early (max_iter=500).  Consider pre-processing your data with StandardScaler or MinMaxScaler.\n",
            "  % self.max_iter, ConvergenceWarning)\n",
            "/usr/local/lib/python3.7/dist-packages/sklearn/svm/_base.py:231: ConvergenceWarning: Solver terminated early (max_iter=500).  Consider pre-processing your data with StandardScaler or MinMaxScaler.\n",
            "  % self.max_iter, ConvergenceWarning)\n",
            "/usr/local/lib/python3.7/dist-packages/sklearn/svm/_base.py:231: ConvergenceWarning: Solver terminated early (max_iter=500).  Consider pre-processing your data with StandardScaler or MinMaxScaler.\n",
            "  % self.max_iter, ConvergenceWarning)\n",
            "/usr/local/lib/python3.7/dist-packages/sklearn/svm/_base.py:231: ConvergenceWarning: Solver terminated early (max_iter=500).  Consider pre-processing your data with StandardScaler or MinMaxScaler.\n",
            "  % self.max_iter, ConvergenceWarning)\n",
            "/usr/local/lib/python3.7/dist-packages/sklearn/svm/_base.py:231: ConvergenceWarning: Solver terminated early (max_iter=500).  Consider pre-processing your data with StandardScaler or MinMaxScaler.\n",
            "  % self.max_iter, ConvergenceWarning)\n",
            "/usr/local/lib/python3.7/dist-packages/sklearn/svm/_base.py:231: ConvergenceWarning: Solver terminated early (max_iter=500).  Consider pre-processing your data with StandardScaler or MinMaxScaler.\n",
            "  % self.max_iter, ConvergenceWarning)\n",
            "/usr/local/lib/python3.7/dist-packages/sklearn/svm/_base.py:231: ConvergenceWarning: Solver terminated early (max_iter=500).  Consider pre-processing your data with StandardScaler or MinMaxScaler.\n",
            "  % self.max_iter, ConvergenceWarning)\n",
            "/usr/local/lib/python3.7/dist-packages/sklearn/svm/_base.py:231: ConvergenceWarning: Solver terminated early (max_iter=500).  Consider pre-processing your data with StandardScaler or MinMaxScaler.\n",
            "  % self.max_iter, ConvergenceWarning)\n",
            "/usr/local/lib/python3.7/dist-packages/sklearn/svm/_base.py:231: ConvergenceWarning: Solver terminated early (max_iter=500).  Consider pre-processing your data with StandardScaler or MinMaxScaler.\n",
            "  % self.max_iter, ConvergenceWarning)\n",
            "/usr/local/lib/python3.7/dist-packages/sklearn/svm/_base.py:231: ConvergenceWarning: Solver terminated early (max_iter=500).  Consider pre-processing your data with StandardScaler or MinMaxScaler.\n",
            "  % self.max_iter, ConvergenceWarning)\n",
            "/usr/local/lib/python3.7/dist-packages/sklearn/svm/_base.py:231: ConvergenceWarning: Solver terminated early (max_iter=500).  Consider pre-processing your data with StandardScaler or MinMaxScaler.\n",
            "  % self.max_iter, ConvergenceWarning)\n",
            "/usr/local/lib/python3.7/dist-packages/sklearn/svm/_base.py:231: ConvergenceWarning: Solver terminated early (max_iter=500).  Consider pre-processing your data with StandardScaler or MinMaxScaler.\n",
            "  % self.max_iter, ConvergenceWarning)\n",
            "/usr/local/lib/python3.7/dist-packages/sklearn/svm/_base.py:231: ConvergenceWarning: Solver terminated early (max_iter=500).  Consider pre-processing your data with StandardScaler or MinMaxScaler.\n",
            "  % self.max_iter, ConvergenceWarning)\n",
            "/usr/local/lib/python3.7/dist-packages/sklearn/svm/_base.py:231: ConvergenceWarning: Solver terminated early (max_iter=500).  Consider pre-processing your data with StandardScaler or MinMaxScaler.\n",
            "  % self.max_iter, ConvergenceWarning)\n",
            "/usr/local/lib/python3.7/dist-packages/sklearn/svm/_base.py:231: ConvergenceWarning: Solver terminated early (max_iter=500).  Consider pre-processing your data with StandardScaler or MinMaxScaler.\n",
            "  % self.max_iter, ConvergenceWarning)\n",
            "/usr/local/lib/python3.7/dist-packages/sklearn/svm/_base.py:231: ConvergenceWarning: Solver terminated early (max_iter=500).  Consider pre-processing your data with StandardScaler or MinMaxScaler.\n",
            "  % self.max_iter, ConvergenceWarning)\n",
            "/usr/local/lib/python3.7/dist-packages/sklearn/svm/_base.py:231: ConvergenceWarning: Solver terminated early (max_iter=500).  Consider pre-processing your data with StandardScaler or MinMaxScaler.\n",
            "  % self.max_iter, ConvergenceWarning)\n",
            "/usr/local/lib/python3.7/dist-packages/sklearn/svm/_base.py:231: ConvergenceWarning: Solver terminated early (max_iter=500).  Consider pre-processing your data with StandardScaler or MinMaxScaler.\n",
            "  % self.max_iter, ConvergenceWarning)\n",
            "/usr/local/lib/python3.7/dist-packages/sklearn/svm/_base.py:231: ConvergenceWarning: Solver terminated early (max_iter=500).  Consider pre-processing your data with StandardScaler or MinMaxScaler.\n",
            "  % self.max_iter, ConvergenceWarning)\n",
            "/usr/local/lib/python3.7/dist-packages/sklearn/svm/_base.py:231: ConvergenceWarning: Solver terminated early (max_iter=500).  Consider pre-processing your data with StandardScaler or MinMaxScaler.\n",
            "  % self.max_iter, ConvergenceWarning)\n",
            "/usr/local/lib/python3.7/dist-packages/sklearn/svm/_base.py:231: ConvergenceWarning: Solver terminated early (max_iter=500).  Consider pre-processing your data with StandardScaler or MinMaxScaler.\n",
            "  % self.max_iter, ConvergenceWarning)\n",
            "/usr/local/lib/python3.7/dist-packages/sklearn/svm/_base.py:231: ConvergenceWarning: Solver terminated early (max_iter=500).  Consider pre-processing your data with StandardScaler or MinMaxScaler.\n",
            "  % self.max_iter, ConvergenceWarning)\n",
            "/usr/local/lib/python3.7/dist-packages/sklearn/svm/_base.py:231: ConvergenceWarning: Solver terminated early (max_iter=500).  Consider pre-processing your data with StandardScaler or MinMaxScaler.\n",
            "  % self.max_iter, ConvergenceWarning)\n",
            "/usr/local/lib/python3.7/dist-packages/sklearn/svm/_base.py:231: ConvergenceWarning: Solver terminated early (max_iter=500).  Consider pre-processing your data with StandardScaler or MinMaxScaler.\n",
            "  % self.max_iter, ConvergenceWarning)\n",
            "/usr/local/lib/python3.7/dist-packages/sklearn/svm/_base.py:231: ConvergenceWarning: Solver terminated early (max_iter=500).  Consider pre-processing your data with StandardScaler or MinMaxScaler.\n",
            "  % self.max_iter, ConvergenceWarning)\n",
            "/usr/local/lib/python3.7/dist-packages/sklearn/svm/_base.py:231: ConvergenceWarning: Solver terminated early (max_iter=500).  Consider pre-processing your data with StandardScaler or MinMaxScaler.\n",
            "  % self.max_iter, ConvergenceWarning)\n",
            "/usr/local/lib/python3.7/dist-packages/sklearn/svm/_base.py:231: ConvergenceWarning: Solver terminated early (max_iter=500).  Consider pre-processing your data with StandardScaler or MinMaxScaler.\n",
            "  % self.max_iter, ConvergenceWarning)\n",
            "/usr/local/lib/python3.7/dist-packages/sklearn/svm/_base.py:231: ConvergenceWarning: Solver terminated early (max_iter=500).  Consider pre-processing your data with StandardScaler or MinMaxScaler.\n",
            "  % self.max_iter, ConvergenceWarning)\n",
            "/usr/local/lib/python3.7/dist-packages/sklearn/svm/_base.py:231: ConvergenceWarning: Solver terminated early (max_iter=500).  Consider pre-processing your data with StandardScaler or MinMaxScaler.\n",
            "  % self.max_iter, ConvergenceWarning)\n",
            "/usr/local/lib/python3.7/dist-packages/sklearn/svm/_base.py:231: ConvergenceWarning: Solver terminated early (max_iter=500).  Consider pre-processing your data with StandardScaler or MinMaxScaler.\n",
            "  % self.max_iter, ConvergenceWarning)\n",
            "/usr/local/lib/python3.7/dist-packages/sklearn/svm/_base.py:231: ConvergenceWarning: Solver terminated early (max_iter=500).  Consider pre-processing your data with StandardScaler or MinMaxScaler.\n",
            "  % self.max_iter, ConvergenceWarning)\n",
            "/usr/local/lib/python3.7/dist-packages/sklearn/svm/_base.py:231: ConvergenceWarning: Solver terminated early (max_iter=500).  Consider pre-processing your data with StandardScaler or MinMaxScaler.\n",
            "  % self.max_iter, ConvergenceWarning)\n",
            "/usr/local/lib/python3.7/dist-packages/sklearn/svm/_base.py:231: ConvergenceWarning: Solver terminated early (max_iter=500).  Consider pre-processing your data with StandardScaler or MinMaxScaler.\n",
            "  % self.max_iter, ConvergenceWarning)\n",
            "/usr/local/lib/python3.7/dist-packages/sklearn/svm/_base.py:231: ConvergenceWarning: Solver terminated early (max_iter=500).  Consider pre-processing your data with StandardScaler or MinMaxScaler.\n",
            "  % self.max_iter, ConvergenceWarning)\n",
            "/usr/local/lib/python3.7/dist-packages/sklearn/svm/_base.py:231: ConvergenceWarning: Solver terminated early (max_iter=500).  Consider pre-processing your data with StandardScaler or MinMaxScaler.\n",
            "  % self.max_iter, ConvergenceWarning)\n",
            "/usr/local/lib/python3.7/dist-packages/sklearn/svm/_base.py:231: ConvergenceWarning: Solver terminated early (max_iter=500).  Consider pre-processing your data with StandardScaler or MinMaxScaler.\n",
            "  % self.max_iter, ConvergenceWarning)\n",
            "/usr/local/lib/python3.7/dist-packages/sklearn/svm/_base.py:231: ConvergenceWarning: Solver terminated early (max_iter=500).  Consider pre-processing your data with StandardScaler or MinMaxScaler.\n",
            "  % self.max_iter, ConvergenceWarning)\n",
            "/usr/local/lib/python3.7/dist-packages/sklearn/svm/_base.py:231: ConvergenceWarning: Solver terminated early (max_iter=500).  Consider pre-processing your data with StandardScaler or MinMaxScaler.\n",
            "  % self.max_iter, ConvergenceWarning)\n",
            "/usr/local/lib/python3.7/dist-packages/sklearn/svm/_base.py:231: ConvergenceWarning: Solver terminated early (max_iter=500).  Consider pre-processing your data with StandardScaler or MinMaxScaler.\n",
            "  % self.max_iter, ConvergenceWarning)\n",
            "/usr/local/lib/python3.7/dist-packages/sklearn/svm/_base.py:231: ConvergenceWarning: Solver terminated early (max_iter=500).  Consider pre-processing your data with StandardScaler or MinMaxScaler.\n",
            "  % self.max_iter, ConvergenceWarning)\n",
            "/usr/local/lib/python3.7/dist-packages/sklearn/svm/_base.py:231: ConvergenceWarning: Solver terminated early (max_iter=500).  Consider pre-processing your data with StandardScaler or MinMaxScaler.\n",
            "  % self.max_iter, ConvergenceWarning)\n",
            "/usr/local/lib/python3.7/dist-packages/sklearn/svm/_base.py:231: ConvergenceWarning: Solver terminated early (max_iter=500).  Consider pre-processing your data with StandardScaler or MinMaxScaler.\n",
            "  % self.max_iter, ConvergenceWarning)\n"
          ]
        },
        {
          "output_type": "stream",
          "name": "stdout",
          "text": [
            "{'mean_fit_time': array([0.15714765, 0.19599373, 0.24289877, 0.29757264, 0.34485781,\n",
            "       0.11968734, 0.17757838, 0.22876966, 0.28057323, 0.34265389,\n",
            "       0.12120872, 0.17830985, 0.22773893, 0.28733208, 0.34220827,\n",
            "       0.11992109, 0.17170942, 0.22848234, 0.28400447, 0.34123094,\n",
            "       0.11925399, 0.17677431, 0.22969308, 0.28255992, 0.33965256,\n",
            "       0.12204211, 0.17436194, 0.22592039, 0.28488429, 0.33484938]), 'std_fit_time': array([0.00536973, 0.00352511, 0.00558772, 0.00825608, 0.00847979,\n",
            "       0.0040385 , 0.00611218, 0.00863275, 0.00427663, 0.00967129,\n",
            "       0.00342874, 0.00563125, 0.00375017, 0.00702869, 0.00715213,\n",
            "       0.00608674, 0.00386341, 0.00464389, 0.00491093, 0.01271472,\n",
            "       0.00473647, 0.00681462, 0.00574812, 0.00970503, 0.00882704,\n",
            "       0.00289449, 0.00559486, 0.0057891 , 0.0079044 , 0.00903019]), 'mean_score_time': array([0.02599385, 0.02358432, 0.02351637, 0.02392716, 0.02457964,\n",
            "       0.01770706, 0.02031624, 0.02070215, 0.02183456, 0.02408495,\n",
            "       0.01656647, 0.01898887, 0.02036653, 0.02207456, 0.02373967,\n",
            "       0.01555741, 0.0189501 , 0.0221015 , 0.02227566, 0.02365205,\n",
            "       0.01603856, 0.01907177, 0.02132125, 0.02287781, 0.02438488,\n",
            "       0.01636243, 0.01882517, 0.02062712, 0.02298422, 0.02355421]), 'std_score_time': array([0.00108504, 0.00097387, 0.0007399 , 0.00076171, 0.00099427,\n",
            "       0.00199465, 0.00231306, 0.00196493, 0.00077474, 0.00088082,\n",
            "       0.00187247, 0.00160507, 0.00066716, 0.0007281 , 0.00120041,\n",
            "       0.00068383, 0.00101927, 0.00231352, 0.00081286, 0.00102773,\n",
            "       0.00124368, 0.00181922, 0.00165788, 0.00133888, 0.00098016,\n",
            "       0.00100443, 0.00193981, 0.00173887, 0.0018293 , 0.00134518]), 'param_C': masked_array(data=[1.0, 1.0, 1.0, 1.0, 1.0, 10.0, 10.0, 10.0, 10.0, 10.0,\n",
            "                   100.0, 100.0, 100.0, 100.0, 100.0, 1000.0, 1000.0,\n",
            "                   1000.0, 1000.0, 1000.0, 10000.0, 10000.0, 10000.0,\n",
            "                   10000.0, 10000.0, 100000.0, 100000.0, 100000.0,\n",
            "                   100000.0, 100000.0],\n",
            "             mask=[False, False, False, False, False, False, False, False,\n",
            "                   False, False, False, False, False, False, False, False,\n",
            "                   False, False, False, False, False, False, False, False,\n",
            "                   False, False, False, False, False, False],\n",
            "       fill_value='?',\n",
            "            dtype=object), 'param_gamma': masked_array(data=[1.0, 2.0, 3.0, 4.0, 5.0, 1.0, 2.0, 3.0, 4.0, 5.0, 1.0,\n",
            "                   2.0, 3.0, 4.0, 5.0, 1.0, 2.0, 3.0, 4.0, 5.0, 1.0, 2.0,\n",
            "                   3.0, 4.0, 5.0, 1.0, 2.0, 3.0, 4.0, 5.0],\n",
            "             mask=[False, False, False, False, False, False, False, False,\n",
            "                   False, False, False, False, False, False, False, False,\n",
            "                   False, False, False, False, False, False, False, False,\n",
            "                   False, False, False, False, False, False],\n",
            "       fill_value='?',\n",
            "            dtype=object), 'params': [{'C': 1.0, 'gamma': 1.0}, {'C': 1.0, 'gamma': 2.0}, {'C': 1.0, 'gamma': 3.0}, {'C': 1.0, 'gamma': 4.0}, {'C': 1.0, 'gamma': 5.0}, {'C': 10.0, 'gamma': 1.0}, {'C': 10.0, 'gamma': 2.0}, {'C': 10.0, 'gamma': 3.0}, {'C': 10.0, 'gamma': 4.0}, {'C': 10.0, 'gamma': 5.0}, {'C': 100.0, 'gamma': 1.0}, {'C': 100.0, 'gamma': 2.0}, {'C': 100.0, 'gamma': 3.0}, {'C': 100.0, 'gamma': 4.0}, {'C': 100.0, 'gamma': 5.0}, {'C': 1000.0, 'gamma': 1.0}, {'C': 1000.0, 'gamma': 2.0}, {'C': 1000.0, 'gamma': 3.0}, {'C': 1000.0, 'gamma': 4.0}, {'C': 1000.0, 'gamma': 5.0}, {'C': 10000.0, 'gamma': 1.0}, {'C': 10000.0, 'gamma': 2.0}, {'C': 10000.0, 'gamma': 3.0}, {'C': 10000.0, 'gamma': 4.0}, {'C': 10000.0, 'gamma': 5.0}, {'C': 100000.0, 'gamma': 1.0}, {'C': 100000.0, 'gamma': 2.0}, {'C': 100000.0, 'gamma': 3.0}, {'C': 100000.0, 'gamma': 4.0}, {'C': 100000.0, 'gamma': 5.0}], 'split0_test_score': array([0.98015873, 0.98412698, 0.98611111, 0.98412698, 0.98412698,\n",
            "       0.98809524, 0.99404762, 0.99404762, 0.99206349, 0.99007937,\n",
            "       0.99007937, 0.99404762, 0.99404762, 0.99206349, 0.99007937,\n",
            "       0.99007937, 0.99404762, 0.99404762, 0.99206349, 0.99007937,\n",
            "       0.99007937, 0.99404762, 0.99404762, 0.99206349, 0.99007937,\n",
            "       0.99007937, 0.99404762, 0.99404762, 0.99206349, 0.99007937]), 'split1_test_score': array([0.98214286, 0.99007937, 0.98809524, 0.98611111, 0.98611111,\n",
            "       0.98611111, 0.98809524, 0.98611111, 0.98412698, 0.98214286,\n",
            "       0.98214286, 0.98809524, 0.98611111, 0.98412698, 0.98214286,\n",
            "       0.98214286, 0.98809524, 0.98611111, 0.98412698, 0.98214286,\n",
            "       0.98214286, 0.98809524, 0.98611111, 0.98412698, 0.98214286,\n",
            "       0.98214286, 0.98809524, 0.98611111, 0.98412698, 0.98214286]), 'split2_test_score': array([0.98412698, 0.98809524, 0.99007937, 0.99007937, 0.99206349,\n",
            "       0.98809524, 0.98809524, 0.98809524, 0.98809524, 0.98809524,\n",
            "       0.98809524, 0.98809524, 0.98809524, 0.98809524, 0.98809524,\n",
            "       0.98809524, 0.98809524, 0.98809524, 0.98809524, 0.98809524,\n",
            "       0.98809524, 0.98809524, 0.98809524, 0.98809524, 0.98809524,\n",
            "       0.98809524, 0.98809524, 0.98809524, 0.98809524, 0.98809524]), 'split3_test_score': array([0.97619048, 0.98214286, 0.98611111, 0.98611111, 0.98412698,\n",
            "       0.98611111, 0.99007937, 0.99206349, 0.99007937, 0.98611111,\n",
            "       0.98611111, 0.99206349, 0.99206349, 0.99007937, 0.98611111,\n",
            "       0.98611111, 0.99206349, 0.99206349, 0.99007937, 0.98611111,\n",
            "       0.98611111, 0.99206349, 0.99206349, 0.99007937, 0.98611111,\n",
            "       0.98611111, 0.99206349, 0.99206349, 0.99007937, 0.98611111]), 'split4_test_score': array([0.98015873, 0.98015873, 0.97222222, 0.9702381 , 0.96428571,\n",
            "       0.98214286, 0.98015873, 0.97420635, 0.9702381 , 0.96626984,\n",
            "       0.98214286, 0.98015873, 0.97420635, 0.9702381 , 0.96626984,\n",
            "       0.98214286, 0.98015873, 0.97420635, 0.9702381 , 0.96626984,\n",
            "       0.98214286, 0.98015873, 0.97420635, 0.9702381 , 0.96626984,\n",
            "       0.98214286, 0.98015873, 0.97420635, 0.9702381 , 0.96626984]), 'split5_test_score': array([0.98611111, 0.98611111, 0.98809524, 0.98412698, 0.98412698,\n",
            "       0.98809524, 0.99007937, 0.99007937, 0.98611111, 0.98611111,\n",
            "       0.98214286, 0.98809524, 0.98809524, 0.98611111, 0.98611111,\n",
            "       0.98214286, 0.98809524, 0.98809524, 0.98611111, 0.98611111,\n",
            "       0.98214286, 0.98809524, 0.98809524, 0.98611111, 0.98611111,\n",
            "       0.98214286, 0.98809524, 0.98809524, 0.98611111, 0.98611111]), 'split6_test_score': array([0.98409543, 0.9860835 , 0.98210736, 0.98409543, 0.97813121,\n",
            "       0.99204771, 0.99403579, 0.99005964, 0.99005964, 0.98210736,\n",
            "       0.99204771, 0.99403579, 0.99005964, 0.99005964, 0.98210736,\n",
            "       0.99204771, 0.99403579, 0.99005964, 0.99005964, 0.98210736,\n",
            "       0.99204771, 0.99403579, 0.99005964, 0.99005964, 0.98210736,\n",
            "       0.99204771, 0.99403579, 0.99005964, 0.99005964, 0.98210736]), 'split7_test_score': array([0.98807157, 0.99005964, 0.98807157, 0.98807157, 0.98807157,\n",
            "       0.99204771, 0.98807157, 0.98210736, 0.97813121, 0.97813121,\n",
            "       0.98807157, 0.9860835 , 0.98210736, 0.97813121, 0.97813121,\n",
            "       0.98807157, 0.9860835 , 0.98210736, 0.97813121, 0.97813121,\n",
            "       0.98807157, 0.9860835 , 0.98210736, 0.97813121, 0.97813121,\n",
            "       0.98807157, 0.9860835 , 0.98210736, 0.97813121, 0.97813121]), 'split8_test_score': array([0.99005964, 0.99403579, 0.99801193, 0.99602386, 0.99403579,\n",
            "       0.99204771, 0.99403579, 0.99403579, 0.99801193, 0.99403579,\n",
            "       0.99403579, 0.99403579, 0.99403579, 0.99801193, 0.99403579,\n",
            "       0.99403579, 0.99403579, 0.99403579, 0.99801193, 0.99403579,\n",
            "       0.99403579, 0.99403579, 0.99403579, 0.99801193, 0.99403579,\n",
            "       0.99403579, 0.99403579, 0.99403579, 0.99801193, 0.99403579]), 'split9_test_score': array([0.98409543, 0.98011928, 0.98210736, 0.98210736, 0.98210736,\n",
            "       0.9860835 , 0.98409543, 0.98409543, 0.98409543, 0.98210736,\n",
            "       0.98409543, 0.9860835 , 0.98409543, 0.98409543, 0.98210736,\n",
            "       0.98409543, 0.9860835 , 0.98409543, 0.98409543, 0.98210736,\n",
            "       0.98409543, 0.9860835 , 0.98409543, 0.98409543, 0.98210736,\n",
            "       0.98409543, 0.9860835 , 0.98409543, 0.98409543, 0.98210736]), 'mean_test_score': array([0.9835211 , 0.98610125, 0.98610125, 0.98510919, 0.98371872,\n",
            "       0.98808774, 0.98907941, 0.98749014, 0.98610125, 0.98351912,\n",
            "       0.98689648, 0.98907941, 0.98729173, 0.98610125, 0.98351912,\n",
            "       0.98689648, 0.98907941, 0.98729173, 0.98610125, 0.98351912,\n",
            "       0.98689648, 0.98907941, 0.98729173, 0.98610125, 0.98351912,\n",
            "       0.98689648, 0.98907941, 0.98729173, 0.98610125, 0.98351912]), 'std_test_score': array([0.00386578, 0.00434847, 0.00627737, 0.00622683, 0.00782756,\n",
            "       0.00306948, 0.00428002, 0.00582489, 0.00732096, 0.00721431,\n",
            "       0.00408298, 0.00427965, 0.00576682, 0.00732096, 0.00721431,\n",
            "       0.00408298, 0.00427965, 0.00576682, 0.00732096, 0.00721431,\n",
            "       0.00408298, 0.00427965, 0.00576682, 0.00732096, 0.00721431,\n",
            "       0.00408298, 0.00427965, 0.00576682, 0.00732096, 0.00721431]), 'rank_test_score': array([25, 21, 21, 23, 24,  6,  1,  7, 16, 26, 12,  2,  8, 16, 26, 12,  2,\n",
            "        8, 16, 26, 12,  2,  8, 16, 26, 12,  2,  8, 16, 26], dtype=int32)}\n",
            "the best parameter pair is {'C': 10.0, 'gamma': 2.0}\n"
          ]
        },
        {
          "output_type": "stream",
          "name": "stderr",
          "text": [
            "/usr/local/lib/python3.7/dist-packages/sklearn/svm/_base.py:231: ConvergenceWarning: Solver terminated early (max_iter=500).  Consider pre-processing your data with StandardScaler or MinMaxScaler.\n",
            "  % self.max_iter, ConvergenceWarning)\n"
          ]
        }
      ]
    },
    {
      "cell_type": "markdown",
      "metadata": {
        "id": "V8L0bHZiYS9a"
      },
      "source": [
        "calculate the corresponding evaluation results based on the labels"
      ]
    },
    {
      "cell_type": "code",
      "metadata": {
        "id": "E9f5yrpV19Lm"
      },
      "source": [
        "pred = [family_pred,genus_pred,species_pred]\n",
        "pred = np.array(pred)"
      ],
      "execution_count": 28,
      "outputs": []
    },
    {
      "cell_type": "code",
      "metadata": {
        "id": "SXe5K0n62UJg"
      },
      "source": [
        "family_truth = np.array(test['Family'])\n",
        "genus_truth = np.array(test['Genus'])\n",
        "species_truth = np.array(test['Species'])\n",
        "truth = [family_truth, genus_truth, species_truth]\n",
        "truth = np.array(truth)"
      ],
      "execution_count": 29,
      "outputs": []
    },
    {
      "cell_type": "code",
      "metadata": {
        "colab": {
          "base_uri": "https://localhost:8080/"
        },
        "id": "HfZsYzSH4j2W",
        "outputId": "346b6bd5-01c0-4b7b-875a-8a601d310c12"
      },
      "source": [
        "hamming_loss = hamming_loss_calc(pred, truth)"
      ],
      "execution_count": 30,
      "outputs": [
        {
          "output_type": "stream",
          "name": "stdout",
          "text": [
            "The hamming_loss is 0.0065\n"
          ]
        }
      ]
    },
    {
      "cell_type": "code",
      "metadata": {
        "colab": {
          "base_uri": "https://localhost:8080/"
        },
        "id": "BljGW3tj9Pbs",
        "outputId": "64386a20-c2ca-4f9b-fc07-beaec80bfcf0"
      },
      "source": [
        "exact_match_ratio = exact_match_ratio_calc(pred, truth)"
      ],
      "execution_count": 31,
      "outputs": [
        {
          "output_type": "stream",
          "name": "stdout",
          "text": [
            "exact match ratio is 0.9903\n"
          ]
        }
      ]
    },
    {
      "cell_type": "code",
      "metadata": {
        "id": "rCYYiLWGa5D0"
      },
      "source": [
        "result['gaussian'] = [hamming_loss, exact_match_ratio]"
      ],
      "execution_count": 32,
      "outputs": []
    },
    {
      "cell_type": "markdown",
      "metadata": {
        "id": "2CCvwt6-nDWN"
      },
      "source": [
        "Problem biii"
      ]
    },
    {
      "cell_type": "markdown",
      "metadata": {
        "id": "Q6GF5wRJYcCk"
      },
      "source": [
        "standardlize the original data and use l1-penalized SVM to train and test the data"
      ]
    },
    {
      "cell_type": "code",
      "metadata": {
        "id": "QJNyQ13VnTpp"
      },
      "source": [
        "from sklearn.preprocessing import StandardScaler"
      ],
      "execution_count": 33,
      "outputs": []
    },
    {
      "cell_type": "code",
      "metadata": {
        "id": "5IhFYBagneEL"
      },
      "source": [
        "scaler = StandardScaler()\n",
        "std_train_x = scaler.fit_transform(train_x)\n",
        "std_test_x = scaler.fit_transform(test_x)"
      ],
      "execution_count": 34,
      "outputs": []
    },
    {
      "cell_type": "code",
      "metadata": {
        "id": "D1I0zO5LnPbl"
      },
      "source": [
        "def l1PenaltyParametersSearch(train_y):\n",
        "    linearsvc = LinearSVC(penalty='l1', verbose=1,dual=False, max_iter=500)\n",
        "    c_parameters = np.logspace(0, 5, num=6, base=10)\n",
        "    parameters = {'C': c_parameters}\n",
        "    clf = GridSearchCV(linearsvc, parameters, cv=10, scoring='f1_weighted')\n",
        "    clf.fit(std_train_x,train_y)\n",
        "    print(clf.cv_results_)\n",
        "    print('the best parameter pair is '+ str(clf.best_params_))\n",
        "    test_pred = clf.predict(std_test_x)\n",
        "    return test_pred"
      ],
      "execution_count": 35,
      "outputs": []
    },
    {
      "cell_type": "code",
      "metadata": {
        "colab": {
          "base_uri": "https://localhost:8080/"
        },
        "id": "GJzF-CJ3ohRB",
        "outputId": "bd57e32c-e353-4cfd-d573-66ea2f1c672e"
      },
      "source": [
        "std_family_pred = l1PenaltyParametersSearch(train_y['Family'])"
      ],
      "execution_count": 36,
      "outputs": [
        {
          "output_type": "stream",
          "name": "stdout",
          "text": [
            "[LibLinear]"
          ]
        },
        {
          "output_type": "stream",
          "name": "stderr",
          "text": [
            "/usr/local/lib/python3.7/dist-packages/sklearn/svm/_base.py:947: ConvergenceWarning: Liblinear failed to converge, increase the number of iterations.\n",
            "  \"the number of iterations.\", ConvergenceWarning)\n"
          ]
        },
        {
          "output_type": "stream",
          "name": "stdout",
          "text": [
            "[LibLinear]"
          ]
        },
        {
          "output_type": "stream",
          "name": "stderr",
          "text": [
            "/usr/local/lib/python3.7/dist-packages/sklearn/svm/_base.py:947: ConvergenceWarning: Liblinear failed to converge, increase the number of iterations.\n",
            "  \"the number of iterations.\", ConvergenceWarning)\n"
          ]
        },
        {
          "output_type": "stream",
          "name": "stdout",
          "text": [
            "[LibLinear]"
          ]
        },
        {
          "output_type": "stream",
          "name": "stderr",
          "text": [
            "/usr/local/lib/python3.7/dist-packages/sklearn/svm/_base.py:947: ConvergenceWarning: Liblinear failed to converge, increase the number of iterations.\n",
            "  \"the number of iterations.\", ConvergenceWarning)\n"
          ]
        },
        {
          "output_type": "stream",
          "name": "stdout",
          "text": [
            "[LibLinear][LibLinear]"
          ]
        },
        {
          "output_type": "stream",
          "name": "stderr",
          "text": [
            "/usr/local/lib/python3.7/dist-packages/sklearn/svm/_base.py:947: ConvergenceWarning: Liblinear failed to converge, increase the number of iterations.\n",
            "  \"the number of iterations.\", ConvergenceWarning)\n"
          ]
        },
        {
          "output_type": "stream",
          "name": "stdout",
          "text": [
            "[LibLinear]"
          ]
        },
        {
          "output_type": "stream",
          "name": "stderr",
          "text": [
            "/usr/local/lib/python3.7/dist-packages/sklearn/svm/_base.py:947: ConvergenceWarning: Liblinear failed to converge, increase the number of iterations.\n",
            "  \"the number of iterations.\", ConvergenceWarning)\n"
          ]
        },
        {
          "output_type": "stream",
          "name": "stdout",
          "text": [
            "[LibLinear]"
          ]
        },
        {
          "output_type": "stream",
          "name": "stderr",
          "text": [
            "/usr/local/lib/python3.7/dist-packages/sklearn/svm/_base.py:947: ConvergenceWarning: Liblinear failed to converge, increase the number of iterations.\n",
            "  \"the number of iterations.\", ConvergenceWarning)\n"
          ]
        },
        {
          "output_type": "stream",
          "name": "stdout",
          "text": [
            "[LibLinear]"
          ]
        },
        {
          "output_type": "stream",
          "name": "stderr",
          "text": [
            "/usr/local/lib/python3.7/dist-packages/sklearn/svm/_base.py:947: ConvergenceWarning: Liblinear failed to converge, increase the number of iterations.\n",
            "  \"the number of iterations.\", ConvergenceWarning)\n"
          ]
        },
        {
          "output_type": "stream",
          "name": "stdout",
          "text": [
            "[LibLinear]"
          ]
        },
        {
          "output_type": "stream",
          "name": "stderr",
          "text": [
            "/usr/local/lib/python3.7/dist-packages/sklearn/svm/_base.py:947: ConvergenceWarning: Liblinear failed to converge, increase the number of iterations.\n",
            "  \"the number of iterations.\", ConvergenceWarning)\n"
          ]
        },
        {
          "output_type": "stream",
          "name": "stdout",
          "text": [
            "[LibLinear]"
          ]
        },
        {
          "output_type": "stream",
          "name": "stderr",
          "text": [
            "/usr/local/lib/python3.7/dist-packages/sklearn/svm/_base.py:947: ConvergenceWarning: Liblinear failed to converge, increase the number of iterations.\n",
            "  \"the number of iterations.\", ConvergenceWarning)\n"
          ]
        },
        {
          "output_type": "stream",
          "name": "stdout",
          "text": [
            "[LibLinear]"
          ]
        },
        {
          "output_type": "stream",
          "name": "stderr",
          "text": [
            "/usr/local/lib/python3.7/dist-packages/sklearn/svm/_base.py:947: ConvergenceWarning: Liblinear failed to converge, increase the number of iterations.\n",
            "  \"the number of iterations.\", ConvergenceWarning)\n"
          ]
        },
        {
          "output_type": "stream",
          "name": "stdout",
          "text": [
            "[LibLinear]"
          ]
        },
        {
          "output_type": "stream",
          "name": "stderr",
          "text": [
            "/usr/local/lib/python3.7/dist-packages/sklearn/svm/_base.py:947: ConvergenceWarning: Liblinear failed to converge, increase the number of iterations.\n",
            "  \"the number of iterations.\", ConvergenceWarning)\n"
          ]
        },
        {
          "output_type": "stream",
          "name": "stdout",
          "text": [
            "[LibLinear][LibLinear]"
          ]
        },
        {
          "output_type": "stream",
          "name": "stderr",
          "text": [
            "/usr/local/lib/python3.7/dist-packages/sklearn/svm/_base.py:947: ConvergenceWarning: Liblinear failed to converge, increase the number of iterations.\n",
            "  \"the number of iterations.\", ConvergenceWarning)\n"
          ]
        },
        {
          "output_type": "stream",
          "name": "stdout",
          "text": [
            "[LibLinear]"
          ]
        },
        {
          "output_type": "stream",
          "name": "stderr",
          "text": [
            "/usr/local/lib/python3.7/dist-packages/sklearn/svm/_base.py:947: ConvergenceWarning: Liblinear failed to converge, increase the number of iterations.\n",
            "  \"the number of iterations.\", ConvergenceWarning)\n"
          ]
        },
        {
          "output_type": "stream",
          "name": "stdout",
          "text": [
            "[LibLinear]"
          ]
        },
        {
          "output_type": "stream",
          "name": "stderr",
          "text": [
            "/usr/local/lib/python3.7/dist-packages/sklearn/svm/_base.py:947: ConvergenceWarning: Liblinear failed to converge, increase the number of iterations.\n",
            "  \"the number of iterations.\", ConvergenceWarning)\n"
          ]
        },
        {
          "output_type": "stream",
          "name": "stdout",
          "text": [
            "[LibLinear][LibLinear][LibLinear]"
          ]
        },
        {
          "output_type": "stream",
          "name": "stderr",
          "text": [
            "/usr/local/lib/python3.7/dist-packages/sklearn/svm/_base.py:947: ConvergenceWarning: Liblinear failed to converge, increase the number of iterations.\n",
            "  \"the number of iterations.\", ConvergenceWarning)\n"
          ]
        },
        {
          "output_type": "stream",
          "name": "stdout",
          "text": [
            "[LibLinear]"
          ]
        },
        {
          "output_type": "stream",
          "name": "stderr",
          "text": [
            "/usr/local/lib/python3.7/dist-packages/sklearn/svm/_base.py:947: ConvergenceWarning: Liblinear failed to converge, increase the number of iterations.\n",
            "  \"the number of iterations.\", ConvergenceWarning)\n"
          ]
        },
        {
          "output_type": "stream",
          "name": "stdout",
          "text": [
            "[LibLinear]"
          ]
        },
        {
          "output_type": "stream",
          "name": "stderr",
          "text": [
            "/usr/local/lib/python3.7/dist-packages/sklearn/svm/_base.py:947: ConvergenceWarning: Liblinear failed to converge, increase the number of iterations.\n",
            "  \"the number of iterations.\", ConvergenceWarning)\n"
          ]
        },
        {
          "output_type": "stream",
          "name": "stdout",
          "text": [
            "[LibLinear][LibLinear][LibLinear]"
          ]
        },
        {
          "output_type": "stream",
          "name": "stderr",
          "text": [
            "/usr/local/lib/python3.7/dist-packages/sklearn/svm/_base.py:947: ConvergenceWarning: Liblinear failed to converge, increase the number of iterations.\n",
            "  \"the number of iterations.\", ConvergenceWarning)\n"
          ]
        },
        {
          "output_type": "stream",
          "name": "stdout",
          "text": [
            "[LibLinear]"
          ]
        },
        {
          "output_type": "stream",
          "name": "stderr",
          "text": [
            "/usr/local/lib/python3.7/dist-packages/sklearn/svm/_base.py:947: ConvergenceWarning: Liblinear failed to converge, increase the number of iterations.\n",
            "  \"the number of iterations.\", ConvergenceWarning)\n"
          ]
        },
        {
          "output_type": "stream",
          "name": "stdout",
          "text": [
            "[LibLinear]"
          ]
        },
        {
          "output_type": "stream",
          "name": "stderr",
          "text": [
            "/usr/local/lib/python3.7/dist-packages/sklearn/svm/_base.py:947: ConvergenceWarning: Liblinear failed to converge, increase the number of iterations.\n",
            "  \"the number of iterations.\", ConvergenceWarning)\n"
          ]
        },
        {
          "output_type": "stream",
          "name": "stdout",
          "text": [
            "[LibLinear][LibLinear]"
          ]
        },
        {
          "output_type": "stream",
          "name": "stderr",
          "text": [
            "/usr/local/lib/python3.7/dist-packages/sklearn/svm/_base.py:947: ConvergenceWarning: Liblinear failed to converge, increase the number of iterations.\n",
            "  \"the number of iterations.\", ConvergenceWarning)\n"
          ]
        },
        {
          "output_type": "stream",
          "name": "stdout",
          "text": [
            "[LibLinear]"
          ]
        },
        {
          "output_type": "stream",
          "name": "stderr",
          "text": [
            "/usr/local/lib/python3.7/dist-packages/sklearn/svm/_base.py:947: ConvergenceWarning: Liblinear failed to converge, increase the number of iterations.\n",
            "  \"the number of iterations.\", ConvergenceWarning)\n"
          ]
        },
        {
          "output_type": "stream",
          "name": "stdout",
          "text": [
            "[LibLinear][LibLinear]"
          ]
        },
        {
          "output_type": "stream",
          "name": "stderr",
          "text": [
            "/usr/local/lib/python3.7/dist-packages/sklearn/svm/_base.py:947: ConvergenceWarning: Liblinear failed to converge, increase the number of iterations.\n",
            "  \"the number of iterations.\", ConvergenceWarning)\n"
          ]
        },
        {
          "output_type": "stream",
          "name": "stdout",
          "text": [
            "[LibLinear][LibLinear][LibLinear]"
          ]
        },
        {
          "output_type": "stream",
          "name": "stderr",
          "text": [
            "/usr/local/lib/python3.7/dist-packages/sklearn/svm/_base.py:947: ConvergenceWarning: Liblinear failed to converge, increase the number of iterations.\n",
            "  \"the number of iterations.\", ConvergenceWarning)\n"
          ]
        },
        {
          "output_type": "stream",
          "name": "stdout",
          "text": [
            "[LibLinear]"
          ]
        },
        {
          "output_type": "stream",
          "name": "stderr",
          "text": [
            "/usr/local/lib/python3.7/dist-packages/sklearn/svm/_base.py:947: ConvergenceWarning: Liblinear failed to converge, increase the number of iterations.\n",
            "  \"the number of iterations.\", ConvergenceWarning)\n"
          ]
        },
        {
          "output_type": "stream",
          "name": "stdout",
          "text": [
            "[LibLinear][LibLinear]"
          ]
        },
        {
          "output_type": "stream",
          "name": "stderr",
          "text": [
            "/usr/local/lib/python3.7/dist-packages/sklearn/svm/_base.py:947: ConvergenceWarning: Liblinear failed to converge, increase the number of iterations.\n",
            "  \"the number of iterations.\", ConvergenceWarning)\n"
          ]
        },
        {
          "output_type": "stream",
          "name": "stdout",
          "text": [
            "[LibLinear][LibLinear]"
          ]
        },
        {
          "output_type": "stream",
          "name": "stderr",
          "text": [
            "/usr/local/lib/python3.7/dist-packages/sklearn/svm/_base.py:947: ConvergenceWarning: Liblinear failed to converge, increase the number of iterations.\n",
            "  \"the number of iterations.\", ConvergenceWarning)\n"
          ]
        },
        {
          "output_type": "stream",
          "name": "stdout",
          "text": [
            "[LibLinear][LibLinear]"
          ]
        },
        {
          "output_type": "stream",
          "name": "stderr",
          "text": [
            "/usr/local/lib/python3.7/dist-packages/sklearn/svm/_base.py:947: ConvergenceWarning: Liblinear failed to converge, increase the number of iterations.\n",
            "  \"the number of iterations.\", ConvergenceWarning)\n"
          ]
        },
        {
          "output_type": "stream",
          "name": "stdout",
          "text": [
            "[LibLinear][LibLinear][LibLinear][LibLinear]"
          ]
        },
        {
          "output_type": "stream",
          "name": "stderr",
          "text": [
            "/usr/local/lib/python3.7/dist-packages/sklearn/svm/_base.py:947: ConvergenceWarning: Liblinear failed to converge, increase the number of iterations.\n",
            "  \"the number of iterations.\", ConvergenceWarning)\n"
          ]
        },
        {
          "output_type": "stream",
          "name": "stdout",
          "text": [
            "[LibLinear]"
          ]
        },
        {
          "output_type": "stream",
          "name": "stderr",
          "text": [
            "/usr/local/lib/python3.7/dist-packages/sklearn/svm/_base.py:947: ConvergenceWarning: Liblinear failed to converge, increase the number of iterations.\n",
            "  \"the number of iterations.\", ConvergenceWarning)\n"
          ]
        },
        {
          "output_type": "stream",
          "name": "stdout",
          "text": [
            "[LibLinear][LibLinear]"
          ]
        },
        {
          "output_type": "stream",
          "name": "stderr",
          "text": [
            "/usr/local/lib/python3.7/dist-packages/sklearn/svm/_base.py:947: ConvergenceWarning: Liblinear failed to converge, increase the number of iterations.\n",
            "  \"the number of iterations.\", ConvergenceWarning)\n"
          ]
        },
        {
          "output_type": "stream",
          "name": "stdout",
          "text": [
            "[LibLinear]"
          ]
        },
        {
          "output_type": "stream",
          "name": "stderr",
          "text": [
            "/usr/local/lib/python3.7/dist-packages/sklearn/svm/_base.py:947: ConvergenceWarning: Liblinear failed to converge, increase the number of iterations.\n",
            "  \"the number of iterations.\", ConvergenceWarning)\n"
          ]
        },
        {
          "output_type": "stream",
          "name": "stdout",
          "text": [
            "[LibLinear][LibLinear]"
          ]
        },
        {
          "output_type": "stream",
          "name": "stderr",
          "text": [
            "/usr/local/lib/python3.7/dist-packages/sklearn/svm/_base.py:947: ConvergenceWarning: Liblinear failed to converge, increase the number of iterations.\n",
            "  \"the number of iterations.\", ConvergenceWarning)\n"
          ]
        },
        {
          "output_type": "stream",
          "name": "stdout",
          "text": [
            "[LibLinear]"
          ]
        },
        {
          "output_type": "stream",
          "name": "stderr",
          "text": [
            "/usr/local/lib/python3.7/dist-packages/sklearn/svm/_base.py:947: ConvergenceWarning: Liblinear failed to converge, increase the number of iterations.\n",
            "  \"the number of iterations.\", ConvergenceWarning)\n"
          ]
        },
        {
          "output_type": "stream",
          "name": "stdout",
          "text": [
            "[LibLinear][LibLinear]"
          ]
        },
        {
          "output_type": "stream",
          "name": "stderr",
          "text": [
            "/usr/local/lib/python3.7/dist-packages/sklearn/svm/_base.py:947: ConvergenceWarning: Liblinear failed to converge, increase the number of iterations.\n",
            "  \"the number of iterations.\", ConvergenceWarning)\n"
          ]
        },
        {
          "output_type": "stream",
          "name": "stdout",
          "text": [
            "[LibLinear]"
          ]
        },
        {
          "output_type": "stream",
          "name": "stderr",
          "text": [
            "/usr/local/lib/python3.7/dist-packages/sklearn/svm/_base.py:947: ConvergenceWarning: Liblinear failed to converge, increase the number of iterations.\n",
            "  \"the number of iterations.\", ConvergenceWarning)\n"
          ]
        },
        {
          "output_type": "stream",
          "name": "stdout",
          "text": [
            "[LibLinear][LibLinear][LibLinear][LibLinear]"
          ]
        },
        {
          "output_type": "stream",
          "name": "stderr",
          "text": [
            "/usr/local/lib/python3.7/dist-packages/sklearn/svm/_base.py:947: ConvergenceWarning: Liblinear failed to converge, increase the number of iterations.\n",
            "  \"the number of iterations.\", ConvergenceWarning)\n"
          ]
        },
        {
          "output_type": "stream",
          "name": "stdout",
          "text": [
            "[LibLinear][LibLinear]{'mean_fit_time': array([2.05981848, 2.11628649, 2.11121194, 2.09547641, 2.09651382,\n",
            "       2.09868336]), 'std_fit_time': array([0.10212625, 0.11241264, 0.09485053, 0.07414978, 0.09949867,\n",
            "       0.09787351]), 'mean_score_time': array([0.00308244, 0.00302274, 0.00248311, 0.00264165, 0.00258496,\n",
            "       0.00263784]), 'std_score_time': array([0.00126337, 0.00059956, 0.00041421, 0.00048837, 0.00047479,\n",
            "       0.00045245]), 'param_C': masked_array(data=[1.0, 10.0, 100.0, 1000.0, 10000.0, 100000.0],\n",
            "             mask=[False, False, False, False, False, False],\n",
            "       fill_value='?',\n",
            "            dtype=object), 'params': [{'C': 1.0}, {'C': 10.0}, {'C': 100.0}, {'C': 1000.0}, {'C': 10000.0}, {'C': 100000.0}], 'split0_test_score': array([0.90776642, 0.90776642, 0.90776642, 0.90776642, 0.90776642,\n",
            "       0.90776642]), 'split1_test_score': array([0.93248304, 0.93619953, 0.93619953, 0.93619953, 0.93619953,\n",
            "       0.93619953]), 'split2_test_score': array([0.92177734, 0.92177734, 0.92177734, 0.92177734, 0.92177734,\n",
            "       0.92177734]), 'split3_test_score': array([0.9239561 , 0.92597997, 0.92597997, 0.92597997, 0.92597997,\n",
            "       0.92597997]), 'split4_test_score': array([0.90950113, 0.9075255 , 0.9075255 , 0.9075255 , 0.9075255 ,\n",
            "       0.9075255 ]), 'split5_test_score': array([0.92529706, 0.92529706, 0.92529706, 0.92529706, 0.92529706,\n",
            "       0.92529706]), 'split6_test_score': array([0.94515745, 0.94515745, 0.94515745, 0.94515745, 0.94515745,\n",
            "       0.94515745]), 'split7_test_score': array([0.93651027, 0.93651027, 0.93651027, 0.93651027, 0.93651027,\n",
            "       0.9364756 ]), 'split8_test_score': array([0.94842851, 0.94639682, 0.94443264, 0.94443264, 0.94443264,\n",
            "       0.94443264]), 'split9_test_score': array([0.93060678, 0.93060678, 0.93060678, 0.93060678, 0.93060678,\n",
            "       0.93060678]), 'mean_test_score': array([0.92814841, 0.92832171, 0.9281253 , 0.9281253 , 0.9281253 ,\n",
            "       0.92812183]), 'std_test_score': array([0.01274671, 0.01287226, 0.0126072 , 0.0126072 , 0.0126072 ,\n",
            "       0.0126049 ]), 'rank_test_score': array([2, 1, 3, 3, 3, 6], dtype=int32)}\n",
            "the best parameter pair is {'C': 10.0}\n"
          ]
        },
        {
          "output_type": "stream",
          "name": "stderr",
          "text": [
            "/usr/local/lib/python3.7/dist-packages/sklearn/svm/_base.py:947: ConvergenceWarning: Liblinear failed to converge, increase the number of iterations.\n",
            "  \"the number of iterations.\", ConvergenceWarning)\n"
          ]
        }
      ]
    },
    {
      "cell_type": "code",
      "metadata": {
        "colab": {
          "base_uri": "https://localhost:8080/"
        },
        "id": "f0RoHDArOxFD",
        "outputId": "e7cb7f79-e860-497d-a621-a82ef9d57c35"
      },
      "source": [
        "std_genus_pred = l1PenaltyParametersSearch(train_y['Genus'])"
      ],
      "execution_count": 37,
      "outputs": [
        {
          "output_type": "stream",
          "name": "stdout",
          "text": [
            "[LibLinear]"
          ]
        },
        {
          "output_type": "stream",
          "name": "stderr",
          "text": [
            "/usr/local/lib/python3.7/dist-packages/sklearn/svm/_base.py:947: ConvergenceWarning: Liblinear failed to converge, increase the number of iterations.\n",
            "  \"the number of iterations.\", ConvergenceWarning)\n"
          ]
        },
        {
          "output_type": "stream",
          "name": "stdout",
          "text": [
            "[LibLinear]"
          ]
        },
        {
          "output_type": "stream",
          "name": "stderr",
          "text": [
            "/usr/local/lib/python3.7/dist-packages/sklearn/svm/_base.py:947: ConvergenceWarning: Liblinear failed to converge, increase the number of iterations.\n",
            "  \"the number of iterations.\", ConvergenceWarning)\n"
          ]
        },
        {
          "output_type": "stream",
          "name": "stdout",
          "text": [
            "[LibLinear]"
          ]
        },
        {
          "output_type": "stream",
          "name": "stderr",
          "text": [
            "/usr/local/lib/python3.7/dist-packages/sklearn/svm/_base.py:947: ConvergenceWarning: Liblinear failed to converge, increase the number of iterations.\n",
            "  \"the number of iterations.\", ConvergenceWarning)\n"
          ]
        },
        {
          "output_type": "stream",
          "name": "stdout",
          "text": [
            "[LibLinear]"
          ]
        },
        {
          "output_type": "stream",
          "name": "stderr",
          "text": [
            "/usr/local/lib/python3.7/dist-packages/sklearn/svm/_base.py:947: ConvergenceWarning: Liblinear failed to converge, increase the number of iterations.\n",
            "  \"the number of iterations.\", ConvergenceWarning)\n"
          ]
        },
        {
          "output_type": "stream",
          "name": "stdout",
          "text": [
            "[LibLinear]"
          ]
        },
        {
          "output_type": "stream",
          "name": "stderr",
          "text": [
            "/usr/local/lib/python3.7/dist-packages/sklearn/svm/_base.py:947: ConvergenceWarning: Liblinear failed to converge, increase the number of iterations.\n",
            "  \"the number of iterations.\", ConvergenceWarning)\n"
          ]
        },
        {
          "output_type": "stream",
          "name": "stdout",
          "text": [
            "[LibLinear]"
          ]
        },
        {
          "output_type": "stream",
          "name": "stderr",
          "text": [
            "/usr/local/lib/python3.7/dist-packages/sklearn/svm/_base.py:947: ConvergenceWarning: Liblinear failed to converge, increase the number of iterations.\n",
            "  \"the number of iterations.\", ConvergenceWarning)\n"
          ]
        },
        {
          "output_type": "stream",
          "name": "stdout",
          "text": [
            "[LibLinear]"
          ]
        },
        {
          "output_type": "stream",
          "name": "stderr",
          "text": [
            "/usr/local/lib/python3.7/dist-packages/sklearn/svm/_base.py:947: ConvergenceWarning: Liblinear failed to converge, increase the number of iterations.\n",
            "  \"the number of iterations.\", ConvergenceWarning)\n"
          ]
        },
        {
          "output_type": "stream",
          "name": "stdout",
          "text": [
            "[LibLinear]"
          ]
        },
        {
          "output_type": "stream",
          "name": "stderr",
          "text": [
            "/usr/local/lib/python3.7/dist-packages/sklearn/svm/_base.py:947: ConvergenceWarning: Liblinear failed to converge, increase the number of iterations.\n",
            "  \"the number of iterations.\", ConvergenceWarning)\n"
          ]
        },
        {
          "output_type": "stream",
          "name": "stdout",
          "text": [
            "[LibLinear]"
          ]
        },
        {
          "output_type": "stream",
          "name": "stderr",
          "text": [
            "/usr/local/lib/python3.7/dist-packages/sklearn/svm/_base.py:947: ConvergenceWarning: Liblinear failed to converge, increase the number of iterations.\n",
            "  \"the number of iterations.\", ConvergenceWarning)\n"
          ]
        },
        {
          "output_type": "stream",
          "name": "stdout",
          "text": [
            "[LibLinear]"
          ]
        },
        {
          "output_type": "stream",
          "name": "stderr",
          "text": [
            "/usr/local/lib/python3.7/dist-packages/sklearn/svm/_base.py:947: ConvergenceWarning: Liblinear failed to converge, increase the number of iterations.\n",
            "  \"the number of iterations.\", ConvergenceWarning)\n"
          ]
        },
        {
          "output_type": "stream",
          "name": "stdout",
          "text": [
            "[LibLinear]"
          ]
        },
        {
          "output_type": "stream",
          "name": "stderr",
          "text": [
            "/usr/local/lib/python3.7/dist-packages/sklearn/svm/_base.py:947: ConvergenceWarning: Liblinear failed to converge, increase the number of iterations.\n",
            "  \"the number of iterations.\", ConvergenceWarning)\n"
          ]
        },
        {
          "output_type": "stream",
          "name": "stdout",
          "text": [
            "[LibLinear]"
          ]
        },
        {
          "output_type": "stream",
          "name": "stderr",
          "text": [
            "/usr/local/lib/python3.7/dist-packages/sklearn/svm/_base.py:947: ConvergenceWarning: Liblinear failed to converge, increase the number of iterations.\n",
            "  \"the number of iterations.\", ConvergenceWarning)\n"
          ]
        },
        {
          "output_type": "stream",
          "name": "stdout",
          "text": [
            "[LibLinear]"
          ]
        },
        {
          "output_type": "stream",
          "name": "stderr",
          "text": [
            "/usr/local/lib/python3.7/dist-packages/sklearn/svm/_base.py:947: ConvergenceWarning: Liblinear failed to converge, increase the number of iterations.\n",
            "  \"the number of iterations.\", ConvergenceWarning)\n"
          ]
        },
        {
          "output_type": "stream",
          "name": "stdout",
          "text": [
            "[LibLinear]"
          ]
        },
        {
          "output_type": "stream",
          "name": "stderr",
          "text": [
            "/usr/local/lib/python3.7/dist-packages/sklearn/svm/_base.py:947: ConvergenceWarning: Liblinear failed to converge, increase the number of iterations.\n",
            "  \"the number of iterations.\", ConvergenceWarning)\n"
          ]
        },
        {
          "output_type": "stream",
          "name": "stdout",
          "text": [
            "[LibLinear]"
          ]
        },
        {
          "output_type": "stream",
          "name": "stderr",
          "text": [
            "/usr/local/lib/python3.7/dist-packages/sklearn/svm/_base.py:947: ConvergenceWarning: Liblinear failed to converge, increase the number of iterations.\n",
            "  \"the number of iterations.\", ConvergenceWarning)\n"
          ]
        },
        {
          "output_type": "stream",
          "name": "stdout",
          "text": [
            "[LibLinear]"
          ]
        },
        {
          "output_type": "stream",
          "name": "stderr",
          "text": [
            "/usr/local/lib/python3.7/dist-packages/sklearn/svm/_base.py:947: ConvergenceWarning: Liblinear failed to converge, increase the number of iterations.\n",
            "  \"the number of iterations.\", ConvergenceWarning)\n"
          ]
        },
        {
          "output_type": "stream",
          "name": "stdout",
          "text": [
            "[LibLinear]"
          ]
        },
        {
          "output_type": "stream",
          "name": "stderr",
          "text": [
            "/usr/local/lib/python3.7/dist-packages/sklearn/svm/_base.py:947: ConvergenceWarning: Liblinear failed to converge, increase the number of iterations.\n",
            "  \"the number of iterations.\", ConvergenceWarning)\n"
          ]
        },
        {
          "output_type": "stream",
          "name": "stdout",
          "text": [
            "[LibLinear]"
          ]
        },
        {
          "output_type": "stream",
          "name": "stderr",
          "text": [
            "/usr/local/lib/python3.7/dist-packages/sklearn/svm/_base.py:947: ConvergenceWarning: Liblinear failed to converge, increase the number of iterations.\n",
            "  \"the number of iterations.\", ConvergenceWarning)\n"
          ]
        },
        {
          "output_type": "stream",
          "name": "stdout",
          "text": [
            "[LibLinear]"
          ]
        },
        {
          "output_type": "stream",
          "name": "stderr",
          "text": [
            "/usr/local/lib/python3.7/dist-packages/sklearn/svm/_base.py:947: ConvergenceWarning: Liblinear failed to converge, increase the number of iterations.\n",
            "  \"the number of iterations.\", ConvergenceWarning)\n"
          ]
        },
        {
          "output_type": "stream",
          "name": "stdout",
          "text": [
            "[LibLinear]"
          ]
        },
        {
          "output_type": "stream",
          "name": "stderr",
          "text": [
            "/usr/local/lib/python3.7/dist-packages/sklearn/svm/_base.py:947: ConvergenceWarning: Liblinear failed to converge, increase the number of iterations.\n",
            "  \"the number of iterations.\", ConvergenceWarning)\n"
          ]
        },
        {
          "output_type": "stream",
          "name": "stdout",
          "text": [
            "[LibLinear]"
          ]
        },
        {
          "output_type": "stream",
          "name": "stderr",
          "text": [
            "/usr/local/lib/python3.7/dist-packages/sklearn/svm/_base.py:947: ConvergenceWarning: Liblinear failed to converge, increase the number of iterations.\n",
            "  \"the number of iterations.\", ConvergenceWarning)\n"
          ]
        },
        {
          "output_type": "stream",
          "name": "stdout",
          "text": [
            "[LibLinear]"
          ]
        },
        {
          "output_type": "stream",
          "name": "stderr",
          "text": [
            "/usr/local/lib/python3.7/dist-packages/sklearn/svm/_base.py:947: ConvergenceWarning: Liblinear failed to converge, increase the number of iterations.\n",
            "  \"the number of iterations.\", ConvergenceWarning)\n"
          ]
        },
        {
          "output_type": "stream",
          "name": "stdout",
          "text": [
            "[LibLinear]"
          ]
        },
        {
          "output_type": "stream",
          "name": "stderr",
          "text": [
            "/usr/local/lib/python3.7/dist-packages/sklearn/svm/_base.py:947: ConvergenceWarning: Liblinear failed to converge, increase the number of iterations.\n",
            "  \"the number of iterations.\", ConvergenceWarning)\n"
          ]
        },
        {
          "output_type": "stream",
          "name": "stdout",
          "text": [
            "[LibLinear]"
          ]
        },
        {
          "output_type": "stream",
          "name": "stderr",
          "text": [
            "/usr/local/lib/python3.7/dist-packages/sklearn/svm/_base.py:947: ConvergenceWarning: Liblinear failed to converge, increase the number of iterations.\n",
            "  \"the number of iterations.\", ConvergenceWarning)\n"
          ]
        },
        {
          "output_type": "stream",
          "name": "stdout",
          "text": [
            "[LibLinear]"
          ]
        },
        {
          "output_type": "stream",
          "name": "stderr",
          "text": [
            "/usr/local/lib/python3.7/dist-packages/sklearn/svm/_base.py:947: ConvergenceWarning: Liblinear failed to converge, increase the number of iterations.\n",
            "  \"the number of iterations.\", ConvergenceWarning)\n"
          ]
        },
        {
          "output_type": "stream",
          "name": "stdout",
          "text": [
            "[LibLinear]"
          ]
        },
        {
          "output_type": "stream",
          "name": "stderr",
          "text": [
            "/usr/local/lib/python3.7/dist-packages/sklearn/svm/_base.py:947: ConvergenceWarning: Liblinear failed to converge, increase the number of iterations.\n",
            "  \"the number of iterations.\", ConvergenceWarning)\n"
          ]
        },
        {
          "output_type": "stream",
          "name": "stdout",
          "text": [
            "[LibLinear]"
          ]
        },
        {
          "output_type": "stream",
          "name": "stderr",
          "text": [
            "/usr/local/lib/python3.7/dist-packages/sklearn/svm/_base.py:947: ConvergenceWarning: Liblinear failed to converge, increase the number of iterations.\n",
            "  \"the number of iterations.\", ConvergenceWarning)\n"
          ]
        },
        {
          "output_type": "stream",
          "name": "stdout",
          "text": [
            "[LibLinear]"
          ]
        },
        {
          "output_type": "stream",
          "name": "stderr",
          "text": [
            "/usr/local/lib/python3.7/dist-packages/sklearn/svm/_base.py:947: ConvergenceWarning: Liblinear failed to converge, increase the number of iterations.\n",
            "  \"the number of iterations.\", ConvergenceWarning)\n"
          ]
        },
        {
          "output_type": "stream",
          "name": "stdout",
          "text": [
            "[LibLinear]"
          ]
        },
        {
          "output_type": "stream",
          "name": "stderr",
          "text": [
            "/usr/local/lib/python3.7/dist-packages/sklearn/svm/_base.py:947: ConvergenceWarning: Liblinear failed to converge, increase the number of iterations.\n",
            "  \"the number of iterations.\", ConvergenceWarning)\n"
          ]
        },
        {
          "output_type": "stream",
          "name": "stdout",
          "text": [
            "[LibLinear]"
          ]
        },
        {
          "output_type": "stream",
          "name": "stderr",
          "text": [
            "/usr/local/lib/python3.7/dist-packages/sklearn/svm/_base.py:947: ConvergenceWarning: Liblinear failed to converge, increase the number of iterations.\n",
            "  \"the number of iterations.\", ConvergenceWarning)\n"
          ]
        },
        {
          "output_type": "stream",
          "name": "stdout",
          "text": [
            "[LibLinear]"
          ]
        },
        {
          "output_type": "stream",
          "name": "stderr",
          "text": [
            "/usr/local/lib/python3.7/dist-packages/sklearn/svm/_base.py:947: ConvergenceWarning: Liblinear failed to converge, increase the number of iterations.\n",
            "  \"the number of iterations.\", ConvergenceWarning)\n"
          ]
        },
        {
          "output_type": "stream",
          "name": "stdout",
          "text": [
            "[LibLinear]"
          ]
        },
        {
          "output_type": "stream",
          "name": "stderr",
          "text": [
            "/usr/local/lib/python3.7/dist-packages/sklearn/svm/_base.py:947: ConvergenceWarning: Liblinear failed to converge, increase the number of iterations.\n",
            "  \"the number of iterations.\", ConvergenceWarning)\n"
          ]
        },
        {
          "output_type": "stream",
          "name": "stdout",
          "text": [
            "[LibLinear]"
          ]
        },
        {
          "output_type": "stream",
          "name": "stderr",
          "text": [
            "/usr/local/lib/python3.7/dist-packages/sklearn/svm/_base.py:947: ConvergenceWarning: Liblinear failed to converge, increase the number of iterations.\n",
            "  \"the number of iterations.\", ConvergenceWarning)\n"
          ]
        },
        {
          "output_type": "stream",
          "name": "stdout",
          "text": [
            "[LibLinear]"
          ]
        },
        {
          "output_type": "stream",
          "name": "stderr",
          "text": [
            "/usr/local/lib/python3.7/dist-packages/sklearn/svm/_base.py:947: ConvergenceWarning: Liblinear failed to converge, increase the number of iterations.\n",
            "  \"the number of iterations.\", ConvergenceWarning)\n"
          ]
        },
        {
          "output_type": "stream",
          "name": "stdout",
          "text": [
            "[LibLinear]"
          ]
        },
        {
          "output_type": "stream",
          "name": "stderr",
          "text": [
            "/usr/local/lib/python3.7/dist-packages/sklearn/svm/_base.py:947: ConvergenceWarning: Liblinear failed to converge, increase the number of iterations.\n",
            "  \"the number of iterations.\", ConvergenceWarning)\n"
          ]
        },
        {
          "output_type": "stream",
          "name": "stdout",
          "text": [
            "[LibLinear]"
          ]
        },
        {
          "output_type": "stream",
          "name": "stderr",
          "text": [
            "/usr/local/lib/python3.7/dist-packages/sklearn/svm/_base.py:947: ConvergenceWarning: Liblinear failed to converge, increase the number of iterations.\n",
            "  \"the number of iterations.\", ConvergenceWarning)\n"
          ]
        },
        {
          "output_type": "stream",
          "name": "stdout",
          "text": [
            "[LibLinear]"
          ]
        },
        {
          "output_type": "stream",
          "name": "stderr",
          "text": [
            "/usr/local/lib/python3.7/dist-packages/sklearn/svm/_base.py:947: ConvergenceWarning: Liblinear failed to converge, increase the number of iterations.\n",
            "  \"the number of iterations.\", ConvergenceWarning)\n"
          ]
        },
        {
          "output_type": "stream",
          "name": "stdout",
          "text": [
            "[LibLinear]"
          ]
        },
        {
          "output_type": "stream",
          "name": "stderr",
          "text": [
            "/usr/local/lib/python3.7/dist-packages/sklearn/svm/_base.py:947: ConvergenceWarning: Liblinear failed to converge, increase the number of iterations.\n",
            "  \"the number of iterations.\", ConvergenceWarning)\n"
          ]
        },
        {
          "output_type": "stream",
          "name": "stdout",
          "text": [
            "[LibLinear]"
          ]
        },
        {
          "output_type": "stream",
          "name": "stderr",
          "text": [
            "/usr/local/lib/python3.7/dist-packages/sklearn/svm/_base.py:947: ConvergenceWarning: Liblinear failed to converge, increase the number of iterations.\n",
            "  \"the number of iterations.\", ConvergenceWarning)\n"
          ]
        },
        {
          "output_type": "stream",
          "name": "stdout",
          "text": [
            "[LibLinear]"
          ]
        },
        {
          "output_type": "stream",
          "name": "stderr",
          "text": [
            "/usr/local/lib/python3.7/dist-packages/sklearn/svm/_base.py:947: ConvergenceWarning: Liblinear failed to converge, increase the number of iterations.\n",
            "  \"the number of iterations.\", ConvergenceWarning)\n"
          ]
        },
        {
          "output_type": "stream",
          "name": "stdout",
          "text": [
            "[LibLinear]"
          ]
        },
        {
          "output_type": "stream",
          "name": "stderr",
          "text": [
            "/usr/local/lib/python3.7/dist-packages/sklearn/svm/_base.py:947: ConvergenceWarning: Liblinear failed to converge, increase the number of iterations.\n",
            "  \"the number of iterations.\", ConvergenceWarning)\n"
          ]
        },
        {
          "output_type": "stream",
          "name": "stdout",
          "text": [
            "[LibLinear]"
          ]
        },
        {
          "output_type": "stream",
          "name": "stderr",
          "text": [
            "/usr/local/lib/python3.7/dist-packages/sklearn/svm/_base.py:947: ConvergenceWarning: Liblinear failed to converge, increase the number of iterations.\n",
            "  \"the number of iterations.\", ConvergenceWarning)\n"
          ]
        },
        {
          "output_type": "stream",
          "name": "stdout",
          "text": [
            "[LibLinear]"
          ]
        },
        {
          "output_type": "stream",
          "name": "stderr",
          "text": [
            "/usr/local/lib/python3.7/dist-packages/sklearn/svm/_base.py:947: ConvergenceWarning: Liblinear failed to converge, increase the number of iterations.\n",
            "  \"the number of iterations.\", ConvergenceWarning)\n"
          ]
        },
        {
          "output_type": "stream",
          "name": "stdout",
          "text": [
            "[LibLinear]"
          ]
        },
        {
          "output_type": "stream",
          "name": "stderr",
          "text": [
            "/usr/local/lib/python3.7/dist-packages/sklearn/svm/_base.py:947: ConvergenceWarning: Liblinear failed to converge, increase the number of iterations.\n",
            "  \"the number of iterations.\", ConvergenceWarning)\n"
          ]
        },
        {
          "output_type": "stream",
          "name": "stdout",
          "text": [
            "[LibLinear]"
          ]
        },
        {
          "output_type": "stream",
          "name": "stderr",
          "text": [
            "/usr/local/lib/python3.7/dist-packages/sklearn/svm/_base.py:947: ConvergenceWarning: Liblinear failed to converge, increase the number of iterations.\n",
            "  \"the number of iterations.\", ConvergenceWarning)\n"
          ]
        },
        {
          "output_type": "stream",
          "name": "stdout",
          "text": [
            "[LibLinear]"
          ]
        },
        {
          "output_type": "stream",
          "name": "stderr",
          "text": [
            "/usr/local/lib/python3.7/dist-packages/sklearn/svm/_base.py:947: ConvergenceWarning: Liblinear failed to converge, increase the number of iterations.\n",
            "  \"the number of iterations.\", ConvergenceWarning)\n"
          ]
        },
        {
          "output_type": "stream",
          "name": "stdout",
          "text": [
            "[LibLinear]"
          ]
        },
        {
          "output_type": "stream",
          "name": "stderr",
          "text": [
            "/usr/local/lib/python3.7/dist-packages/sklearn/svm/_base.py:947: ConvergenceWarning: Liblinear failed to converge, increase the number of iterations.\n",
            "  \"the number of iterations.\", ConvergenceWarning)\n"
          ]
        },
        {
          "output_type": "stream",
          "name": "stdout",
          "text": [
            "[LibLinear]"
          ]
        },
        {
          "output_type": "stream",
          "name": "stderr",
          "text": [
            "/usr/local/lib/python3.7/dist-packages/sklearn/svm/_base.py:947: ConvergenceWarning: Liblinear failed to converge, increase the number of iterations.\n",
            "  \"the number of iterations.\", ConvergenceWarning)\n"
          ]
        },
        {
          "output_type": "stream",
          "name": "stdout",
          "text": [
            "[LibLinear]"
          ]
        },
        {
          "output_type": "stream",
          "name": "stderr",
          "text": [
            "/usr/local/lib/python3.7/dist-packages/sklearn/svm/_base.py:947: ConvergenceWarning: Liblinear failed to converge, increase the number of iterations.\n",
            "  \"the number of iterations.\", ConvergenceWarning)\n"
          ]
        },
        {
          "output_type": "stream",
          "name": "stdout",
          "text": [
            "[LibLinear]"
          ]
        },
        {
          "output_type": "stream",
          "name": "stderr",
          "text": [
            "/usr/local/lib/python3.7/dist-packages/sklearn/svm/_base.py:947: ConvergenceWarning: Liblinear failed to converge, increase the number of iterations.\n",
            "  \"the number of iterations.\", ConvergenceWarning)\n"
          ]
        },
        {
          "output_type": "stream",
          "name": "stdout",
          "text": [
            "[LibLinear]"
          ]
        },
        {
          "output_type": "stream",
          "name": "stderr",
          "text": [
            "/usr/local/lib/python3.7/dist-packages/sklearn/svm/_base.py:947: ConvergenceWarning: Liblinear failed to converge, increase the number of iterations.\n",
            "  \"the number of iterations.\", ConvergenceWarning)\n"
          ]
        },
        {
          "output_type": "stream",
          "name": "stdout",
          "text": [
            "[LibLinear]"
          ]
        },
        {
          "output_type": "stream",
          "name": "stderr",
          "text": [
            "/usr/local/lib/python3.7/dist-packages/sklearn/svm/_base.py:947: ConvergenceWarning: Liblinear failed to converge, increase the number of iterations.\n",
            "  \"the number of iterations.\", ConvergenceWarning)\n"
          ]
        },
        {
          "output_type": "stream",
          "name": "stdout",
          "text": [
            "[LibLinear]"
          ]
        },
        {
          "output_type": "stream",
          "name": "stderr",
          "text": [
            "/usr/local/lib/python3.7/dist-packages/sklearn/svm/_base.py:947: ConvergenceWarning: Liblinear failed to converge, increase the number of iterations.\n",
            "  \"the number of iterations.\", ConvergenceWarning)\n"
          ]
        },
        {
          "output_type": "stream",
          "name": "stdout",
          "text": [
            "[LibLinear]"
          ]
        },
        {
          "output_type": "stream",
          "name": "stderr",
          "text": [
            "/usr/local/lib/python3.7/dist-packages/sklearn/svm/_base.py:947: ConvergenceWarning: Liblinear failed to converge, increase the number of iterations.\n",
            "  \"the number of iterations.\", ConvergenceWarning)\n"
          ]
        },
        {
          "output_type": "stream",
          "name": "stdout",
          "text": [
            "[LibLinear]"
          ]
        },
        {
          "output_type": "stream",
          "name": "stderr",
          "text": [
            "/usr/local/lib/python3.7/dist-packages/sklearn/svm/_base.py:947: ConvergenceWarning: Liblinear failed to converge, increase the number of iterations.\n",
            "  \"the number of iterations.\", ConvergenceWarning)\n"
          ]
        },
        {
          "output_type": "stream",
          "name": "stdout",
          "text": [
            "[LibLinear]"
          ]
        },
        {
          "output_type": "stream",
          "name": "stderr",
          "text": [
            "/usr/local/lib/python3.7/dist-packages/sklearn/svm/_base.py:947: ConvergenceWarning: Liblinear failed to converge, increase the number of iterations.\n",
            "  \"the number of iterations.\", ConvergenceWarning)\n"
          ]
        },
        {
          "output_type": "stream",
          "name": "stdout",
          "text": [
            "[LibLinear]"
          ]
        },
        {
          "output_type": "stream",
          "name": "stderr",
          "text": [
            "/usr/local/lib/python3.7/dist-packages/sklearn/svm/_base.py:947: ConvergenceWarning: Liblinear failed to converge, increase the number of iterations.\n",
            "  \"the number of iterations.\", ConvergenceWarning)\n"
          ]
        },
        {
          "output_type": "stream",
          "name": "stdout",
          "text": [
            "[LibLinear]"
          ]
        },
        {
          "output_type": "stream",
          "name": "stderr",
          "text": [
            "/usr/local/lib/python3.7/dist-packages/sklearn/svm/_base.py:947: ConvergenceWarning: Liblinear failed to converge, increase the number of iterations.\n",
            "  \"the number of iterations.\", ConvergenceWarning)\n"
          ]
        },
        {
          "output_type": "stream",
          "name": "stdout",
          "text": [
            "[LibLinear]"
          ]
        },
        {
          "output_type": "stream",
          "name": "stderr",
          "text": [
            "/usr/local/lib/python3.7/dist-packages/sklearn/svm/_base.py:947: ConvergenceWarning: Liblinear failed to converge, increase the number of iterations.\n",
            "  \"the number of iterations.\", ConvergenceWarning)\n"
          ]
        },
        {
          "output_type": "stream",
          "name": "stdout",
          "text": [
            "[LibLinear]"
          ]
        },
        {
          "output_type": "stream",
          "name": "stderr",
          "text": [
            "/usr/local/lib/python3.7/dist-packages/sklearn/svm/_base.py:947: ConvergenceWarning: Liblinear failed to converge, increase the number of iterations.\n",
            "  \"the number of iterations.\", ConvergenceWarning)\n"
          ]
        },
        {
          "output_type": "stream",
          "name": "stdout",
          "text": [
            "[LibLinear]{'mean_fit_time': array([3.20085933, 3.36811862, 3.33603504, 3.37959397, 3.34573069,\n",
            "       3.36537714]), 'std_fit_time': array([0.20108307, 0.0864254 , 0.06043342, 0.03361266, 0.06445102,\n",
            "       0.06356333]), 'mean_score_time': array([0.00282204, 0.00285244, 0.00247402, 0.00298755, 0.00306747,\n",
            "       0.00297291]), 'std_score_time': array([0.00053883, 0.0005815 , 0.00052126, 0.00035555, 0.00018991,\n",
            "       0.00038524]), 'param_C': masked_array(data=[1.0, 10.0, 100.0, 1000.0, 10000.0, 100000.0],\n",
            "             mask=[False, False, False, False, False, False],\n",
            "       fill_value='?',\n",
            "            dtype=object), 'params': [{'C': 1.0}, {'C': 10.0}, {'C': 100.0}, {'C': 1000.0}, {'C': 10000.0}, {'C': 100000.0}], 'split0_test_score': array([0.93070332, 0.9329573 , 0.9329573 , 0.9329573 , 0.9329573 ,\n",
            "       0.9329573 ]), 'split1_test_score': array([0.93479402, 0.93277207, 0.93277207, 0.93277207, 0.93277207,\n",
            "       0.93277207]), 'split2_test_score': array([0.95432774, 0.95432774, 0.95432774, 0.95432774, 0.95432774,\n",
            "       0.95432774]), 'split3_test_score': array([0.93067769, 0.93080328, 0.93080328, 0.93080328, 0.93080328,\n",
            "       0.93080328]), 'split4_test_score': array([0.91607141, 0.92714436, 0.92714436, 0.92714436, 0.92714436,\n",
            "       0.92714436]), 'split5_test_score': array([0.93701949, 0.93834241, 0.93834241, 0.9402849 , 0.9402849 ,\n",
            "       0.93834241]), 'split6_test_score': array([0.93992643, 0.93992643, 0.93992643, 0.93992643, 0.93992643,\n",
            "       0.93992643]), 'split7_test_score': array([0.93717445, 0.93787463, 0.93787463, 0.93787463, 0.93787463,\n",
            "       0.93787463]), 'split8_test_score': array([0.94700755, 0.94705608, 0.94705608, 0.94705608, 0.94705608,\n",
            "       0.94705608]), 'split9_test_score': array([0.95171563, 0.94976749, 0.94976749, 0.94976749, 0.94976749,\n",
            "       0.94976749]), 'mean_test_score': array([0.93794177, 0.93909718, 0.93909718, 0.93929143, 0.93929143,\n",
            "       0.93909718]), 'std_test_score': array([0.01067318, 0.00837428, 0.00837428, 0.00837705, 0.00837705,\n",
            "       0.00837428]), 'rank_test_score': array([6, 3, 3, 1, 1, 3], dtype=int32)}\n",
            "the best parameter pair is {'C': 1000.0}\n"
          ]
        },
        {
          "output_type": "stream",
          "name": "stderr",
          "text": [
            "/usr/local/lib/python3.7/dist-packages/sklearn/svm/_base.py:947: ConvergenceWarning: Liblinear failed to converge, increase the number of iterations.\n",
            "  \"the number of iterations.\", ConvergenceWarning)\n"
          ]
        }
      ]
    },
    {
      "cell_type": "code",
      "metadata": {
        "colab": {
          "base_uri": "https://localhost:8080/"
        },
        "id": "_9Px8W60PY--",
        "outputId": "18ae9048-6c9f-42cf-c48d-53fa9d3af0e3"
      },
      "source": [
        "std_species_pred = l1PenaltyParametersSearch(train_y['Species'])"
      ],
      "execution_count": 38,
      "outputs": [
        {
          "output_type": "stream",
          "name": "stdout",
          "text": [
            "[LibLinear]"
          ]
        },
        {
          "output_type": "stream",
          "name": "stderr",
          "text": [
            "/usr/local/lib/python3.7/dist-packages/sklearn/svm/_base.py:947: ConvergenceWarning: Liblinear failed to converge, increase the number of iterations.\n",
            "  \"the number of iterations.\", ConvergenceWarning)\n"
          ]
        },
        {
          "output_type": "stream",
          "name": "stdout",
          "text": [
            "[LibLinear]"
          ]
        },
        {
          "output_type": "stream",
          "name": "stderr",
          "text": [
            "/usr/local/lib/python3.7/dist-packages/sklearn/svm/_base.py:947: ConvergenceWarning: Liblinear failed to converge, increase the number of iterations.\n",
            "  \"the number of iterations.\", ConvergenceWarning)\n"
          ]
        },
        {
          "output_type": "stream",
          "name": "stdout",
          "text": [
            "[LibLinear]"
          ]
        },
        {
          "output_type": "stream",
          "name": "stderr",
          "text": [
            "/usr/local/lib/python3.7/dist-packages/sklearn/svm/_base.py:947: ConvergenceWarning: Liblinear failed to converge, increase the number of iterations.\n",
            "  \"the number of iterations.\", ConvergenceWarning)\n"
          ]
        },
        {
          "output_type": "stream",
          "name": "stdout",
          "text": [
            "[LibLinear]"
          ]
        },
        {
          "output_type": "stream",
          "name": "stderr",
          "text": [
            "/usr/local/lib/python3.7/dist-packages/sklearn/svm/_base.py:947: ConvergenceWarning: Liblinear failed to converge, increase the number of iterations.\n",
            "  \"the number of iterations.\", ConvergenceWarning)\n"
          ]
        },
        {
          "output_type": "stream",
          "name": "stdout",
          "text": [
            "[LibLinear]"
          ]
        },
        {
          "output_type": "stream",
          "name": "stderr",
          "text": [
            "/usr/local/lib/python3.7/dist-packages/sklearn/svm/_base.py:947: ConvergenceWarning: Liblinear failed to converge, increase the number of iterations.\n",
            "  \"the number of iterations.\", ConvergenceWarning)\n"
          ]
        },
        {
          "output_type": "stream",
          "name": "stdout",
          "text": [
            "[LibLinear]"
          ]
        },
        {
          "output_type": "stream",
          "name": "stderr",
          "text": [
            "/usr/local/lib/python3.7/dist-packages/sklearn/svm/_base.py:947: ConvergenceWarning: Liblinear failed to converge, increase the number of iterations.\n",
            "  \"the number of iterations.\", ConvergenceWarning)\n"
          ]
        },
        {
          "output_type": "stream",
          "name": "stdout",
          "text": [
            "[LibLinear]"
          ]
        },
        {
          "output_type": "stream",
          "name": "stderr",
          "text": [
            "/usr/local/lib/python3.7/dist-packages/sklearn/svm/_base.py:947: ConvergenceWarning: Liblinear failed to converge, increase the number of iterations.\n",
            "  \"the number of iterations.\", ConvergenceWarning)\n"
          ]
        },
        {
          "output_type": "stream",
          "name": "stdout",
          "text": [
            "[LibLinear]"
          ]
        },
        {
          "output_type": "stream",
          "name": "stderr",
          "text": [
            "/usr/local/lib/python3.7/dist-packages/sklearn/svm/_base.py:947: ConvergenceWarning: Liblinear failed to converge, increase the number of iterations.\n",
            "  \"the number of iterations.\", ConvergenceWarning)\n"
          ]
        },
        {
          "output_type": "stream",
          "name": "stdout",
          "text": [
            "[LibLinear]"
          ]
        },
        {
          "output_type": "stream",
          "name": "stderr",
          "text": [
            "/usr/local/lib/python3.7/dist-packages/sklearn/svm/_base.py:947: ConvergenceWarning: Liblinear failed to converge, increase the number of iterations.\n",
            "  \"the number of iterations.\", ConvergenceWarning)\n"
          ]
        },
        {
          "output_type": "stream",
          "name": "stdout",
          "text": [
            "[LibLinear]"
          ]
        },
        {
          "output_type": "stream",
          "name": "stderr",
          "text": [
            "/usr/local/lib/python3.7/dist-packages/sklearn/svm/_base.py:947: ConvergenceWarning: Liblinear failed to converge, increase the number of iterations.\n",
            "  \"the number of iterations.\", ConvergenceWarning)\n"
          ]
        },
        {
          "output_type": "stream",
          "name": "stdout",
          "text": [
            "[LibLinear]"
          ]
        },
        {
          "output_type": "stream",
          "name": "stderr",
          "text": [
            "/usr/local/lib/python3.7/dist-packages/sklearn/svm/_base.py:947: ConvergenceWarning: Liblinear failed to converge, increase the number of iterations.\n",
            "  \"the number of iterations.\", ConvergenceWarning)\n"
          ]
        },
        {
          "output_type": "stream",
          "name": "stdout",
          "text": [
            "[LibLinear]"
          ]
        },
        {
          "output_type": "stream",
          "name": "stderr",
          "text": [
            "/usr/local/lib/python3.7/dist-packages/sklearn/svm/_base.py:947: ConvergenceWarning: Liblinear failed to converge, increase the number of iterations.\n",
            "  \"the number of iterations.\", ConvergenceWarning)\n"
          ]
        },
        {
          "output_type": "stream",
          "name": "stdout",
          "text": [
            "[LibLinear]"
          ]
        },
        {
          "output_type": "stream",
          "name": "stderr",
          "text": [
            "/usr/local/lib/python3.7/dist-packages/sklearn/svm/_base.py:947: ConvergenceWarning: Liblinear failed to converge, increase the number of iterations.\n",
            "  \"the number of iterations.\", ConvergenceWarning)\n"
          ]
        },
        {
          "output_type": "stream",
          "name": "stdout",
          "text": [
            "[LibLinear]"
          ]
        },
        {
          "output_type": "stream",
          "name": "stderr",
          "text": [
            "/usr/local/lib/python3.7/dist-packages/sklearn/svm/_base.py:947: ConvergenceWarning: Liblinear failed to converge, increase the number of iterations.\n",
            "  \"the number of iterations.\", ConvergenceWarning)\n"
          ]
        },
        {
          "output_type": "stream",
          "name": "stdout",
          "text": [
            "[LibLinear]"
          ]
        },
        {
          "output_type": "stream",
          "name": "stderr",
          "text": [
            "/usr/local/lib/python3.7/dist-packages/sklearn/svm/_base.py:947: ConvergenceWarning: Liblinear failed to converge, increase the number of iterations.\n",
            "  \"the number of iterations.\", ConvergenceWarning)\n"
          ]
        },
        {
          "output_type": "stream",
          "name": "stdout",
          "text": [
            "[LibLinear]"
          ]
        },
        {
          "output_type": "stream",
          "name": "stderr",
          "text": [
            "/usr/local/lib/python3.7/dist-packages/sklearn/svm/_base.py:947: ConvergenceWarning: Liblinear failed to converge, increase the number of iterations.\n",
            "  \"the number of iterations.\", ConvergenceWarning)\n"
          ]
        },
        {
          "output_type": "stream",
          "name": "stdout",
          "text": [
            "[LibLinear]"
          ]
        },
        {
          "output_type": "stream",
          "name": "stderr",
          "text": [
            "/usr/local/lib/python3.7/dist-packages/sklearn/svm/_base.py:947: ConvergenceWarning: Liblinear failed to converge, increase the number of iterations.\n",
            "  \"the number of iterations.\", ConvergenceWarning)\n"
          ]
        },
        {
          "output_type": "stream",
          "name": "stdout",
          "text": [
            "[LibLinear]"
          ]
        },
        {
          "output_type": "stream",
          "name": "stderr",
          "text": [
            "/usr/local/lib/python3.7/dist-packages/sklearn/svm/_base.py:947: ConvergenceWarning: Liblinear failed to converge, increase the number of iterations.\n",
            "  \"the number of iterations.\", ConvergenceWarning)\n"
          ]
        },
        {
          "output_type": "stream",
          "name": "stdout",
          "text": [
            "[LibLinear]"
          ]
        },
        {
          "output_type": "stream",
          "name": "stderr",
          "text": [
            "/usr/local/lib/python3.7/dist-packages/sklearn/svm/_base.py:947: ConvergenceWarning: Liblinear failed to converge, increase the number of iterations.\n",
            "  \"the number of iterations.\", ConvergenceWarning)\n"
          ]
        },
        {
          "output_type": "stream",
          "name": "stdout",
          "text": [
            "[LibLinear]"
          ]
        },
        {
          "output_type": "stream",
          "name": "stderr",
          "text": [
            "/usr/local/lib/python3.7/dist-packages/sklearn/svm/_base.py:947: ConvergenceWarning: Liblinear failed to converge, increase the number of iterations.\n",
            "  \"the number of iterations.\", ConvergenceWarning)\n"
          ]
        },
        {
          "output_type": "stream",
          "name": "stdout",
          "text": [
            "[LibLinear]"
          ]
        },
        {
          "output_type": "stream",
          "name": "stderr",
          "text": [
            "/usr/local/lib/python3.7/dist-packages/sklearn/svm/_base.py:947: ConvergenceWarning: Liblinear failed to converge, increase the number of iterations.\n",
            "  \"the number of iterations.\", ConvergenceWarning)\n"
          ]
        },
        {
          "output_type": "stream",
          "name": "stdout",
          "text": [
            "[LibLinear]"
          ]
        },
        {
          "output_type": "stream",
          "name": "stderr",
          "text": [
            "/usr/local/lib/python3.7/dist-packages/sklearn/svm/_base.py:947: ConvergenceWarning: Liblinear failed to converge, increase the number of iterations.\n",
            "  \"the number of iterations.\", ConvergenceWarning)\n"
          ]
        },
        {
          "output_type": "stream",
          "name": "stdout",
          "text": [
            "[LibLinear]"
          ]
        },
        {
          "output_type": "stream",
          "name": "stderr",
          "text": [
            "/usr/local/lib/python3.7/dist-packages/sklearn/svm/_base.py:947: ConvergenceWarning: Liblinear failed to converge, increase the number of iterations.\n",
            "  \"the number of iterations.\", ConvergenceWarning)\n"
          ]
        },
        {
          "output_type": "stream",
          "name": "stdout",
          "text": [
            "[LibLinear]"
          ]
        },
        {
          "output_type": "stream",
          "name": "stderr",
          "text": [
            "/usr/local/lib/python3.7/dist-packages/sklearn/svm/_base.py:947: ConvergenceWarning: Liblinear failed to converge, increase the number of iterations.\n",
            "  \"the number of iterations.\", ConvergenceWarning)\n"
          ]
        },
        {
          "output_type": "stream",
          "name": "stdout",
          "text": [
            "[LibLinear]"
          ]
        },
        {
          "output_type": "stream",
          "name": "stderr",
          "text": [
            "/usr/local/lib/python3.7/dist-packages/sklearn/svm/_base.py:947: ConvergenceWarning: Liblinear failed to converge, increase the number of iterations.\n",
            "  \"the number of iterations.\", ConvergenceWarning)\n"
          ]
        },
        {
          "output_type": "stream",
          "name": "stdout",
          "text": [
            "[LibLinear]"
          ]
        },
        {
          "output_type": "stream",
          "name": "stderr",
          "text": [
            "/usr/local/lib/python3.7/dist-packages/sklearn/svm/_base.py:947: ConvergenceWarning: Liblinear failed to converge, increase the number of iterations.\n",
            "  \"the number of iterations.\", ConvergenceWarning)\n"
          ]
        },
        {
          "output_type": "stream",
          "name": "stdout",
          "text": [
            "[LibLinear]"
          ]
        },
        {
          "output_type": "stream",
          "name": "stderr",
          "text": [
            "/usr/local/lib/python3.7/dist-packages/sklearn/svm/_base.py:947: ConvergenceWarning: Liblinear failed to converge, increase the number of iterations.\n",
            "  \"the number of iterations.\", ConvergenceWarning)\n"
          ]
        },
        {
          "output_type": "stream",
          "name": "stdout",
          "text": [
            "[LibLinear]"
          ]
        },
        {
          "output_type": "stream",
          "name": "stderr",
          "text": [
            "/usr/local/lib/python3.7/dist-packages/sklearn/svm/_base.py:947: ConvergenceWarning: Liblinear failed to converge, increase the number of iterations.\n",
            "  \"the number of iterations.\", ConvergenceWarning)\n"
          ]
        },
        {
          "output_type": "stream",
          "name": "stdout",
          "text": [
            "[LibLinear]"
          ]
        },
        {
          "output_type": "stream",
          "name": "stderr",
          "text": [
            "/usr/local/lib/python3.7/dist-packages/sklearn/svm/_base.py:947: ConvergenceWarning: Liblinear failed to converge, increase the number of iterations.\n",
            "  \"the number of iterations.\", ConvergenceWarning)\n"
          ]
        },
        {
          "output_type": "stream",
          "name": "stdout",
          "text": [
            "[LibLinear]"
          ]
        },
        {
          "output_type": "stream",
          "name": "stderr",
          "text": [
            "/usr/local/lib/python3.7/dist-packages/sklearn/svm/_base.py:947: ConvergenceWarning: Liblinear failed to converge, increase the number of iterations.\n",
            "  \"the number of iterations.\", ConvergenceWarning)\n"
          ]
        },
        {
          "output_type": "stream",
          "name": "stdout",
          "text": [
            "[LibLinear]"
          ]
        },
        {
          "output_type": "stream",
          "name": "stderr",
          "text": [
            "/usr/local/lib/python3.7/dist-packages/sklearn/svm/_base.py:947: ConvergenceWarning: Liblinear failed to converge, increase the number of iterations.\n",
            "  \"the number of iterations.\", ConvergenceWarning)\n"
          ]
        },
        {
          "output_type": "stream",
          "name": "stdout",
          "text": [
            "[LibLinear]"
          ]
        },
        {
          "output_type": "stream",
          "name": "stderr",
          "text": [
            "/usr/local/lib/python3.7/dist-packages/sklearn/svm/_base.py:947: ConvergenceWarning: Liblinear failed to converge, increase the number of iterations.\n",
            "  \"the number of iterations.\", ConvergenceWarning)\n"
          ]
        },
        {
          "output_type": "stream",
          "name": "stdout",
          "text": [
            "[LibLinear]"
          ]
        },
        {
          "output_type": "stream",
          "name": "stderr",
          "text": [
            "/usr/local/lib/python3.7/dist-packages/sklearn/svm/_base.py:947: ConvergenceWarning: Liblinear failed to converge, increase the number of iterations.\n",
            "  \"the number of iterations.\", ConvergenceWarning)\n"
          ]
        },
        {
          "output_type": "stream",
          "name": "stdout",
          "text": [
            "[LibLinear]"
          ]
        },
        {
          "output_type": "stream",
          "name": "stderr",
          "text": [
            "/usr/local/lib/python3.7/dist-packages/sklearn/svm/_base.py:947: ConvergenceWarning: Liblinear failed to converge, increase the number of iterations.\n",
            "  \"the number of iterations.\", ConvergenceWarning)\n"
          ]
        },
        {
          "output_type": "stream",
          "name": "stdout",
          "text": [
            "[LibLinear]"
          ]
        },
        {
          "output_type": "stream",
          "name": "stderr",
          "text": [
            "/usr/local/lib/python3.7/dist-packages/sklearn/svm/_base.py:947: ConvergenceWarning: Liblinear failed to converge, increase the number of iterations.\n",
            "  \"the number of iterations.\", ConvergenceWarning)\n"
          ]
        },
        {
          "output_type": "stream",
          "name": "stdout",
          "text": [
            "[LibLinear]"
          ]
        },
        {
          "output_type": "stream",
          "name": "stderr",
          "text": [
            "/usr/local/lib/python3.7/dist-packages/sklearn/svm/_base.py:947: ConvergenceWarning: Liblinear failed to converge, increase the number of iterations.\n",
            "  \"the number of iterations.\", ConvergenceWarning)\n"
          ]
        },
        {
          "output_type": "stream",
          "name": "stdout",
          "text": [
            "[LibLinear]"
          ]
        },
        {
          "output_type": "stream",
          "name": "stderr",
          "text": [
            "/usr/local/lib/python3.7/dist-packages/sklearn/svm/_base.py:947: ConvergenceWarning: Liblinear failed to converge, increase the number of iterations.\n",
            "  \"the number of iterations.\", ConvergenceWarning)\n"
          ]
        },
        {
          "output_type": "stream",
          "name": "stdout",
          "text": [
            "[LibLinear]"
          ]
        },
        {
          "output_type": "stream",
          "name": "stderr",
          "text": [
            "/usr/local/lib/python3.7/dist-packages/sklearn/svm/_base.py:947: ConvergenceWarning: Liblinear failed to converge, increase the number of iterations.\n",
            "  \"the number of iterations.\", ConvergenceWarning)\n"
          ]
        },
        {
          "output_type": "stream",
          "name": "stdout",
          "text": [
            "[LibLinear]"
          ]
        },
        {
          "output_type": "stream",
          "name": "stderr",
          "text": [
            "/usr/local/lib/python3.7/dist-packages/sklearn/svm/_base.py:947: ConvergenceWarning: Liblinear failed to converge, increase the number of iterations.\n",
            "  \"the number of iterations.\", ConvergenceWarning)\n"
          ]
        },
        {
          "output_type": "stream",
          "name": "stdout",
          "text": [
            "[LibLinear]"
          ]
        },
        {
          "output_type": "stream",
          "name": "stderr",
          "text": [
            "/usr/local/lib/python3.7/dist-packages/sklearn/svm/_base.py:947: ConvergenceWarning: Liblinear failed to converge, increase the number of iterations.\n",
            "  \"the number of iterations.\", ConvergenceWarning)\n"
          ]
        },
        {
          "output_type": "stream",
          "name": "stdout",
          "text": [
            "[LibLinear]"
          ]
        },
        {
          "output_type": "stream",
          "name": "stderr",
          "text": [
            "/usr/local/lib/python3.7/dist-packages/sklearn/svm/_base.py:947: ConvergenceWarning: Liblinear failed to converge, increase the number of iterations.\n",
            "  \"the number of iterations.\", ConvergenceWarning)\n"
          ]
        },
        {
          "output_type": "stream",
          "name": "stdout",
          "text": [
            "[LibLinear]"
          ]
        },
        {
          "output_type": "stream",
          "name": "stderr",
          "text": [
            "/usr/local/lib/python3.7/dist-packages/sklearn/svm/_base.py:947: ConvergenceWarning: Liblinear failed to converge, increase the number of iterations.\n",
            "  \"the number of iterations.\", ConvergenceWarning)\n"
          ]
        },
        {
          "output_type": "stream",
          "name": "stdout",
          "text": [
            "[LibLinear]"
          ]
        },
        {
          "output_type": "stream",
          "name": "stderr",
          "text": [
            "/usr/local/lib/python3.7/dist-packages/sklearn/svm/_base.py:947: ConvergenceWarning: Liblinear failed to converge, increase the number of iterations.\n",
            "  \"the number of iterations.\", ConvergenceWarning)\n"
          ]
        },
        {
          "output_type": "stream",
          "name": "stdout",
          "text": [
            "[LibLinear]"
          ]
        },
        {
          "output_type": "stream",
          "name": "stderr",
          "text": [
            "/usr/local/lib/python3.7/dist-packages/sklearn/svm/_base.py:947: ConvergenceWarning: Liblinear failed to converge, increase the number of iterations.\n",
            "  \"the number of iterations.\", ConvergenceWarning)\n"
          ]
        },
        {
          "output_type": "stream",
          "name": "stdout",
          "text": [
            "[LibLinear]"
          ]
        },
        {
          "output_type": "stream",
          "name": "stderr",
          "text": [
            "/usr/local/lib/python3.7/dist-packages/sklearn/svm/_base.py:947: ConvergenceWarning: Liblinear failed to converge, increase the number of iterations.\n",
            "  \"the number of iterations.\", ConvergenceWarning)\n"
          ]
        },
        {
          "output_type": "stream",
          "name": "stdout",
          "text": [
            "[LibLinear]"
          ]
        },
        {
          "output_type": "stream",
          "name": "stderr",
          "text": [
            "/usr/local/lib/python3.7/dist-packages/sklearn/svm/_base.py:947: ConvergenceWarning: Liblinear failed to converge, increase the number of iterations.\n",
            "  \"the number of iterations.\", ConvergenceWarning)\n"
          ]
        },
        {
          "output_type": "stream",
          "name": "stdout",
          "text": [
            "[LibLinear]"
          ]
        },
        {
          "output_type": "stream",
          "name": "stderr",
          "text": [
            "/usr/local/lib/python3.7/dist-packages/sklearn/svm/_base.py:947: ConvergenceWarning: Liblinear failed to converge, increase the number of iterations.\n",
            "  \"the number of iterations.\", ConvergenceWarning)\n"
          ]
        },
        {
          "output_type": "stream",
          "name": "stdout",
          "text": [
            "[LibLinear]"
          ]
        },
        {
          "output_type": "stream",
          "name": "stderr",
          "text": [
            "/usr/local/lib/python3.7/dist-packages/sklearn/svm/_base.py:947: ConvergenceWarning: Liblinear failed to converge, increase the number of iterations.\n",
            "  \"the number of iterations.\", ConvergenceWarning)\n"
          ]
        },
        {
          "output_type": "stream",
          "name": "stdout",
          "text": [
            "[LibLinear]"
          ]
        },
        {
          "output_type": "stream",
          "name": "stderr",
          "text": [
            "/usr/local/lib/python3.7/dist-packages/sklearn/svm/_base.py:947: ConvergenceWarning: Liblinear failed to converge, increase the number of iterations.\n",
            "  \"the number of iterations.\", ConvergenceWarning)\n"
          ]
        },
        {
          "output_type": "stream",
          "name": "stdout",
          "text": [
            "[LibLinear]"
          ]
        },
        {
          "output_type": "stream",
          "name": "stderr",
          "text": [
            "/usr/local/lib/python3.7/dist-packages/sklearn/svm/_base.py:947: ConvergenceWarning: Liblinear failed to converge, increase the number of iterations.\n",
            "  \"the number of iterations.\", ConvergenceWarning)\n"
          ]
        },
        {
          "output_type": "stream",
          "name": "stdout",
          "text": [
            "[LibLinear]"
          ]
        },
        {
          "output_type": "stream",
          "name": "stderr",
          "text": [
            "/usr/local/lib/python3.7/dist-packages/sklearn/svm/_base.py:947: ConvergenceWarning: Liblinear failed to converge, increase the number of iterations.\n",
            "  \"the number of iterations.\", ConvergenceWarning)\n"
          ]
        },
        {
          "output_type": "stream",
          "name": "stdout",
          "text": [
            "[LibLinear]"
          ]
        },
        {
          "output_type": "stream",
          "name": "stderr",
          "text": [
            "/usr/local/lib/python3.7/dist-packages/sklearn/svm/_base.py:947: ConvergenceWarning: Liblinear failed to converge, increase the number of iterations.\n",
            "  \"the number of iterations.\", ConvergenceWarning)\n"
          ]
        },
        {
          "output_type": "stream",
          "name": "stdout",
          "text": [
            "[LibLinear]"
          ]
        },
        {
          "output_type": "stream",
          "name": "stderr",
          "text": [
            "/usr/local/lib/python3.7/dist-packages/sklearn/svm/_base.py:947: ConvergenceWarning: Liblinear failed to converge, increase the number of iterations.\n",
            "  \"the number of iterations.\", ConvergenceWarning)\n"
          ]
        },
        {
          "output_type": "stream",
          "name": "stdout",
          "text": [
            "[LibLinear]"
          ]
        },
        {
          "output_type": "stream",
          "name": "stderr",
          "text": [
            "/usr/local/lib/python3.7/dist-packages/sklearn/svm/_base.py:947: ConvergenceWarning: Liblinear failed to converge, increase the number of iterations.\n",
            "  \"the number of iterations.\", ConvergenceWarning)\n"
          ]
        },
        {
          "output_type": "stream",
          "name": "stdout",
          "text": [
            "[LibLinear]"
          ]
        },
        {
          "output_type": "stream",
          "name": "stderr",
          "text": [
            "/usr/local/lib/python3.7/dist-packages/sklearn/svm/_base.py:947: ConvergenceWarning: Liblinear failed to converge, increase the number of iterations.\n",
            "  \"the number of iterations.\", ConvergenceWarning)\n"
          ]
        },
        {
          "output_type": "stream",
          "name": "stdout",
          "text": [
            "[LibLinear]"
          ]
        },
        {
          "output_type": "stream",
          "name": "stderr",
          "text": [
            "/usr/local/lib/python3.7/dist-packages/sklearn/svm/_base.py:947: ConvergenceWarning: Liblinear failed to converge, increase the number of iterations.\n",
            "  \"the number of iterations.\", ConvergenceWarning)\n"
          ]
        },
        {
          "output_type": "stream",
          "name": "stdout",
          "text": [
            "[LibLinear]"
          ]
        },
        {
          "output_type": "stream",
          "name": "stderr",
          "text": [
            "/usr/local/lib/python3.7/dist-packages/sklearn/svm/_base.py:947: ConvergenceWarning: Liblinear failed to converge, increase the number of iterations.\n",
            "  \"the number of iterations.\", ConvergenceWarning)\n"
          ]
        },
        {
          "output_type": "stream",
          "name": "stdout",
          "text": [
            "[LibLinear]"
          ]
        },
        {
          "output_type": "stream",
          "name": "stderr",
          "text": [
            "/usr/local/lib/python3.7/dist-packages/sklearn/svm/_base.py:947: ConvergenceWarning: Liblinear failed to converge, increase the number of iterations.\n",
            "  \"the number of iterations.\", ConvergenceWarning)\n"
          ]
        },
        {
          "output_type": "stream",
          "name": "stdout",
          "text": [
            "[LibLinear]"
          ]
        },
        {
          "output_type": "stream",
          "name": "stderr",
          "text": [
            "/usr/local/lib/python3.7/dist-packages/sklearn/svm/_base.py:947: ConvergenceWarning: Liblinear failed to converge, increase the number of iterations.\n",
            "  \"the number of iterations.\", ConvergenceWarning)\n"
          ]
        },
        {
          "output_type": "stream",
          "name": "stdout",
          "text": [
            "[LibLinear]"
          ]
        },
        {
          "output_type": "stream",
          "name": "stderr",
          "text": [
            "/usr/local/lib/python3.7/dist-packages/sklearn/svm/_base.py:947: ConvergenceWarning: Liblinear failed to converge, increase the number of iterations.\n",
            "  \"the number of iterations.\", ConvergenceWarning)\n"
          ]
        },
        {
          "output_type": "stream",
          "name": "stdout",
          "text": [
            "[LibLinear]{'mean_fit_time': array([3.13943529, 3.24408779, 3.26579032, 3.2291616 , 3.25682285,\n",
            "       3.29701037]), 'std_fit_time': array([0.15834366, 0.06434104, 0.03549333, 0.05071002, 0.04242665,\n",
            "       0.1052654 ]), 'mean_score_time': array([0.00278685, 0.00298789, 0.00301352, 0.00305223, 0.00283144,\n",
            "       0.00279863]), 'std_score_time': array([0.00037932, 0.00024315, 0.00019624, 0.00056905, 0.00037664,\n",
            "       0.0004604 ]), 'param_C': masked_array(data=[1.0, 10.0, 100.0, 1000.0, 10000.0, 100000.0],\n",
            "             mask=[False, False, False, False, False, False],\n",
            "       fill_value='?',\n",
            "            dtype=object), 'params': [{'C': 1.0}, {'C': 10.0}, {'C': 100.0}, {'C': 1000.0}, {'C': 10000.0}, {'C': 100000.0}], 'split0_test_score': array([0.94272525, 0.94086059, 0.94086059, 0.94086059, 0.94086059,\n",
            "       0.94086059]), 'split1_test_score': array([0.95191236, 0.94985079, 0.9479134 , 0.9479134 , 0.9479134 ,\n",
            "       0.9479134 ]), 'split2_test_score': array([0.96557739, 0.96564031, 0.96564031, 0.96564031, 0.96564031,\n",
            "       0.96564031]), 'split3_test_score': array([0.95580968, 0.95771006, 0.95771006, 0.95771006, 0.95771006,\n",
            "       0.95771006]), 'split4_test_score': array([0.94284685, 0.94154462, 0.94160355, 0.94160355, 0.94160355,\n",
            "       0.94160355]), 'split5_test_score': array([0.94583035, 0.94879122, 0.94879122, 0.94879122, 0.94879122,\n",
            "       0.94879122]), 'split6_test_score': array([0.95780477, 0.95748154, 0.95748154, 0.95748154, 0.95748154,\n",
            "       0.95748154]), 'split7_test_score': array([0.94582256, 0.94373767, 0.94373767, 0.94373767, 0.94373767,\n",
            "       0.94373767]), 'split8_test_score': array([0.95311964, 0.95325434, 0.95135436, 0.95135436, 0.95135436,\n",
            "       0.95135436]), 'split9_test_score': array([0.94918428, 0.94733726, 0.94733726, 0.94733726, 0.94733726,\n",
            "       0.94733726]), 'mean_test_score': array([0.95106331, 0.95062084, 0.950243  , 0.950243  , 0.950243  ,\n",
            "       0.950243  ]), 'std_test_score': array([0.00692096, 0.0075471 , 0.00753281, 0.00753281, 0.00753281,\n",
            "       0.00753281]), 'rank_test_score': array([1, 2, 3, 3, 3, 3], dtype=int32)}\n",
            "the best parameter pair is {'C': 1.0}\n"
          ]
        },
        {
          "output_type": "stream",
          "name": "stderr",
          "text": [
            "/usr/local/lib/python3.7/dist-packages/sklearn/svm/_base.py:947: ConvergenceWarning: Liblinear failed to converge, increase the number of iterations.\n",
            "  \"the number of iterations.\", ConvergenceWarning)\n"
          ]
        }
      ]
    },
    {
      "cell_type": "code",
      "metadata": {
        "id": "eOleql9F-tSf"
      },
      "source": [
        "std_pred = [std_family_pred,std_genus_pred,std_species_pred]\n",
        "std_pred = np.array(std_pred)"
      ],
      "execution_count": 39,
      "outputs": []
    },
    {
      "cell_type": "code",
      "metadata": {
        "id": "dMhZZYvB-1Ss"
      },
      "source": [
        "family_truth = np.array(test['Family'])\n",
        "genus_truth = np.array(test['Genus'])\n",
        "species_truth = np.array(test['Species'])\n",
        "truth = [family_truth, genus_truth, species_truth]\n",
        "truth = np.array(truth)"
      ],
      "execution_count": 40,
      "outputs": []
    },
    {
      "cell_type": "code",
      "metadata": {
        "colab": {
          "base_uri": "https://localhost:8080/"
        },
        "id": "-vhtLHrR_HKe",
        "outputId": "e3c49273-b158-4403-9283-1e993f17cc2d"
      },
      "source": [
        "hamming_loss = hamming_loss_calc(std_pred, truth)"
      ],
      "execution_count": 47,
      "outputs": [
        {
          "output_type": "stream",
          "name": "stdout",
          "text": [
            "The hamming_loss is 0.0557\n"
          ]
        }
      ]
    },
    {
      "cell_type": "code",
      "metadata": {
        "colab": {
          "base_uri": "https://localhost:8080/"
        },
        "id": "OzMUjKhH_N5O",
        "outputId": "f09d80d1-8cd4-42d8-d32c-1090e8314c26"
      },
      "source": [
        "exact_match_ratio = exact_match_ratio_calc(std_pred, truth)"
      ],
      "execution_count": 41,
      "outputs": [
        {
          "output_type": "stream",
          "name": "stdout",
          "text": [
            "exact match ratio is 0.9189\n"
          ]
        }
      ]
    },
    {
      "cell_type": "code",
      "metadata": {
        "id": "EOiqoz6JfahO"
      },
      "source": [
        "result['standardlize'] = [hamming_loss, exact_match_ratio]"
      ],
      "execution_count": 42,
      "outputs": []
    },
    {
      "cell_type": "markdown",
      "metadata": {
        "id": "hyhMWA8np_mL"
      },
      "source": [
        "Problem biv"
      ]
    },
    {
      "cell_type": "markdown",
      "metadata": {
        "id": "YLd8-vn7Yqo_"
      },
      "source": [
        "Based on the former work, use SMOTE to remedy imbalance and repeat the test"
      ]
    },
    {
      "cell_type": "code",
      "metadata": {
        "id": "coXnwCbvWRMg"
      },
      "source": [
        "from imblearn.over_sampling import SMOTE\n",
        "from sklearn.model_selection import StratifiedKFold"
      ],
      "execution_count": null,
      "outputs": []
    },
    {
      "cell_type": "code",
      "metadata": {
        "id": "7g6pu-17qEhu"
      },
      "source": [
        "smote = SMOTE(random_state=3000)"
      ],
      "execution_count": 44,
      "outputs": []
    },
    {
      "cell_type": "code",
      "metadata": {
        "id": "PDqf5dxwqIcQ"
      },
      "source": [
        "train_x_smote, train_y_smote = smote.fit_resample(std_train_x, train_y['Family'])"
      ],
      "execution_count": null,
      "outputs": []
    },
    {
      "cell_type": "code",
      "metadata": {
        "colab": {
          "base_uri": "https://localhost:8080/"
        },
        "id": "yJ8dTPjpqrfw",
        "outputId": "d936f5ce-1a4c-49b3-f539-2180c6abefb1"
      },
      "source": [
        "train_x_smote.shape"
      ],
      "execution_count": 46,
      "outputs": [
        {
          "output_type": "execute_result",
          "data": {
            "text/plain": [
              "(12384, 22)"
            ]
          },
          "metadata": {},
          "execution_count": 46
        }
      ]
    },
    {
      "cell_type": "code",
      "metadata": {
        "id": "BYyhG1iIrOXl"
      },
      "source": [
        "def smoteParametersSearch(train_y):\n",
        "    smote = SMOTE(random_state=3000)\n",
        "    train_x_smote, train_y_smote = smote.fit_resample(std_train_x, train_y)\n",
        "    linearsvc = LinearSVC(penalty='l1', dual=False, max_iter=500)\n",
        "    c_parameters = np.logspace(0, 5, num=6, base=10)\n",
        "    parameters = {'C': c_parameters}\n",
        "    clf = GridSearchCV(linearsvc, parameters, cv=10)\n",
        "    clf.fit(train_x_smote,train_y_smote)\n",
        "    print(clf.cv_results_)\n",
        "    test_pred = clf.predict(std_test_x)\n",
        "    print('the best parameter pair is '+ str(clf.best_params_))\n",
        "    return test_pred"
      ],
      "execution_count": 48,
      "outputs": []
    },
    {
      "cell_type": "code",
      "metadata": {
        "colab": {
          "base_uri": "https://localhost:8080/"
        },
        "id": "P_5dzDoztId-",
        "outputId": "5f2cdef2-7f80-464f-8f37-3e01a2ba0cef"
      },
      "source": [
        "smote_family_pred = smoteParametersSearch(train_y['Family'])"
      ],
      "execution_count": 49,
      "outputs": [
        {
          "output_type": "stream",
          "name": "stderr",
          "text": [
            "/usr/local/lib/python3.7/dist-packages/sklearn/utils/deprecation.py:87: FutureWarning: Function safe_indexing is deprecated; safe_indexing is deprecated in version 0.22 and will be removed in version 0.24.\n",
            "  warnings.warn(msg, category=FutureWarning)\n",
            "/usr/local/lib/python3.7/dist-packages/sklearn/utils/deprecation.py:87: FutureWarning: Function safe_indexing is deprecated; safe_indexing is deprecated in version 0.22 and will be removed in version 0.24.\n",
            "  warnings.warn(msg, category=FutureWarning)\n",
            "/usr/local/lib/python3.7/dist-packages/sklearn/utils/deprecation.py:87: FutureWarning: Function safe_indexing is deprecated; safe_indexing is deprecated in version 0.22 and will be removed in version 0.24.\n",
            "  warnings.warn(msg, category=FutureWarning)\n",
            "/usr/local/lib/python3.7/dist-packages/sklearn/svm/_base.py:947: ConvergenceWarning: Liblinear failed to converge, increase the number of iterations.\n",
            "  \"the number of iterations.\", ConvergenceWarning)\n",
            "/usr/local/lib/python3.7/dist-packages/sklearn/svm/_base.py:947: ConvergenceWarning: Liblinear failed to converge, increase the number of iterations.\n",
            "  \"the number of iterations.\", ConvergenceWarning)\n",
            "/usr/local/lib/python3.7/dist-packages/sklearn/svm/_base.py:947: ConvergenceWarning: Liblinear failed to converge, increase the number of iterations.\n",
            "  \"the number of iterations.\", ConvergenceWarning)\n",
            "/usr/local/lib/python3.7/dist-packages/sklearn/svm/_base.py:947: ConvergenceWarning: Liblinear failed to converge, increase the number of iterations.\n",
            "  \"the number of iterations.\", ConvergenceWarning)\n",
            "/usr/local/lib/python3.7/dist-packages/sklearn/svm/_base.py:947: ConvergenceWarning: Liblinear failed to converge, increase the number of iterations.\n",
            "  \"the number of iterations.\", ConvergenceWarning)\n",
            "/usr/local/lib/python3.7/dist-packages/sklearn/svm/_base.py:947: ConvergenceWarning: Liblinear failed to converge, increase the number of iterations.\n",
            "  \"the number of iterations.\", ConvergenceWarning)\n",
            "/usr/local/lib/python3.7/dist-packages/sklearn/svm/_base.py:947: ConvergenceWarning: Liblinear failed to converge, increase the number of iterations.\n",
            "  \"the number of iterations.\", ConvergenceWarning)\n",
            "/usr/local/lib/python3.7/dist-packages/sklearn/svm/_base.py:947: ConvergenceWarning: Liblinear failed to converge, increase the number of iterations.\n",
            "  \"the number of iterations.\", ConvergenceWarning)\n",
            "/usr/local/lib/python3.7/dist-packages/sklearn/svm/_base.py:947: ConvergenceWarning: Liblinear failed to converge, increase the number of iterations.\n",
            "  \"the number of iterations.\", ConvergenceWarning)\n",
            "/usr/local/lib/python3.7/dist-packages/sklearn/svm/_base.py:947: ConvergenceWarning: Liblinear failed to converge, increase the number of iterations.\n",
            "  \"the number of iterations.\", ConvergenceWarning)\n",
            "/usr/local/lib/python3.7/dist-packages/sklearn/svm/_base.py:947: ConvergenceWarning: Liblinear failed to converge, increase the number of iterations.\n",
            "  \"the number of iterations.\", ConvergenceWarning)\n",
            "/usr/local/lib/python3.7/dist-packages/sklearn/svm/_base.py:947: ConvergenceWarning: Liblinear failed to converge, increase the number of iterations.\n",
            "  \"the number of iterations.\", ConvergenceWarning)\n",
            "/usr/local/lib/python3.7/dist-packages/sklearn/svm/_base.py:947: ConvergenceWarning: Liblinear failed to converge, increase the number of iterations.\n",
            "  \"the number of iterations.\", ConvergenceWarning)\n",
            "/usr/local/lib/python3.7/dist-packages/sklearn/svm/_base.py:947: ConvergenceWarning: Liblinear failed to converge, increase the number of iterations.\n",
            "  \"the number of iterations.\", ConvergenceWarning)\n",
            "/usr/local/lib/python3.7/dist-packages/sklearn/svm/_base.py:947: ConvergenceWarning: Liblinear failed to converge, increase the number of iterations.\n",
            "  \"the number of iterations.\", ConvergenceWarning)\n",
            "/usr/local/lib/python3.7/dist-packages/sklearn/svm/_base.py:947: ConvergenceWarning: Liblinear failed to converge, increase the number of iterations.\n",
            "  \"the number of iterations.\", ConvergenceWarning)\n",
            "/usr/local/lib/python3.7/dist-packages/sklearn/svm/_base.py:947: ConvergenceWarning: Liblinear failed to converge, increase the number of iterations.\n",
            "  \"the number of iterations.\", ConvergenceWarning)\n",
            "/usr/local/lib/python3.7/dist-packages/sklearn/svm/_base.py:947: ConvergenceWarning: Liblinear failed to converge, increase the number of iterations.\n",
            "  \"the number of iterations.\", ConvergenceWarning)\n",
            "/usr/local/lib/python3.7/dist-packages/sklearn/svm/_base.py:947: ConvergenceWarning: Liblinear failed to converge, increase the number of iterations.\n",
            "  \"the number of iterations.\", ConvergenceWarning)\n",
            "/usr/local/lib/python3.7/dist-packages/sklearn/svm/_base.py:947: ConvergenceWarning: Liblinear failed to converge, increase the number of iterations.\n",
            "  \"the number of iterations.\", ConvergenceWarning)\n",
            "/usr/local/lib/python3.7/dist-packages/sklearn/svm/_base.py:947: ConvergenceWarning: Liblinear failed to converge, increase the number of iterations.\n",
            "  \"the number of iterations.\", ConvergenceWarning)\n",
            "/usr/local/lib/python3.7/dist-packages/sklearn/svm/_base.py:947: ConvergenceWarning: Liblinear failed to converge, increase the number of iterations.\n",
            "  \"the number of iterations.\", ConvergenceWarning)\n",
            "/usr/local/lib/python3.7/dist-packages/sklearn/svm/_base.py:947: ConvergenceWarning: Liblinear failed to converge, increase the number of iterations.\n",
            "  \"the number of iterations.\", ConvergenceWarning)\n",
            "/usr/local/lib/python3.7/dist-packages/sklearn/svm/_base.py:947: ConvergenceWarning: Liblinear failed to converge, increase the number of iterations.\n",
            "  \"the number of iterations.\", ConvergenceWarning)\n",
            "/usr/local/lib/python3.7/dist-packages/sklearn/svm/_base.py:947: ConvergenceWarning: Liblinear failed to converge, increase the number of iterations.\n",
            "  \"the number of iterations.\", ConvergenceWarning)\n",
            "/usr/local/lib/python3.7/dist-packages/sklearn/svm/_base.py:947: ConvergenceWarning: Liblinear failed to converge, increase the number of iterations.\n",
            "  \"the number of iterations.\", ConvergenceWarning)\n",
            "/usr/local/lib/python3.7/dist-packages/sklearn/svm/_base.py:947: ConvergenceWarning: Liblinear failed to converge, increase the number of iterations.\n",
            "  \"the number of iterations.\", ConvergenceWarning)\n",
            "/usr/local/lib/python3.7/dist-packages/sklearn/svm/_base.py:947: ConvergenceWarning: Liblinear failed to converge, increase the number of iterations.\n",
            "  \"the number of iterations.\", ConvergenceWarning)\n",
            "/usr/local/lib/python3.7/dist-packages/sklearn/svm/_base.py:947: ConvergenceWarning: Liblinear failed to converge, increase the number of iterations.\n",
            "  \"the number of iterations.\", ConvergenceWarning)\n",
            "/usr/local/lib/python3.7/dist-packages/sklearn/svm/_base.py:947: ConvergenceWarning: Liblinear failed to converge, increase the number of iterations.\n",
            "  \"the number of iterations.\", ConvergenceWarning)\n",
            "/usr/local/lib/python3.7/dist-packages/sklearn/svm/_base.py:947: ConvergenceWarning: Liblinear failed to converge, increase the number of iterations.\n",
            "  \"the number of iterations.\", ConvergenceWarning)\n",
            "/usr/local/lib/python3.7/dist-packages/sklearn/svm/_base.py:947: ConvergenceWarning: Liblinear failed to converge, increase the number of iterations.\n",
            "  \"the number of iterations.\", ConvergenceWarning)\n",
            "/usr/local/lib/python3.7/dist-packages/sklearn/svm/_base.py:947: ConvergenceWarning: Liblinear failed to converge, increase the number of iterations.\n",
            "  \"the number of iterations.\", ConvergenceWarning)\n",
            "/usr/local/lib/python3.7/dist-packages/sklearn/svm/_base.py:947: ConvergenceWarning: Liblinear failed to converge, increase the number of iterations.\n",
            "  \"the number of iterations.\", ConvergenceWarning)\n",
            "/usr/local/lib/python3.7/dist-packages/sklearn/svm/_base.py:947: ConvergenceWarning: Liblinear failed to converge, increase the number of iterations.\n",
            "  \"the number of iterations.\", ConvergenceWarning)\n",
            "/usr/local/lib/python3.7/dist-packages/sklearn/svm/_base.py:947: ConvergenceWarning: Liblinear failed to converge, increase the number of iterations.\n",
            "  \"the number of iterations.\", ConvergenceWarning)\n",
            "/usr/local/lib/python3.7/dist-packages/sklearn/svm/_base.py:947: ConvergenceWarning: Liblinear failed to converge, increase the number of iterations.\n",
            "  \"the number of iterations.\", ConvergenceWarning)\n",
            "/usr/local/lib/python3.7/dist-packages/sklearn/svm/_base.py:947: ConvergenceWarning: Liblinear failed to converge, increase the number of iterations.\n",
            "  \"the number of iterations.\", ConvergenceWarning)\n",
            "/usr/local/lib/python3.7/dist-packages/sklearn/svm/_base.py:947: ConvergenceWarning: Liblinear failed to converge, increase the number of iterations.\n",
            "  \"the number of iterations.\", ConvergenceWarning)\n",
            "/usr/local/lib/python3.7/dist-packages/sklearn/svm/_base.py:947: ConvergenceWarning: Liblinear failed to converge, increase the number of iterations.\n",
            "  \"the number of iterations.\", ConvergenceWarning)\n",
            "/usr/local/lib/python3.7/dist-packages/sklearn/svm/_base.py:947: ConvergenceWarning: Liblinear failed to converge, increase the number of iterations.\n",
            "  \"the number of iterations.\", ConvergenceWarning)\n",
            "/usr/local/lib/python3.7/dist-packages/sklearn/svm/_base.py:947: ConvergenceWarning: Liblinear failed to converge, increase the number of iterations.\n",
            "  \"the number of iterations.\", ConvergenceWarning)\n",
            "/usr/local/lib/python3.7/dist-packages/sklearn/svm/_base.py:947: ConvergenceWarning: Liblinear failed to converge, increase the number of iterations.\n",
            "  \"the number of iterations.\", ConvergenceWarning)\n",
            "/usr/local/lib/python3.7/dist-packages/sklearn/svm/_base.py:947: ConvergenceWarning: Liblinear failed to converge, increase the number of iterations.\n",
            "  \"the number of iterations.\", ConvergenceWarning)\n",
            "/usr/local/lib/python3.7/dist-packages/sklearn/svm/_base.py:947: ConvergenceWarning: Liblinear failed to converge, increase the number of iterations.\n",
            "  \"the number of iterations.\", ConvergenceWarning)\n",
            "/usr/local/lib/python3.7/dist-packages/sklearn/svm/_base.py:947: ConvergenceWarning: Liblinear failed to converge, increase the number of iterations.\n",
            "  \"the number of iterations.\", ConvergenceWarning)\n",
            "/usr/local/lib/python3.7/dist-packages/sklearn/svm/_base.py:947: ConvergenceWarning: Liblinear failed to converge, increase the number of iterations.\n",
            "  \"the number of iterations.\", ConvergenceWarning)\n",
            "/usr/local/lib/python3.7/dist-packages/sklearn/svm/_base.py:947: ConvergenceWarning: Liblinear failed to converge, increase the number of iterations.\n",
            "  \"the number of iterations.\", ConvergenceWarning)\n",
            "/usr/local/lib/python3.7/dist-packages/sklearn/svm/_base.py:947: ConvergenceWarning: Liblinear failed to converge, increase the number of iterations.\n",
            "  \"the number of iterations.\", ConvergenceWarning)\n",
            "/usr/local/lib/python3.7/dist-packages/sklearn/svm/_base.py:947: ConvergenceWarning: Liblinear failed to converge, increase the number of iterations.\n",
            "  \"the number of iterations.\", ConvergenceWarning)\n",
            "/usr/local/lib/python3.7/dist-packages/sklearn/svm/_base.py:947: ConvergenceWarning: Liblinear failed to converge, increase the number of iterations.\n",
            "  \"the number of iterations.\", ConvergenceWarning)\n",
            "/usr/local/lib/python3.7/dist-packages/sklearn/svm/_base.py:947: ConvergenceWarning: Liblinear failed to converge, increase the number of iterations.\n",
            "  \"the number of iterations.\", ConvergenceWarning)\n",
            "/usr/local/lib/python3.7/dist-packages/sklearn/svm/_base.py:947: ConvergenceWarning: Liblinear failed to converge, increase the number of iterations.\n",
            "  \"the number of iterations.\", ConvergenceWarning)\n",
            "/usr/local/lib/python3.7/dist-packages/sklearn/svm/_base.py:947: ConvergenceWarning: Liblinear failed to converge, increase the number of iterations.\n",
            "  \"the number of iterations.\", ConvergenceWarning)\n",
            "/usr/local/lib/python3.7/dist-packages/sklearn/svm/_base.py:947: ConvergenceWarning: Liblinear failed to converge, increase the number of iterations.\n",
            "  \"the number of iterations.\", ConvergenceWarning)\n",
            "/usr/local/lib/python3.7/dist-packages/sklearn/svm/_base.py:947: ConvergenceWarning: Liblinear failed to converge, increase the number of iterations.\n",
            "  \"the number of iterations.\", ConvergenceWarning)\n",
            "/usr/local/lib/python3.7/dist-packages/sklearn/svm/_base.py:947: ConvergenceWarning: Liblinear failed to converge, increase the number of iterations.\n",
            "  \"the number of iterations.\", ConvergenceWarning)\n",
            "/usr/local/lib/python3.7/dist-packages/sklearn/svm/_base.py:947: ConvergenceWarning: Liblinear failed to converge, increase the number of iterations.\n",
            "  \"the number of iterations.\", ConvergenceWarning)\n",
            "/usr/local/lib/python3.7/dist-packages/sklearn/svm/_base.py:947: ConvergenceWarning: Liblinear failed to converge, increase the number of iterations.\n",
            "  \"the number of iterations.\", ConvergenceWarning)\n",
            "/usr/local/lib/python3.7/dist-packages/sklearn/svm/_base.py:947: ConvergenceWarning: Liblinear failed to converge, increase the number of iterations.\n",
            "  \"the number of iterations.\", ConvergenceWarning)\n"
          ]
        },
        {
          "output_type": "stream",
          "name": "stdout",
          "text": [
            "{'mean_fit_time': array([4.48508654, 4.58296494, 4.5603456 , 4.53742714, 4.53152225,\n",
            "       4.60179007]), 'std_fit_time': array([0.06731396, 0.0458081 , 0.06283641, 0.0609166 , 0.07894512,\n",
            "       0.05396025]), 'mean_score_time': array([0.00146055, 0.00156732, 0.00156901, 0.00144694, 0.00153351,\n",
            "       0.00159771]), 'std_score_time': array([1.34570424e-04, 7.44181346e-05, 1.24981850e-04, 2.08495199e-04,\n",
            "       5.12067385e-05, 7.54109373e-05]), 'param_C': masked_array(data=[1.0, 10.0, 100.0, 1000.0, 10000.0, 100000.0],\n",
            "             mask=[False, False, False, False, False, False],\n",
            "       fill_value='?',\n",
            "            dtype=object), 'params': [{'C': 1.0}, {'C': 10.0}, {'C': 100.0}, {'C': 1000.0}, {'C': 10000.0}, {'C': 100000.0}], 'split0_test_score': array([0.92816788, 0.92816788, 0.92816788, 0.92816788, 0.92816788,\n",
            "       0.92816788]), 'split1_test_score': array([0.95076675, 0.94915254, 0.94915254, 0.94915254, 0.94915254,\n",
            "       0.94915254]), 'split2_test_score': array([0.94430993, 0.94511703, 0.94511703, 0.94511703, 0.94511703,\n",
            "       0.94511703]), 'split3_test_score': array([0.93946731, 0.93866021, 0.93866021, 0.93866021, 0.93866021,\n",
            "       0.93866021]), 'split4_test_score': array([0.95476575, 0.953958  , 0.95476575, 0.95476575, 0.95476575,\n",
            "       0.95476575]), 'split5_test_score': array([0.95799677, 0.95799677, 0.95880452, 0.95880452, 0.95880452,\n",
            "       0.95880452]), 'split6_test_score': array([0.95638126, 0.95638126, 0.95638126, 0.95638126, 0.95638126,\n",
            "       0.95638126]), 'split7_test_score': array([0.96203554, 0.9628433 , 0.9628433 , 0.9628433 , 0.9628433 ,\n",
            "       0.9628433 ]), 'split8_test_score': array([0.95638126, 0.95557351, 0.95557351, 0.95557351, 0.95557351,\n",
            "       0.95557351]), 'split9_test_score': array([0.95718901, 0.95718901, 0.95718901, 0.95718901, 0.95718901,\n",
            "       0.95718901]), 'mean_test_score': array([0.95074615, 0.95050395, 0.9506655 , 0.9506655 , 0.9506655 ,\n",
            "       0.9506655 ]), 'std_test_score': array([0.00989755, 0.0099764 , 0.01006982, 0.01006982, 0.01006982,\n",
            "       0.01006982]), 'rank_test_score': array([1, 6, 2, 2, 2, 2], dtype=int32)}\n",
            "the best parameter pair is {'C': 1.0}\n"
          ]
        },
        {
          "output_type": "stream",
          "name": "stderr",
          "text": [
            "/usr/local/lib/python3.7/dist-packages/sklearn/svm/_base.py:947: ConvergenceWarning: Liblinear failed to converge, increase the number of iterations.\n",
            "  \"the number of iterations.\", ConvergenceWarning)\n"
          ]
        }
      ]
    },
    {
      "cell_type": "code",
      "metadata": {
        "colab": {
          "base_uri": "https://localhost:8080/"
        },
        "id": "9_I5RkfwtK2V",
        "outputId": "ac7904f7-a18a-49a6-ec7e-3a6b85910a25"
      },
      "source": [
        "smote_genus_pred = smoteParametersSearch(train_y['Genus'])"
      ],
      "execution_count": 50,
      "outputs": [
        {
          "output_type": "stream",
          "name": "stderr",
          "text": [
            "/usr/local/lib/python3.7/dist-packages/sklearn/utils/deprecation.py:87: FutureWarning: Function safe_indexing is deprecated; safe_indexing is deprecated in version 0.22 and will be removed in version 0.24.\n",
            "  warnings.warn(msg, category=FutureWarning)\n",
            "/usr/local/lib/python3.7/dist-packages/sklearn/utils/deprecation.py:87: FutureWarning: Function safe_indexing is deprecated; safe_indexing is deprecated in version 0.22 and will be removed in version 0.24.\n",
            "  warnings.warn(msg, category=FutureWarning)\n",
            "/usr/local/lib/python3.7/dist-packages/sklearn/utils/deprecation.py:87: FutureWarning: Function safe_indexing is deprecated; safe_indexing is deprecated in version 0.22 and will be removed in version 0.24.\n",
            "  warnings.warn(msg, category=FutureWarning)\n",
            "/usr/local/lib/python3.7/dist-packages/sklearn/utils/deprecation.py:87: FutureWarning: Function safe_indexing is deprecated; safe_indexing is deprecated in version 0.22 and will be removed in version 0.24.\n",
            "  warnings.warn(msg, category=FutureWarning)\n",
            "/usr/local/lib/python3.7/dist-packages/sklearn/utils/deprecation.py:87: FutureWarning: Function safe_indexing is deprecated; safe_indexing is deprecated in version 0.22 and will be removed in version 0.24.\n",
            "  warnings.warn(msg, category=FutureWarning)\n",
            "/usr/local/lib/python3.7/dist-packages/sklearn/utils/deprecation.py:87: FutureWarning: Function safe_indexing is deprecated; safe_indexing is deprecated in version 0.22 and will be removed in version 0.24.\n",
            "  warnings.warn(msg, category=FutureWarning)\n",
            "/usr/local/lib/python3.7/dist-packages/sklearn/utils/deprecation.py:87: FutureWarning: Function safe_indexing is deprecated; safe_indexing is deprecated in version 0.22 and will be removed in version 0.24.\n",
            "  warnings.warn(msg, category=FutureWarning)\n",
            "/usr/local/lib/python3.7/dist-packages/sklearn/svm/_base.py:947: ConvergenceWarning: Liblinear failed to converge, increase the number of iterations.\n",
            "  \"the number of iterations.\", ConvergenceWarning)\n",
            "/usr/local/lib/python3.7/dist-packages/sklearn/svm/_base.py:947: ConvergenceWarning: Liblinear failed to converge, increase the number of iterations.\n",
            "  \"the number of iterations.\", ConvergenceWarning)\n",
            "/usr/local/lib/python3.7/dist-packages/sklearn/svm/_base.py:947: ConvergenceWarning: Liblinear failed to converge, increase the number of iterations.\n",
            "  \"the number of iterations.\", ConvergenceWarning)\n",
            "/usr/local/lib/python3.7/dist-packages/sklearn/svm/_base.py:947: ConvergenceWarning: Liblinear failed to converge, increase the number of iterations.\n",
            "  \"the number of iterations.\", ConvergenceWarning)\n",
            "/usr/local/lib/python3.7/dist-packages/sklearn/svm/_base.py:947: ConvergenceWarning: Liblinear failed to converge, increase the number of iterations.\n",
            "  \"the number of iterations.\", ConvergenceWarning)\n",
            "/usr/local/lib/python3.7/dist-packages/sklearn/svm/_base.py:947: ConvergenceWarning: Liblinear failed to converge, increase the number of iterations.\n",
            "  \"the number of iterations.\", ConvergenceWarning)\n",
            "/usr/local/lib/python3.7/dist-packages/sklearn/svm/_base.py:947: ConvergenceWarning: Liblinear failed to converge, increase the number of iterations.\n",
            "  \"the number of iterations.\", ConvergenceWarning)\n",
            "/usr/local/lib/python3.7/dist-packages/sklearn/svm/_base.py:947: ConvergenceWarning: Liblinear failed to converge, increase the number of iterations.\n",
            "  \"the number of iterations.\", ConvergenceWarning)\n",
            "/usr/local/lib/python3.7/dist-packages/sklearn/svm/_base.py:947: ConvergenceWarning: Liblinear failed to converge, increase the number of iterations.\n",
            "  \"the number of iterations.\", ConvergenceWarning)\n",
            "/usr/local/lib/python3.7/dist-packages/sklearn/svm/_base.py:947: ConvergenceWarning: Liblinear failed to converge, increase the number of iterations.\n",
            "  \"the number of iterations.\", ConvergenceWarning)\n",
            "/usr/local/lib/python3.7/dist-packages/sklearn/svm/_base.py:947: ConvergenceWarning: Liblinear failed to converge, increase the number of iterations.\n",
            "  \"the number of iterations.\", ConvergenceWarning)\n",
            "/usr/local/lib/python3.7/dist-packages/sklearn/svm/_base.py:947: ConvergenceWarning: Liblinear failed to converge, increase the number of iterations.\n",
            "  \"the number of iterations.\", ConvergenceWarning)\n",
            "/usr/local/lib/python3.7/dist-packages/sklearn/svm/_base.py:947: ConvergenceWarning: Liblinear failed to converge, increase the number of iterations.\n",
            "  \"the number of iterations.\", ConvergenceWarning)\n",
            "/usr/local/lib/python3.7/dist-packages/sklearn/svm/_base.py:947: ConvergenceWarning: Liblinear failed to converge, increase the number of iterations.\n",
            "  \"the number of iterations.\", ConvergenceWarning)\n",
            "/usr/local/lib/python3.7/dist-packages/sklearn/svm/_base.py:947: ConvergenceWarning: Liblinear failed to converge, increase the number of iterations.\n",
            "  \"the number of iterations.\", ConvergenceWarning)\n",
            "/usr/local/lib/python3.7/dist-packages/sklearn/svm/_base.py:947: ConvergenceWarning: Liblinear failed to converge, increase the number of iterations.\n",
            "  \"the number of iterations.\", ConvergenceWarning)\n",
            "/usr/local/lib/python3.7/dist-packages/sklearn/svm/_base.py:947: ConvergenceWarning: Liblinear failed to converge, increase the number of iterations.\n",
            "  \"the number of iterations.\", ConvergenceWarning)\n",
            "/usr/local/lib/python3.7/dist-packages/sklearn/svm/_base.py:947: ConvergenceWarning: Liblinear failed to converge, increase the number of iterations.\n",
            "  \"the number of iterations.\", ConvergenceWarning)\n",
            "/usr/local/lib/python3.7/dist-packages/sklearn/svm/_base.py:947: ConvergenceWarning: Liblinear failed to converge, increase the number of iterations.\n",
            "  \"the number of iterations.\", ConvergenceWarning)\n",
            "/usr/local/lib/python3.7/dist-packages/sklearn/svm/_base.py:947: ConvergenceWarning: Liblinear failed to converge, increase the number of iterations.\n",
            "  \"the number of iterations.\", ConvergenceWarning)\n",
            "/usr/local/lib/python3.7/dist-packages/sklearn/svm/_base.py:947: ConvergenceWarning: Liblinear failed to converge, increase the number of iterations.\n",
            "  \"the number of iterations.\", ConvergenceWarning)\n",
            "/usr/local/lib/python3.7/dist-packages/sklearn/svm/_base.py:947: ConvergenceWarning: Liblinear failed to converge, increase the number of iterations.\n",
            "  \"the number of iterations.\", ConvergenceWarning)\n",
            "/usr/local/lib/python3.7/dist-packages/sklearn/svm/_base.py:947: ConvergenceWarning: Liblinear failed to converge, increase the number of iterations.\n",
            "  \"the number of iterations.\", ConvergenceWarning)\n",
            "/usr/local/lib/python3.7/dist-packages/sklearn/svm/_base.py:947: ConvergenceWarning: Liblinear failed to converge, increase the number of iterations.\n",
            "  \"the number of iterations.\", ConvergenceWarning)\n",
            "/usr/local/lib/python3.7/dist-packages/sklearn/svm/_base.py:947: ConvergenceWarning: Liblinear failed to converge, increase the number of iterations.\n",
            "  \"the number of iterations.\", ConvergenceWarning)\n",
            "/usr/local/lib/python3.7/dist-packages/sklearn/svm/_base.py:947: ConvergenceWarning: Liblinear failed to converge, increase the number of iterations.\n",
            "  \"the number of iterations.\", ConvergenceWarning)\n",
            "/usr/local/lib/python3.7/dist-packages/sklearn/svm/_base.py:947: ConvergenceWarning: Liblinear failed to converge, increase the number of iterations.\n",
            "  \"the number of iterations.\", ConvergenceWarning)\n",
            "/usr/local/lib/python3.7/dist-packages/sklearn/svm/_base.py:947: ConvergenceWarning: Liblinear failed to converge, increase the number of iterations.\n",
            "  \"the number of iterations.\", ConvergenceWarning)\n",
            "/usr/local/lib/python3.7/dist-packages/sklearn/svm/_base.py:947: ConvergenceWarning: Liblinear failed to converge, increase the number of iterations.\n",
            "  \"the number of iterations.\", ConvergenceWarning)\n",
            "/usr/local/lib/python3.7/dist-packages/sklearn/svm/_base.py:947: ConvergenceWarning: Liblinear failed to converge, increase the number of iterations.\n",
            "  \"the number of iterations.\", ConvergenceWarning)\n",
            "/usr/local/lib/python3.7/dist-packages/sklearn/svm/_base.py:947: ConvergenceWarning: Liblinear failed to converge, increase the number of iterations.\n",
            "  \"the number of iterations.\", ConvergenceWarning)\n",
            "/usr/local/lib/python3.7/dist-packages/sklearn/svm/_base.py:947: ConvergenceWarning: Liblinear failed to converge, increase the number of iterations.\n",
            "  \"the number of iterations.\", ConvergenceWarning)\n",
            "/usr/local/lib/python3.7/dist-packages/sklearn/svm/_base.py:947: ConvergenceWarning: Liblinear failed to converge, increase the number of iterations.\n",
            "  \"the number of iterations.\", ConvergenceWarning)\n",
            "/usr/local/lib/python3.7/dist-packages/sklearn/svm/_base.py:947: ConvergenceWarning: Liblinear failed to converge, increase the number of iterations.\n",
            "  \"the number of iterations.\", ConvergenceWarning)\n",
            "/usr/local/lib/python3.7/dist-packages/sklearn/svm/_base.py:947: ConvergenceWarning: Liblinear failed to converge, increase the number of iterations.\n",
            "  \"the number of iterations.\", ConvergenceWarning)\n",
            "/usr/local/lib/python3.7/dist-packages/sklearn/svm/_base.py:947: ConvergenceWarning: Liblinear failed to converge, increase the number of iterations.\n",
            "  \"the number of iterations.\", ConvergenceWarning)\n",
            "/usr/local/lib/python3.7/dist-packages/sklearn/svm/_base.py:947: ConvergenceWarning: Liblinear failed to converge, increase the number of iterations.\n",
            "  \"the number of iterations.\", ConvergenceWarning)\n",
            "/usr/local/lib/python3.7/dist-packages/sklearn/svm/_base.py:947: ConvergenceWarning: Liblinear failed to converge, increase the number of iterations.\n",
            "  \"the number of iterations.\", ConvergenceWarning)\n",
            "/usr/local/lib/python3.7/dist-packages/sklearn/svm/_base.py:947: ConvergenceWarning: Liblinear failed to converge, increase the number of iterations.\n",
            "  \"the number of iterations.\", ConvergenceWarning)\n",
            "/usr/local/lib/python3.7/dist-packages/sklearn/svm/_base.py:947: ConvergenceWarning: Liblinear failed to converge, increase the number of iterations.\n",
            "  \"the number of iterations.\", ConvergenceWarning)\n",
            "/usr/local/lib/python3.7/dist-packages/sklearn/svm/_base.py:947: ConvergenceWarning: Liblinear failed to converge, increase the number of iterations.\n",
            "  \"the number of iterations.\", ConvergenceWarning)\n",
            "/usr/local/lib/python3.7/dist-packages/sklearn/svm/_base.py:947: ConvergenceWarning: Liblinear failed to converge, increase the number of iterations.\n",
            "  \"the number of iterations.\", ConvergenceWarning)\n",
            "/usr/local/lib/python3.7/dist-packages/sklearn/svm/_base.py:947: ConvergenceWarning: Liblinear failed to converge, increase the number of iterations.\n",
            "  \"the number of iterations.\", ConvergenceWarning)\n",
            "/usr/local/lib/python3.7/dist-packages/sklearn/svm/_base.py:947: ConvergenceWarning: Liblinear failed to converge, increase the number of iterations.\n",
            "  \"the number of iterations.\", ConvergenceWarning)\n",
            "/usr/local/lib/python3.7/dist-packages/sklearn/svm/_base.py:947: ConvergenceWarning: Liblinear failed to converge, increase the number of iterations.\n",
            "  \"the number of iterations.\", ConvergenceWarning)\n",
            "/usr/local/lib/python3.7/dist-packages/sklearn/svm/_base.py:947: ConvergenceWarning: Liblinear failed to converge, increase the number of iterations.\n",
            "  \"the number of iterations.\", ConvergenceWarning)\n",
            "/usr/local/lib/python3.7/dist-packages/sklearn/svm/_base.py:947: ConvergenceWarning: Liblinear failed to converge, increase the number of iterations.\n",
            "  \"the number of iterations.\", ConvergenceWarning)\n",
            "/usr/local/lib/python3.7/dist-packages/sklearn/svm/_base.py:947: ConvergenceWarning: Liblinear failed to converge, increase the number of iterations.\n",
            "  \"the number of iterations.\", ConvergenceWarning)\n",
            "/usr/local/lib/python3.7/dist-packages/sklearn/svm/_base.py:947: ConvergenceWarning: Liblinear failed to converge, increase the number of iterations.\n",
            "  \"the number of iterations.\", ConvergenceWarning)\n",
            "/usr/local/lib/python3.7/dist-packages/sklearn/svm/_base.py:947: ConvergenceWarning: Liblinear failed to converge, increase the number of iterations.\n",
            "  \"the number of iterations.\", ConvergenceWarning)\n",
            "/usr/local/lib/python3.7/dist-packages/sklearn/svm/_base.py:947: ConvergenceWarning: Liblinear failed to converge, increase the number of iterations.\n",
            "  \"the number of iterations.\", ConvergenceWarning)\n",
            "/usr/local/lib/python3.7/dist-packages/sklearn/svm/_base.py:947: ConvergenceWarning: Liblinear failed to converge, increase the number of iterations.\n",
            "  \"the number of iterations.\", ConvergenceWarning)\n",
            "/usr/local/lib/python3.7/dist-packages/sklearn/svm/_base.py:947: ConvergenceWarning: Liblinear failed to converge, increase the number of iterations.\n",
            "  \"the number of iterations.\", ConvergenceWarning)\n",
            "/usr/local/lib/python3.7/dist-packages/sklearn/svm/_base.py:947: ConvergenceWarning: Liblinear failed to converge, increase the number of iterations.\n",
            "  \"the number of iterations.\", ConvergenceWarning)\n",
            "/usr/local/lib/python3.7/dist-packages/sklearn/svm/_base.py:947: ConvergenceWarning: Liblinear failed to converge, increase the number of iterations.\n",
            "  \"the number of iterations.\", ConvergenceWarning)\n",
            "/usr/local/lib/python3.7/dist-packages/sklearn/svm/_base.py:947: ConvergenceWarning: Liblinear failed to converge, increase the number of iterations.\n",
            "  \"the number of iterations.\", ConvergenceWarning)\n",
            "/usr/local/lib/python3.7/dist-packages/sklearn/svm/_base.py:947: ConvergenceWarning: Liblinear failed to converge, increase the number of iterations.\n",
            "  \"the number of iterations.\", ConvergenceWarning)\n",
            "/usr/local/lib/python3.7/dist-packages/sklearn/svm/_base.py:947: ConvergenceWarning: Liblinear failed to converge, increase the number of iterations.\n",
            "  \"the number of iterations.\", ConvergenceWarning)\n",
            "/usr/local/lib/python3.7/dist-packages/sklearn/svm/_base.py:947: ConvergenceWarning: Liblinear failed to converge, increase the number of iterations.\n",
            "  \"the number of iterations.\", ConvergenceWarning)\n",
            "/usr/local/lib/python3.7/dist-packages/sklearn/svm/_base.py:947: ConvergenceWarning: Liblinear failed to converge, increase the number of iterations.\n",
            "  \"the number of iterations.\", ConvergenceWarning)\n"
          ]
        },
        {
          "output_type": "stream",
          "name": "stdout",
          "text": [
            "{'mean_fit_time': array([12.9036284 , 12.61304021, 12.69590499, 12.73842416, 12.45480864,\n",
            "       12.70833356]), 'std_fit_time': array([0.1107117 , 0.09753033, 0.07124898, 0.10633446, 0.09132681,\n",
            "       0.16753421]), 'mean_score_time': array([0.00282996, 0.00199728, 0.00192752, 0.00282829, 0.00201681,\n",
            "       0.00209806]), 'std_score_time': array([1.07895508e-03, 8.54134884e-05, 2.17498731e-04, 2.29218389e-03,\n",
            "       8.31878229e-05, 1.41981875e-04]), 'param_C': masked_array(data=[1.0, 10.0, 100.0, 1000.0, 10000.0, 100000.0],\n",
            "             mask=[False, False, False, False, False, False],\n",
            "       fill_value='?',\n",
            "            dtype=object), 'params': [{'C': 1.0}, {'C': 10.0}, {'C': 100.0}, {'C': 1000.0}, {'C': 10000.0}, {'C': 100000.0}], 'split0_test_score': array([0.9419105 , 0.94234079, 0.94234079, 0.94234079, 0.94234079,\n",
            "       0.94234079]), 'split1_test_score': array([0.94449225, 0.94492255, 0.94492255, 0.94535284, 0.94535284,\n",
            "       0.94492255]), 'split2_test_score': array([0.94449225, 0.94535284, 0.94578313, 0.94535284, 0.94535284,\n",
            "       0.94492255]), 'split3_test_score': array([0.95611015, 0.95611015, 0.95611015, 0.95611015, 0.95611015,\n",
            "       0.95611015]), 'split4_test_score': array([0.95740103, 0.95783133, 0.95826162, 0.95826162, 0.95826162,\n",
            "       0.95826162]), 'split5_test_score': array([0.9591222, 0.9591222, 0.9591222, 0.9591222, 0.9591222, 0.9591222]), 'split6_test_score': array([0.96041308, 0.96041308, 0.96041308, 0.96041308, 0.96041308,\n",
            "       0.96041308]), 'split7_test_score': array([0.94879518, 0.94965577, 0.94965577, 0.94965577, 0.94965577,\n",
            "       0.94965577]), 'split8_test_score': array([0.95826162, 0.95826162, 0.95869191, 0.95826162, 0.95869191,\n",
            "       0.95826162]), 'split9_test_score': array([0.94965577, 0.95008606, 0.95008606, 0.95008606, 0.95051635,\n",
            "       0.95051635]), 'mean_test_score': array([0.9520654 , 0.95240964, 0.95253873, 0.9524957 , 0.95258176,\n",
            "       0.95245267]), 'std_test_score': array([0.00661084, 0.00637705, 0.00640847, 0.00636542, 0.00639039,\n",
            "       0.00644937]), 'rank_test_score': array([6, 5, 2, 3, 1, 4], dtype=int32)}\n",
            "the best parameter pair is {'C': 10000.0}\n"
          ]
        },
        {
          "output_type": "stream",
          "name": "stderr",
          "text": [
            "/usr/local/lib/python3.7/dist-packages/sklearn/svm/_base.py:947: ConvergenceWarning: Liblinear failed to converge, increase the number of iterations.\n",
            "  \"the number of iterations.\", ConvergenceWarning)\n"
          ]
        }
      ]
    },
    {
      "cell_type": "code",
      "metadata": {
        "colab": {
          "base_uri": "https://localhost:8080/"
        },
        "id": "U0vJ0TOhuaJh",
        "outputId": "d52267bb-cedf-4548-85e3-9ca3a400ce32"
      },
      "source": [
        "smote_species_pred = smoteParametersSearch(train_y['Species'])"
      ],
      "execution_count": 51,
      "outputs": [
        {
          "output_type": "stream",
          "name": "stderr",
          "text": [
            "/usr/local/lib/python3.7/dist-packages/sklearn/utils/deprecation.py:87: FutureWarning: Function safe_indexing is deprecated; safe_indexing is deprecated in version 0.22 and will be removed in version 0.24.\n",
            "  warnings.warn(msg, category=FutureWarning)\n",
            "/usr/local/lib/python3.7/dist-packages/sklearn/utils/deprecation.py:87: FutureWarning: Function safe_indexing is deprecated; safe_indexing is deprecated in version 0.22 and will be removed in version 0.24.\n",
            "  warnings.warn(msg, category=FutureWarning)\n",
            "/usr/local/lib/python3.7/dist-packages/sklearn/utils/deprecation.py:87: FutureWarning: Function safe_indexing is deprecated; safe_indexing is deprecated in version 0.22 and will be removed in version 0.24.\n",
            "  warnings.warn(msg, category=FutureWarning)\n",
            "/usr/local/lib/python3.7/dist-packages/sklearn/utils/deprecation.py:87: FutureWarning: Function safe_indexing is deprecated; safe_indexing is deprecated in version 0.22 and will be removed in version 0.24.\n",
            "  warnings.warn(msg, category=FutureWarning)\n",
            "/usr/local/lib/python3.7/dist-packages/sklearn/utils/deprecation.py:87: FutureWarning: Function safe_indexing is deprecated; safe_indexing is deprecated in version 0.22 and will be removed in version 0.24.\n",
            "  warnings.warn(msg, category=FutureWarning)\n",
            "/usr/local/lib/python3.7/dist-packages/sklearn/utils/deprecation.py:87: FutureWarning: Function safe_indexing is deprecated; safe_indexing is deprecated in version 0.22 and will be removed in version 0.24.\n",
            "  warnings.warn(msg, category=FutureWarning)\n",
            "/usr/local/lib/python3.7/dist-packages/sklearn/utils/deprecation.py:87: FutureWarning: Function safe_indexing is deprecated; safe_indexing is deprecated in version 0.22 and will be removed in version 0.24.\n",
            "  warnings.warn(msg, category=FutureWarning)\n",
            "/usr/local/lib/python3.7/dist-packages/sklearn/utils/deprecation.py:87: FutureWarning: Function safe_indexing is deprecated; safe_indexing is deprecated in version 0.22 and will be removed in version 0.24.\n",
            "  warnings.warn(msg, category=FutureWarning)\n",
            "/usr/local/lib/python3.7/dist-packages/sklearn/utils/deprecation.py:87: FutureWarning: Function safe_indexing is deprecated; safe_indexing is deprecated in version 0.22 and will be removed in version 0.24.\n",
            "  warnings.warn(msg, category=FutureWarning)\n",
            "/usr/local/lib/python3.7/dist-packages/sklearn/svm/_base.py:947: ConvergenceWarning: Liblinear failed to converge, increase the number of iterations.\n",
            "  \"the number of iterations.\", ConvergenceWarning)\n",
            "/usr/local/lib/python3.7/dist-packages/sklearn/svm/_base.py:947: ConvergenceWarning: Liblinear failed to converge, increase the number of iterations.\n",
            "  \"the number of iterations.\", ConvergenceWarning)\n",
            "/usr/local/lib/python3.7/dist-packages/sklearn/svm/_base.py:947: ConvergenceWarning: Liblinear failed to converge, increase the number of iterations.\n",
            "  \"the number of iterations.\", ConvergenceWarning)\n",
            "/usr/local/lib/python3.7/dist-packages/sklearn/svm/_base.py:947: ConvergenceWarning: Liblinear failed to converge, increase the number of iterations.\n",
            "  \"the number of iterations.\", ConvergenceWarning)\n",
            "/usr/local/lib/python3.7/dist-packages/sklearn/svm/_base.py:947: ConvergenceWarning: Liblinear failed to converge, increase the number of iterations.\n",
            "  \"the number of iterations.\", ConvergenceWarning)\n",
            "/usr/local/lib/python3.7/dist-packages/sklearn/svm/_base.py:947: ConvergenceWarning: Liblinear failed to converge, increase the number of iterations.\n",
            "  \"the number of iterations.\", ConvergenceWarning)\n",
            "/usr/local/lib/python3.7/dist-packages/sklearn/svm/_base.py:947: ConvergenceWarning: Liblinear failed to converge, increase the number of iterations.\n",
            "  \"the number of iterations.\", ConvergenceWarning)\n",
            "/usr/local/lib/python3.7/dist-packages/sklearn/svm/_base.py:947: ConvergenceWarning: Liblinear failed to converge, increase the number of iterations.\n",
            "  \"the number of iterations.\", ConvergenceWarning)\n",
            "/usr/local/lib/python3.7/dist-packages/sklearn/svm/_base.py:947: ConvergenceWarning: Liblinear failed to converge, increase the number of iterations.\n",
            "  \"the number of iterations.\", ConvergenceWarning)\n",
            "/usr/local/lib/python3.7/dist-packages/sklearn/svm/_base.py:947: ConvergenceWarning: Liblinear failed to converge, increase the number of iterations.\n",
            "  \"the number of iterations.\", ConvergenceWarning)\n",
            "/usr/local/lib/python3.7/dist-packages/sklearn/svm/_base.py:947: ConvergenceWarning: Liblinear failed to converge, increase the number of iterations.\n",
            "  \"the number of iterations.\", ConvergenceWarning)\n",
            "/usr/local/lib/python3.7/dist-packages/sklearn/svm/_base.py:947: ConvergenceWarning: Liblinear failed to converge, increase the number of iterations.\n",
            "  \"the number of iterations.\", ConvergenceWarning)\n",
            "/usr/local/lib/python3.7/dist-packages/sklearn/svm/_base.py:947: ConvergenceWarning: Liblinear failed to converge, increase the number of iterations.\n",
            "  \"the number of iterations.\", ConvergenceWarning)\n",
            "/usr/local/lib/python3.7/dist-packages/sklearn/svm/_base.py:947: ConvergenceWarning: Liblinear failed to converge, increase the number of iterations.\n",
            "  \"the number of iterations.\", ConvergenceWarning)\n",
            "/usr/local/lib/python3.7/dist-packages/sklearn/svm/_base.py:947: ConvergenceWarning: Liblinear failed to converge, increase the number of iterations.\n",
            "  \"the number of iterations.\", ConvergenceWarning)\n",
            "/usr/local/lib/python3.7/dist-packages/sklearn/svm/_base.py:947: ConvergenceWarning: Liblinear failed to converge, increase the number of iterations.\n",
            "  \"the number of iterations.\", ConvergenceWarning)\n",
            "/usr/local/lib/python3.7/dist-packages/sklearn/svm/_base.py:947: ConvergenceWarning: Liblinear failed to converge, increase the number of iterations.\n",
            "  \"the number of iterations.\", ConvergenceWarning)\n",
            "/usr/local/lib/python3.7/dist-packages/sklearn/svm/_base.py:947: ConvergenceWarning: Liblinear failed to converge, increase the number of iterations.\n",
            "  \"the number of iterations.\", ConvergenceWarning)\n",
            "/usr/local/lib/python3.7/dist-packages/sklearn/svm/_base.py:947: ConvergenceWarning: Liblinear failed to converge, increase the number of iterations.\n",
            "  \"the number of iterations.\", ConvergenceWarning)\n",
            "/usr/local/lib/python3.7/dist-packages/sklearn/svm/_base.py:947: ConvergenceWarning: Liblinear failed to converge, increase the number of iterations.\n",
            "  \"the number of iterations.\", ConvergenceWarning)\n",
            "/usr/local/lib/python3.7/dist-packages/sklearn/svm/_base.py:947: ConvergenceWarning: Liblinear failed to converge, increase the number of iterations.\n",
            "  \"the number of iterations.\", ConvergenceWarning)\n",
            "/usr/local/lib/python3.7/dist-packages/sklearn/svm/_base.py:947: ConvergenceWarning: Liblinear failed to converge, increase the number of iterations.\n",
            "  \"the number of iterations.\", ConvergenceWarning)\n",
            "/usr/local/lib/python3.7/dist-packages/sklearn/svm/_base.py:947: ConvergenceWarning: Liblinear failed to converge, increase the number of iterations.\n",
            "  \"the number of iterations.\", ConvergenceWarning)\n",
            "/usr/local/lib/python3.7/dist-packages/sklearn/svm/_base.py:947: ConvergenceWarning: Liblinear failed to converge, increase the number of iterations.\n",
            "  \"the number of iterations.\", ConvergenceWarning)\n",
            "/usr/local/lib/python3.7/dist-packages/sklearn/svm/_base.py:947: ConvergenceWarning: Liblinear failed to converge, increase the number of iterations.\n",
            "  \"the number of iterations.\", ConvergenceWarning)\n",
            "/usr/local/lib/python3.7/dist-packages/sklearn/svm/_base.py:947: ConvergenceWarning: Liblinear failed to converge, increase the number of iterations.\n",
            "  \"the number of iterations.\", ConvergenceWarning)\n",
            "/usr/local/lib/python3.7/dist-packages/sklearn/svm/_base.py:947: ConvergenceWarning: Liblinear failed to converge, increase the number of iterations.\n",
            "  \"the number of iterations.\", ConvergenceWarning)\n",
            "/usr/local/lib/python3.7/dist-packages/sklearn/svm/_base.py:947: ConvergenceWarning: Liblinear failed to converge, increase the number of iterations.\n",
            "  \"the number of iterations.\", ConvergenceWarning)\n",
            "/usr/local/lib/python3.7/dist-packages/sklearn/svm/_base.py:947: ConvergenceWarning: Liblinear failed to converge, increase the number of iterations.\n",
            "  \"the number of iterations.\", ConvergenceWarning)\n",
            "/usr/local/lib/python3.7/dist-packages/sklearn/svm/_base.py:947: ConvergenceWarning: Liblinear failed to converge, increase the number of iterations.\n",
            "  \"the number of iterations.\", ConvergenceWarning)\n",
            "/usr/local/lib/python3.7/dist-packages/sklearn/svm/_base.py:947: ConvergenceWarning: Liblinear failed to converge, increase the number of iterations.\n",
            "  \"the number of iterations.\", ConvergenceWarning)\n",
            "/usr/local/lib/python3.7/dist-packages/sklearn/svm/_base.py:947: ConvergenceWarning: Liblinear failed to converge, increase the number of iterations.\n",
            "  \"the number of iterations.\", ConvergenceWarning)\n",
            "/usr/local/lib/python3.7/dist-packages/sklearn/svm/_base.py:947: ConvergenceWarning: Liblinear failed to converge, increase the number of iterations.\n",
            "  \"the number of iterations.\", ConvergenceWarning)\n",
            "/usr/local/lib/python3.7/dist-packages/sklearn/svm/_base.py:947: ConvergenceWarning: Liblinear failed to converge, increase the number of iterations.\n",
            "  \"the number of iterations.\", ConvergenceWarning)\n",
            "/usr/local/lib/python3.7/dist-packages/sklearn/svm/_base.py:947: ConvergenceWarning: Liblinear failed to converge, increase the number of iterations.\n",
            "  \"the number of iterations.\", ConvergenceWarning)\n",
            "/usr/local/lib/python3.7/dist-packages/sklearn/svm/_base.py:947: ConvergenceWarning: Liblinear failed to converge, increase the number of iterations.\n",
            "  \"the number of iterations.\", ConvergenceWarning)\n",
            "/usr/local/lib/python3.7/dist-packages/sklearn/svm/_base.py:947: ConvergenceWarning: Liblinear failed to converge, increase the number of iterations.\n",
            "  \"the number of iterations.\", ConvergenceWarning)\n",
            "/usr/local/lib/python3.7/dist-packages/sklearn/svm/_base.py:947: ConvergenceWarning: Liblinear failed to converge, increase the number of iterations.\n",
            "  \"the number of iterations.\", ConvergenceWarning)\n",
            "/usr/local/lib/python3.7/dist-packages/sklearn/svm/_base.py:947: ConvergenceWarning: Liblinear failed to converge, increase the number of iterations.\n",
            "  \"the number of iterations.\", ConvergenceWarning)\n",
            "/usr/local/lib/python3.7/dist-packages/sklearn/svm/_base.py:947: ConvergenceWarning: Liblinear failed to converge, increase the number of iterations.\n",
            "  \"the number of iterations.\", ConvergenceWarning)\n",
            "/usr/local/lib/python3.7/dist-packages/sklearn/svm/_base.py:947: ConvergenceWarning: Liblinear failed to converge, increase the number of iterations.\n",
            "  \"the number of iterations.\", ConvergenceWarning)\n",
            "/usr/local/lib/python3.7/dist-packages/sklearn/svm/_base.py:947: ConvergenceWarning: Liblinear failed to converge, increase the number of iterations.\n",
            "  \"the number of iterations.\", ConvergenceWarning)\n",
            "/usr/local/lib/python3.7/dist-packages/sklearn/svm/_base.py:947: ConvergenceWarning: Liblinear failed to converge, increase the number of iterations.\n",
            "  \"the number of iterations.\", ConvergenceWarning)\n",
            "/usr/local/lib/python3.7/dist-packages/sklearn/svm/_base.py:947: ConvergenceWarning: Liblinear failed to converge, increase the number of iterations.\n",
            "  \"the number of iterations.\", ConvergenceWarning)\n",
            "/usr/local/lib/python3.7/dist-packages/sklearn/svm/_base.py:947: ConvergenceWarning: Liblinear failed to converge, increase the number of iterations.\n",
            "  \"the number of iterations.\", ConvergenceWarning)\n",
            "/usr/local/lib/python3.7/dist-packages/sklearn/svm/_base.py:947: ConvergenceWarning: Liblinear failed to converge, increase the number of iterations.\n",
            "  \"the number of iterations.\", ConvergenceWarning)\n",
            "/usr/local/lib/python3.7/dist-packages/sklearn/svm/_base.py:947: ConvergenceWarning: Liblinear failed to converge, increase the number of iterations.\n",
            "  \"the number of iterations.\", ConvergenceWarning)\n",
            "/usr/local/lib/python3.7/dist-packages/sklearn/svm/_base.py:947: ConvergenceWarning: Liblinear failed to converge, increase the number of iterations.\n",
            "  \"the number of iterations.\", ConvergenceWarning)\n",
            "/usr/local/lib/python3.7/dist-packages/sklearn/svm/_base.py:947: ConvergenceWarning: Liblinear failed to converge, increase the number of iterations.\n",
            "  \"the number of iterations.\", ConvergenceWarning)\n",
            "/usr/local/lib/python3.7/dist-packages/sklearn/svm/_base.py:947: ConvergenceWarning: Liblinear failed to converge, increase the number of iterations.\n",
            "  \"the number of iterations.\", ConvergenceWarning)\n",
            "/usr/local/lib/python3.7/dist-packages/sklearn/svm/_base.py:947: ConvergenceWarning: Liblinear failed to converge, increase the number of iterations.\n",
            "  \"the number of iterations.\", ConvergenceWarning)\n",
            "/usr/local/lib/python3.7/dist-packages/sklearn/svm/_base.py:947: ConvergenceWarning: Liblinear failed to converge, increase the number of iterations.\n",
            "  \"the number of iterations.\", ConvergenceWarning)\n",
            "/usr/local/lib/python3.7/dist-packages/sklearn/svm/_base.py:947: ConvergenceWarning: Liblinear failed to converge, increase the number of iterations.\n",
            "  \"the number of iterations.\", ConvergenceWarning)\n",
            "/usr/local/lib/python3.7/dist-packages/sklearn/svm/_base.py:947: ConvergenceWarning: Liblinear failed to converge, increase the number of iterations.\n",
            "  \"the number of iterations.\", ConvergenceWarning)\n",
            "/usr/local/lib/python3.7/dist-packages/sklearn/svm/_base.py:947: ConvergenceWarning: Liblinear failed to converge, increase the number of iterations.\n",
            "  \"the number of iterations.\", ConvergenceWarning)\n",
            "/usr/local/lib/python3.7/dist-packages/sklearn/svm/_base.py:947: ConvergenceWarning: Liblinear failed to converge, increase the number of iterations.\n",
            "  \"the number of iterations.\", ConvergenceWarning)\n",
            "/usr/local/lib/python3.7/dist-packages/sklearn/svm/_base.py:947: ConvergenceWarning: Liblinear failed to converge, increase the number of iterations.\n",
            "  \"the number of iterations.\", ConvergenceWarning)\n",
            "/usr/local/lib/python3.7/dist-packages/sklearn/svm/_base.py:947: ConvergenceWarning: Liblinear failed to converge, increase the number of iterations.\n",
            "  \"the number of iterations.\", ConvergenceWarning)\n",
            "/usr/local/lib/python3.7/dist-packages/sklearn/svm/_base.py:947: ConvergenceWarning: Liblinear failed to converge, increase the number of iterations.\n",
            "  \"the number of iterations.\", ConvergenceWarning)\n",
            "/usr/local/lib/python3.7/dist-packages/sklearn/svm/_base.py:947: ConvergenceWarning: Liblinear failed to converge, increase the number of iterations.\n",
            "  \"the number of iterations.\", ConvergenceWarning)\n"
          ]
        },
        {
          "output_type": "stream",
          "name": "stdout",
          "text": [
            "{'mean_fit_time': array([15.17427466, 15.30002146, 15.17471523, 15.12445459, 15.16685829,\n",
            "       15.42734852]), 'std_fit_time': array([0.14597122, 0.15625987, 0.15989922, 0.0937614 , 0.34733105,\n",
            "       0.18526331]), 'mean_score_time': array([0.00207558, 0.00230737, 0.00204928, 0.00207777, 0.00223093,\n",
            "       0.00208671]), 'std_score_time': array([1.10648580e-04, 7.87125561e-04, 2.22447653e-04, 5.21051450e-04,\n",
            "       6.00958665e-04, 8.58773032e-05]), 'param_C': masked_array(data=[1.0, 10.0, 100.0, 1000.0, 10000.0, 100000.0],\n",
            "             mask=[False, False, False, False, False, False],\n",
            "       fill_value='?',\n",
            "            dtype=object), 'params': [{'C': 1.0}, {'C': 10.0}, {'C': 100.0}, {'C': 1000.0}, {'C': 10000.0}, {'C': 100000.0}], 'split0_test_score': array([0.94021294, 0.94021294, 0.94021294, 0.94021294, 0.94021294,\n",
            "       0.94021294]), 'split1_test_score': array([0.95208845, 0.95249795, 0.95208845, 0.95208845, 0.95249795,\n",
            "       0.95249795]), 'split2_test_score': array([0.95659296, 0.95618346, 0.95618346, 0.95618346, 0.95618346,\n",
            "       0.95618346]), 'split3_test_score': array([0.95004095, 0.95004095, 0.95004095, 0.95004095, 0.95004095,\n",
            "       0.95004095]), 'split4_test_score': array([0.96273546, 0.96273546, 0.96273546, 0.96273546, 0.96273546,\n",
            "       0.96273546]), 'split5_test_score': array([0.95700246, 0.95700246, 0.95700246, 0.95700246, 0.95700246,\n",
            "       0.95700246]), 'split6_test_score': array([0.96642097, 0.96683047, 0.96683047, 0.96683047, 0.96683047,\n",
            "       0.96642097]), 'split7_test_score': array([0.96068796, 0.96068796, 0.96068796, 0.96068796, 0.96068796,\n",
            "       0.96068796]), 'split8_test_score': array([0.95782146, 0.95823096, 0.95864046, 0.95864046, 0.95864046,\n",
            "       0.95904996]), 'split9_test_score': array([0.95495495, 0.95454545, 0.95413595, 0.95372645, 0.95413595,\n",
            "       0.95454545]), 'mean_test_score': array([0.95585586, 0.95589681, 0.95585586, 0.95581491, 0.95589681,\n",
            "       0.95593776]), 'std_test_score': array([0.00693931, 0.00699767, 0.00704245, 0.00705352, 0.00702159,\n",
            "       0.0069668 ]), 'rank_test_score': array([4, 2, 5, 6, 3, 1], dtype=int32)}\n",
            "the best parameter pair is {'C': 100000.0}\n"
          ]
        },
        {
          "output_type": "stream",
          "name": "stderr",
          "text": [
            "/usr/local/lib/python3.7/dist-packages/sklearn/svm/_base.py:947: ConvergenceWarning: Liblinear failed to converge, increase the number of iterations.\n",
            "  \"the number of iterations.\", ConvergenceWarning)\n"
          ]
        }
      ]
    },
    {
      "cell_type": "code",
      "metadata": {
        "id": "OrAMK2bTucRW"
      },
      "source": [
        "smote_pred = [smote_family_pred,smote_genus_pred,smote_species_pred]\n",
        "smote_pred = np.array(smote_pred)"
      ],
      "execution_count": 52,
      "outputs": []
    },
    {
      "cell_type": "code",
      "metadata": {
        "id": "fC-Dg1NYBOJn"
      },
      "source": [
        "family_truth = np.array(test['Family'])\n",
        "genus_truth = np.array(test['Genus'])\n",
        "species_truth = np.array(test['Species'])\n",
        "truth = [family_truth, genus_truth, species_truth]\n",
        "truth = np.array(truth)"
      ],
      "execution_count": 53,
      "outputs": []
    },
    {
      "cell_type": "code",
      "metadata": {
        "colab": {
          "base_uri": "https://localhost:8080/"
        },
        "id": "MA4CnMm4BPET",
        "outputId": "ae5dc7f2-b96e-45bc-8322-439bd010a6c3"
      },
      "source": [
        "hamming_loss = hamming_loss_calc(smote_pred, truth)"
      ],
      "execution_count": 54,
      "outputs": [
        {
          "output_type": "stream",
          "name": "stdout",
          "text": [
            "The hamming_loss is 0.0676\n"
          ]
        }
      ]
    },
    {
      "cell_type": "code",
      "metadata": {
        "colab": {
          "base_uri": "https://localhost:8080/"
        },
        "id": "Gjp_FPT7BT5T",
        "outputId": "26a0260b-3a44-4b49-80f6-92001dcb4c29"
      },
      "source": [
        "exact_match_ratio = exact_match_ratio_calc(smote_pred, truth)"
      ],
      "execution_count": 55,
      "outputs": [
        {
          "output_type": "stream",
          "name": "stdout",
          "text": [
            "exact match ratio is 0.8643\n"
          ]
        }
      ]
    },
    {
      "cell_type": "code",
      "metadata": {
        "id": "Yzpq59yUBcm4"
      },
      "source": [
        "result['smote']  = [hamming_loss, exact_match_ratio]"
      ],
      "execution_count": 56,
      "outputs": []
    },
    {
      "cell_type": "markdown",
      "metadata": {
        "id": "dO_TWCMMY0XX"
      },
      "source": [
        "Report the conclusions about the classifiers trained."
      ]
    },
    {
      "cell_type": "code",
      "metadata": {
        "colab": {
          "base_uri": "https://localhost:8080/",
          "height": 110
        },
        "id": "PVhi30vFtwK_",
        "outputId": "000c4eb4-fb80-4653-91d2-4daf802fca78"
      },
      "source": [
        "pd.DataFrame(result, index = ['hamming_loss','exact_match_ration'])"
      ],
      "execution_count": 57,
      "outputs": [
        {
          "output_type": "execute_result",
          "data": {
            "text/html": [
              "<div>\n",
              "<style scoped>\n",
              "    .dataframe tbody tr th:only-of-type {\n",
              "        vertical-align: middle;\n",
              "    }\n",
              "\n",
              "    .dataframe tbody tr th {\n",
              "        vertical-align: top;\n",
              "    }\n",
              "\n",
              "    .dataframe thead th {\n",
              "        text-align: right;\n",
              "    }\n",
              "</style>\n",
              "<table border=\"1\" class=\"dataframe\">\n",
              "  <thead>\n",
              "    <tr style=\"text-align: right;\">\n",
              "      <th></th>\n",
              "      <th>gaussian</th>\n",
              "      <th>standardlize</th>\n",
              "      <th>smote</th>\n",
              "    </tr>\n",
              "  </thead>\n",
              "  <tbody>\n",
              "    <tr>\n",
              "      <th>hamming_loss</th>\n",
              "      <td>0.0065</td>\n",
              "      <td>0.0065</td>\n",
              "      <td>0.0676</td>\n",
              "    </tr>\n",
              "    <tr>\n",
              "      <th>exact_match_ration</th>\n",
              "      <td>0.9903</td>\n",
              "      <td>0.9189</td>\n",
              "      <td>0.8643</td>\n",
              "    </tr>\n",
              "  </tbody>\n",
              "</table>\n",
              "</div>"
            ],
            "text/plain": [
              "                    gaussian  standardlize   smote\n",
              "hamming_loss          0.0065        0.0065  0.0676\n",
              "exact_match_ration    0.9903        0.9189  0.8643"
            ]
          },
          "metadata": {},
          "execution_count": 57
        }
      ]
    },
    {
      "cell_type": "markdown",
      "metadata": {
        "id": "LJsDYduSV2ju"
      },
      "source": [
        "# Part 2"
      ]
    },
    {
      "cell_type": "code",
      "metadata": {
        "id": "IHpYA4D4twsc"
      },
      "source": [
        "from sklearn.cluster import KMeans\n",
        "from sklearn.metrics import silhouette_samples, silhouette_score"
      ],
      "execution_count": 58,
      "outputs": []
    },
    {
      "cell_type": "code",
      "metadata": {
        "id": "qnqJ5L6BuVPG"
      },
      "source": [
        "data_x = data.iloc[:,:-4]\n",
        "data_y = data.iloc[:,-4:]"
      ],
      "execution_count": 59,
      "outputs": []
    },
    {
      "cell_type": "code",
      "metadata": {
        "id": "tREqqB4zunFi"
      },
      "source": [
        "cluster_labels = cluster.fit_predict(data_x)"
      ],
      "execution_count": 62,
      "outputs": []
    },
    {
      "cell_type": "markdown",
      "metadata": {
        "id": "hYdaVvYBY6SO"
      },
      "source": [
        "define the function to determine the best k for k means based on the sihouette score evaluation"
      ]
    },
    {
      "cell_type": "code",
      "metadata": {
        "id": "jm3vME8MvmN6"
      },
      "source": [
        "def bestClusterK(max_k, data_x):\n",
        "  bestK = -1\n",
        "  best_score = -np.inf;\n",
        "  best_cluster_labels = np.nan\n",
        "  for i in range(2,max_k+1):\n",
        "    cluster = KMeans(n_clusters=i)\n",
        "    cluster_labels = cluster.fit_predict(data_x)\n",
        "    score = silhouette_score(data_x, cluster_labels)\n",
        "    if(best_score < score):\n",
        "      best_score = score\n",
        "      bestK = i\n",
        "      best_cluster_labels = cluster_labels\n",
        "    #print('The best k is '+ str(bestK))\n",
        "    #print('The corresponding silhouette score is '+ str(best_score))\n",
        "  return bestK, best_cluster_labels, best_score"
      ],
      "execution_count": 80,
      "outputs": []
    },
    {
      "cell_type": "markdown",
      "metadata": {
        "id": "dj6KZHyGZEgU"
      },
      "source": [
        "define the function to find the majority class in each cluster, record these classes into a dataframe"
      ]
    },
    {
      "cell_type": "code",
      "metadata": {
        "id": "BCEnS9AIxBam"
      },
      "source": [
        "def majorityFind(bestK, best_cluster_labels):\n",
        "  columns = data_y.columns[:-1]\n",
        "  dataframe = pd.DataFrame(columns=columns)\n",
        "  for i in range(0,bestK):\n",
        "    index = np.where(best_cluster_labels == i)[0]\n",
        "    majorities = {}\n",
        "    #print(index.shape)\n",
        "    for j in columns:\n",
        "      classes = data_y[j].iloc[index]\n",
        "      #print(len(classes))\n",
        "      majority = classes.value_counts().index[0]\n",
        "      majorities[j] = majority\n",
        "\n",
        "    dataframe = dataframe.append(majorities, ignore_index=True)\n",
        "  dataframe.index.name = 'cluster'\n",
        "  return dataframe"
      ],
      "execution_count": 70,
      "outputs": []
    },
    {
      "cell_type": "code",
      "metadata": {
        "id": "ZpglcpiEDqro"
      },
      "source": [
        "def hamming_distance(l1, l2):\n",
        "    return sum(value1 != value2 for value1, value2 in zip(l1, l2))"
      ],
      "execution_count": 73,
      "outputs": []
    },
    {
      "cell_type": "markdown",
      "metadata": {
        "id": "aKiFYGkYZOg3"
      },
      "source": [
        "Calculate the average Hamming distance, Hamming score, and Hamming loss5\n",
        "between the true labels and the labels assigned by clusters."
      ]
    },
    {
      "cell_type": "code",
      "metadata": {
        "id": "V4vhBbT8AD9P"
      },
      "source": [
        "from scipy.spatial.distance import hamming\n",
        "def hamming_calc(bestK, best_cluster_labels, dataframe):\n",
        "  hamming_distance_count = 0\n",
        "  for i in range(0, bestK):\n",
        "      classification = dataframe.iloc[i]\n",
        "      index = np.where(best_cluster_labels == i)[0]\n",
        "      multilabels = data_y.iloc[index]\n",
        "      for pred in multilabels.values:  \n",
        "        hamming_distance_count += hamming_distance(classification, pred)\n",
        "  hamming_distance_average =  hamming_distance_count / data_y.shape[0]\n",
        "  hamming_loss = hamming_distance_count / (data_y.shape[0] * data_y.shape[1])\n",
        "  hamming_score = 1 - hamming_loss\n",
        "  return hamming_distance_average, hamming_loss, hamming_score"
      ],
      "execution_count": 66,
      "outputs": []
    },
    {
      "cell_type": "markdown",
      "metadata": {
        "id": "N4Awn_d_ZUTR"
      },
      "source": [
        "According to the Monte-Carlo Simulation, build the aggregate for loop to repeat the k means function 50 times and output the corresponding optimal k and scores"
      ]
    },
    {
      "cell_type": "code",
      "metadata": {
        "colab": {
          "base_uri": "https://localhost:8080/"
        },
        "id": "0JCAMCJABq9S",
        "outputId": "31696527-de2f-41ff-8ec6-27e867e5a44f"
      },
      "source": [
        "for i in range(50):\n",
        "  bestK, best_cluster_labels, best_score = bestClusterK(50, data_x)\n",
        "  dataframe = majorityFind(bestK, best_cluster_labels)\n",
        "  hamming_distance_average, hamming_loss, hamming_score = hamming_calc(4, best_cluster_labels, dataframe)\n",
        "  print('The best k is '+ str(bestK))\n",
        "  print('The corresponding silhouette score is '+ str(best_score))\n",
        "  print('-------------------------------------------------------')\n",
        "  print('the average hamming distance is' + str(hamming_distance_average))\n",
        "  print('the hamming loss is ' + str(hamming_loss))\n",
        "  print('the hamming score is' + str(hamming_score))"
      ],
      "execution_count": 81,
      "outputs": [
        {
          "output_type": "stream",
          "name": "stdout",
          "text": [
            "The best k is 4\n",
            "The corresponding silhouette score is 0.37888514720477384\n",
            "-------------------------------------------------------\n",
            "the average hamming distance is0.6657400972897846\n",
            "the hamming loss is 0.16643502432244614\n",
            "the hamming score is0.8335649756775538\n",
            "The best k is 4\n",
            "The corresponding silhouette score is 0.37886255335886554\n",
            "-------------------------------------------------------\n",
            "the average hamming distance is0.66726893676164\n",
            "the hamming loss is 0.16681723419041\n",
            "the hamming score is0.83318276580959\n",
            "The best k is 4\n",
            "The corresponding silhouette score is 0.3787509343305295\n",
            "-------------------------------------------------------\n",
            "the average hamming distance is0.66726893676164\n",
            "the hamming loss is 0.16681723419041\n",
            "the hamming score is0.83318276580959\n",
            "The best k is 4\n",
            "The corresponding silhouette score is 0.37886255335886554\n",
            "-------------------------------------------------------\n",
            "the average hamming distance is0.66726893676164\n",
            "the hamming loss is 0.16681723419041\n",
            "the hamming score is0.83318276580959\n",
            "The best k is 4\n",
            "The corresponding silhouette score is 0.37867825251598397\n",
            "-------------------------------------------------------\n",
            "the average hamming distance is0.6668519805420431\n",
            "the hamming loss is 0.16671299513551077\n",
            "the hamming score is0.8332870048644893\n",
            "The best k is 4\n",
            "The corresponding silhouette score is 0.37867825251598397\n",
            "-------------------------------------------------------\n",
            "the average hamming distance is0.6668519805420431\n",
            "the hamming loss is 0.16671299513551077\n",
            "the hamming score is0.8332870048644893\n",
            "The best k is 4\n",
            "The corresponding silhouette score is 0.3787509343305295\n",
            "-------------------------------------------------------\n",
            "the average hamming distance is0.66726893676164\n",
            "the hamming loss is 0.16681723419041\n",
            "the hamming score is0.83318276580959\n",
            "The best k is 4\n",
            "The corresponding silhouette score is 0.3787509343305295\n",
            "-------------------------------------------------------\n",
            "the average hamming distance is0.66726893676164\n",
            "the hamming loss is 0.16681723419041\n",
            "the hamming score is0.83318276580959\n",
            "The best k is 4\n",
            "The corresponding silhouette score is 0.38523395202479643\n",
            "-------------------------------------------------------\n",
            "the average hamming distance is0.7357887421820709\n",
            "the hamming loss is 0.18394718554551773\n",
            "the hamming score is0.8160528144544823\n",
            "The best k is 4\n",
            "The corresponding silhouette score is 0.3787509343305295\n",
            "-------------------------------------------------------\n",
            "the average hamming distance is0.66726893676164\n",
            "the hamming loss is 0.16681723419041\n",
            "the hamming score is0.83318276580959\n",
            "The best k is 4\n",
            "The corresponding silhouette score is 0.3787509343305295\n",
            "-------------------------------------------------------\n",
            "the average hamming distance is0.66726893676164\n",
            "the hamming loss is 0.16681723419041\n",
            "the hamming score is0.83318276580959\n",
            "The best k is 4\n",
            "The corresponding silhouette score is 0.37867825251598397\n",
            "-------------------------------------------------------\n",
            "the average hamming distance is0.6668519805420431\n",
            "the hamming loss is 0.16671299513551077\n",
            "the hamming score is0.8332870048644893\n",
            "The best k is 4\n",
            "The corresponding silhouette score is 0.3787509343305295\n",
            "-------------------------------------------------------\n",
            "the average hamming distance is0.66726893676164\n",
            "the hamming loss is 0.16681723419041\n",
            "the hamming score is0.83318276580959\n",
            "The best k is 4\n",
            "The corresponding silhouette score is 0.3787509343305295\n",
            "-------------------------------------------------------\n",
            "the average hamming distance is0.66726893676164\n",
            "the hamming loss is 0.16681723419041\n",
            "the hamming score is0.83318276580959\n",
            "The best k is 4\n",
            "The corresponding silhouette score is 0.3787509343305295\n",
            "-------------------------------------------------------\n",
            "the average hamming distance is0.66726893676164\n",
            "the hamming loss is 0.16681723419041\n",
            "the hamming score is0.83318276580959\n",
            "The best k is 4\n",
            "The corresponding silhouette score is 0.3787509343305295\n",
            "-------------------------------------------------------\n",
            "the average hamming distance is0.66726893676164\n",
            "the hamming loss is 0.16681723419041\n",
            "the hamming score is0.83318276580959\n",
            "The best k is 4\n",
            "The corresponding silhouette score is 0.37888514720477384\n",
            "-------------------------------------------------------\n",
            "the average hamming distance is0.6657400972897846\n",
            "the hamming loss is 0.16643502432244614\n",
            "the hamming score is0.8335649756775538\n",
            "The best k is 4\n",
            "The corresponding silhouette score is 0.3787509343305295\n",
            "-------------------------------------------------------\n",
            "the average hamming distance is0.66726893676164\n",
            "the hamming loss is 0.16681723419041\n",
            "the hamming score is0.83318276580959\n",
            "The best k is 4\n",
            "The corresponding silhouette score is 0.3787509343305295\n",
            "-------------------------------------------------------\n",
            "the average hamming distance is0.66726893676164\n",
            "the hamming loss is 0.16681723419041\n",
            "the hamming score is0.83318276580959\n",
            "The best k is 4\n",
            "The corresponding silhouette score is 0.3787509343305295\n",
            "-------------------------------------------------------\n",
            "the average hamming distance is0.66726893676164\n",
            "the hamming loss is 0.16681723419041\n",
            "the hamming score is0.83318276580959\n",
            "The best k is 4\n",
            "The corresponding silhouette score is 0.3787509343305295\n",
            "-------------------------------------------------------\n",
            "the average hamming distance is0.66726893676164\n",
            "the hamming loss is 0.16681723419041\n",
            "the hamming score is0.83318276580959\n",
            "The best k is 4\n",
            "The corresponding silhouette score is 0.3787509343305295\n",
            "-------------------------------------------------------\n",
            "the average hamming distance is0.66726893676164\n",
            "the hamming loss is 0.16681723419041\n",
            "the hamming score is0.83318276580959\n",
            "The best k is 4\n",
            "The corresponding silhouette score is 0.3787509343305295\n",
            "-------------------------------------------------------\n",
            "the average hamming distance is0.66726893676164\n",
            "the hamming loss is 0.16681723419041\n",
            "the hamming score is0.83318276580959\n",
            "The best k is 4\n",
            "The corresponding silhouette score is 0.3787509343305295\n",
            "-------------------------------------------------------\n",
            "the average hamming distance is0.66726893676164\n",
            "the hamming loss is 0.16681723419041\n",
            "the hamming score is0.83318276580959\n",
            "The best k is 4\n",
            "The corresponding silhouette score is 0.3838734890243389\n",
            "-------------------------------------------------------\n",
            "the average hamming distance is0.7021542738012508\n",
            "the hamming loss is 0.1755385684503127\n",
            "the hamming score is0.8244614315496873\n",
            "The best k is 4\n",
            "The corresponding silhouette score is 0.37863353074850936\n",
            "-------------------------------------------------------\n",
            "the average hamming distance is0.6674079221681724\n",
            "the hamming loss is 0.1668519805420431\n",
            "the hamming score is0.8331480194579569\n",
            "The best k is 4\n",
            "The corresponding silhouette score is 0.38525558106940394\n",
            "-------------------------------------------------------\n",
            "the average hamming distance is0.735371785962474\n",
            "the hamming loss is 0.1838429464906185\n",
            "the hamming score is0.8161570535093815\n",
            "The best k is 4\n",
            "The corresponding silhouette score is 0.37863353074850936\n",
            "-------------------------------------------------------\n",
            "the average hamming distance is0.6674079221681724\n",
            "the hamming loss is 0.1668519805420431\n",
            "the hamming score is0.8331480194579569\n",
            "The best k is 4\n",
            "The corresponding silhouette score is 0.3789088155455692\n",
            "-------------------------------------------------------\n",
            "the average hamming distance is0.6665740097289785\n",
            "the hamming loss is 0.16664350243224463\n",
            "the hamming score is0.8333564975677554\n",
            "The best k is 4\n",
            "The corresponding silhouette score is 0.3787509343305295\n",
            "-------------------------------------------------------\n",
            "the average hamming distance is0.66726893676164\n",
            "the hamming loss is 0.16681723419041\n",
            "the hamming score is0.83318276580959\n",
            "The best k is 4\n",
            "The corresponding silhouette score is 0.3787509343305295\n",
            "-------------------------------------------------------\n",
            "the average hamming distance is0.66726893676164\n",
            "the hamming loss is 0.16681723419041\n",
            "the hamming score is0.83318276580959\n",
            "The best k is 4\n",
            "The corresponding silhouette score is 0.3787509343305295\n",
            "-------------------------------------------------------\n",
            "the average hamming distance is0.66726893676164\n",
            "the hamming loss is 0.16681723419041\n",
            "the hamming score is0.83318276580959\n",
            "The best k is 4\n",
            "The corresponding silhouette score is 0.37888514720477384\n",
            "-------------------------------------------------------\n",
            "the average hamming distance is0.6657400972897846\n",
            "the hamming loss is 0.16643502432244614\n",
            "the hamming score is0.8335649756775538\n",
            "The best k is 4\n",
            "The corresponding silhouette score is 0.3787509343305295\n",
            "-------------------------------------------------------\n",
            "the average hamming distance is0.66726893676164\n",
            "the hamming loss is 0.16681723419041\n",
            "the hamming score is0.83318276580959\n",
            "The best k is 4\n",
            "The corresponding silhouette score is 0.37867825251598397\n",
            "-------------------------------------------------------\n",
            "the average hamming distance is0.6668519805420431\n",
            "the hamming loss is 0.16671299513551077\n",
            "the hamming score is0.8332870048644893\n",
            "The best k is 4\n",
            "The corresponding silhouette score is 0.3787509343305295\n",
            "-------------------------------------------------------\n",
            "the average hamming distance is0.66726893676164\n",
            "the hamming loss is 0.16681723419041\n",
            "the hamming score is0.83318276580959\n",
            "The best k is 4\n",
            "The corresponding silhouette score is 0.3787509343305295\n",
            "-------------------------------------------------------\n",
            "the average hamming distance is0.66726893676164\n",
            "the hamming loss is 0.16681723419041\n",
            "the hamming score is0.83318276580959\n",
            "The best k is 4\n",
            "The corresponding silhouette score is 0.3789088155455692\n",
            "-------------------------------------------------------\n",
            "the average hamming distance is0.6665740097289785\n",
            "the hamming loss is 0.16664350243224463\n",
            "the hamming score is0.8333564975677554\n",
            "The best k is 4\n",
            "The corresponding silhouette score is 0.3787509343305295\n",
            "-------------------------------------------------------\n",
            "the average hamming distance is0.66726893676164\n",
            "the hamming loss is 0.16681723419041\n",
            "the hamming score is0.83318276580959\n",
            "The best k is 4\n",
            "The corresponding silhouette score is 0.3787509343305295\n",
            "-------------------------------------------------------\n",
            "the average hamming distance is0.66726893676164\n",
            "the hamming loss is 0.16681723419041\n",
            "the hamming score is0.83318276580959\n",
            "The best k is 4\n",
            "The corresponding silhouette score is 0.3787509343305295\n",
            "-------------------------------------------------------\n",
            "the average hamming distance is0.66726893676164\n",
            "the hamming loss is 0.16681723419041\n",
            "the hamming score is0.83318276580959\n",
            "The best k is 4\n",
            "The corresponding silhouette score is 0.3787509343305295\n",
            "-------------------------------------------------------\n",
            "the average hamming distance is0.66726893676164\n",
            "the hamming loss is 0.16681723419041\n",
            "the hamming score is0.83318276580959\n",
            "The best k is 4\n",
            "The corresponding silhouette score is 0.3787509343305295\n",
            "-------------------------------------------------------\n",
            "the average hamming distance is0.66726893676164\n",
            "the hamming loss is 0.16681723419041\n",
            "the hamming score is0.83318276580959\n",
            "The best k is 4\n",
            "The corresponding silhouette score is 0.3787509343305295\n",
            "-------------------------------------------------------\n",
            "the average hamming distance is0.66726893676164\n",
            "the hamming loss is 0.16681723419041\n",
            "the hamming score is0.83318276580959\n",
            "The best k is 4\n",
            "The corresponding silhouette score is 0.3787509343305295\n",
            "-------------------------------------------------------\n",
            "the average hamming distance is0.66726893676164\n",
            "the hamming loss is 0.16681723419041\n",
            "the hamming score is0.83318276580959\n",
            "The best k is 4\n",
            "The corresponding silhouette score is 0.3787509343305295\n",
            "-------------------------------------------------------\n",
            "the average hamming distance is0.66726893676164\n",
            "the hamming loss is 0.16681723419041\n",
            "the hamming score is0.83318276580959\n",
            "The best k is 4\n",
            "The corresponding silhouette score is 0.3787509343305295\n",
            "-------------------------------------------------------\n",
            "the average hamming distance is0.66726893676164\n",
            "the hamming loss is 0.16681723419041\n",
            "the hamming score is0.83318276580959\n",
            "The best k is 4\n",
            "The corresponding silhouette score is 0.3787509343305295\n",
            "-------------------------------------------------------\n",
            "the average hamming distance is0.66726893676164\n",
            "the hamming loss is 0.16681723419041\n",
            "the hamming score is0.83318276580959\n",
            "The best k is 4\n",
            "The corresponding silhouette score is 0.38525558106940394\n",
            "-------------------------------------------------------\n",
            "the average hamming distance is0.735371785962474\n",
            "the hamming loss is 0.1838429464906185\n",
            "the hamming score is0.8161570535093815\n",
            "The best k is 4\n",
            "The corresponding silhouette score is 0.3787509343305295\n",
            "-------------------------------------------------------\n",
            "the average hamming distance is0.66726893676164\n",
            "the hamming loss is 0.16681723419041\n",
            "the hamming score is0.83318276580959\n"
          ]
        }
      ]
    },
    {
      "cell_type": "markdown",
      "metadata": {
        "id": "DMLissZ2Vyd4"
      },
      "source": [
        "# ISLR 12.7.2"
      ]
    },
    {
      "cell_type": "markdown",
      "metadata": {
        "id": "lXhWJmUyWjNM"
      },
      "source": [
        "![bVFg3UAw.png](data:image/png;base64,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)"
      ]
    }
  ]
}